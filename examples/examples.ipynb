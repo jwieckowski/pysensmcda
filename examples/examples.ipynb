{
 "cells": [
  {
   "cell_type": "markdown",
   "metadata": {},
   "source": [
    "# <center> <div align=\"center\">PySensMCDA - Illustrative examples</div>\n",
    "<br/>"
   ]
  },
  {
   "cell_type": "markdown",
   "metadata": {},
   "source": [
    "**Note**: *this notebook was created for the purpose of providing an instruction of decision problem sensitivity analysis. For in-depth presentation of graphs submodule see* [`graphs_examples.ipynb`](./graphs_examples.ipynb)\n",
    "\n",
    "<br/>"
   ]
  },
  {
   "cell_type": "code",
   "execution_count": 1,
   "metadata": {},
   "outputs": [],
   "source": [
    "## Necessary imports for the notebook to work\n",
    "from pysensmcda import alternative, criteria, compromise, graphs, probabilistic, ranking, calculate_preference\n",
    "import numpy as np\n",
    "import matplotlib.pyplot as plt"
   ]
  },
  {
   "cell_type": "code",
   "execution_count": 2,
   "metadata": {},
   "outputs": [],
   "source": [
    "## Additional imports and function for output formatting\n",
    "from sympy import Matrix\n",
    "from IPython.display import display, Markdown\n",
    "from examples_pretty_print import *"
   ]
  },
  {
   "cell_type": "markdown",
   "metadata": {},
   "source": [
    "<br/>\n",
    "\n",
    "### **Table of contents:**\n",
    "1. [Alternative submodule:](#1)\n",
    "    1. [Discrete modification](#2)\n",
    "    1. [Percentage modification](#3)\n",
    "    1. [Range modification](#4)\n",
    "    1. [Alternative removal](#5)\n",
    "    1. [General](#6)\n",
    "1. [Criteria submodule:](#7)\n",
    "    1. [Random distribution - weights generation](#8)\n",
    "    1. [Percentage modification](#9)\n",
    "    1. [Range modification](#10)\n",
    "    1. [Weights scenarios](#11)\n",
    "    1. [Cirteria identification](#12)\n",
    "    1. [Criteria removal](#13)\n",
    "1. [Probabilistic submodule:](#14)\n",
    "    1. [Monte carlo weights generation](#15)\n",
    "    1. [Perturbated matrix](#16)\n",
    "    1. [Perturbated weights](#17)\n",
    "1. [Ranking submodule:](#18)\n",
    "    1. [Ranking alteration](#19)\n",
    "    1. [Demotion](#20)\n",
    "    1. [Promotion](#21)\n",
    "    1. [Fuzzy ranking](#22)\n",
    "1. [Compromise submodule:](#23)\n",
    "    1. [General](#24)\n",
    "    1. [Half-quadratic compromise additional informations](#25)\n",
    "    1. [ICRA](#26)\n",
    "1. [Further use](#27)"
   ]
  },
  {
   "cell_type": "markdown",
   "metadata": {},
   "source": [
    "<a id=\"1\"></a><br/>\n",
    "\n",
    "## 1. Alternative submodule "
   ]
  },
  {
   "cell_type": "markdown",
   "metadata": {},
   "source": [
    "**Note**: Alternative submodule includes functions for modification of values along alternatives in decision matrix and alternative removal."
   ]
  },
  {
   "cell_type": "markdown",
   "metadata": {},
   "source": [
    "Let us consider following matrix, this matrix will be taken as an initial matrix for further function calls"
   ]
  },
  {
   "cell_type": "code",
   "execution_count": 12,
   "metadata": {},
   "outputs": [
    {
     "name": "stdout",
     "output_type": "stream",
     "text": [
      "Initial matrix:\n"
     ]
    },
    {
     "data": {
      "text/latex": [
       "$\\displaystyle \\left[\\begin{matrix}4 & 1 & 6\\\\2 & 6 & 3\\\\9 & 5 & 7\\end{matrix}\\right]$"
      ],
      "text/plain": [
       "Matrix([\n",
       "[4, 1, 6],\n",
       "[2, 6, 3],\n",
       "[9, 5, 7]])"
      ]
     },
     "metadata": {},
     "output_type": "display_data"
    }
   ],
   "source": [
    "matrix = np.array([\n",
    "[4, 1, 6],\n",
    "[2, 6, 3],\n",
    "[9, 5, 7],\n",
    "])\n",
    "print('Initial matrix:')\n",
    "display(Matrix(matrix))"
   ]
  },
  {
   "cell_type": "markdown",
   "metadata": {},
   "source": [
    "### 1.1. Discrete modification <a id=\"2\"></a>"
   ]
  },
  {
   "cell_type": "markdown",
   "metadata": {},
   "source": [
    "For each criterion we can define discrete values that will be set as a value. All possible combinations are generated."
   ]
  },
  {
   "cell_type": "code",
   "execution_count": 24,
   "metadata": {},
   "outputs": [
    {
     "name": "stdout",
     "output_type": "stream",
     "text": [
      "Alternative index: 1\n",
      "Criteria index: 1\n",
      "Change: 1\n",
      "Resulting decision matrix:\n"
     ]
    },
    {
     "data": {
      "text/latex": [
       "$\\displaystyle \\left[\\begin{matrix}4.0 & 1.0 & 6.0\\\\2.0 & 1.0 & 3.0\\\\9.0 & 5.0 & 7.0\\end{matrix}\\right]$"
      ],
      "text/plain": [
       "Matrix([\n",
       "[4.0, 1.0, 6.0],\n",
       "[2.0, 1.0, 3.0],\n",
       "[9.0, 5.0, 7.0]])"
      ]
     },
     "metadata": {},
     "output_type": "display_data"
    }
   ],
   "source": [
    "discrete_values = np.array([[2, 3, 4], [1, 5, 6], [3, 4]], dtype='object')\n",
    "pretty_print_alternative(alternative.discrete_modification(matrix, discrete_values)[0])"
   ]
  },
  {
   "cell_type": "markdown",
   "metadata": {},
   "source": [
    "The value of alternative 1 in the first criterion was changed for discrete value '2'"
   ]
  },
  {
   "cell_type": "markdown",
   "metadata": {},
   "source": [
    "### 1.2. Percentage modification <a id=\"3\"></a>"
   ]
  },
  {
   "cell_type": "markdown",
   "metadata": {},
   "source": [
    "Percentage values can be set as an `int` to make it the same for all criteria, or by an array to specify value for specific criterion."
   ]
  },
  {
   "cell_type": "code",
   "execution_count": 28,
   "metadata": {},
   "outputs": [
    {
     "name": "stdout",
     "output_type": "stream",
     "text": [
      "Alternative index: 0\n",
      "Criteria index: 0\n",
      "Change: -0.01\n",
      "Resulting decision matrix:\n"
     ]
    },
    {
     "data": {
      "text/latex": [
       "$\\displaystyle \\left[\\begin{matrix}3.96 & 1.0 & 6.0\\\\2.0 & 6.0 & 3.0\\\\9.0 & 5.0 & 7.0\\end{matrix}\\right]$"
      ],
      "text/plain": [
       "Matrix([\n",
       "[3.96, 1.0, 6.0],\n",
       "[ 2.0, 6.0, 3.0],\n",
       "[ 9.0, 5.0, 7.0]])"
      ]
     },
     "metadata": {},
     "output_type": "display_data"
    }
   ],
   "source": [
    "percentages = 5\n",
    "# percentages = np.array([3, 2, 3])\n",
    "pretty_print_alternative(alternative.percentage_modification(matrix, percentages)[0])"
   ]
  },
  {
   "cell_type": "markdown",
   "metadata": {},
   "source": [
    "In the case of percentage modification the value of first alternative under first criterion changed by -0.01, which means -1%"
   ]
  },
  {
   "cell_type": "markdown",
   "metadata": {},
   "source": [
    "### 1.3. Range modification <a id=\"4\"></a>"
   ]
  },
  {
   "cell_type": "markdown",
   "metadata": {},
   "source": [
    "Range values should be specified for each criterion (2d-array) or for each value in decision matrix (3d-array)."
   ]
  },
  {
   "cell_type": "code",
   "execution_count": 31,
   "metadata": {},
   "outputs": [
    {
     "name": "stdout",
     "output_type": "stream",
     "text": [
      "Alternative index: 0\n",
      "Criteria index: 0\n",
      "Change: 6.0\n",
      "Resulting decision matrix:\n"
     ]
    },
    {
     "data": {
      "text/latex": [
       "$\\displaystyle \\left[\\begin{matrix}6.0 & 1.0 & 6.0\\\\2.0 & 6.0 & 3.0\\\\9.0 & 5.0 & 7.0\\end{matrix}\\right]$"
      ],
      "text/plain": [
       "Matrix([\n",
       "[6.0, 1.0, 6.0],\n",
       "[2.0, 6.0, 3.0],\n",
       "[9.0, 5.0, 7.0]])"
      ]
     },
     "metadata": {},
     "output_type": "display_data"
    }
   ],
   "source": [
    "range_values = np.array([[6, 8], [2, 4], [4, 6.5]])\n",
    "range_modification_results = alternative.range_modification(matrix, range_values)\n",
    "pretty_print_alternative(range_modification_results[0])"
   ]
  },
  {
   "cell_type": "markdown",
   "metadata": {},
   "source": [
    "The range modification modifies values in specified range, if step is not passed, it is set to 1. The value of first alternative, first criterion was set to 6. In the next step it will be set to 7."
   ]
  },
  {
   "cell_type": "code",
   "execution_count": 36,
   "metadata": {},
   "outputs": [
    {
     "data": {
      "text/markdown": [
       "##### **Next step**"
      ],
      "text/plain": [
       "<IPython.core.display.Markdown object>"
      ]
     },
     "metadata": {},
     "output_type": "display_data"
    },
    {
     "name": "stdout",
     "output_type": "stream",
     "text": [
      "Alternative index: 0\n",
      "Criteria index: 0\n",
      "Change: 7.0\n",
      "Resulting decision matrix:\n"
     ]
    },
    {
     "data": {
      "text/latex": [
       "$\\displaystyle \\left[\\begin{matrix}7.0 & 1.0 & 6.0\\\\2.0 & 6.0 & 3.0\\\\9.0 & 5.0 & 7.0\\end{matrix}\\right]$"
      ],
      "text/plain": [
       "Matrix([\n",
       "[7.0, 1.0, 6.0],\n",
       "[2.0, 6.0, 3.0],\n",
       "[9.0, 5.0, 7.0]])"
      ]
     },
     "metadata": {},
     "output_type": "display_data"
    }
   ],
   "source": [
    "display(Markdown('##### **Next step**'))\n",
    "pretty_print_alternative(range_modification_results[1])"
   ]
  },
  {
   "cell_type": "markdown",
   "metadata": {},
   "source": [
    "### 1.4. Alternative removal <a id=\"5\"></a>"
   ]
  },
  {
   "cell_type": "code",
   "execution_count": 60,
   "metadata": {},
   "outputs": [
    {
     "name": "stdout",
     "output_type": "stream",
     "text": [
      "Alternative index: 0\n",
      "Resulting decision matrix:\n"
     ]
    },
    {
     "data": {
      "text/latex": [
       "$\\displaystyle \\left[\\begin{matrix}2 & 6 & 3\\\\9 & 5 & 7\\end{matrix}\\right]$"
      ],
      "text/plain": [
       "Matrix([\n",
       "[2, 6, 3],\n",
       "[9, 5, 7]])"
      ]
     },
     "metadata": {},
     "output_type": "display_data"
    }
   ],
   "source": [
    "pretty_print_alternative_removal(alternative.remove_alternatives(matrix)[0])"
   ]
  },
  {
   "cell_type": "code",
   "execution_count": 37,
   "metadata": {},
   "outputs": [
    {
     "data": {
      "text/markdown": [
       "##### **Next step**"
      ],
      "text/plain": [
       "<IPython.core.display.Markdown object>"
      ]
     },
     "metadata": {},
     "output_type": "display_data"
    },
    {
     "name": "stdout",
     "output_type": "stream",
     "text": [
      "Alternative index: 1\n",
      "Resulting decision matrix:\n"
     ]
    },
    {
     "data": {
      "text/latex": [
       "$\\displaystyle \\left[\\begin{matrix}4 & 1 & 6\\\\9 & 5 & 7\\end{matrix}\\right]$"
      ],
      "text/plain": [
       "Matrix([\n",
       "[4, 1, 6],\n",
       "[9, 5, 7]])"
      ]
     },
     "metadata": {},
     "output_type": "display_data"
    }
   ],
   "source": [
    "display(Markdown('##### **Next step**'))\n",
    "pretty_print_alternative_removal(alternative.remove_alternatives(matrix)[1])"
   ]
  },
  {
   "cell_type": "markdown",
   "metadata": {},
   "source": [
    "### 1.5. General <a id=\"6\"></a>"
   ]
  },
  {
   "cell_type": "markdown",
   "metadata": {},
   "source": [
    "All functions provide additional parameters."
   ]
  },
  {
   "cell_type": "markdown",
   "metadata": {},
   "source": [
    "- Parameter `indexes` - provides a way to restrict the use of function to specific criteria. **In the case of alternative removal, this parameter specifies indexes of alternatives that should be removed**\n",
    "- Parameter `direction` *(only percentage function)* - specifies direction of the modification for each column in the matrix. \n",
    "- Parameter `step` *(only range and percentage functions)* - specifies step of next change"
   ]
  },
  {
   "cell_type": "markdown",
   "metadata": {},
   "source": [
    "**For example**:"
   ]
  },
  {
   "cell_type": "code",
   "execution_count": 13,
   "metadata": {},
   "outputs": [
    {
     "data": {
      "text/markdown": [
       "##### **This will provide change for all alternative at first for the first and third criterion from step to percentage value:**"
      ],
      "text/plain": [
       "<IPython.core.display.Markdown object>"
      ]
     },
     "metadata": {},
     "output_type": "display_data"
    },
    {
     "name": "stdout",
     "output_type": "stream",
     "text": [
      "Alternative index: 0\n",
      "Criteria index: (0, 2)\n",
      "Change: (-0.02, -0.03)\n",
      "Resulting decision matrix:\n"
     ]
    },
    {
     "data": {
      "text/latex": [
       "$\\displaystyle \\left[\\begin{matrix}3.92 & 1.0 & 5.82\\\\2.0 & 6.0 & 3.0\\\\9.0 & 5.0 & 7.0\\end{matrix}\\right]$"
      ],
      "text/plain": [
       "Matrix([\n",
       "[3.92, 1.0, 5.82],\n",
       "[ 2.0, 6.0,  3.0],\n",
       "[ 9.0, 5.0,  7.0]])"
      ]
     },
     "metadata": {},
     "output_type": "display_data"
    },
    {
     "data": {
      "text/markdown": [
       "##### **And separately for all alternatives for second criterion:**"
      ],
      "text/plain": [
       "<IPython.core.display.Markdown object>"
      ]
     },
     "metadata": {},
     "output_type": "display_data"
    },
    {
     "name": "stdout",
     "output_type": "stream",
     "text": [
      "Alternative index: 0\n",
      "Criteria index: 1\n",
      "Change: 0.02\n",
      "Resulting decision matrix:\n"
     ]
    },
    {
     "data": {
      "text/latex": [
       "$\\displaystyle \\left[\\begin{matrix}4.0 & 1.02 & 6.0\\\\2.0 & 6.0 & 3.0\\\\9.0 & 5.0 & 7.0\\end{matrix}\\right]$"
      ],
      "text/plain": [
       "Matrix([\n",
       "[4.0, 1.02, 6.0],\n",
       "[2.0,  6.0, 3.0],\n",
       "[9.0,  5.0, 7.0]])"
      ]
     },
     "metadata": {},
     "output_type": "display_data"
    }
   ],
   "source": [
    "direction = np.array([-1, 1, -1])\n",
    "percentages = np.array([2, 4, 9])\n",
    "indexes = np.array([[0, 2], 1], dtype='object')\n",
    "step = np.array([2, 2, 3])\n",
    "results = alternative.percentage_modification(matrix, percentages, direction, indexes, step)\n",
    "display(Markdown('##### **This will provide change for all alternative at first for the first and third criterion from step to percentage value:**'))\n",
    "pretty_print_alternative(results[0])\n",
    "display(Markdown('##### **And separately for all alternatives for second criterion:**'))\n",
    "pretty_print_alternative(results[3])"
   ]
  },
  {
   "cell_type": "markdown",
   "metadata": {},
   "source": [
    "---"
   ]
  },
  {
   "cell_type": "markdown",
   "metadata": {},
   "source": [
    "<a id=\"7\"></a><br>\n",
    "\n",
    "## 2. Criteria submodule"
   ]
  },
  {
   "cell_type": "markdown",
   "metadata": {},
   "source": [
    "**Note**: Criteria submodule includes functions for criteria removal and identification and weights generation."
   ]
  },
  {
   "cell_type": "markdown",
   "metadata": {},
   "source": [
    "### 2.1. Random distribution - weights generation <a id=\"8\"></a>"
   ]
  },
  {
   "cell_type": "markdown",
   "metadata": {},
   "source": [
    "This part of the submodule is solely dedicated to single weights vector generation.<br/>\n",
    "For example let us generate vector of four weights ($n = 4$)."
   ]
  },
  {
   "cell_type": "code",
   "execution_count": 42,
   "metadata": {},
   "outputs": [],
   "source": [
    "n = 4"
   ]
  },
  {
   "cell_type": "markdown",
   "metadata": {},
   "source": [
    "- Chisquare distribution\n",
    "    - `df` (Number of degrees of freedom)"
   ]
  },
  {
   "cell_type": "code",
   "execution_count": 73,
   "metadata": {},
   "outputs": [
    {
     "name": "stdout",
     "output_type": "stream",
     "text": [
      "Resulting weights vector (example):\n"
     ]
    },
    {
     "data": {
      "text/latex": [
       "$\\displaystyle \\left[\\begin{matrix}0.002701 & 0.861813 & 0.024502 & 0.110984\\end{matrix}\\right]$"
      ],
      "text/plain": [
       "Matrix([[0.002701, 0.861813, 0.024502, 0.110984]])"
      ]
     },
     "metadata": {},
     "output_type": "display_data"
    }
   ],
   "source": [
    "weights = criteria.random_distribution.chisquare_distribution(n, df=1)\n",
    "pretty_print_weights(np.round(weights, 6))"
   ]
  },
  {
   "cell_type": "markdown",
   "metadata": {},
   "source": [
    "- Laplace distribution:\n",
    "    - `loc` (The position of distribution peak)\n",
    "    - `scale` (The exponential decay)"
   ]
  },
  {
   "cell_type": "code",
   "execution_count": 98,
   "metadata": {},
   "outputs": [
    {
     "name": "stdout",
     "output_type": "stream",
     "text": [
      "Resulting weights vector (example):\n"
     ]
    },
    {
     "data": {
      "text/latex": [
       "$\\displaystyle \\left[\\begin{matrix}0.095418 & 0.008576 & 0.67398 & 0.222026\\end{matrix}\\right]$"
      ],
      "text/plain": [
       "Matrix([[0.095418, 0.008576, 0.67398, 0.222026]])"
      ]
     },
     "metadata": {},
     "output_type": "display_data"
    }
   ],
   "source": [
    "weights = criteria.random_distribution.laplace_distribution(n, loc=0, scale=1)\n",
    "pretty_print_weights(np.round(weights, 6))"
   ]
  },
  {
   "cell_type": "markdown",
   "metadata": {},
   "source": [
    "- Normal distribution:\n",
    "    - `loc` (Mean of the normal distribution)\n",
    "    - `scale` (Standard deviation of the normal distribution)"
   ]
  },
  {
   "cell_type": "code",
   "execution_count": 75,
   "metadata": {},
   "outputs": [
    {
     "name": "stdout",
     "output_type": "stream",
     "text": [
      "Resulting weights vector (example):\n"
     ]
    },
    {
     "data": {
      "text/latex": [
       "$\\displaystyle \\left[\\begin{matrix}0.250157 & 0.309618 & 0.30307 & 0.137155\\end{matrix}\\right]$"
      ],
      "text/plain": [
       "Matrix([[0.250157, 0.309618, 0.30307, 0.137155]])"
      ]
     },
     "metadata": {},
     "output_type": "display_data"
    }
   ],
   "source": [
    "weights = criteria.random_distribution.normal_distribution(n, loc=0, scale=1)\n",
    "pretty_print_weights(np.round(weights, 6))"
   ]
  },
  {
   "cell_type": "markdown",
   "metadata": {},
   "source": [
    "- Random distribution:\n",
    "    - No additional parameters"
   ]
  },
  {
   "cell_type": "code",
   "execution_count": 76,
   "metadata": {},
   "outputs": [
    {
     "name": "stdout",
     "output_type": "stream",
     "text": [
      "Resulting weights vector (example):\n"
     ]
    },
    {
     "data": {
      "text/latex": [
       "$\\displaystyle \\left[\\begin{matrix}0.150707 & 0.246687 & 0.37852 & 0.224086\\end{matrix}\\right]$"
      ],
      "text/plain": [
       "Matrix([[0.150707, 0.246687, 0.37852, 0.224086]])"
      ]
     },
     "metadata": {},
     "output_type": "display_data"
    }
   ],
   "source": [
    "weights = criteria.random_distribution.random_distribution(n)\n",
    "pretty_print_weights(np.round(weights, 6))"
   ]
  },
  {
   "cell_type": "markdown",
   "metadata": {},
   "source": [
    "- Triangular distribution\n",
    "    - `left` (The lower bound of the triangular distribution)\n",
    "    - `mode` (The mode of the triangular distribution)\n",
    "    - `right` (The upper bound of the triangular distribution)"
   ]
  },
  {
   "cell_type": "code",
   "execution_count": 78,
   "metadata": {},
   "outputs": [
    {
     "name": "stdout",
     "output_type": "stream",
     "text": [
      "Resulting weights vector (example):\n"
     ]
    },
    {
     "data": {
      "text/latex": [
       "$\\displaystyle \\left[\\begin{matrix}0.207306 & 0.324307 & 0.098486 & 0.369901\\end{matrix}\\right]$"
      ],
      "text/plain": [
       "Matrix([[0.207306, 0.324307, 0.098486, 0.369901]])"
      ]
     },
     "metadata": {},
     "output_type": "display_data"
    }
   ],
   "source": [
    "weights = criteria.random_distribution.triangular_distribution(n, left=0, mode=0.5, right=1)\n",
    "pretty_print_weights(np.round(weights, 6))"
   ]
  },
  {
   "cell_type": "markdown",
   "metadata": {},
   "source": [
    "- Uniform distribution:\n",
    "    - `low` (Lower bound of the uniform distribution)\n",
    "    - `high` (Upper bound of the uniform distribution)"
   ]
  },
  {
   "cell_type": "code",
   "execution_count": 79,
   "metadata": {},
   "outputs": [
    {
     "name": "stdout",
     "output_type": "stream",
     "text": [
      "Resulting weights vector (example):\n"
     ]
    },
    {
     "data": {
      "text/latex": [
       "$\\displaystyle \\left[\\begin{matrix}0.061094 & 0.226869 & 0.152252 & 0.559786\\end{matrix}\\right]$"
      ],
      "text/plain": [
       "Matrix([[0.061094, 0.226869, 0.152252, 0.559786]])"
      ]
     },
     "metadata": {},
     "output_type": "display_data"
    }
   ],
   "source": [
    "weights = criteria.random_distribution.uniform_distribution(n, low=0, high=1)\n",
    "pretty_print_weights(np.round(weights, 6))"
   ]
  },
  {
   "cell_type": "markdown",
   "metadata": {},
   "source": [
    "### 2.2. Percentage modification <a id=\"9\"></a>"
   ]
  },
  {
   "cell_type": "markdown",
   "metadata": {},
   "source": [
    "This function returns all possible modifications to the weights vector. Single weight is modified at one time, however rest of the weights are equally adjusted to provide a vector which sum is 1."
   ]
  },
  {
   "cell_type": "code",
   "execution_count": 4,
   "metadata": {},
   "outputs": [
    {
     "name": "stdout",
     "output_type": "stream",
     "text": [
      "Initial weights vector:\n"
     ]
    },
    {
     "data": {
      "text/latex": [
       "$\\displaystyle \\left[\\begin{matrix}0.3 & 0.3 & 0.4\\end{matrix}\\right]$"
      ],
      "text/plain": [
       "Matrix([[0.3, 0.3, 0.4]])"
      ]
     },
     "metadata": {},
     "output_type": "display_data"
    },
    {
     "name": "stdout",
     "output_type": "stream",
     "text": [
      "Modified weight index: 0\n",
      "Modification: -0.01\n",
      "Resulting weights vector:\n"
     ]
    },
    {
     "data": {
      "text/latex": [
       "$\\displaystyle \\left[\\begin{matrix}0.297 & 0.3015 & 0.4015\\end{matrix}\\right]$"
      ],
      "text/plain": [
       "Matrix([[0.297, 0.3015, 0.4015]])"
      ]
     },
     "metadata": {},
     "output_type": "display_data"
    }
   ],
   "source": [
    "weights = np.array([0.3, 0.3, 0.4])\n",
    "percentage = 5\n",
    "results = criteria.percentage_modification(weights, percentage)\n",
    "pretty_print_weights_generation(weights, results[0])"
   ]
  },
  {
   "cell_type": "markdown",
   "metadata": {},
   "source": [
    "Similarly to alternatives modification functions. Percentage modification for weights provides additional parameters:\n",
    "- `direction` - specifies the direction of the modification for each criterion weight\n",
    "- `indexes` - specifies indexes of the criteria weights to be modified\n",
    "- `step` - specifies step size for the percentage change."
   ]
  },
  {
   "cell_type": "markdown",
   "metadata": {},
   "source": [
    "We can further visualize the results."
   ]
  },
  {
   "cell_type": "code",
   "execution_count": 5,
   "metadata": {},
   "outputs": [
    {
     "data": {
      "application/vnd.jupyter.widget-view+json": {
       "model_id": "7838b9cba5234085b2b6a0523c0de005",
       "version_major": 2,
       "version_minor": 0
      },
      "image/png": "[encoded data removed]",
      "text/html": [
       "\n",
       "            <div style=\"display: inline-block;\">\n",
       "                <div class=\"jupyter-widgets widget-label\" style=\"text-align: center;\">\n",
       "                    Figure\n",
       "                </div>\n",
       "                <img src='data:image/png;base64,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' width=640.0/>\n",
       "            </div>\n",
       "        "
      ],
      "text/plain": [
       "Canvas(toolbar=Toolbar(toolitems=[('Home', 'Reset original view', 'home', 'home'), ('Back', 'Back to previous …"
      ]
     },
     "metadata": {},
     "output_type": "display_data"
    }
   ],
   "source": [
    "%matplotlib widget\n",
    "# In the case of using sliders, the reference should be kept, so Python wouldn't GC\n",
    "ax, criteria_slider, change_slider = graphs.slider_weights_barplot(weights, results, percentage_change=True, annotate_bars=True)\n",
    "plt.show()"
   ]
  },
  {
   "cell_type": "markdown",
   "metadata": {},
   "source": [
    "### 2.3. Range modification <a id=\"10\"></a>"
   ]
  },
  {
   "cell_type": "markdown",
   "metadata": {},
   "source": [
    "Similarly to percentage modification this function returns all possible modifications to the weights vector. Single weight is modified at one time, however rest of the weights are equally adjusted to provide a vector which sum is 1."
   ]
  },
  {
   "cell_type": "code",
   "execution_count": 82,
   "metadata": {},
   "outputs": [
    {
     "name": "stdout",
     "output_type": "stream",
     "text": [
      "Initial weights vector:\n"
     ]
    },
    {
     "data": {
      "text/latex": [
       "$\\displaystyle \\left[\\begin{matrix}0.3 & 0.3 & 0.4\\end{matrix}\\right]$"
      ],
      "text/plain": [
       "Matrix([[0.3, 0.3, 0.4]])"
      ]
     },
     "metadata": {},
     "output_type": "display_data"
    },
    {
     "name": "stdout",
     "output_type": "stream",
     "text": [
      "Modified weight index: 0\n",
      "Modification: 0.25\n",
      "Resulting weights vector:\n"
     ]
    },
    {
     "data": {
      "text/latex": [
       "$\\displaystyle \\left[\\begin{matrix}0.25 & 0.325 & 0.425\\end{matrix}\\right]$"
      ],
      "text/plain": [
       "Matrix([[0.25, 0.325, 0.425]])"
      ]
     },
     "metadata": {},
     "output_type": "display_data"
    }
   ],
   "source": [
    "weights = np.array([0.3, 0.3, 0.4])\n",
    "range_values = np.array([[0.25, 0.3], [0.3, 0.35], [0.37, 0.43]])\n",
    "results = criteria.range_modification(weights, range_values)\n",
    "pretty_print_weights_generation(weights, results[0])"
   ]
  },
  {
   "cell_type": "markdown",
   "metadata": {},
   "source": [
    "**Note**: The range modification can be visualized similarly to percentage modification.\n",
    "\n",
    "Additional parameters:\n",
    "- `indexes` - specifies indexes of the criteria weights to be modified\n",
    "- `step` - specifies step size for the percentage change."
   ]
  },
  {
   "cell_type": "markdown",
   "metadata": {},
   "source": [
    "### 2.4. Weights scenarios generation <a id=\"11\"></a>"
   ]
  },
  {
   "cell_type": "markdown",
   "metadata": {},
   "source": [
    "This function generates all possible combination of weights for specified number of criteria with specified step."
   ]
  },
  {
   "cell_type": "markdown",
   "metadata": {},
   "source": [
    "- Parallel - it is advised to use parallel version, especially for more than five criteria, default saves results to file"
   ]
  },
  {
   "cell_type": "code",
   "execution_count": 85,
   "metadata": {},
   "outputs": [
    {
     "name": "stdout",
     "output_type": "stream",
     "text": [
      "Resulting weights vector (example):\n"
     ]
    },
    {
     "data": {
      "text/latex": [
       "$\\displaystyle \\left[\\begin{matrix}0.1 & 0.1 & 0.1 & 0.7\\end{matrix}\\right]$"
      ],
      "text/plain": [
       "Matrix([[0.1, 0.1, 0.1, 0.7]])"
      ]
     },
     "metadata": {},
     "output_type": "display_data"
    }
   ],
   "source": [
    "scenarios = criteria.generate_weights_scenarios(4, 0.1, 3, return_array=True, save_zeros=False)\n",
    "pretty_print_weights(scenarios[0])"
   ]
  },
  {
   "cell_type": "markdown",
   "metadata": {},
   "source": [
    "- Sequential - provides additional progress bar, does not utilize temporary files"
   ]
  },
  {
   "cell_type": "code",
   "execution_count": 84,
   "metadata": {},
   "outputs": [
    {
     "name": "stderr",
     "output_type": "stream",
     "text": [
      "100%|██████████| 286/286.0 [00:00<?, ?it/s]"
     ]
    },
    {
     "name": "stdout",
     "output_type": "stream",
     "text": [
      "Resulting weights vector (example):\n"
     ]
    },
    {
     "name": "stderr",
     "output_type": "stream",
     "text": [
      "\n"
     ]
    },
    {
     "data": {
      "text/latex": [
       "$\\displaystyle \\left[\\begin{matrix}0.1 & 0.7 & 0.1 & 0.1\\end{matrix}\\right]$"
      ],
      "text/plain": [
       "Matrix([[0.1, 0.7, 0.1, 0.1]])"
      ]
     },
     "metadata": {},
     "output_type": "display_data"
    }
   ],
   "source": [
    "scenarios = criteria.generate_weights_scenarios(4, 0.1, 3, sequential=True, return_array=True, save_zeros=False)\n",
    "pretty_print_weights(scenarios[0])"
   ]
  },
  {
   "cell_type": "markdown",
   "metadata": {},
   "source": [
    "### 2.5. Criteria removal <a id=\"12\"></a>"
   ]
  },
  {
   "cell_type": "markdown",
   "metadata": {},
   "source": [
    "This function removes specified criteria from decision matrix, adjusting weights so that the vector sums to 1. If no indexes are specified, all criteria are removed one by one."
   ]
  },
  {
   "cell_type": "code",
   "execution_count": 5,
   "metadata": {},
   "outputs": [
    {
     "name": "stdout",
     "output_type": "stream",
     "text": [
      "Initial matrix:\n"
     ]
    },
    {
     "data": {
      "text/latex": [
       "$\\displaystyle \\left[\\begin{matrix}1 & 2 & 3 & 4 & 4\\\\1 & 2 & 3 & 4 & 4\\\\4 & 3 & 2 & 1 & 4\\end{matrix}\\right]$"
      ],
      "text/plain": [
       "Matrix([\n",
       "[1, 2, 3, 4, 4],\n",
       "[1, 2, 3, 4, 4],\n",
       "[4, 3, 2, 1, 4]])"
      ]
     },
     "metadata": {},
     "output_type": "display_data"
    },
    {
     "name": "stdout",
     "output_type": "stream",
     "text": [
      "Initial weights:\n"
     ]
    },
    {
     "data": {
      "text/latex": [
       "$\\displaystyle \\left[\\begin{matrix}0.25 & 0.25 & 0.2 & 0.2 & 0.1\\end{matrix}\\right]$"
      ],
      "text/plain": [
       "Matrix([[0.25, 0.25, 0.2, 0.2, 0.1]])"
      ]
     },
     "metadata": {},
     "output_type": "display_data"
    }
   ],
   "source": [
    "matrix = np.array([\n",
    "    [1, 2, 3, 4, 4],\n",
    "    [1, 2, 3, 4, 4],\n",
    "    [4, 3, 2, 1, 4]\n",
    "])\n",
    "weights = np.array([0.25, 0.25, 0.2, 0.2, 0.1])\n",
    "print('Initial matrix:')\n",
    "display(Matrix(matrix))\n",
    "print('Initial weights:')\n",
    "display(Matrix(weights).T)"
   ]
  },
  {
   "cell_type": "code",
   "execution_count": 6,
   "metadata": {},
   "outputs": [
    {
     "data": {
      "text/markdown": [
       "##### **Example result (1/5):**"
      ],
      "text/plain": [
       "<IPython.core.display.Markdown object>"
      ]
     },
     "metadata": {},
     "output_type": "display_data"
    },
    {
     "name": "stdout",
     "output_type": "stream",
     "text": [
      "Removed criterion index: 0\n",
      "Resulting decision matrix:\n"
     ]
    },
    {
     "data": {
      "text/latex": [
       "$\\displaystyle \\left[\\begin{matrix}2 & 3 & 4 & 4\\\\2 & 3 & 4 & 4\\\\3 & 2 & 1 & 4\\end{matrix}\\right]$"
      ],
      "text/plain": [
       "Matrix([\n",
       "[2, 3, 4, 4],\n",
       "[2, 3, 4, 4],\n",
       "[3, 2, 1, 4]])"
      ]
     },
     "metadata": {},
     "output_type": "display_data"
    },
    {
     "name": "stdout",
     "output_type": "stream",
     "text": [
      "Resulting weights vector:\n"
     ]
    },
    {
     "data": {
      "text/latex": [
       "$\\displaystyle \\left[\\begin{matrix}0.333333333333333 & 0.266666666666667 & 0.266666666666667 & 0.133333333333333\\end{matrix}\\right]$"
      ],
      "text/plain": [
       "Matrix([[0.333333333333333, 0.266666666666667, 0.266666666666667, 0.133333333333333]])"
      ]
     },
     "metadata": {},
     "output_type": "display_data"
    }
   ],
   "source": [
    "results = criteria.remove_criteria(matrix, weights)\n",
    "display(Markdown(f'##### **Example result (1/{len(results)}):**'))\n",
    "pretty_print_crit_removal(results[0])"
   ]
  },
  {
   "cell_type": "markdown",
   "metadata": {},
   "source": [
    "### 2.6. Criteria identification <a id=\"13\"></a>"
   ]
  },
  {
   "cell_type": "markdown",
   "metadata": {},
   "source": [
    "This method identifies criteria impact on the resulting ranking. It needs multi-criteria decision-making method to calculate preferences internally."
   ]
  },
  {
   "cell_type": "code",
   "execution_count": 3,
   "metadata": {},
   "outputs": [
    {
     "name": "stdout",
     "output_type": "stream",
     "text": [
      "Initial matrix:\n"
     ]
    },
    {
     "data": {
      "text/latex": [
       "$\\displaystyle \\left[\\begin{matrix}4 & 3 & 5 & 7\\\\7 & 4 & 2 & 4\\\\9 & 5 & 7 & 3\\\\3 & 5 & 6 & 3\\end{matrix}\\right]$"
      ],
      "text/plain": [
       "Matrix([\n",
       "[4, 3, 5, 7],\n",
       "[7, 4, 2, 4],\n",
       "[9, 5, 7, 3],\n",
       "[3, 5, 6, 3]])"
      ]
     },
     "metadata": {},
     "output_type": "display_data"
    },
    {
     "name": "stdout",
     "output_type": "stream",
     "text": [
      "Initial weights:\n"
     ]
    },
    {
     "data": {
      "text/latex": [
       "$\\displaystyle \\left[\\begin{matrix}0.25 & 0.25 & 0.25 & 0.25\\end{matrix}\\right]$"
      ],
      "text/plain": [
       "Matrix([[0.25, 0.25, 0.25, 0.25]])"
      ]
     },
     "metadata": {},
     "output_type": "display_data"
    },
    {
     "name": "stdout",
     "output_type": "stream",
     "text": [
      "Initial criteria types:\n"
     ]
    },
    {
     "data": {
      "text/latex": [
       "$\\displaystyle \\left[\\begin{matrix}1 & 1 & -1 & 1\\end{matrix}\\right]$"
      ],
      "text/plain": [
       "Matrix([[1, 1, -1, 1]])"
      ]
     },
     "metadata": {},
     "output_type": "display_data"
    }
   ],
   "source": [
    "matrix = np.array([\n",
    "    [4, 3, 5, 7],\n",
    "    [7, 4, 2, 4],\n",
    "    [9, 5, 7, 3],\n",
    "    [3, 5, 6, 3]\n",
    "    ])\n",
    "criteria_num = matrix.shape[1]\n",
    "criteria_types = np.array([1, 1, -1, 1])\n",
    "weights = np.ones(criteria_num)/criteria_num\n",
    "print('Initial matrix:')\n",
    "display(Matrix(matrix))\n",
    "print('Initial weights:')\n",
    "display(Matrix(weights).T)\n",
    "print('Initial criteria types:')\n",
    "display(Matrix(criteria_types).T)\n"
   ]
  },
  {
   "cell_type": "markdown",
   "metadata": {},
   "source": [
    "- Using defined function - let us define weighted sum method function that returns preference values for alternatives"
   ]
  },
  {
   "cell_type": "code",
   "execution_count": 4,
   "metadata": {},
   "outputs": [],
   "source": [
    "def weighted_sum_method(matrix, weights, types):\n",
    "    # normalize decision matrix with sum normalization\n",
    "    nmatrix = matrix.copy().astype(float)\n",
    "    nmatrix[:, types == 1] = matrix[:, types == 1] / np.sum(matrix[:, types == 1], axis=0)\n",
    "    nmatrix[:, types == -1] = (1 / matrix[:, types == -1]) / np.sum(1 / matrix[:, types == -1], axis=0)\n",
    "    # each row of matrix is multiplied by weights\n",
    "    weighted_matrix = nmatrix * weights\n",
    "    # calculate preference scores\n",
    "    return np.sum(weighted_matrix, axis=1)"
   ]
  },
  {
   "cell_type": "code",
   "execution_count": 6,
   "metadata": {},
   "outputs": [
    {
     "name": "stdout",
     "output_type": "stream",
     "text": [
      "Removed criterion index(es): (0,)\n",
      "Correlation value: 0.52\n",
      "Distance value: 0.093636\n",
      "Resulting decision matrix:\n"
     ]
    },
    {
     "data": {
      "text/latex": [
       "$\\displaystyle \\left[\\begin{matrix}3 & 5 & 7\\\\4 & 2 & 4\\\\5 & 7 & 3\\\\5 & 6 & 3\\end{matrix}\\right]$"
      ],
      "text/plain": [
       "Matrix([\n",
       "[3, 5, 7],\n",
       "[4, 2, 4],\n",
       "[5, 7, 3],\n",
       "[5, 6, 3]])"
      ]
     },
     "metadata": {},
     "output_type": "display_data"
    }
   ],
   "source": [
    "call_kwargs = {\n",
    "    'matrix': matrix,\n",
    "    'weights': weights,\n",
    "    'types': criteria_types\n",
    "}\n",
    "results = criteria.relevance_identification(weighted_sum_method, call_kwargs, ranking_descending=True)\n",
    "pretty_print_crit_identification(results[0])"
   ]
  },
  {
   "cell_type": "markdown",
   "metadata": {},
   "source": [
    "The criterion with lowest impact was removed"
   ]
  },
  {
   "cell_type": "markdown",
   "metadata": {},
   "source": [
    "- Using library - example `pymcdm`"
   ]
  },
  {
   "cell_type": "code",
   "execution_count": 8,
   "metadata": {},
   "outputs": [
    {
     "name": "stdout",
     "output_type": "stream",
     "text": [
      "Removed criterion index(es): (0,)\n",
      "Correlation value: 0.52\n",
      "Distance value: 0.211707\n",
      "Resulting decision matrix:\n"
     ]
    },
    {
     "data": {
      "text/latex": [
       "$\\displaystyle \\left[\\begin{matrix}3 & 5 & 7\\\\4 & 2 & 4\\\\5 & 7 & 3\\\\5 & 6 & 3\\end{matrix}\\right]$"
      ],
      "text/plain": [
       "Matrix([\n",
       "[3, 5, 7],\n",
       "[4, 2, 4],\n",
       "[5, 7, 3],\n",
       "[5, 6, 3]])"
      ]
     },
     "metadata": {},
     "output_type": "display_data"
    }
   ],
   "source": [
    "import pymcdm.methods as pm\n",
    "\n",
    "topsis = pm.TOPSIS()\n",
    "call_kwargs = {\n",
    "    'matrix': matrix,\n",
    "    'weights': weights,\n",
    "    'types': criteria_types\n",
    "}\n",
    "results = criteria.relevance_identification(topsis, call_kwargs, ranking_descending=True)\n",
    "pretty_print_crit_identification(results[0])"
   ]
  },
  {
   "cell_type": "markdown",
   "metadata": {},
   "source": [
    "---"
   ]
  },
  {
   "cell_type": "markdown",
   "metadata": {},
   "source": [
    "<a id=\"14\"></a><br/>\n",
    "\n",
    "## 3. Probabilistic submodule"
   ]
  },
  {
   "cell_type": "markdown",
   "metadata": {},
   "source": [
    "This submodule offers a way to generate $x$ number of scenarios / samples for introducing noise to decision matrix or weights vector. Additionally it provides a way to generate $x$ number of samples of random weights vectors."
   ]
  },
  {
   "cell_type": "markdown",
   "metadata": {},
   "source": [
    "### 3.1. Monte carlo  <a id=\"15\"></a>"
   ]
  },
  {
   "cell_type": "markdown",
   "metadata": {},
   "source": [
    "Let us generate 1000 samples of random weights vectors for a problem with 3 criteria."
   ]
  },
  {
   "cell_type": "code",
   "execution_count": 6,
   "metadata": {},
   "outputs": [
    {
     "name": "stdout",
     "output_type": "stream",
     "text": [
      "[[0.34404508 0.28058289 0.37537203]\n",
      " [0.30753354 0.30424647 0.38821999]\n",
      " [0.21977179 0.32914608 0.45108213]\n",
      " ...\n",
      " [0.32556476 0.27589953 0.39853571]\n",
      " [0.38695309 0.38349469 0.22955222]\n",
      " [0.28951349 0.38785578 0.32263073]]\n"
     ]
    }
   ],
   "source": [
    "n = 3\n",
    "modified_weights = probabilistic.monte_carlo_weights(n, num_samples=1000, distribution='normal', params={'loc': 0.5, 'scale': 0.1})\n",
    "print(modified_weights)"
   ]
  },
  {
   "cell_type": "markdown",
   "metadata": {},
   "source": [
    "The weights vectors can be further visualized on distribution plot"
   ]
  },
  {
   "cell_type": "code",
   "execution_count": 7,
   "metadata": {},
   "outputs": [
    {
     "data": {
      "application/vnd.jupyter.widget-view+json": {
       "model_id": "6eb6b72c999c4da989513ff0c16c7335",
       "version_major": 2,
       "version_minor": 0
      },
      "image/png": "[encoded data removed]",
      "text/html": [
       "\n",
       "            <div style=\"display: inline-block;\">\n",
       "                <div class=\"jupyter-widgets widget-label\" style=\"text-align: center;\">\n",
       "                    Figure\n",
       "                </div>\n",
       "                <img src='data:image/png;base64,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' width=1000.0/>\n",
       "            </div>\n",
       "        "
      ],
      "text/plain": [
       "Canvas(toolbar=Toolbar(toolitems=[('Home', 'Reset original view', 'home', 'home'), ('Back', 'Back to previous …"
      ]
     },
     "metadata": {},
     "output_type": "display_data"
    }
   ],
   "source": [
    "%matplotlib widget\n",
    "fig, ax = plt.subplots(1, 3, figsize=(10, 4))\n",
    "\n",
    "for idx in range(modified_weights.shape[1]):\n",
    "    # In the case of using sliders, the reference should be kept, so Python wouldn't GC\n",
    "    _, bins_slider = graphs.hist_dist(modified_weights[: , idx], ax[idx], fig=fig, slider_label=f'$w_{{{idx+1}}}$', kind='hist', xlabel='Value', title=f'Weight {idx+1}')\n",
    "plt.suptitle('Weights value distribution')\n",
    "plt.tight_layout(w_pad=1.5)\n",
    "plt.show()"
   ]
  },
  {
   "cell_type": "markdown",
   "metadata": {},
   "source": [
    "### 3.2. Perturbated matrix  <a id=\"16\"></a>"
   ]
  },
  {
   "cell_type": "code",
   "execution_count": 14,
   "metadata": {},
   "outputs": [
    {
     "name": "stdout",
     "output_type": "stream",
     "text": [
      "Initial matrix:\n"
     ]
    },
    {
     "data": {
      "text/latex": [
       "$\\displaystyle \\left[\\begin{matrix}4 & 3 & 7\\\\1 & 9 & 6\\\\7 & 5 & 3\\end{matrix}\\right]$"
      ],
      "text/plain": [
       "Matrix([\n",
       "[4, 3, 7],\n",
       "[1, 9, 6],\n",
       "[7, 5, 3]])"
      ]
     },
     "metadata": {},
     "output_type": "display_data"
    },
    {
     "name": "stdout",
     "output_type": "stream",
     "text": [
      "Example resulting matrix (1/1000):\n"
     ]
    },
    {
     "data": {
      "text/latex": [
       "$\\displaystyle \\left[\\begin{matrix}3.929184 & 3.093076 & 6.910322\\\\1.069319 & 8.960681 & 5.907122\\\\7.079165 & 4.983669 & 2.912692\\end{matrix}\\right]$"
      ],
      "text/plain": [
       "Matrix([\n",
       "[3.929184, 3.093076, 6.910322],\n",
       "[1.069319, 8.960681, 5.907122],\n",
       "[7.079165, 4.983669, 2.912692]])"
      ]
     },
     "metadata": {},
     "output_type": "display_data"
    }
   ],
   "source": [
    "matrix = np.array([[4, 3, 7], \n",
    "                   [1, 9, 6], \n",
    "                   [7, 5, 3]])\n",
    "simulations = 1000\n",
    "results = probabilistic.perturbed_matrix(matrix, simulations)\n",
    "print('Initial matrix:')\n",
    "display(Matrix(matrix))\n",
    "print(f'Example resulting matrix (1/{len(results)}):')\n",
    "display(Matrix(results[0]))"
   ]
  },
  {
   "cell_type": "markdown",
   "metadata": {},
   "source": [
    "### 3.3. Perturbated weights  <a id=\"17\"></a>"
   ]
  },
  {
   "cell_type": "code",
   "execution_count": 15,
   "metadata": {},
   "outputs": [
    {
     "name": "stdout",
     "output_type": "stream",
     "text": [
      "Initial weights vector:\n"
     ]
    },
    {
     "data": {
      "text/latex": [
       "$\\displaystyle \\left[\\begin{matrix}0.3 & 0.4 & 0.3\\end{matrix}\\right]$"
      ],
      "text/plain": [
       "Matrix([[0.3, 0.4, 0.3]])"
      ]
     },
     "metadata": {},
     "output_type": "display_data"
    },
    {
     "name": "stdout",
     "output_type": "stream",
     "text": [
      "Example resulting weights vector (1/1000):\n"
     ]
    },
    {
     "data": {
      "text/latex": [
       "$\\displaystyle \\left[\\begin{matrix}0.250846 & 0.431281 & 0.317873\\end{matrix}\\right]$"
      ],
      "text/plain": [
       "Matrix([[0.250846, 0.431281, 0.317873]])"
      ]
     },
     "metadata": {},
     "output_type": "display_data"
    }
   ],
   "source": [
    "weights = np.array([0.3, 0.4, 0.3])\n",
    "simulations = 1000\n",
    "results = probabilistic.perturbed_weights(weights, simulations)\n",
    "\n",
    "print('Initial weights vector:')\n",
    "display(Matrix(weights).T)\n",
    "print(f'Example resulting weights vector (1/{len(results)}):')\n",
    "display(Matrix(results[0]).T)"
   ]
  },
  {
   "cell_type": "markdown",
   "metadata": {},
   "source": [
    "---"
   ]
  },
  {
   "cell_type": "markdown",
   "metadata": {},
   "source": [
    "<a id=\"18\"></a><br/>\n",
    "\n",
    "## 4. Ranking submodule"
   ]
  },
  {
   "cell_type": "markdown",
   "metadata": {},
   "source": [
    "### 4.1. Ranking alternation  <a id=\"19\"></a>"
   ]
  },
  {
   "cell_type": "markdown",
   "metadata": {},
   "source": [
    "This function finds smallest possible changes in weights values which will result in different ranking."
   ]
  },
  {
   "cell_type": "code",
   "execution_count": 18,
   "metadata": {},
   "outputs": [
    {
     "name": "stdout",
     "output_type": "stream",
     "text": [
      "Initial ranking:\n"
     ]
    },
    {
     "data": {
      "text/latex": [
       "$\\displaystyle \\left[\\begin{matrix}2.0 & 3.0 & 1.0\\end{matrix}\\right]$"
      ],
      "text/plain": [
       "Matrix([[2.0, 3.0, 1.0]])"
      ]
     },
     "metadata": {},
     "output_type": "display_data"
    },
    {
     "name": "stdout",
     "output_type": "stream",
     "text": [
      "Example result (1/3):\n",
      "\n",
      "Modified weight index: 0\n",
      "Resulting weights:\n"
     ]
    },
    {
     "data": {
      "text/latex": [
       "$\\displaystyle \\left[\\begin{matrix}0.39 & 0.505 & 0.105\\end{matrix}\\right]$"
      ],
      "text/plain": [
       "Matrix([[0.39, 0.505, 0.105]])"
      ]
     },
     "metadata": {},
     "output_type": "display_data"
    },
    {
     "name": "stdout",
     "output_type": "stream",
     "text": [
      "Resulting new ranking:\n"
     ]
    },
    {
     "data": {
      "text/latex": [
       "$\\displaystyle \\left[\\begin{matrix}3.0 & 2.0 & 1.0\\end{matrix}\\right]$"
      ],
      "text/plain": [
       "Matrix([[3.0, 2.0, 1.0]])"
      ]
     },
     "metadata": {},
     "output_type": "display_data"
    }
   ],
   "source": [
    "import pymcdm.methods as pm\n",
    "\n",
    "weights = np.array([0.4, 0.5, 0.1])\n",
    "matrix = np.array([\n",
    "    [4, 2, 6],\n",
    "    [7, 3, 2],\n",
    "    [9, 6, 8]\n",
    "])\n",
    "types = np.array([-1, 1, -1])\n",
    "\n",
    "aras = pm.ARAS()\n",
    "pref = aras(matrix, weights, types)\n",
    "initial_ranking = aras.rank(pref)\n",
    "call_kwargs = {\n",
    "    \"matrix\": matrix,\n",
    "    \"weights\": weights,\n",
    "    \"types\": types\n",
    "}\n",
    "ranking_descending = True\n",
    "results = ranking.ranking_alteration(weights, initial_ranking, aras, call_kwargs, ranking_descending)\n",
    "\n",
    "print('Initial ranking:')\n",
    "display(Matrix(initial_ranking).T)\n",
    "print(f'Example result (1/{len(results)}):\\n')\n",
    "print(f'Modified weight index: {results[0][0]}')\n",
    "print('Resulting weights:')\n",
    "display(Matrix(results[0][1]).T)\n",
    "print('Resulting new ranking:')\n",
    "display(Matrix(results[0][2]).T)"
   ]
  },
  {
   "cell_type": "markdown",
   "metadata": {},
   "source": [
    "### 4.2. Demotion  <a id=\"20\"></a>"
   ]
  },
  {
   "cell_type": "code",
   "execution_count": 3,
   "metadata": {},
   "outputs": [
    {
     "name": "stdout",
     "output_type": "stream",
     "text": [
      "Initial ranking:\n"
     ]
    },
    {
     "data": {
      "text/latex": [
       "$\\displaystyle \\left[\\begin{matrix}2.0 & 3.0 & 1.0\\end{matrix}\\right]$"
      ],
      "text/plain": [
       "Matrix([[2.0, 3.0, 1.0]])"
      ]
     },
     "metadata": {},
     "output_type": "display_data"
    },
    {
     "name": "stdout",
     "output_type": "stream",
     "text": [
      "Example result (1/9):\n",
      "\n",
      "Alternative index: 0\n",
      "Criterion index: 0\n",
      "Size of change: 5.0\n",
      "New position: 3\n"
     ]
    }
   ],
   "source": [
    "import pymcdm.methods as pm\n",
    "\n",
    "matrix = np.array([\n",
    "    [4, 2, 6],\n",
    "    [7, 3, 2],\n",
    "    [9, 6, 8]\n",
    "])\n",
    "weights = np.array([0.4, 0.5, 0.1])\n",
    "types = np.array([-1, 1, -1])\n",
    "\n",
    "copras = pm.COPRAS()\n",
    "pref = copras(matrix, weights, types)\n",
    "initial_ranking = copras.rank(pref)\n",
    "call_kwargs = {\n",
    "    \"matrix\": matrix,\n",
    "    \"weights\": weights,\n",
    "    \"types\": types\n",
    "}\n",
    "ranking_descending = True\n",
    "\n",
    "direction = np.array([1, -1, 1])\n",
    "step = 0.5\n",
    "max_modification = 100\n",
    "results = ranking.ranking_demotion(matrix, initial_ranking, copras, call_kwargs, ranking_descending, direction, step, max_modification=max_modification)\n",
    "\n",
    "print('Initial ranking:')\n",
    "display(Matrix(initial_ranking).T)\n",
    "print(f'Example result (1/{len(results)}):\\n')\n",
    "print(f'Alternative index: {results[0][0]}')\n",
    "print(f'Criterion index: {results[0][1]}')\n",
    "print(f'Size of change: {results[0][2]}')\n",
    "print(f'New position: {results[0][3]}')\n"
   ]
  },
  {
   "cell_type": "markdown",
   "metadata": {},
   "source": [
    "The results from demotion analysis can be further visualized"
   ]
  },
  {
   "cell_type": "code",
   "execution_count": 4,
   "metadata": {},
   "outputs": [
    {
     "data": {
      "image/png": "[encoded data removed]",
      "text/plain": [
       "<Figure size 640x480 with 2 Axes>"
      ]
     },
     "metadata": {},
     "output_type": "display_data"
    },
    {
     "data": {
      "image/png": "[encoded data removed]",
      "text/plain": [
       "<Figure size 640x480 with 2 Axes>"
      ]
     },
     "metadata": {},
     "output_type": "display_data"
    },
    {
     "data": {
      "image/png": "[encoded data removed]",
      "text/plain": [
       "<Figure size 640x480 with 2 Axes>"
      ]
     },
     "metadata": {},
     "output_type": "display_data"
    }
   ],
   "source": [
    "%matplotlib inline\n",
    "results = np.array(results)\n",
    "for alt in range(matrix.shape[1]):\n",
    "    alt_results = results[results[:, 0] == alt]\n",
    "    percentage_changes = []\n",
    "    new_positions = []\n",
    "    if len(alt_results):\n",
    "        for crit in range(matrix.shape[0]):\n",
    "            r = alt_results[alt_results[:, 1] == crit]\n",
    "            if len(r):\n",
    "                _ , crit, change, new_pos = r[0]\n",
    "                crit = int(crit)\n",
    "                percentage_changes.append((change - matrix[alt, crit])/matrix[alt, crit]*100)\n",
    "                new_positions.append(new_pos)\n",
    "            else:\n",
    "                percentage_changes.append(0)\n",
    "                new_positions.append(initial_ranking[alt])\n",
    "        step = int(np.max(np.abs([np.min(np.array(percentage_changes))/5, np.max(np.array(percentage_changes))/5])))\n",
    "        graphs.pd_rankings_graph(initial_ranking[alt], new_positions, np.array(percentage_changes), kind='bar', title=f'Rank demotion - $A_{{{alt+1}}}$')\n",
    "        plt.show()"
   ]
  },
  {
   "cell_type": "markdown",
   "metadata": {},
   "source": [
    "### 4.3. Promotion  <a id=\"21\"></a>"
   ]
  },
  {
   "cell_type": "code",
   "execution_count": 5,
   "metadata": {},
   "outputs": [
    {
     "name": "stdout",
     "output_type": "stream",
     "text": [
      "Initial ranking:\n"
     ]
    },
    {
     "data": {
      "text/latex": [
       "$\\displaystyle \\left[\\begin{matrix}2.0 & 3.0 & 1.0\\end{matrix}\\right]$"
      ],
      "text/plain": [
       "Matrix([[2.0, 3.0, 1.0]])"
      ]
     },
     "metadata": {},
     "output_type": "display_data"
    },
    {
     "name": "stdout",
     "output_type": "stream",
     "text": [
      "Example result (1/9):\n",
      "\n",
      "Alternative index: 0\n",
      "Criterion index: 0\n",
      "Size of change: 2.5\n",
      "New position: 1\n"
     ]
    }
   ],
   "source": [
    "import pymcdm.methods as pm\n",
    "\n",
    "matrix = np.array([\n",
    "    [4, 2, 6],\n",
    "    [7, 3, 2],\n",
    "    [9, 6, 8]\n",
    "])\n",
    "weights = np.array([0.4, 0.5, 0.1])\n",
    "types = np.array([-1, 1, -1])\n",
    "copras = pm.COPRAS()\n",
    "pref = copras(matrix, weights, types)\n",
    "initial_ranking = copras.rank(pref)\n",
    "call_kwargs = {\n",
    "    \"matrix\": matrix,\n",
    "    \"weights\": weights,\n",
    "    \"types\": types\n",
    "}\n",
    "ranking_descending = True\n",
    "direction = np.array([-1, 1, -1])\n",
    "step = 0.5\n",
    "max_modification = 1000\n",
    "results = ranking.ranking_promotion(matrix, initial_ranking, copras, call_kwargs, ranking_descending, direction, step, max_modification=max_modification)\n",
    "\n",
    "print('Initial ranking:')\n",
    "display(Matrix(initial_ranking).T)\n",
    "print(f'Example result (1/{len(results)}):\\n')\n",
    "print(f'Alternative index: {results[0][0]}')\n",
    "print(f'Criterion index: {results[0][1]}')\n",
    "print(f'Size of change: {results[0][2]}')\n",
    "print(f'New position: {results[0][3]}')"
   ]
  },
  {
   "cell_type": "markdown",
   "metadata": {},
   "source": [
    "Results from the promotion function can be visualized similarly to demotion."
   ]
  },
  {
   "cell_type": "code",
   "execution_count": 6,
   "metadata": {},
   "outputs": [
    {
     "data": {
      "image/png": "[encoded data removed]",
      "text/plain": [
       "<Figure size 640x480 with 2 Axes>"
      ]
     },
     "metadata": {},
     "output_type": "display_data"
    },
    {
     "data": {
      "image/png": "[encoded data removed]",
      "text/plain": [
       "<Figure size 640x480 with 2 Axes>"
      ]
     },
     "metadata": {},
     "output_type": "display_data"
    },
    {
     "data": {
      "image/png": "[encoded data removed]",
      "text/plain": [
       "<Figure size 640x480 with 2 Axes>"
      ]
     },
     "metadata": {},
     "output_type": "display_data"
    }
   ],
   "source": [
    "results = np.array(results)\n",
    "for alt in range(matrix.shape[1]):\n",
    "    alt_results = results[results[:, 0] == alt]\n",
    "    percentage_changes = []\n",
    "    new_positions = []\n",
    "    if len(alt_results):\n",
    "        for crit in range(matrix.shape[0]):\n",
    "            r = alt_results[alt_results[:, 1] == crit]\n",
    "            if len(r):\n",
    "                _ , crit, change, new_pos = r[0]\n",
    "                crit = int(crit)\n",
    "                percentage_changes.append((change - matrix[alt, crit])/matrix[alt, crit]*100)\n",
    "                new_positions.append(new_pos)\n",
    "            else:\n",
    "                percentage_changes.append(0)\n",
    "                new_positions.append(initial_ranking[alt])\n",
    "        graphs.pd_rankings_graph(initial_ranking[alt], new_positions, np.array(percentage_changes), kind='bar', title=f'Rank promotion - $A_{{{alt+1}}}$')"
   ]
  },
  {
   "cell_type": "markdown",
   "metadata": {},
   "source": [
    "### 4.4. Fuzzy ranking  <a id=\"22\"></a>"
   ]
  },
  {
   "cell_type": "markdown",
   "metadata": {},
   "source": [
    "This function calculates fuzzy ranking from multiple acquired rankings. For example `generate_weights_scenarios` could be used to calculate multiple rankings and then fuzzy ranking could be calculated."
   ]
  },
  {
   "cell_type": "code",
   "execution_count": 30,
   "metadata": {},
   "outputs": [
    {
     "name": "stdout",
     "output_type": "stream",
     "text": [
      "Resulting fuzzy rank:\n"
     ]
    },
    {
     "data": {
      "text/latex": [
       "$\\displaystyle \\left[\\begin{matrix}1.0 & 0.5 & 1.0 & 0 & 0.5\\\\1.0 & 1.0 & 1.0 & 0 & 0\\\\1.0 & 0.5 & 1.0 & 0.5 & 0\\\\1.0 & 0 & 0 & 1.0 & 0.5\\\\0 & 0 & 1.0 & 0.5 & 1.0\\end{matrix}\\right]$"
      ],
      "text/plain": [
       "Matrix([\n",
       "[1.0, 0.5, 1.0,   0, 0.5],\n",
       "[1.0, 1.0, 1.0,   0,   0],\n",
       "[1.0, 0.5, 1.0, 0.5,   0],\n",
       "[1.0,   0,   0, 1.0, 0.5],\n",
       "[  0,   0, 1.0, 0.5, 1.0]])"
      ]
     },
     "metadata": {},
     "output_type": "display_data"
    }
   ],
   "source": [
    "rankings = np.array([\n",
    "    [1, 2, 3, 4, 5],\n",
    "    [2, 1, 5, 3, 4],\n",
    "    [4, 3, 2, 5, 1],\n",
    "    [3, 2, 1, 4, 5],\n",
    "])\n",
    "fuzzy_rank = ranking.fuzzy_ranking(rankings, normalization_axis=0)\n",
    "print('Resulting fuzzy rank:')\n",
    "display(Matrix(fuzzy_rank))"
   ]
  },
  {
   "cell_type": "markdown",
   "metadata": {},
   "source": [
    "This can be futher visualized using heatmap."
   ]
  },
  {
   "cell_type": "code",
   "execution_count": 35,
   "metadata": {},
   "outputs": [
    {
     "data": {
      "image/png": "[encoded data removed]",
      "text/plain": [
       "<Figure size 800x600 with 2 Axes>"
      ]
     },
     "metadata": {},
     "output_type": "display_data"
    }
   ],
   "source": [
    "%matplotlib inline\n",
    "graphs.heatmap(fuzzy_rank, title=\"Fuzzy Ranking Matrix\", figsize=(8, 6))\n",
    "\n",
    "plt.show()"
   ]
  },
  {
   "cell_type": "markdown",
   "metadata": {},
   "source": [
    "---"
   ]
  },
  {
   "cell_type": "markdown",
   "metadata": {},
   "source": [
    "<a id=\"23\"></a><br/>\n",
    "\n",
    "## 5. Compromise submodule"
   ]
  },
  {
   "cell_type": "markdown",
   "metadata": {},
   "source": [
    "This submodule consist of functions that calculate compromise between different rankings."
   ]
  },
  {
   "cell_type": "markdown",
   "metadata": {},
   "source": [
    "### 5.1. General <a id=\"24\"></a>"
   ]
  },
  {
   "cell_type": "markdown",
   "metadata": {},
   "source": [
    "Most methods work in similar fashion, by either providing rankings or preferences we can calculate the compromised ranking."
   ]
  },
  {
   "cell_type": "markdown",
   "metadata": {},
   "source": [
    "Let us consider following ranking and preferences acquired using TOPSIS and VIKOR."
   ]
  },
  {
   "cell_type": "code",
   "execution_count": 4,
   "metadata": {},
   "outputs": [
    {
     "name": "stdout",
     "output_type": "stream",
     "text": [
      "Initial preferences:\n"
     ]
    },
    {
     "data": {
      "text/latex": [
       "$\\displaystyle \\left[\\begin{matrix}0.601 & 0.5254\\\\0.5355 & 0.635\\\\0.497 & 0.7257\\\\0.5648 & 0.1143\\\\0.5713 & 0.5775\\\\0.3163 & 1.0\\\\0.5559 & 0.6188\\\\0.6186 & 0.2039\\end{matrix}\\right]$"
      ],
      "text/plain": [
       "Matrix([\n",
       "[ 0.601, 0.5254],\n",
       "[0.5355,  0.635],\n",
       "[ 0.497, 0.7257],\n",
       "[0.5648, 0.1143],\n",
       "[0.5713, 0.5775],\n",
       "[0.3163,    1.0],\n",
       "[0.5559, 0.6188],\n",
       "[0.6186, 0.2039]])"
      ]
     },
     "metadata": {},
     "output_type": "display_data"
    },
    {
     "name": "stdout",
     "output_type": "stream",
     "text": [
      "Initial rankings:\n"
     ]
    },
    {
     "data": {
      "text/latex": [
       "$\\displaystyle \\left[\\begin{matrix}2.0 & 3.0\\\\6.0 & 6.0\\\\7.0 & 7.0\\\\4.0 & 1.0\\\\3.0 & 4.0\\\\8.0 & 8.0\\\\5.0 & 5.0\\\\1.0 & 2.0\\end{matrix}\\right]$"
      ],
      "text/plain": [
       "Matrix([\n",
       "[2.0, 3.0],\n",
       "[6.0, 6.0],\n",
       "[7.0, 7.0],\n",
       "[4.0, 1.0],\n",
       "[3.0, 4.0],\n",
       "[8.0, 8.0],\n",
       "[5.0, 5.0],\n",
       "[1.0, 2.0]])"
      ]
     },
     "metadata": {},
     "output_type": "display_data"
    }
   ],
   "source": [
    "preferences = np.array([[0.601, 0.5254],\n",
    "                        [0.5355, 0.635],\n",
    "                        [0.497, 0.7257],\n",
    "                        [0.5648, 0.1143],\n",
    "                        [0.5713, 0.5775],\n",
    "                        [0.3163, 1.0],\n",
    "                        [0.5559, 0.6188],\n",
    "                        [0.6186, 0.2039]])\n",
    "rankings = np.array([[2., 3.],\n",
    "                    [6., 6.],\n",
    "                    [7., 7.],\n",
    "                    [4., 1.],\n",
    "                    [3., 4.],\n",
    "                    [8., 8.],\n",
    "                    [5., 5.],\n",
    "                    [1., 2.]])\n",
    "\n",
    "print('Initial preferences:')\n",
    "display(Matrix(preferences))\n",
    "print('Initial rankings:')\n",
    "display(Matrix(rankings))"
   ]
  },
  {
   "cell_type": "markdown",
   "metadata": {},
   "source": [
    "- Borda"
   ]
  },
  {
   "cell_type": "code",
   "execution_count": 54,
   "metadata": {},
   "outputs": [
    {
     "name": "stdout",
     "output_type": "stream",
     "text": [
      "Resulting compromise ranking:\n"
     ]
    },
    {
     "data": {
      "text/latex": [
       "$\\displaystyle \\left[\\begin{matrix}2.5 & 6.0 & 7.0 & 2.5 & 4.0 & 8.0 & 5.0 & 1.0\\end{matrix}\\right]$"
      ],
      "text/plain": [
       "Matrix([[2.5, 6.0, 7.0, 2.5, 4.0, 8.0, 5.0, 1.0]])"
      ]
     },
     "metadata": {},
     "output_type": "display_data"
    }
   ],
   "source": [
    "print('Resulting compromise ranking:')\n",
    "display(Matrix(compromise.borda(rankings)).T)"
   ]
  },
  {
   "cell_type": "markdown",
   "metadata": {},
   "source": [
    "- Dominance directed graph"
   ]
  },
  {
   "cell_type": "code",
   "execution_count": 55,
   "metadata": {},
   "outputs": [
    {
     "name": "stdout",
     "output_type": "stream",
     "text": [
      "Resulting compromise ranking:\n"
     ]
    },
    {
     "data": {
      "text/latex": [
       "$\\displaystyle \\left[\\begin{matrix}3.0 & 6.0 & 7.0 & 2.0 & 4.0 & 8.0 & 5.0 & 1.0\\end{matrix}\\right]$"
      ],
      "text/plain": [
       "Matrix([[3.0, 6.0, 7.0, 2.0, 4.0, 8.0, 5.0, 1.0]])"
      ]
     },
     "metadata": {},
     "output_type": "display_data"
    }
   ],
   "source": [
    "print('Resulting compromise ranking:')\n",
    "display(Matrix(compromise.dominance_directed_graph(rankings)).T)"
   ]
  },
  {
   "cell_type": "markdown",
   "metadata": {},
   "source": [
    "- Rank position method"
   ]
  },
  {
   "cell_type": "code",
   "execution_count": 56,
   "metadata": {},
   "outputs": [
    {
     "name": "stdout",
     "output_type": "stream",
     "text": [
      "Resulting compromise ranking:\n"
     ]
    },
    {
     "data": {
      "text/latex": [
       "$\\displaystyle \\left[\\begin{matrix}3.0 & 6.0 & 7.0 & 2.0 & 4.0 & 8.0 & 5.0 & 1.0\\end{matrix}\\right]$"
      ],
      "text/plain": [
       "Matrix([[3.0, 6.0, 7.0, 2.0, 4.0, 8.0, 5.0, 1.0]])"
      ]
     },
     "metadata": {},
     "output_type": "display_data"
    }
   ],
   "source": [
    "print('Resulting compromise ranking:')\n",
    "display(Matrix(compromise.rank_position(rankings)).T)"
   ]
  },
  {
   "cell_type": "markdown",
   "metadata": {},
   "source": [
    "- Half-quadratic compromise"
   ]
  },
  {
   "cell_type": "code",
   "execution_count": 58,
   "metadata": {},
   "outputs": [
    {
     "name": "stdout",
     "output_type": "stream",
     "text": [
      "Resulting compromise ranking:\n"
     ]
    },
    {
     "data": {
      "text/latex": [
       "$\\displaystyle \\left[\\begin{matrix}2.5 & 6.0 & 7.0 & 2.5 & 3.5 & 8.0 & 5.0 & 1.5\\end{matrix}\\right]$"
      ],
      "text/plain": [
       "Matrix([[2.5, 6.0, 7.0, 2.5, 3.5, 8.0, 5.0, 1.5]])"
      ]
     },
     "metadata": {},
     "output_type": "display_data"
    }
   ],
   "source": [
    "print('Resulting compromise ranking:')\n",
    "display(Matrix(compromise.HQ_compromise(rankings)[2]).T)"
   ]
  },
  {
   "cell_type": "markdown",
   "metadata": {},
   "source": [
    "- Improved borda"
   ]
  },
  {
   "cell_type": "code",
   "execution_count": 59,
   "metadata": {},
   "outputs": [
    {
     "name": "stdout",
     "output_type": "stream",
     "text": [
      "Resulting compromise ranking:\n"
     ]
    },
    {
     "data": {
      "text/latex": [
       "$\\displaystyle \\left[\\begin{matrix}2.0 & 6.0 & 7.0 & 3.0 & 4.0 & 8.0 & 5.0 & 1.0\\end{matrix}\\right]$"
      ],
      "text/plain": [
       "Matrix([[2.0, 6.0, 7.0, 3.0, 4.0, 8.0, 5.0, 1.0]])"
      ]
     },
     "metadata": {},
     "output_type": "display_data"
    }
   ],
   "source": [
    "print('Resulting compromise ranking:')\n",
    "display(Matrix(compromise.improved_borda(preferences, [1, -1])).T)"
   ]
  },
  {
   "cell_type": "markdown",
   "metadata": {},
   "source": [
    "### 5.2. HQ compromise additional informations <a id=\"25\"></a>"
   ]
  },
  {
   "cell_type": "markdown",
   "metadata": {},
   "source": [
    "HQ compromise method apart from resulting in the compromised ranking it provides `consensus index` and `trust index` and `weights` of each ranking which can be of help to decision-maker."
   ]
  },
  {
   "cell_type": "markdown",
   "metadata": {},
   "source": [
    "### 5.3. ICRA <a id=\"26\"></a>"
   ]
  },
  {
   "cell_type": "markdown",
   "metadata": {},
   "source": [
    "ICRA is presented separately as it provides more in-depth compromise seeking."
   ]
  },
  {
   "cell_type": "markdown",
   "metadata": {},
   "source": [
    "In this example the same initial preferences will be used"
   ]
  },
  {
   "cell_type": "code",
   "execution_count": 5,
   "metadata": {},
   "outputs": [
    {
     "name": "stdout",
     "output_type": "stream",
     "text": [
      "Resulting compromise ranking:\n"
     ]
    },
    {
     "data": {
      "text/latex": [
       "$\\displaystyle \\left[\\begin{matrix}3.0 & 6.0 & 7.0 & 2.0 & 4.0 & 8.0 & 5.0 & 1.0\\end{matrix}\\right]$"
      ],
      "text/plain": [
       "Matrix([[3.0, 6.0, 7.0, 2.0, 4.0, 8.0, 5.0, 1.0]])"
      ]
     },
     "metadata": {},
     "output_type": "display_data"
    }
   ],
   "source": [
    "import pymcdm.methods as pm\n",
    "\n",
    "topsis = pm.TOPSIS()\n",
    "vikor = pm.VIKOR()\n",
    "\n",
    "methods = {\n",
    "    topsis: ['matrix', 'weights', 'types'],\n",
    "    vikor: ['matrix', 'weights', 'types']\n",
    "    }\n",
    "\n",
    "ICRA_matrix = np.array([preferences[:, 0], preferences[:, 1]]).T\n",
    "method_types = np.array([1, -1])\n",
    "\n",
    "result = compromise.ICRA.iterative_compromise(methods, ICRA_matrix, method_types)\n",
    "print('Resulting compromise ranking:')\n",
    "display(Matrix(result.final_rankings[:, 0]).T)"
   ]
  },
  {
   "cell_type": "markdown",
   "metadata": {},
   "source": [
    "In the case of ICRA, we can visualize the preference distribution change."
   ]
  },
  {
   "cell_type": "code",
   "execution_count": 6,
   "metadata": {},
   "outputs": [
    {
     "data": {
      "image/png": "[encoded data removed]",
      "text/plain": [
       "<Figure size 750x150 with 2 Axes>"
      ]
     },
     "metadata": {},
     "output_type": "display_data"
    },
    {
     "data": {
      "image/png": "[encoded data removed]",
      "text/plain": [
       "<Figure size 750x150 with 2 Axes>"
      ]
     },
     "metadata": {},
     "output_type": "display_data"
    }
   ],
   "source": [
    "graphs.ICRA_pref_distribution(result, ['TOPSIS', 'VIKOR'], by='methods')"
   ]
  },
  {
   "cell_type": "code",
   "execution_count": 7,
   "metadata": {},
   "outputs": [
    {
     "data": {
      "image/png": "[encoded data removed]",
      "text/plain": [
       "<Figure size 750x150 with 2 Axes>"
      ]
     },
     "metadata": {},
     "output_type": "display_data"
    },
    {
     "data": {
      "image/png": "[encoded data removed]",
      "text/plain": [
       "<Figure size 750x150 with 2 Axes>"
      ]
     },
     "metadata": {},
     "output_type": "display_data"
    }
   ],
   "source": [
    "graphs.ICRA_pref_distribution(result, ['TOPSIS', 'VIKOR'], by='iters')"
   ]
  },
  {
   "cell_type": "markdown",
   "metadata": {},
   "source": [
    "---"
   ]
  },
  {
   "cell_type": "markdown",
   "metadata": {},
   "source": [
    "<a id=\"27\"></a><br/>\n",
    "\n",
    "## 6. Further use"
   ]
  },
  {
   "cell_type": "markdown",
   "metadata": {},
   "source": [
    "For most of the functions that modifies the decision matrix or weights vector, the library includes a wrapper for calculating the preference values and rankings for the returned results."
   ]
  },
  {
   "cell_type": "markdown",
   "metadata": {},
   "source": [
    "**Example**"
   ]
  },
  {
   "cell_type": "code",
   "execution_count": 9,
   "metadata": {},
   "outputs": [
    {
     "data": {
      "text/plain": [
       "[(0,\n",
       "  -0.01,\n",
       "  array([0.297 , 0.3015, 0.4015]),\n",
       "  array([0.35523716, 0.37880508, 0.58809771, 0.5640484 , 0.37077233,\n",
       "         0.57433661, 0.54914172, 0.62030165, 0.31944243, 0.28483622]),\n",
       "  array([ 8.,  6.,  2.,  4.,  7.,  3.,  5.,  1.,  9., 10.])),\n",
       " (0,\n",
       "  0.01,\n",
       "  array([0.303 , 0.2985, 0.3985]),\n",
       "  array([0.35863316, 0.38360753, 0.58200947, 0.56521669, 0.37742215,\n",
       "         0.56969001, 0.54413253, 0.62298952, 0.32084585, 0.28230735]),\n",
       "  array([ 8.,  6.,  2.,  4.,  7.,  3.,  5.,  1.,  9., 10.])),\n",
       " (0,\n",
       "  -0.02,\n",
       "  array([0.294, 0.303, 0.403]),\n",
       "  array([0.35354967, 0.376411  , 0.59114508, 0.56346911, 0.36743618,\n",
       "         0.57664508, 0.55163568, 0.61897793, 0.31874794, 0.28608496]),\n",
       "  array([ 8.,  6.,  2.,  4.,  7.,  3.,  5.,  1.,  9., 10.])),\n",
       " (0,\n",
       "  0.02,\n",
       "  array([0.306, 0.297, 0.397]),\n",
       "  array([0.36034104, 0.38601523, 0.578969  , 0.56580547, 0.38073585,\n",
       "         0.56735258, 0.54161802, 0.62435328, 0.32155445, 0.28102748]),\n",
       "  array([ 8.,  6.,  2.,  4.,  7.,  3.,  5.,  1.,  9., 10.])),\n",
       " (0,\n",
       "  -0.03,\n",
       "  array([0.291 , 0.3045, 0.4045]),\n",
       "  array([0.35186963, 0.37402217, 0.59419433, 0.56289321, 0.3640925 ,\n",
       "         0.5789432 , 0.55412208, 0.61766797, 0.31805847, 0.28732304]),\n",
       "  array([ 8.,  6.,  2.,  4.,  7.,  3.,  5.,  1.,  9., 10.])),\n",
       " (0,\n",
       "  0.03,\n",
       "  array([0.309 , 0.2955, 0.3955]),\n",
       "  array([0.36205506, 0.38842678, 0.57593122, 0.56639719, 0.38404212,\n",
       "         0.56500617, 0.53909735, 0.62572996, 0.32226742, 0.27973751]),\n",
       "  array([ 8.,  6.,  2.,  3.,  7.,  4.,  5.,  1.,  9., 10.])),\n",
       " (0,\n",
       "  -0.04,\n",
       "  array([0.288, 0.306, 0.406]),\n",
       "  array([0.35019736, 0.37163894, 0.59724526, 0.56232078, 0.36074128,\n",
       "         0.58123061, 0.55660053, 0.61637195, 0.31737419, 0.28855034]),\n",
       "  array([ 8.,  6.,  2.,  4.,  7.,  3.,  5.,  1.,  9., 10.])),\n",
       " (0,\n",
       "  0.04,\n",
       "  array([0.312, 0.294, 0.394]),\n",
       "  array([0.36377491, 0.39084187, 0.5728963 , 0.56699175, 0.38734098,\n",
       "         0.56265114, 0.53657088, 0.62711937, 0.3229846 , 0.27843759]),\n",
       "  array([ 8.,  6.,  2.,  3.,  7.,  4.,  5.,  1.,  9., 10.])),\n",
       " (0,\n",
       "  -0.05,\n",
       "  array([0.285 , 0.3075, 0.4075]),\n",
       "  array([0.34853318, 0.36926167, 0.60029763, 0.56175194, 0.35738249,\n",
       "         0.58350693, 0.55907065, 0.61509007, 0.31669524, 0.28976672]),\n",
       "  array([ 8.,  6.,  2.,  4.,  7.,  3.,  5.,  1.,  9., 10.])),\n",
       " (0,\n",
       "  0.05,\n",
       "  array([0.315 , 0.2925, 0.3925]),\n",
       "  array([0.36550026, 0.39326016, 0.56986442, 0.56758901, 0.39063243,\n",
       "         0.56028779, 0.53403893, 0.62852128, 0.3237058 , 0.27712787]),\n",
       "  array([ 8.,  6.,  2.,  3.,  7.,  4.,  5.,  1.,  9., 10.])),\n",
       " (1,\n",
       "  -0.01,\n",
       "  array([0.3015, 0.297 , 0.4015]),\n",
       "  array([0.358432  , 0.38193564, 0.58411631, 0.56665117, 0.37554595,\n",
       "         0.5724373 , 0.54694557, 0.62030165, 0.32013057, 0.28084935]),\n",
       "  array([ 8.,  6.,  2.,  4.,  7.,  3.,  5.,  1.,  9., 10.])),\n",
       " (1,\n",
       "  0.01,\n",
       "  array([0.2985, 0.303 , 0.3985]),\n",
       "  array([0.35542148, 0.38046748, 0.58599681, 0.5626028 , 0.37264255,\n",
       "         0.57159032, 0.54632777, 0.62298952, 0.32015408, 0.28630196]),\n",
       "  array([ 8.,  6.,  2.,  4.,  7.,  3.,  5.,  1.,  9., 10.])),\n",
       " (1,\n",
       "  -0.02,\n",
       "  array([0.303, 0.294, 0.403]),\n",
       "  array([0.35992195, 0.38266219, 0.58318852, 0.56866306, 0.37697737,\n",
       "         0.5728478 , 0.54724287, 0.61897793, 0.3201204 , 0.27811918]),\n",
       "  array([ 8.,  6.,  2.,  4.,  7.,  3.,  5.,  1.,  9., 10.])),\n",
       " (1,\n",
       "  0.02,\n",
       "  array([0.297, 0.306, 0.397]),\n",
       "  array([0.3539014 , 0.37972611, 0.58694934, 0.56056705, 0.37117079,\n",
       "         0.57115384, 0.54600721, 0.62435328, 0.32016744, 0.28902423]),\n",
       "  array([ 8.,  6.,  2.,  4.,  7.,  3.,  5.,  1.,  9., 10.])),\n",
       " (1,\n",
       "  -0.03,\n",
       "  array([0.3045, 0.291 , 0.4045]),\n",
       "  array([0.36140138, 0.38338357, 0.58226915, 0.57066625, 0.37839513,\n",
       "         0.57324966, 0.54753248, 0.61766797, 0.3201113 , 0.27538656]),\n",
       "  array([ 8.,  6.,  2.,  4.,  7.,  3.,  5.,  1.,  9., 10.])),\n",
       " (1,\n",
       "  0.03,\n",
       "  array([0.2955, 0.309 , 0.3955]),\n",
       "  array([0.35237176, 0.37898002, 0.58790993, 0.55852406, 0.3696858 ,\n",
       "         0.57070871, 0.54567884, 0.62572996, 0.32018185, 0.29174367]),\n",
       "  array([ 8.,  6.,  2.,  4.,  7.,  3.,  5.,  1.,  9., 10.])),\n",
       " (1,\n",
       "  -0.04,\n",
       "  array([0.306, 0.288, 0.406]),\n",
       "  array([0.36287005, 0.38409967, 0.58135827, 0.57266038, 0.37979911,\n",
       "         0.57364287, 0.54781443, 0.61637195, 0.32010326, 0.27265157]),\n",
       "  array([ 8.,  6.,  2.,  4.,  7.,  3.,  5.,  1.,  9., 10.])),\n",
       " (1,\n",
       "  0.04,\n",
       "  array([0.294, 0.312, 0.394]),\n",
       "  array([0.3508328 , 0.37822935, 0.58887848, 0.55647421, 0.36818771,\n",
       "         0.57025493, 0.54534265, 0.62711937, 0.32019733, 0.29446021]),\n",
       "  array([ 8.,  6.,  2.,  4.,  7.,  3.,  5.,  1.,  9., 10.])),\n",
       " (1,\n",
       "  -0.05,\n",
       "  array([0.3075, 0.285 , 0.4075]),\n",
       "  array([0.36432772, 0.38481039, 0.58045597, 0.57464507, 0.38118924,\n",
       "         0.57402746, 0.54808876, 0.61509007, 0.32009628, 0.2699143 ]),\n",
       "  array([ 8.,  6.,  2.,  3.,  7.,  4.,  5.,  1.,  9., 10.])),\n",
       " (1,\n",
       "  0.05,\n",
       "  array([0.2925, 0.315 , 0.3925]),\n",
       "  array([0.34928478, 0.37747422, 0.58985489, 0.55441785, 0.36667664,\n",
       "         0.56979251, 0.54499861, 0.62852128, 0.32021388, 0.29717375]),\n",
       "  array([ 8.,  6.,  2.,  4.,  7.,  3.,  5.,  1.,  9., 10.])),\n",
       " (2,\n",
       "  -0.01,\n",
       "  array([0.302, 0.302, 0.396]),\n",
       "  array([0.35718845, 0.38342432, 0.58225176, 0.5627119 , 0.37659101,\n",
       "         0.56835192, 0.54288602, 0.62522725, 0.32109296, 0.28552032]),\n",
       "  array([ 8.,  6.,  2.,  4.,  7.,  3.,  5.,  1.,  9., 10.])),\n",
       " (2,\n",
       "  0.01,\n",
       "  array([0.298, 0.298, 0.404]),\n",
       "  array([0.35667446, 0.37897869, 0.58786194, 0.56655192, 0.37159601,\n",
       "         0.57567676, 0.55038873, 0.61805948, 0.31919043, 0.28162218]),\n",
       "  array([ 8.,  6.,  2.,  4.,  7.,  3.,  5.,  1.,  9., 10.])),\n",
       " (2,\n",
       "  -0.02,\n",
       "  array([0.304, 0.304, 0.392]),\n",
       "  array([0.35744441, 0.38563894, 0.57946048, 0.56079535, 0.37906562,\n",
       "         0.56467838, 0.53912543, 0.62882429, 0.32204357, 0.28745178]),\n",
       "  array([ 8.,  6.,  2.,  4.,  7.,  3.,  5.,  1.,  9., 10.])),\n",
       " (2,\n",
       "  0.02,\n",
       "  array([0.296, 0.296, 0.408]),\n",
       "  array([0.35641665, 0.3767489 , 0.5906797 , 0.56847415, 0.36907658,\n",
       "         0.57932751, 0.55413034, 0.61448916, 0.31823924, 0.27965638]),\n",
       "  array([ 8.,  6.,  2.,  4.,  7.,  3.,  5.,  1.,  9., 10.])),\n",
       " (2,\n",
       "  -0.03,\n",
       "  array([0.306, 0.306, 0.388]),\n",
       "  array([0.35769954, 0.38784726, 0.57667916, 0.55888195, 0.38152433,\n",
       "         0.56099781, 0.53535904, 0.63242981, 0.32299324, 0.28937091]),\n",
       "  array([ 8.,  6.,  2.,  4.,  7.,  3.,  5.,  1.,  9., 10.])),\n",
       " (2,\n",
       "  0.03,\n",
       "  array([0.294, 0.294, 0.412]),\n",
       "  array([0.35615842, 0.37451526, 0.59350517, 0.57039704, 0.36654317,\n",
       "         0.58297014, 0.55786512, 0.61092818, 0.3172886 , 0.27768001]),\n",
       "  array([ 8.,  6.,  2.,  4.,  7.,  3.,  5.,  1.,  9., 10.])),\n",
       " (2,\n",
       "  -0.04,\n",
       "  array([0.308, 0.308, 0.384]),\n",
       "  array([0.35795375, 0.39004868, 0.57390838, 0.55697232, 0.38396666,\n",
       "         0.55731053, 0.53158715, 0.63604362, 0.3239416 , 0.29127726]),\n",
       "  array([ 8.,  6.,  2.,  4.,  7.,  3.,  5.,  1.,  9., 10.])),\n",
       " (2,\n",
       "  0.04,\n",
       "  array([0.292, 0.292, 0.416]),\n",
       "  array([0.35589989, 0.3722784 , 0.59633779, 0.57231998, 0.36399626,\n",
       "         0.58660441, 0.56159284, 0.60737675, 0.31633885, 0.27569352]),\n",
       "  array([ 8.,  6.,  2.,  4.,  7.,  3.,  5.,  1.,  9., 10.])),\n",
       " (2,\n",
       "  -0.05,\n",
       "  array([0.31, 0.31, 0.38]),\n",
       "  array([0.35820692, 0.39224256, 0.57114874, 0.55506709, 0.38639213,\n",
       "         0.55361684, 0.52781005, 0.63966551, 0.32488827, 0.29317041]),\n",
       "  array([ 8.,  6.,  2.,  3.,  7.,  4.,  5.,  1.,  9., 10.])),\n",
       " (2,\n",
       "  0.05,\n",
       "  array([0.29, 0.29, 0.42]),\n",
       "  array([0.35564116, 0.37003889, 0.59917702, 0.57424236, 0.36143632,\n",
       "         0.59023009, 0.56531329, 0.60383511, 0.31539037, 0.27369736]),\n",
       "  array([ 8.,  6.,  2.,  4.,  7.,  3.,  5.,  1.,  9., 10.]))]"
      ]
     },
     "execution_count": 9,
     "metadata": {},
     "output_type": "execute_result"
    }
   ],
   "source": [
    "import pymcdm.methods as pm\n",
    "\n",
    "weights = np.array([0.3, 0.3, 0.4])\n",
    "percentage = 5\n",
    "results = criteria.percentage_modification(weights, percentage)\n",
    "\n",
    "topsis = pm.TOPSIS()\n",
    "kwargs = {\n",
    "    'matrix': np.random.random((10, 3)),\n",
    "    'weights': weights,\n",
    "    'types': np.ones(3)\n",
    "}\n",
    "\n",
    "preferences_results = calculate_preference(criteria.percentage_modification, results, topsis, kwargs, only_preference=False, method_type=1)\n",
    "preferences_results"
   ]
  },
  {
   "cell_type": "markdown",
   "metadata": {},
   "source": [
    "#### In the case of analyzing different criteria weights, we are left with multiple rankings, which for easier analysis can be further visualized."
   ]
  },
  {
   "cell_type": "code",
   "execution_count": 15,
   "metadata": {},
   "outputs": [
    {
     "data": {
      "image/png": "[encoded data removed]",
      "text/plain": [
       "<Figure size 640x480 with 1 Axes>"
      ]
     },
     "metadata": {},
     "output_type": "display_data"
    }
   ],
   "source": [
    "graphs.rankings_distribution(np.array([*np.array(preferences_results, dtype='object')[:, 4]]), title='TOPSIS ranking distribution')\n",
    "plt.show()"
   ]
  }
 ],
 "metadata": {
  "kernelspec": {
   "display_name": "Python 3.10.5 64-bit",
   "language": "python",
   "name": "python3"
  },
  "language_info": {
   "codemirror_mode": {
    "name": "ipython",
    "version": 3
   },
   "file_extension": ".py",
   "mimetype": "text/x-python",
   "name": "python",
   "nbconvert_exporter": "python",
   "pygments_lexer": "ipython3",
   "version": "3.10.5"
  },
  "orig_nbformat": 4,
  "vscode": {
   "interpreter": {
    "hash": "eabca979b0553fa6d87e9a00c352604d3b703d4afc9641643dd42376492b80f6"
   }
  }
 },
 "nbformat": 4,
 "nbformat_minor": 2
}
