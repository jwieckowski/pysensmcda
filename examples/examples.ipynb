{
 "cells": [
  {
   "cell_type": "markdown",
   "metadata": {},
   "source": [
    "# <center> PySensCraft - Illustrative examples"
   ]
  },
  {
   "cell_type": "markdown",
   "metadata": {},
   "source": [
    "**Note**: *this notebook was created for the purpose of providing an instruction of decision problem sensitivity analysis. For in-depth presentation of graphs submodel see* `graphs_examples.ipynb`"
   ]
  },
  {
   "cell_type": "code",
   "execution_count": 2,
   "metadata": {},
   "outputs": [],
   "source": [
    "from pysenscraft import alternative, criteria, compromise, graphs, probabilistic, ranking\n",
    "from pysenscraft.compromise import ICRA\n",
    "import numpy as np"
   ]
  },
  {
   "cell_type": "code",
   "execution_count": 3,
   "metadata": {},
   "outputs": [],
   "source": [
    "from sympy import Matrix\n",
    "from IPython.display import display, HTML, Markdown\n",
    "\n",
    "def pretty_print_alternative(alternative_results):\n",
    "    print(f'Alternative index: {alternative_results[0]}')\n",
    "    print(f'Criteria index: {alternative_results[1]}')\n",
    "    print(f'Change: {alternative_results[2]}')\n",
    "    print(f'Resulting decision matrix:') \n",
    "    display(Matrix(alternative_results[3]))\n",
    "\n",
    "def pretty_print_alternative_removal(alternative_results):\n",
    "    print(f'Alternative index: {alternative_results[0]}')\n",
    "    print(f'Resulting decision matrix:') \n",
    "    display(Matrix(alternative_results[1]))"
   ]
  },
  {
   "cell_type": "markdown",
   "metadata": {},
   "source": [
    "**Content:**\n",
    "1. [Alternative submodule:](#1)\n",
    "    1. [Discrete modification](#2)\n",
    "    1. [Percentage modification](#3)\n",
    "    1. [Range modification](#4)\n",
    "    1. [Alternative removal](#5)\n",
    "    1. [General](#6)\n",
    "1. [Criteria submodule:](#7)\n",
    "    1. [Identification](#8)\n",
    "    1. [Percentage modification](#9)\n",
    "    1. [Range modification](#10)\n",
    "    1. [Criteria removal](#11)\n",
    "    1. [Weights scenarios](#12)\n",
    "1. [Probabilistic submodule:](#13)\n",
    "1. [Ranking submodule:](#8)\n",
    "1. [Compromise submodule:](#8)\n",
    "1. [Further use](#7)"
   ]
  },
  {
   "cell_type": "markdown",
   "metadata": {},
   "source": [
    "<a id=\"1\"></a><br/>\n",
    "## 1. Alternative submodule "
   ]
  },
  {
   "cell_type": "markdown",
   "metadata": {},
   "source": [
    "**Note**: Alternative submodule includes functions for modification of values in decision matrix and alternative removal."
   ]
  },
  {
   "cell_type": "markdown",
   "metadata": {},
   "source": [
    "Let us consider following matrix, this matrix will be taken as an initial matrix for furhter function calls"
   ]
  },
  {
   "cell_type": "code",
   "execution_count": 4,
   "metadata": {},
   "outputs": [
    {
     "name": "stdout",
     "output_type": "stream",
     "text": [
      "Initial matrix:\n"
     ]
    },
    {
     "data": {
      "text/latex": [
       "$\\displaystyle \\left[\\begin{matrix}4 & 1 & 6\\\\2 & 6 & 3\\\\9 & 5 & 7\\end{matrix}\\right]$"
      ],
      "text/plain": [
       "Matrix([\n",
       "[4, 1, 6],\n",
       "[2, 6, 3],\n",
       "[9, 5, 7]])"
      ]
     },
     "metadata": {},
     "output_type": "display_data"
    }
   ],
   "source": [
    "matrix = np.array([\n",
    "[4, 1, 6],\n",
    "[2, 6, 3],\n",
    "[9, 5, 7],\n",
    "])\n",
    "print('Initial matrix:')\n",
    "display(Matrix(matrix))"
   ]
  },
  {
   "cell_type": "markdown",
   "metadata": {},
   "source": [
    "### 1.1. Discrete modification <a id=\"2\"></a>"
   ]
  },
  {
   "cell_type": "markdown",
   "metadata": {},
   "source": [
    "For each criterion we can define discrete values that will be set as a value. All possible combinations are generated."
   ]
  },
  {
   "cell_type": "code",
   "execution_count": 24,
   "metadata": {},
   "outputs": [
    {
     "name": "stdout",
     "output_type": "stream",
     "text": [
      "Alternative index: 1\n",
      "Criteria index: 1\n",
      "Change: 1\n",
      "Resulting decision matrix:\n"
     ]
    },
    {
     "data": {
      "text/latex": [
       "$\\displaystyle \\left[\\begin{matrix}4.0 & 1.0 & 6.0\\\\2.0 & 1.0 & 3.0\\\\9.0 & 5.0 & 7.0\\end{matrix}\\right]$"
      ],
      "text/plain": [
       "Matrix([\n",
       "[4.0, 1.0, 6.0],\n",
       "[2.0, 1.0, 3.0],\n",
       "[9.0, 5.0, 7.0]])"
      ]
     },
     "metadata": {},
     "output_type": "display_data"
    }
   ],
   "source": [
    "discrete_values = np.array([[2, 3, 4], [1, 5, 6], [3, 4]], dtype='object')\n",
    "pretty_print_alternative(alternative.discrete_modification(matrix, discrete_values))"
   ]
  },
  {
   "cell_type": "markdown",
   "metadata": {},
   "source": [
    "The value of alternative 1 in the first criterion was changed for discrite value '2'"
   ]
  },
  {
   "cell_type": "markdown",
   "metadata": {},
   "source": [
    "### 1.2. Percentage modification <a id=\"3\"></a>"
   ]
  },
  {
   "cell_type": "markdown",
   "metadata": {},
   "source": [
    "Percentage values can be set as an `int` to make it the same for all criteria, or by an array to specify value for specific criterion."
   ]
  },
  {
   "cell_type": "code",
   "execution_count": 28,
   "metadata": {},
   "outputs": [
    {
     "name": "stdout",
     "output_type": "stream",
     "text": [
      "Alternative index: 0\n",
      "Criteria index: 0\n",
      "Change: -0.01\n",
      "Resulting decision matrix:\n"
     ]
    },
    {
     "data": {
      "text/latex": [
       "$\\displaystyle \\left[\\begin{matrix}3.96 & 1.0 & 6.0\\\\2.0 & 6.0 & 3.0\\\\9.0 & 5.0 & 7.0\\end{matrix}\\right]$"
      ],
      "text/plain": [
       "Matrix([\n",
       "[3.96, 1.0, 6.0],\n",
       "[ 2.0, 6.0, 3.0],\n",
       "[ 9.0, 5.0, 7.0]])"
      ]
     },
     "metadata": {},
     "output_type": "display_data"
    }
   ],
   "source": [
    "percentages = 5\n",
    "# percentages = np.array([3, 2, 3])\n",
    "pretty_print_alternative(alternative.percentage_modification(matrix, percentages)[0])"
   ]
  },
  {
   "cell_type": "markdown",
   "metadata": {},
   "source": [
    "In the case of percentage modification the value of first alternative under first criterion changed by -0.01, which means -1%"
   ]
  },
  {
   "cell_type": "markdown",
   "metadata": {},
   "source": [
    "### 1.3. Range modification <a id=\"4\"></a>"
   ]
  },
  {
   "cell_type": "markdown",
   "metadata": {},
   "source": [
    "Range values should be specified for each criterion (2d-array) or for each value in decision matrix (3d-array)."
   ]
  },
  {
   "cell_type": "code",
   "execution_count": 31,
   "metadata": {},
   "outputs": [
    {
     "name": "stdout",
     "output_type": "stream",
     "text": [
      "Alternative index: 0\n",
      "Criteria index: 0\n",
      "Change: 6.0\n",
      "Resulting decision matrix:\n"
     ]
    },
    {
     "data": {
      "text/latex": [
       "$\\displaystyle \\left[\\begin{matrix}6.0 & 1.0 & 6.0\\\\2.0 & 6.0 & 3.0\\\\9.0 & 5.0 & 7.0\\end{matrix}\\right]$"
      ],
      "text/plain": [
       "Matrix([\n",
       "[6.0, 1.0, 6.0],\n",
       "[2.0, 6.0, 3.0],\n",
       "[9.0, 5.0, 7.0]])"
      ]
     },
     "metadata": {},
     "output_type": "display_data"
    }
   ],
   "source": [
    "range_values = np.array([[6, 8], [2, 4], [4, 6.5]])\n",
    "range_modification_results = alternative.range_modification(matrix, range_values)\n",
    "pretty_print_alternative(range_modification_results[0])"
   ]
  },
  {
   "cell_type": "markdown",
   "metadata": {},
   "source": [
    "The range modification modifies values in specified range, if step is not passed, it is set to 1. The value of first alternative, first criterion was set to 6. In the next step it will be set to 7."
   ]
  },
  {
   "cell_type": "code",
   "execution_count": 57,
   "metadata": {},
   "outputs": [
    {
     "data": {
      "text/markdown": [
       "#### **Next step**"
      ],
      "text/plain": [
       "<IPython.core.display.Markdown object>"
      ]
     },
     "metadata": {},
     "output_type": "display_data"
    },
    {
     "name": "stdout",
     "output_type": "stream",
     "text": [
      "Alternative index: 0\n",
      "Criteria index: 0\n",
      "Change: 7.0\n",
      "Resulting decision matrix:\n"
     ]
    },
    {
     "data": {
      "text/latex": [
       "$\\displaystyle \\left[\\begin{matrix}7.0 & 1.0 & 6.0\\\\2.0 & 6.0 & 3.0\\\\9.0 & 5.0 & 7.0\\end{matrix}\\right]$"
      ],
      "text/plain": [
       "Matrix([\n",
       "[7.0, 1.0, 6.0],\n",
       "[2.0, 6.0, 3.0],\n",
       "[9.0, 5.0, 7.0]])"
      ]
     },
     "metadata": {},
     "output_type": "display_data"
    }
   ],
   "source": [
    "display(Markdown('#### **Next step**'))\n",
    "pretty_print_alternative(range_modification_results[1])"
   ]
  },
  {
   "cell_type": "markdown",
   "metadata": {},
   "source": [
    "### 1.4. Alternative removal <a id=\"5\"></a>"
   ]
  },
  {
   "cell_type": "code",
   "execution_count": 60,
   "metadata": {},
   "outputs": [
    {
     "name": "stdout",
     "output_type": "stream",
     "text": [
      "Alternative index: 0\n",
      "Resulting decision matrix:\n"
     ]
    },
    {
     "data": {
      "text/latex": [
       "$\\displaystyle \\left[\\begin{matrix}2 & 6 & 3\\\\9 & 5 & 7\\end{matrix}\\right]$"
      ],
      "text/plain": [
       "Matrix([\n",
       "[2, 6, 3],\n",
       "[9, 5, 7]])"
      ]
     },
     "metadata": {},
     "output_type": "display_data"
    }
   ],
   "source": [
    "pretty_print_alternative_removal(alternative.remove_alternatives(matrix)[0])"
   ]
  },
  {
   "cell_type": "code",
   "execution_count": 59,
   "metadata": {},
   "outputs": [
    {
     "data": {
      "text/markdown": [
       "#### **Next step**"
      ],
      "text/plain": [
       "<IPython.core.display.Markdown object>"
      ]
     },
     "metadata": {},
     "output_type": "display_data"
    },
    {
     "name": "stdout",
     "output_type": "stream",
     "text": [
      "Alternative index: 1\n",
      "Resulting decision matrix:\n"
     ]
    },
    {
     "data": {
      "text/latex": [
       "$\\displaystyle \\left[\\begin{matrix}4 & 1 & 6\\\\9 & 5 & 7\\end{matrix}\\right]$"
      ],
      "text/plain": [
       "Matrix([\n",
       "[4, 1, 6],\n",
       "[9, 5, 7]])"
      ]
     },
     "metadata": {},
     "output_type": "display_data"
    }
   ],
   "source": [
    "display(Markdown('#### **Next step**'))\n",
    "pretty_print_alternative_removal(alternative.remove_alternatives(matrix)[1])"
   ]
  },
  {
   "cell_type": "markdown",
   "metadata": {},
   "source": [
    "### 1.5. General <a id=\"6\"></a>"
   ]
  },
  {
   "cell_type": "markdown",
   "metadata": {},
   "source": [
    "All functions provide additional parameters."
   ]
  },
  {
   "cell_type": "markdown",
   "metadata": {},
   "source": [
    "- Parameter `indexes` - provides a way to restrict the use of function to specific criteria. **In the case of alternative removal, this parameter specifies indexes of alternatives that should be removed**\n",
    "- Parameter `direction` *(only percentage function)* - specifies direction of the modification for each column in the matrix. \n",
    "- Parameter `step` *(only range and percentage functions)* - specifies step of next change"
   ]
  },
  {
   "cell_type": "markdown",
   "metadata": {},
   "source": [
    "**For example**:"
   ]
  },
  {
   "cell_type": "code",
   "execution_count": 14,
   "metadata": {},
   "outputs": [
    {
     "data": {
      "text/markdown": [
       "#### **This will provide change for all alternative at first for the first and third criterion from step to percentage value:**"
      ],
      "text/plain": [
       "<IPython.core.display.Markdown object>"
      ]
     },
     "metadata": {},
     "output_type": "display_data"
    },
    {
     "name": "stdout",
     "output_type": "stream",
     "text": [
      "Alternative index: 0\n",
      "Criteria index: (0, 2)\n",
      "Change: (-0.02, -0.03)\n",
      "Resulting decision matrix:\n"
     ]
    },
    {
     "data": {
      "text/latex": [
       "$\\displaystyle \\left[\\begin{matrix}3.92 & 1.0 & 5.82\\\\2.0 & 6.0 & 3.0\\\\9.0 & 5.0 & 7.0\\end{matrix}\\right]$"
      ],
      "text/plain": [
       "Matrix([\n",
       "[3.92, 1.0, 5.82],\n",
       "[ 2.0, 6.0,  3.0],\n",
       "[ 9.0, 5.0,  7.0]])"
      ]
     },
     "metadata": {},
     "output_type": "display_data"
    },
    {
     "data": {
      "text/markdown": [
       "#### **And separately for all alternatives for second criterion:**"
      ],
      "text/plain": [
       "<IPython.core.display.Markdown object>"
      ]
     },
     "metadata": {},
     "output_type": "display_data"
    },
    {
     "name": "stdout",
     "output_type": "stream",
     "text": [
      "Alternative index: 0\n",
      "Criteria index: 1\n",
      "Change: 0.02\n",
      "Resulting decision matrix:\n"
     ]
    },
    {
     "data": {
      "text/latex": [
       "$\\displaystyle \\left[\\begin{matrix}4.0 & 1.02 & 6.0\\\\2.0 & 6.0 & 3.0\\\\9.0 & 5.0 & 7.0\\end{matrix}\\right]$"
      ],
      "text/plain": [
       "Matrix([\n",
       "[4.0, 1.02, 6.0],\n",
       "[2.0,  6.0, 3.0],\n",
       "[9.0,  5.0, 7.0]])"
      ]
     },
     "metadata": {},
     "output_type": "display_data"
    }
   ],
   "source": [
    "direction = np.array([-1, 1, -1])\n",
    "percentages = np.array([2, 4, 9])\n",
    "indexes = np.array([[0, 2], 1], dtype='object')\n",
    "step = np.array([2, 2, 3])\n",
    "results = alternative.percentage_modification(matrix, percentages, direction, indexes, step)\n",
    "display(Markdown('#### **This will provide change for all alternative at first for the first and third criterion from step to percentage value:**'))\n",
    "pretty_print_alternative(results[0])\n",
    "display(Markdown('#### **And separately for all alternatives for second criterion:**'))\n",
    "pretty_print_alternative(results[3])"
   ]
  },
  {
   "cell_type": "markdown",
   "metadata": {},
   "source": [
    "<a id=\"8\"></a><br>\n",
    "## 2. Criteria submodule"
   ]
  },
  {
   "cell_type": "markdown",
   "metadata": {},
   "source": [
    "## 3. Probabilistic submodule"
   ]
  },
  {
   "cell_type": "markdown",
   "metadata": {},
   "source": [
    "## 4. Ranking submodule"
   ]
  },
  {
   "cell_type": "markdown",
   "metadata": {},
   "source": [
    "## 5. Compromise submodule"
   ]
  },
  {
   "cell_type": "markdown",
   "metadata": {},
   "source": [
    "## 6. Further use <a id=\"100\"></a>"
   ]
  },
  {
   "cell_type": "markdown",
   "metadata": {},
   "source": [
    "For most of the functions that modifies the decision matrix or weights vector, the library includes a wrapper for calculating the preference values and raknings for the returned results."
   ]
  },
  {
   "cell_type": "code",
   "execution_count": 3,
   "metadata": {},
   "outputs": [
    {
     "name": "stdout",
     "output_type": "stream",
     "text": [
      "[[[2. 3. 2.]\n",
      "  [3. 2. 3.]\n",
      "  [1. 1. 1.]]\n",
      "\n",
      " [[3. 3. 3.]\n",
      "  [2. 2. 2.]\n",
      "  [1. 1. 1.]]]\n"
     ]
    }
   ],
   "source": [
    "import numpy as np\n",
    "from pymcdm.methods import COMET, TOPSIS, VIKOR\n",
    "from pymcdm.methods.comet_tools import MethodExpert\n",
    "\n",
    "decision_matrix = np.array([[4, 1, 6], [2, 6, 3], [9, 5, 7]])\n",
    "decision_problem_weights = np.ones(decision_matrix.shape[1])/decision_matrix.shape[1]\n",
    "decision_problem_types = np.ones(decision_matrix.shape[1])\n",
    "\n",
    "comet = COMET(np.vstack((np.min(decision_matrix, axis=0), np.max(decision_matrix, axis=0))).T, MethodExpert(TOPSIS(), decision_problem_weights, decision_problem_types))\n",
    "topsis = TOPSIS()\n",
    "vikor = VIKOR()\n",
    "\n",
    "comet_pref = comet(decision_matrix)\n",
    "topsis_pref = topsis(decision_matrix, decision_problem_weights, decision_problem_types)\n",
    "vikor_pref = vikor(decision_matrix, decision_problem_weights, decision_problem_types)\n",
    "\n",
    "## ICRA variables preparation\n",
    "methods = {\n",
    "        COMET: [['np.vstack((np.min(matrix, axis=0), np.max(matrix, axis=0))).T', 'MethodExpert(TOPSIS(), weights, types)'], ['matrix']],\n",
    "        topsis: ['matrix', 'weights', 'types'],\n",
    "        vikor: ['matrix', 'weights', 'types']\n",
    "        }\n",
    "\n",
    "ICRA_matrix = np.array([comet_pref, topsis_pref, vikor_pref]).T\n",
    "method_types = np.array([1, 1, -1])\n",
    "\n",
    "result = ICRA.iterative_compromise(methods, ICRA_matrix, method_types)\n",
    "print(result.all_rankings)"
   ]
  }
 ],
 "metadata": {
  "kernelspec": {
   "display_name": "Python 3.10.5 64-bit",
   "language": "python",
   "name": "python3"
  },
  "language_info": {
   "codemirror_mode": {
    "name": "ipython",
    "version": 3
   },
   "file_extension": ".py",
   "mimetype": "text/x-python",
   "name": "python",
   "nbconvert_exporter": "python",
   "pygments_lexer": "ipython3",
   "version": "3.11.3"
  },
  "orig_nbformat": 4,
  "vscode": {
   "interpreter": {
    "hash": "eabca979b0553fa6d87e9a00c352604d3b703d4afc9641643dd42376492b80f6"
   }
  }
 },
 "nbformat": 4,
 "nbformat_minor": 2
}
