{
 "cells": [
  {
   "cell_type": "markdown",
   "metadata": {},
   "source": [
    "# <center> <div align=\"center\">PySensMCDA - Illustrative examples</div>\n",
    "<br/>"
   ]
  },
  {
   "cell_type": "markdown",
   "metadata": {},
   "source": [
    "**Note**: *this notebook was created for the purpose of providing an instruction of decision problem sensitivity analysis. For in-depth presentation of graphs submodule see* [`graphs_examples.ipynb`](./graphs_examples.ipynb)\n",
    "\n",
    "<br/>"
   ]
  },
  {
   "cell_type": "code",
   "execution_count": 51,
   "metadata": {},
   "outputs": [],
   "source": [
    "## Necessary imports for the notebook to work\n",
    "from pysensmcda import alternative, criteria, compromise, graphs, probabilistic, ranking, calculate_preference\n",
    "import numpy as np\n",
    "import matplotlib.pyplot as plt\n",
    "import warnings\n",
    "warnings.filterwarnings('ignore')"
   ]
  },
  {
   "cell_type": "code",
   "execution_count": 52,
   "metadata": {},
   "outputs": [],
   "source": [
    "## Additional imports and function for output formatting\n",
    "from sympy import Matrix\n",
    "from IPython.display import display, Markdown\n",
    "from examples_pretty_print import *"
   ]
  },
  {
   "cell_type": "markdown",
   "metadata": {},
   "source": [
    "<br/>\n",
    "\n",
    "### **Table of contents:**\n",
    "1. [Alternative submodule:](#1)\n",
    "    1. [Discrete modification](#2)\n",
    "    1. [Percentage modification](#3)\n",
    "    1. [Range modification](#4)\n",
    "    1. [Alternative removal](#5)\n",
    "    1. [General](#6)\n",
    "1. [Criteria submodule:](#7)\n",
    "    1. [Random distribution - weights generation](#8)\n",
    "    1. [Percentage modification](#9)\n",
    "    1. [Range modification](#10)\n",
    "    1. [Weights scenarios](#11)\n",
    "    1. [Cirteria identification](#12)\n",
    "    1. [Criteria removal](#13)\n",
    "1. [Probabilistic submodule:](#14)\n",
    "    1. [Monte carlo weights generation](#15)\n",
    "    1. [Perturbated matrix](#16)\n",
    "    1. [Perturbated weights](#17)\n",
    "1. [Ranking submodule:](#18)\n",
    "    1. [Ranking alteration](#19)\n",
    "    1. [Demotion](#20)\n",
    "    1. [Promotion](#21)\n",
    "    1. [Fuzzy ranking](#22)\n",
    "1. [Compromise submodule:](#23)\n",
    "    1. [General](#24)\n",
    "    1. [Half-quadratic compromise additional informations](#25)\n",
    "    1. [ICRA](#26)\n",
    "1. [Further use](#27)"
   ]
  },
  {
   "cell_type": "markdown",
   "metadata": {},
   "source": [
    "<a id=\"1\"></a><br/>\n",
    "\n",
    "## 1. Alternative submodule "
   ]
  },
  {
   "cell_type": "markdown",
   "metadata": {},
   "source": [
    "**Note**: Alternative submodule includes functions for modification of values along alternatives in decision matrix and alternative removal."
   ]
  },
  {
   "cell_type": "markdown",
   "metadata": {},
   "source": [
    "Let us consider following matrix, this matrix will be taken as an initial matrix for further function calls"
   ]
  },
  {
   "cell_type": "code",
   "execution_count": 53,
   "metadata": {},
   "outputs": [
    {
     "name": "stdout",
     "output_type": "stream",
     "text": [
      "Initial matrix:\n"
     ]
    },
    {
     "data": {
      "text/latex": [
       "$\\displaystyle \\left[\\begin{matrix}4 & 1 & 6\\\\2 & 6 & 3\\\\9 & 5 & 7\\end{matrix}\\right]$"
      ],
      "text/plain": [
       "Matrix([\n",
       "[4, 1, 6],\n",
       "[2, 6, 3],\n",
       "[9, 5, 7]])"
      ]
     },
     "metadata": {},
     "output_type": "display_data"
    }
   ],
   "source": [
    "matrix = np.array([\n",
    "[4, 1, 6],\n",
    "[2, 6, 3],\n",
    "[9, 5, 7],\n",
    "])\n",
    "print('Initial matrix:')\n",
    "display(Matrix(matrix))"
   ]
  },
  {
   "cell_type": "markdown",
   "metadata": {},
   "source": [
    "### 1.1. Discrete modification <a id=\"2\"></a>"
   ]
  },
  {
   "cell_type": "markdown",
   "metadata": {},
   "source": [
    "For each criterion we can define discrete values that will be set as a value. All possible combinations are generated."
   ]
  },
  {
   "cell_type": "code",
   "execution_count": 54,
   "metadata": {},
   "outputs": [
    {
     "name": "stdout",
     "output_type": "stream",
     "text": [
      "Alternative index: 0\n",
      "Criteria index: 0\n",
      "Change: 2\n",
      "Resulting decision matrix:\n"
     ]
    },
    {
     "data": {
      "text/latex": [
       "$\\displaystyle \\left[\\begin{matrix}2.0 & 1.0 & 6.0\\\\2.0 & 6.0 & 3.0\\\\9.0 & 5.0 & 7.0\\end{matrix}\\right]$"
      ],
      "text/plain": [
       "Matrix([\n",
       "[2.0, 1.0, 6.0],\n",
       "[2.0, 6.0, 3.0],\n",
       "[9.0, 5.0, 7.0]])"
      ]
     },
     "metadata": {},
     "output_type": "display_data"
    }
   ],
   "source": [
    "discrete_values = np.array([[2, 3, 4], [1, 5, 6], [3, 4]], dtype='object')\n",
    "pretty_print_alternative(alternative.discrete_modification(matrix, discrete_values)[0])"
   ]
  },
  {
   "cell_type": "markdown",
   "metadata": {},
   "source": [
    "The value of alternative 1 in the first criterion was changed for discrete value '2'"
   ]
  },
  {
   "cell_type": "markdown",
   "metadata": {},
   "source": [
    "### 1.2. Percentage modification <a id=\"3\"></a>"
   ]
  },
  {
   "cell_type": "markdown",
   "metadata": {},
   "source": [
    "Percentage values can be set as an `int` to make it the same for all criteria, or by an array to specify value for specific criterion."
   ]
  },
  {
   "cell_type": "code",
   "execution_count": 55,
   "metadata": {},
   "outputs": [
    {
     "name": "stdout",
     "output_type": "stream",
     "text": [
      "Alternative index: 0\n",
      "Criteria index: 0\n",
      "Change: -0.01\n",
      "Resulting decision matrix:\n"
     ]
    },
    {
     "data": {
      "text/latex": [
       "$\\displaystyle \\left[\\begin{matrix}3.96 & 1.0 & 6.0\\\\2.0 & 6.0 & 3.0\\\\9.0 & 5.0 & 7.0\\end{matrix}\\right]$"
      ],
      "text/plain": [
       "Matrix([\n",
       "[3.96, 1.0, 6.0],\n",
       "[ 2.0, 6.0, 3.0],\n",
       "[ 9.0, 5.0, 7.0]])"
      ]
     },
     "metadata": {},
     "output_type": "display_data"
    }
   ],
   "source": [
    "percentages = 5\n",
    "# percentages = np.array([3, 2, 3])\n",
    "pretty_print_alternative(alternative.percentage_modification(matrix, percentages)[0])"
   ]
  },
  {
   "cell_type": "markdown",
   "metadata": {},
   "source": [
    "In the case of percentage modification the value of first alternative under first criterion changed by -0.01, which means -1%"
   ]
  },
  {
   "cell_type": "markdown",
   "metadata": {},
   "source": [
    "### 1.3. Range modification <a id=\"4\"></a>"
   ]
  },
  {
   "cell_type": "markdown",
   "metadata": {},
   "source": [
    "Range values should be specified for each criterion (2d-array) or for each value in decision matrix (3d-array)."
   ]
  },
  {
   "cell_type": "code",
   "execution_count": 56,
   "metadata": {},
   "outputs": [
    {
     "name": "stdout",
     "output_type": "stream",
     "text": [
      "Alternative index: 0\n",
      "Criteria index: 0\n",
      "Change: 6.0\n",
      "Resulting decision matrix:\n"
     ]
    },
    {
     "data": {
      "text/latex": [
       "$\\displaystyle \\left[\\begin{matrix}6.0 & 1.0 & 6.0\\\\2.0 & 6.0 & 3.0\\\\9.0 & 5.0 & 7.0\\end{matrix}\\right]$"
      ],
      "text/plain": [
       "Matrix([\n",
       "[6.0, 1.0, 6.0],\n",
       "[2.0, 6.0, 3.0],\n",
       "[9.0, 5.0, 7.0]])"
      ]
     },
     "metadata": {},
     "output_type": "display_data"
    }
   ],
   "source": [
    "range_values = np.array([[6, 8], [2, 4], [4, 6.5]])\n",
    "range_modification_results = alternative.range_modification(matrix, range_values)\n",
    "pretty_print_alternative(range_modification_results[0])"
   ]
  },
  {
   "cell_type": "markdown",
   "metadata": {},
   "source": [
    "The range modification modifies values in specified range, if step is not passed, it is set to 1. The value of first alternative, first criterion was set to 6. In the next step it will be set to 7."
   ]
  },
  {
   "cell_type": "code",
   "execution_count": 57,
   "metadata": {},
   "outputs": [
    {
     "data": {
      "text/markdown": [
       "##### **Next step**"
      ],
      "text/plain": [
       "<IPython.core.display.Markdown object>"
      ]
     },
     "metadata": {},
     "output_type": "display_data"
    },
    {
     "name": "stdout",
     "output_type": "stream",
     "text": [
      "Alternative index: 0\n",
      "Criteria index: 0\n",
      "Change: 7.0\n",
      "Resulting decision matrix:\n"
     ]
    },
    {
     "data": {
      "text/latex": [
       "$\\displaystyle \\left[\\begin{matrix}7.0 & 1.0 & 6.0\\\\2.0 & 6.0 & 3.0\\\\9.0 & 5.0 & 7.0\\end{matrix}\\right]$"
      ],
      "text/plain": [
       "Matrix([\n",
       "[7.0, 1.0, 6.0],\n",
       "[2.0, 6.0, 3.0],\n",
       "[9.0, 5.0, 7.0]])"
      ]
     },
     "metadata": {},
     "output_type": "display_data"
    }
   ],
   "source": [
    "display(Markdown('##### **Next step**'))\n",
    "pretty_print_alternative(range_modification_results[1])"
   ]
  },
  {
   "cell_type": "markdown",
   "metadata": {},
   "source": [
    "### 1.4. Alternative removal <a id=\"5\"></a>"
   ]
  },
  {
   "cell_type": "code",
   "execution_count": 58,
   "metadata": {},
   "outputs": [
    {
     "name": "stdout",
     "output_type": "stream",
     "text": [
      "Alternative index: 0\n",
      "Resulting decision matrix:\n"
     ]
    },
    {
     "data": {
      "text/latex": [
       "$\\displaystyle \\left[\\begin{matrix}2 & 6 & 3\\\\9 & 5 & 7\\end{matrix}\\right]$"
      ],
      "text/plain": [
       "Matrix([\n",
       "[2, 6, 3],\n",
       "[9, 5, 7]])"
      ]
     },
     "metadata": {},
     "output_type": "display_data"
    }
   ],
   "source": [
    "pretty_print_alternative_removal(alternative.remove_alternatives(matrix)[0])"
   ]
  },
  {
   "cell_type": "code",
   "execution_count": 59,
   "metadata": {},
   "outputs": [
    {
     "data": {
      "text/markdown": [
       "##### **Next step**"
      ],
      "text/plain": [
       "<IPython.core.display.Markdown object>"
      ]
     },
     "metadata": {},
     "output_type": "display_data"
    },
    {
     "name": "stdout",
     "output_type": "stream",
     "text": [
      "Alternative index: 1\n",
      "Resulting decision matrix:\n"
     ]
    },
    {
     "data": {
      "text/latex": [
       "$\\displaystyle \\left[\\begin{matrix}4 & 1 & 6\\\\9 & 5 & 7\\end{matrix}\\right]$"
      ],
      "text/plain": [
       "Matrix([\n",
       "[4, 1, 6],\n",
       "[9, 5, 7]])"
      ]
     },
     "metadata": {},
     "output_type": "display_data"
    }
   ],
   "source": [
    "display(Markdown('##### **Next step**'))\n",
    "pretty_print_alternative_removal(alternative.remove_alternatives(matrix)[1])"
   ]
  },
  {
   "cell_type": "markdown",
   "metadata": {},
   "source": [
    "### 1.5. General <a id=\"6\"></a>"
   ]
  },
  {
   "cell_type": "markdown",
   "metadata": {},
   "source": [
    "All functions provide additional parameters."
   ]
  },
  {
   "cell_type": "markdown",
   "metadata": {},
   "source": [
    "- Parameter `indexes` - provides a way to restrict the use of function to specific criteria. **In the case of alternative removal, this parameter specifies indexes of alternatives that should be removed**\n",
    "- Parameter `direction` *(only percentage function)* - specifies direction of the modification for each column in the matrix. \n",
    "- Parameter `step` *(only range and percentage functions)* - specifies step of next change"
   ]
  },
  {
   "cell_type": "markdown",
   "metadata": {},
   "source": [
    "**For example**:"
   ]
  },
  {
   "cell_type": "code",
   "execution_count": 60,
   "metadata": {},
   "outputs": [
    {
     "data": {
      "text/markdown": [
       "##### **This will provide change for all alternative at first for the first and third criterion from step to percentage value:**"
      ],
      "text/plain": [
       "<IPython.core.display.Markdown object>"
      ]
     },
     "metadata": {},
     "output_type": "display_data"
    },
    {
     "name": "stdout",
     "output_type": "stream",
     "text": [
      "Alternative index: 0\n",
      "Criteria index: (0, 2)\n",
      "Change: (-0.02, -0.03)\n",
      "Resulting decision matrix:\n"
     ]
    },
    {
     "data": {
      "text/latex": [
       "$\\displaystyle \\left[\\begin{matrix}3.92 & 1.0 & 5.82\\\\2.0 & 6.0 & 3.0\\\\9.0 & 5.0 & 7.0\\end{matrix}\\right]$"
      ],
      "text/plain": [
       "Matrix([\n",
       "[3.92, 1.0, 5.82],\n",
       "[ 2.0, 6.0,  3.0],\n",
       "[ 9.0, 5.0,  7.0]])"
      ]
     },
     "metadata": {},
     "output_type": "display_data"
    },
    {
     "data": {
      "text/markdown": [
       "##### **And separately for all alternatives for second criterion:**"
      ],
      "text/plain": [
       "<IPython.core.display.Markdown object>"
      ]
     },
     "metadata": {},
     "output_type": "display_data"
    },
    {
     "name": "stdout",
     "output_type": "stream",
     "text": [
      "Alternative index: 0\n",
      "Criteria index: 1\n",
      "Change: 0.02\n",
      "Resulting decision matrix:\n"
     ]
    },
    {
     "data": {
      "text/latex": [
       "$\\displaystyle \\left[\\begin{matrix}4.0 & 1.02 & 6.0\\\\2.0 & 6.0 & 3.0\\\\9.0 & 5.0 & 7.0\\end{matrix}\\right]$"
      ],
      "text/plain": [
       "Matrix([\n",
       "[4.0, 1.02, 6.0],\n",
       "[2.0,  6.0, 3.0],\n",
       "[9.0,  5.0, 7.0]])"
      ]
     },
     "metadata": {},
     "output_type": "display_data"
    }
   ],
   "source": [
    "direction = np.array([-1, 1, -1])\n",
    "percentages = np.array([2, 4, 9])\n",
    "indexes = np.array([[0, 2], 1], dtype='object')\n",
    "step = np.array([2, 2, 3])\n",
    "results = alternative.percentage_modification(matrix, percentages, direction, indexes, step)\n",
    "display(Markdown('##### **This will provide change for all alternative at first for the first and third criterion from step to percentage value:**'))\n",
    "pretty_print_alternative(results[0])\n",
    "display(Markdown('##### **And separately for all alternatives for second criterion:**'))\n",
    "pretty_print_alternative(results[3])"
   ]
  },
  {
   "cell_type": "markdown",
   "metadata": {},
   "source": [
    "---"
   ]
  },
  {
   "cell_type": "markdown",
   "metadata": {},
   "source": [
    "<a id=\"7\"></a><br>\n",
    "\n",
    "## 2. Criteria submodule"
   ]
  },
  {
   "cell_type": "markdown",
   "metadata": {},
   "source": [
    "**Note**: Criteria submodule includes functions for criteria removal and identification and weights generation."
   ]
  },
  {
   "cell_type": "markdown",
   "metadata": {},
   "source": [
    "### 2.1. Random distribution - weights generation <a id=\"8\"></a>"
   ]
  },
  {
   "cell_type": "markdown",
   "metadata": {},
   "source": [
    "This part of the submodule is solely dedicated to single weights vector generation.<br/>\n",
    "For example let us generate vector of four weights ($n = 4$)."
   ]
  },
  {
   "cell_type": "code",
   "execution_count": 61,
   "metadata": {},
   "outputs": [],
   "source": [
    "n = 4"
   ]
  },
  {
   "cell_type": "markdown",
   "metadata": {},
   "source": [
    "- Chisquare distribution\n",
    "    - `df` (Number of degrees of freedom)"
   ]
  },
  {
   "cell_type": "code",
   "execution_count": 62,
   "metadata": {},
   "outputs": [
    {
     "name": "stdout",
     "output_type": "stream",
     "text": [
      "Resulting weights vector (example):\n"
     ]
    },
    {
     "data": {
      "text/latex": [
       "$\\displaystyle \\left[\\begin{matrix}0.385016 & 0.310653 & 0.271319 & 0.033012\\end{matrix}\\right]$"
      ],
      "text/plain": [
       "Matrix([[0.385016, 0.310653, 0.271319, 0.033012]])"
      ]
     },
     "metadata": {},
     "output_type": "display_data"
    }
   ],
   "source": [
    "weights = criteria.random_distribution.chisquare_distribution(n, df=1)\n",
    "pretty_print_weights(np.round(weights, 6))"
   ]
  },
  {
   "cell_type": "markdown",
   "metadata": {},
   "source": [
    "- Laplace distribution:\n",
    "    - `loc` (The position of distribution peak)\n",
    "    - `scale` (The exponential decay)"
   ]
  },
  {
   "cell_type": "code",
   "execution_count": 63,
   "metadata": {},
   "outputs": [
    {
     "name": "stdout",
     "output_type": "stream",
     "text": [
      "Resulting weights vector (example):\n"
     ]
    },
    {
     "data": {
      "text/latex": [
       "$\\displaystyle \\left[\\begin{matrix}0.053145 & 0.002711 & 0.446965 & 0.497178\\end{matrix}\\right]$"
      ],
      "text/plain": [
       "Matrix([[0.053145, 0.002711, 0.446965, 0.497178]])"
      ]
     },
     "metadata": {},
     "output_type": "display_data"
    }
   ],
   "source": [
    "weights = criteria.random_distribution.laplace_distribution(n, loc=0, scale=1)\n",
    "pretty_print_weights(np.round(weights, 6))"
   ]
  },
  {
   "cell_type": "markdown",
   "metadata": {},
   "source": [
    "- Normal distribution:\n",
    "    - `loc` (Mean of the normal distribution)\n",
    "    - `scale` (Standard deviation of the normal distribution)"
   ]
  },
  {
   "cell_type": "code",
   "execution_count": 64,
   "metadata": {},
   "outputs": [
    {
     "name": "stdout",
     "output_type": "stream",
     "text": [
      "Resulting weights vector (example):\n"
     ]
    },
    {
     "data": {
      "text/latex": [
       "$\\displaystyle \\left[\\begin{matrix}0.431167 & 0.080965 & 0.339468 & 0.1484\\end{matrix}\\right]$"
      ],
      "text/plain": [
       "Matrix([[0.431167, 0.080965, 0.339468, 0.1484]])"
      ]
     },
     "metadata": {},
     "output_type": "display_data"
    }
   ],
   "source": [
    "weights = criteria.random_distribution.normal_distribution(n, loc=0, scale=1)\n",
    "pretty_print_weights(np.round(weights, 6))"
   ]
  },
  {
   "cell_type": "markdown",
   "metadata": {},
   "source": [
    "- Random distribution:\n",
    "    - No additional parameters"
   ]
  },
  {
   "cell_type": "code",
   "execution_count": 65,
   "metadata": {},
   "outputs": [
    {
     "name": "stdout",
     "output_type": "stream",
     "text": [
      "Resulting weights vector (example):\n"
     ]
    },
    {
     "data": {
      "text/latex": [
       "$\\displaystyle \\left[\\begin{matrix}0.097069 & 0.228393 & 0.469664 & 0.204874\\end{matrix}\\right]$"
      ],
      "text/plain": [
       "Matrix([[0.097069, 0.228393, 0.469664, 0.204874]])"
      ]
     },
     "metadata": {},
     "output_type": "display_data"
    }
   ],
   "source": [
    "weights = criteria.random_distribution.random_distribution(n)\n",
    "pretty_print_weights(np.round(weights, 6))"
   ]
  },
  {
   "cell_type": "markdown",
   "metadata": {},
   "source": [
    "- Triangular distribution\n",
    "    - `left` (The lower bound of the triangular distribution)\n",
    "    - `mode` (The mode of the triangular distribution)\n",
    "    - `right` (The upper bound of the triangular distribution)"
   ]
  },
  {
   "cell_type": "code",
   "execution_count": 66,
   "metadata": {},
   "outputs": [
    {
     "name": "stdout",
     "output_type": "stream",
     "text": [
      "Resulting weights vector (example):\n"
     ]
    },
    {
     "data": {
      "text/latex": [
       "$\\displaystyle \\left[\\begin{matrix}0.210452 & 0.231853 & 0.414876 & 0.142819\\end{matrix}\\right]$"
      ],
      "text/plain": [
       "Matrix([[0.210452, 0.231853, 0.414876, 0.142819]])"
      ]
     },
     "metadata": {},
     "output_type": "display_data"
    }
   ],
   "source": [
    "weights = criteria.random_distribution.triangular_distribution(n, left=0, mode=0.5, right=1)\n",
    "pretty_print_weights(np.round(weights, 6))"
   ]
  },
  {
   "cell_type": "markdown",
   "metadata": {},
   "source": [
    "- Uniform distribution:\n",
    "    - `low` (Lower bound of the uniform distribution)\n",
    "    - `high` (Upper bound of the uniform distribution)"
   ]
  },
  {
   "cell_type": "code",
   "execution_count": 67,
   "metadata": {},
   "outputs": [
    {
     "name": "stdout",
     "output_type": "stream",
     "text": [
      "Resulting weights vector (example):\n"
     ]
    },
    {
     "data": {
      "text/latex": [
       "$\\displaystyle \\left[\\begin{matrix}0.406722 & 0.267459 & 0.177137 & 0.148682\\end{matrix}\\right]$"
      ],
      "text/plain": [
       "Matrix([[0.406722, 0.267459, 0.177137, 0.148682]])"
      ]
     },
     "metadata": {},
     "output_type": "display_data"
    }
   ],
   "source": [
    "weights = criteria.random_distribution.uniform_distribution(n, low=0, high=1)\n",
    "pretty_print_weights(np.round(weights, 6))"
   ]
  },
  {
   "cell_type": "markdown",
   "metadata": {},
   "source": [
    "### 2.2. Percentage modification <a id=\"9\"></a>"
   ]
  },
  {
   "cell_type": "markdown",
   "metadata": {},
   "source": [
    "This function returns all possible modifications to the weights vector. Single weight is modified at one time, however rest of the weights are equally adjusted to provide a vector which sum is 1."
   ]
  },
  {
   "cell_type": "code",
   "execution_count": 68,
   "metadata": {},
   "outputs": [
    {
     "name": "stdout",
     "output_type": "stream",
     "text": [
      "Initial weights vector:\n"
     ]
    },
    {
     "data": {
      "text/latex": [
       "$\\displaystyle \\left[\\begin{matrix}0.3 & 0.3 & 0.4\\end{matrix}\\right]$"
      ],
      "text/plain": [
       "Matrix([[0.3, 0.3, 0.4]])"
      ]
     },
     "metadata": {},
     "output_type": "display_data"
    },
    {
     "name": "stdout",
     "output_type": "stream",
     "text": [
      "Modified weight index: 0\n",
      "Modification: -0.01\n",
      "Resulting weights vector:\n"
     ]
    },
    {
     "data": {
      "text/latex": [
       "$\\displaystyle \\left[\\begin{matrix}0.297 & 0.3015 & 0.4015\\end{matrix}\\right]$"
      ],
      "text/plain": [
       "Matrix([[0.297, 0.3015, 0.4015]])"
      ]
     },
     "metadata": {},
     "output_type": "display_data"
    }
   ],
   "source": [
    "weights = np.array([0.3, 0.3, 0.4])\n",
    "percentage = 5\n",
    "results = criteria.percentage_modification(weights, percentage)\n",
    "pretty_print_weights_generation(weights, results[0])"
   ]
  },
  {
   "cell_type": "markdown",
   "metadata": {},
   "source": [
    "Similarly to alternatives modification functions. Percentage modification for weights provides additional parameters:\n",
    "- `direction` - specifies the direction of the modification for each criterion weight\n",
    "- `indexes` - specifies indexes of the criteria weights to be modified\n",
    "- `step` - specifies step size for the percentage change."
   ]
  },
  {
   "cell_type": "markdown",
   "metadata": {},
   "source": [
    "We can further visualize the results."
   ]
  },
  {
   "cell_type": "code",
   "execution_count": 69,
   "metadata": {},
   "outputs": [
    {
     "data": {
      "application/vnd.jupyter.widget-view+json": {
       "model_id": "0c4dc5ae94ef4f06854bbbb21e2c4306",
       "version_major": 2,
       "version_minor": 0
      },
      "image/png": "[encoded data removed]",
      "text/html": [
       "\n",
       "            <div style=\"display: inline-block;\">\n",
       "                <div class=\"jupyter-widgets widget-label\" style=\"text-align: center;\">\n",
       "                    Figure\n",
       "                </div>\n",
       "                <img src='data:image/png;base64,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' width=432.0/>\n",
       "            </div>\n",
       "        "
      ],
      "text/plain": [
       "Canvas(toolbar=Toolbar(toolitems=[('Home', 'Reset original view', 'home', 'home'), ('Back', 'Back to previous …"
      ]
     },
     "metadata": {},
     "output_type": "display_data"
    }
   ],
   "source": [
    "%matplotlib widget\n",
    "# In the case of using sliders, the reference should be kept, so Python wouldn't GC\n",
    "ax, criteria_slider, change_slider = graphs.slider_weights_barplot(weights, results, percentage_change=True, annotate_bars=True)\n",
    "plt.show()"
   ]
  },
  {
   "cell_type": "markdown",
   "metadata": {},
   "source": [
    "### 2.3. Range modification <a id=\"10\"></a>"
   ]
  },
  {
   "cell_type": "markdown",
   "metadata": {},
   "source": [
    "Similarly to percentage modification this function returns all possible modifications to the weights vector. Single weight is modified at one time, however rest of the weights are equally adjusted to provide a vector which sum is 1."
   ]
  },
  {
   "cell_type": "code",
   "execution_count": 70,
   "metadata": {},
   "outputs": [
    {
     "name": "stdout",
     "output_type": "stream",
     "text": [
      "Initial weights vector:\n"
     ]
    },
    {
     "data": {
      "text/latex": [
       "$\\displaystyle \\left[\\begin{matrix}0.3 & 0.3 & 0.4\\end{matrix}\\right]$"
      ],
      "text/plain": [
       "Matrix([[0.3, 0.3, 0.4]])"
      ]
     },
     "metadata": {},
     "output_type": "display_data"
    },
    {
     "name": "stdout",
     "output_type": "stream",
     "text": [
      "Modified weight index: 0\n",
      "Modification: 0.25\n",
      "Resulting weights vector:\n"
     ]
    },
    {
     "data": {
      "text/latex": [
       "$\\displaystyle \\left[\\begin{matrix}0.25 & 0.325 & 0.425\\end{matrix}\\right]$"
      ],
      "text/plain": [
       "Matrix([[0.25, 0.325, 0.425]])"
      ]
     },
     "metadata": {},
     "output_type": "display_data"
    }
   ],
   "source": [
    "weights = np.array([0.3, 0.3, 0.4])\n",
    "range_values = np.array([[0.25, 0.3], [0.3, 0.35], [0.37, 0.43]])\n",
    "results = criteria.range_modification(weights, range_values)\n",
    "pretty_print_weights_generation(weights, results[0])"
   ]
  },
  {
   "cell_type": "markdown",
   "metadata": {},
   "source": [
    "**Note**: The range modification can be visualized similarly to percentage modification.\n",
    "\n",
    "Additional parameters:\n",
    "- `indexes` - specifies indexes of the criteria weights to be modified\n",
    "- `step` - specifies step size for the percentage change."
   ]
  },
  {
   "cell_type": "markdown",
   "metadata": {},
   "source": [
    "### 2.4. Weights scenarios generation <a id=\"11\"></a>"
   ]
  },
  {
   "cell_type": "markdown",
   "metadata": {},
   "source": [
    "This function generates all possible combination of weights for specified number of criteria with specified step."
   ]
  },
  {
   "cell_type": "markdown",
   "metadata": {},
   "source": [
    "- Parallel - it is advised to use parallel version, especially for more than five criteria, default saves results to file"
   ]
  },
  {
   "cell_type": "code",
   "execution_count": 71,
   "metadata": {},
   "outputs": [
    {
     "name": "stdout",
     "output_type": "stream",
     "text": [
      "Resulting weights vector (example):\n"
     ]
    },
    {
     "data": {
      "text/latex": [
       "$\\displaystyle \\left[\\begin{matrix}0.1 & 0.1 & 0.1 & 0.7\\end{matrix}\\right]$"
      ],
      "text/plain": [
       "Matrix([[0.1, 0.1, 0.1, 0.7]])"
      ]
     },
     "metadata": {},
     "output_type": "display_data"
    }
   ],
   "source": [
    "scenarios = criteria.generate_weights_scenarios(4, 0.1, 3, return_array=True, save_zeros=False)\n",
    "pretty_print_weights(scenarios[0])"
   ]
  },
  {
   "cell_type": "markdown",
   "metadata": {},
   "source": [
    "- Sequential - provides additional progress bar, does not utilize temporary files"
   ]
  },
  {
   "cell_type": "code",
   "execution_count": 72,
   "metadata": {},
   "outputs": [
    {
     "name": "stderr",
     "output_type": "stream",
     "text": [
      "100%|██████████| 286/286.0 [00:00<?, ?it/s]"
     ]
    },
    {
     "name": "stdout",
     "output_type": "stream",
     "text": [
      "Resulting weights vector (example):\n"
     ]
    },
    {
     "name": "stderr",
     "output_type": "stream",
     "text": [
      "\n"
     ]
    },
    {
     "data": {
      "text/latex": [
       "$\\displaystyle \\left[\\begin{matrix}0.1 & 0.7 & 0.1 & 0.1\\end{matrix}\\right]$"
      ],
      "text/plain": [
       "Matrix([[0.1, 0.7, 0.1, 0.1]])"
      ]
     },
     "metadata": {},
     "output_type": "display_data"
    }
   ],
   "source": [
    "scenarios = criteria.generate_weights_scenarios(4, 0.1, 3, sequential=True, return_array=True, save_zeros=False)\n",
    "pretty_print_weights(scenarios[0])"
   ]
  },
  {
   "cell_type": "markdown",
   "metadata": {},
   "source": [
    "### 2.5. Criteria removal <a id=\"12\"></a>"
   ]
  },
  {
   "cell_type": "markdown",
   "metadata": {},
   "source": [
    "This function removes specified criteria from decision matrix, adjusting weights so that the vector sums to 1. If no indexes are specified, all criteria are removed one by one."
   ]
  },
  {
   "cell_type": "code",
   "execution_count": 73,
   "metadata": {},
   "outputs": [
    {
     "name": "stdout",
     "output_type": "stream",
     "text": [
      "Initial matrix:\n"
     ]
    },
    {
     "data": {
      "text/latex": [
       "$\\displaystyle \\left[\\begin{matrix}1 & 2 & 3 & 4 & 4\\\\1 & 2 & 3 & 4 & 4\\\\4 & 3 & 2 & 1 & 4\\end{matrix}\\right]$"
      ],
      "text/plain": [
       "Matrix([\n",
       "[1, 2, 3, 4, 4],\n",
       "[1, 2, 3, 4, 4],\n",
       "[4, 3, 2, 1, 4]])"
      ]
     },
     "metadata": {},
     "output_type": "display_data"
    },
    {
     "name": "stdout",
     "output_type": "stream",
     "text": [
      "Initial weights:\n"
     ]
    },
    {
     "data": {
      "text/latex": [
       "$\\displaystyle \\left[\\begin{matrix}0.25 & 0.25 & 0.2 & 0.2 & 0.1\\end{matrix}\\right]$"
      ],
      "text/plain": [
       "Matrix([[0.25, 0.25, 0.2, 0.2, 0.1]])"
      ]
     },
     "metadata": {},
     "output_type": "display_data"
    }
   ],
   "source": [
    "matrix = np.array([\n",
    "    [1, 2, 3, 4, 4],\n",
    "    [1, 2, 3, 4, 4],\n",
    "    [4, 3, 2, 1, 4]\n",
    "])\n",
    "weights = np.array([0.25, 0.25, 0.2, 0.2, 0.1])\n",
    "print('Initial matrix:')\n",
    "display(Matrix(matrix))\n",
    "print('Initial weights:')\n",
    "display(Matrix(weights).T)"
   ]
  },
  {
   "cell_type": "code",
   "execution_count": 74,
   "metadata": {},
   "outputs": [
    {
     "data": {
      "text/markdown": [
       "##### **Example result (1/5):**"
      ],
      "text/plain": [
       "<IPython.core.display.Markdown object>"
      ]
     },
     "metadata": {},
     "output_type": "display_data"
    },
    {
     "name": "stdout",
     "output_type": "stream",
     "text": [
      "Removed criterion index: 0\n",
      "Resulting decision matrix:\n"
     ]
    },
    {
     "data": {
      "text/latex": [
       "$\\displaystyle \\left[\\begin{matrix}2 & 3 & 4 & 4\\\\2 & 3 & 4 & 4\\\\3 & 2 & 1 & 4\\end{matrix}\\right]$"
      ],
      "text/plain": [
       "Matrix([\n",
       "[2, 3, 4, 4],\n",
       "[2, 3, 4, 4],\n",
       "[3, 2, 1, 4]])"
      ]
     },
     "metadata": {},
     "output_type": "display_data"
    },
    {
     "name": "stdout",
     "output_type": "stream",
     "text": [
      "Resulting weights vector:\n"
     ]
    },
    {
     "data": {
      "text/latex": [
       "$\\displaystyle \\left[\\begin{matrix}0.333333333333333 & 0.266666666666667 & 0.266666666666667 & 0.133333333333333\\end{matrix}\\right]$"
      ],
      "text/plain": [
       "Matrix([[0.333333333333333, 0.266666666666667, 0.266666666666667, 0.133333333333333]])"
      ]
     },
     "metadata": {},
     "output_type": "display_data"
    }
   ],
   "source": [
    "results = criteria.remove_criteria(matrix, weights)\n",
    "display(Markdown(f'##### **Example result (1/{len(results)}):**'))\n",
    "pretty_print_crit_removal(results[0])"
   ]
  },
  {
   "cell_type": "markdown",
   "metadata": {},
   "source": [
    "### 2.6. Criteria identification <a id=\"13\"></a>"
   ]
  },
  {
   "cell_type": "markdown",
   "metadata": {},
   "source": [
    "This method identifies criteria impact on the resulting ranking. It needs multi-criteria decision-making method to calculate preferences internally."
   ]
  },
  {
   "cell_type": "code",
   "execution_count": 75,
   "metadata": {},
   "outputs": [
    {
     "name": "stdout",
     "output_type": "stream",
     "text": [
      "Initial matrix:\n"
     ]
    },
    {
     "data": {
      "text/latex": [
       "$\\displaystyle \\left[\\begin{matrix}4 & 3 & 5 & 7\\\\7 & 4 & 2 & 4\\\\9 & 5 & 7 & 3\\\\3 & 5 & 6 & 3\\end{matrix}\\right]$"
      ],
      "text/plain": [
       "Matrix([\n",
       "[4, 3, 5, 7],\n",
       "[7, 4, 2, 4],\n",
       "[9, 5, 7, 3],\n",
       "[3, 5, 6, 3]])"
      ]
     },
     "metadata": {},
     "output_type": "display_data"
    },
    {
     "name": "stdout",
     "output_type": "stream",
     "text": [
      "Initial weights:\n"
     ]
    },
    {
     "data": {
      "text/latex": [
       "$\\displaystyle \\left[\\begin{matrix}0.25 & 0.25 & 0.25 & 0.25\\end{matrix}\\right]$"
      ],
      "text/plain": [
       "Matrix([[0.25, 0.25, 0.25, 0.25]])"
      ]
     },
     "metadata": {},
     "output_type": "display_data"
    },
    {
     "name": "stdout",
     "output_type": "stream",
     "text": [
      "Initial criteria types:\n"
     ]
    },
    {
     "data": {
      "text/latex": [
       "$\\displaystyle \\left[\\begin{matrix}1 & 1 & -1 & 1\\end{matrix}\\right]$"
      ],
      "text/plain": [
       "Matrix([[1, 1, -1, 1]])"
      ]
     },
     "metadata": {},
     "output_type": "display_data"
    }
   ],
   "source": [
    "matrix = np.array([\n",
    "    [4, 3, 5, 7],\n",
    "    [7, 4, 2, 4],\n",
    "    [9, 5, 7, 3],\n",
    "    [3, 5, 6, 3]\n",
    "    ])\n",
    "criteria_num = matrix.shape[1]\n",
    "criteria_types = np.array([1, 1, -1, 1])\n",
    "weights = np.ones(criteria_num)/criteria_num\n",
    "print('Initial matrix:')\n",
    "display(Matrix(matrix))\n",
    "print('Initial weights:')\n",
    "display(Matrix(weights).T)\n",
    "print('Initial criteria types:')\n",
    "display(Matrix(criteria_types).T)\n"
   ]
  },
  {
   "cell_type": "markdown",
   "metadata": {},
   "source": [
    "- Using defined function - let us define weighted sum method function that returns preference values for alternatives"
   ]
  },
  {
   "cell_type": "code",
   "execution_count": 76,
   "metadata": {},
   "outputs": [],
   "source": [
    "def weighted_sum_method(matrix, weights, types):\n",
    "    # normalize decision matrix with sum normalization\n",
    "    nmatrix = matrix.copy().astype(float)\n",
    "    nmatrix[:, types == 1] = matrix[:, types == 1] / np.sum(matrix[:, types == 1], axis=0)\n",
    "    nmatrix[:, types == -1] = (1 / matrix[:, types == -1]) / np.sum(1 / matrix[:, types == -1], axis=0)\n",
    "    # each row of matrix is multiplied by weights\n",
    "    weighted_matrix = nmatrix * weights\n",
    "    # calculate preference scores\n",
    "    return np.sum(weighted_matrix, axis=1)"
   ]
  },
  {
   "cell_type": "code",
   "execution_count": 77,
   "metadata": {},
   "outputs": [
    {
     "name": "stdout",
     "output_type": "stream",
     "text": [
      "Removed criterion index(es): (0,)\n",
      "Correlation value: 0.52\n",
      "Distance value: 0.093636\n",
      "Resulting decision matrix:\n"
     ]
    },
    {
     "data": {
      "text/latex": [
       "$\\displaystyle \\left[\\begin{matrix}3 & 5 & 7\\\\4 & 2 & 4\\\\5 & 7 & 3\\\\5 & 6 & 3\\end{matrix}\\right]$"
      ],
      "text/plain": [
       "Matrix([\n",
       "[3, 5, 7],\n",
       "[4, 2, 4],\n",
       "[5, 7, 3],\n",
       "[5, 6, 3]])"
      ]
     },
     "metadata": {},
     "output_type": "display_data"
    }
   ],
   "source": [
    "call_kwargs = {\n",
    "    'matrix': matrix,\n",
    "    'weights': weights,\n",
    "    'types': criteria_types\n",
    "}\n",
    "results = criteria.relevance_identification(weighted_sum_method, call_kwargs, ranking_descending=True)\n",
    "pretty_print_crit_identification(results[0])"
   ]
  },
  {
   "cell_type": "markdown",
   "metadata": {},
   "source": [
    "The criterion with lowest impact was removed"
   ]
  },
  {
   "cell_type": "markdown",
   "metadata": {},
   "source": [
    "- Using library - example `pymcdm`"
   ]
  },
  {
   "cell_type": "code",
   "execution_count": 78,
   "metadata": {},
   "outputs": [
    {
     "name": "stdout",
     "output_type": "stream",
     "text": [
      "Removed criterion index(es): (0,)\n",
      "Correlation value: 0.52\n",
      "Distance value: 0.211707\n",
      "Resulting decision matrix:\n"
     ]
    },
    {
     "data": {
      "text/latex": [
       "$\\displaystyle \\left[\\begin{matrix}3 & 5 & 7\\\\4 & 2 & 4\\\\5 & 7 & 3\\\\5 & 6 & 3\\end{matrix}\\right]$"
      ],
      "text/plain": [
       "Matrix([\n",
       "[3, 5, 7],\n",
       "[4, 2, 4],\n",
       "[5, 7, 3],\n",
       "[5, 6, 3]])"
      ]
     },
     "metadata": {},
     "output_type": "display_data"
    }
   ],
   "source": [
    "import pymcdm.methods as pm\n",
    "\n",
    "topsis = pm.TOPSIS()\n",
    "call_kwargs = {\n",
    "    'matrix': matrix,\n",
    "    'weights': weights,\n",
    "    'types': criteria_types\n",
    "}\n",
    "results = criteria.relevance_identification(topsis, call_kwargs, ranking_descending=True)\n",
    "pretty_print_crit_identification(results[0])"
   ]
  },
  {
   "cell_type": "markdown",
   "metadata": {},
   "source": [
    "---"
   ]
  },
  {
   "cell_type": "markdown",
   "metadata": {},
   "source": [
    "<a id=\"14\"></a><br/>\n",
    "\n",
    "## 3. Probabilistic submodule"
   ]
  },
  {
   "cell_type": "markdown",
   "metadata": {},
   "source": [
    "This submodule offers a way to generate $x$ number of scenarios / samples for introducing noise to decision matrix or weights vector. Additionally it provides a way to generate $x$ number of samples of random weights vectors."
   ]
  },
  {
   "cell_type": "markdown",
   "metadata": {},
   "source": [
    "### 3.1. Monte carlo  <a id=\"15\"></a>"
   ]
  },
  {
   "cell_type": "markdown",
   "metadata": {},
   "source": [
    "Let us generate 1000 samples of random weights vectors for a problem with 3 criteria."
   ]
  },
  {
   "cell_type": "code",
   "execution_count": 79,
   "metadata": {},
   "outputs": [
    {
     "name": "stdout",
     "output_type": "stream",
     "text": [
      "[[0.30839582 0.2392006  0.45240358]\n",
      " [0.2296997  0.38071999 0.38958031]\n",
      " [0.31631812 0.29525282 0.38842906]\n",
      " ...\n",
      " [0.3326973  0.41815172 0.24915098]\n",
      " [0.35240045 0.35296588 0.29463367]\n",
      " [0.38747405 0.36759333 0.24493262]]\n"
     ]
    }
   ],
   "source": [
    "n = 3\n",
    "modified_weights = probabilistic.monte_carlo_weights(n, num_samples=1000, distribution='normal', params={'loc': 0.5, 'scale': 0.1})\n",
    "print(modified_weights)"
   ]
  },
  {
   "cell_type": "markdown",
   "metadata": {},
   "source": [
    "The weights vectors can be further visualized on distribution plot"
   ]
  },
  {
   "cell_type": "code",
   "execution_count": 80,
   "metadata": {},
   "outputs": [
    {
     "data": {
      "application/vnd.jupyter.widget-view+json": {
       "model_id": "54397921f19f40f7951d3a4e9111cd70",
       "version_major": 2,
       "version_minor": 0
      },
      "image/png": "[encoded data removed]",
      "text/html": [
       "\n",
       "            <div style=\"display: inline-block;\">\n",
       "                <div class=\"jupyter-widgets widget-label\" style=\"text-align: center;\">\n",
       "                    Figure\n",
       "                </div>\n",
       "                <img src='data:image/png;base64,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' width=720.0/>\n",
       "            </div>\n",
       "        "
      ],
      "text/plain": [
       "Canvas(toolbar=Toolbar(toolitems=[('Home', 'Reset original view', 'home', 'home'), ('Back', 'Back to previous …"
      ]
     },
     "metadata": {},
     "output_type": "display_data"
    }
   ],
   "source": [
    "%matplotlib widget\n",
    "fig, ax = plt.subplots(1, 3, figsize=(10, 4))\n",
    "\n",
    "for idx in range(modified_weights.shape[1]):\n",
    "    # In the case of using sliders, the reference should be kept, so Python wouldn't GC\n",
    "    _, bins_slider = graphs.hist_dist(modified_weights[: , idx], ax[idx], fig=fig, slider_label=f'$w_{{{idx+1}}}$', kind='hist', xlabel='Value', title=f'Weight {idx+1}')\n",
    "plt.suptitle('Weights value distribution')\n",
    "plt.tight_layout(w_pad=1.5)\n",
    "plt.show()"
   ]
  },
  {
   "cell_type": "markdown",
   "metadata": {},
   "source": [
    "### 3.2. Perturbated matrix  <a id=\"16\"></a>"
   ]
  },
  {
   "cell_type": "code",
   "execution_count": 81,
   "metadata": {},
   "outputs": [
    {
     "name": "stdout",
     "output_type": "stream",
     "text": [
      "Initial matrix:\n"
     ]
    },
    {
     "data": {
      "text/latex": [
       "$\\displaystyle \\left[\\begin{matrix}4 & 3 & 7\\\\1 & 9 & 6\\\\7 & 5 & 3\\end{matrix}\\right]$"
      ],
      "text/plain": [
       "Matrix([\n",
       "[4, 3, 7],\n",
       "[1, 9, 6],\n",
       "[7, 5, 3]])"
      ]
     },
     "metadata": {},
     "output_type": "display_data"
    },
    {
     "name": "stdout",
     "output_type": "stream",
     "text": [
      "Example resulting matrix (1/1000):\n"
     ]
    },
    {
     "data": {
      "text/latex": [
       "$\\displaystyle \\left[\\begin{matrix}4.045119 & 3.010134 & 6.942155\\\\1.091874 & 9.089413 & 5.948685\\\\7.042628 & 5.007573 & 3.082106\\end{matrix}\\right]$"
      ],
      "text/plain": [
       "Matrix([\n",
       "[4.045119, 3.010134, 6.942155],\n",
       "[1.091874, 9.089413, 5.948685],\n",
       "[7.042628, 5.007573, 3.082106]])"
      ]
     },
     "metadata": {},
     "output_type": "display_data"
    }
   ],
   "source": [
    "matrix = np.array([[4, 3, 7], \n",
    "                   [1, 9, 6], \n",
    "                   [7, 5, 3]])\n",
    "simulations = 1000\n",
    "results = probabilistic.perturbed_matrix(matrix, simulations)\n",
    "print('Initial matrix:')\n",
    "display(Matrix(matrix))\n",
    "print(f'Example resulting matrix (1/{len(results)}):')\n",
    "display(Matrix(results[0]))"
   ]
  },
  {
   "cell_type": "markdown",
   "metadata": {},
   "source": [
    "### 3.3. Perturbated weights  <a id=\"17\"></a>"
   ]
  },
  {
   "cell_type": "code",
   "execution_count": 82,
   "metadata": {},
   "outputs": [
    {
     "name": "stdout",
     "output_type": "stream",
     "text": [
      "Initial weights vector:\n"
     ]
    },
    {
     "data": {
      "text/latex": [
       "$\\displaystyle \\left[\\begin{matrix}0.3 & 0.4 & 0.3\\end{matrix}\\right]$"
      ],
      "text/plain": [
       "Matrix([[0.3, 0.4, 0.3]])"
      ]
     },
     "metadata": {},
     "output_type": "display_data"
    },
    {
     "name": "stdout",
     "output_type": "stream",
     "text": [
      "Example resulting weights vector (1/1000):\n"
     ]
    },
    {
     "data": {
      "text/latex": [
       "$\\displaystyle \\left[\\begin{matrix}0.261235 & 0.41879 & 0.319976\\end{matrix}\\right]$"
      ],
      "text/plain": [
       "Matrix([[0.261235, 0.41879, 0.319976]])"
      ]
     },
     "metadata": {},
     "output_type": "display_data"
    }
   ],
   "source": [
    "weights = np.array([0.3, 0.4, 0.3])\n",
    "simulations = 1000\n",
    "results = probabilistic.perturbed_weights(weights, simulations)\n",
    "\n",
    "print('Initial weights vector:')\n",
    "display(Matrix(weights).T)\n",
    "print(f'Example resulting weights vector (1/{len(results)}):')\n",
    "display(Matrix(results[0]).T)"
   ]
  },
  {
   "cell_type": "markdown",
   "metadata": {},
   "source": [
    "---"
   ]
  },
  {
   "cell_type": "markdown",
   "metadata": {},
   "source": [
    "<a id=\"18\"></a><br/>\n",
    "\n",
    "## 4. Ranking submodule"
   ]
  },
  {
   "cell_type": "markdown",
   "metadata": {},
   "source": [
    "### 4.1. Ranking alternation  <a id=\"19\"></a>"
   ]
  },
  {
   "cell_type": "markdown",
   "metadata": {},
   "source": [
    "This function finds smallest possible changes in weights values which will result in different ranking."
   ]
  },
  {
   "cell_type": "code",
   "execution_count": 83,
   "metadata": {},
   "outputs": [
    {
     "name": "stdout",
     "output_type": "stream",
     "text": [
      "Initial ranking:\n"
     ]
    },
    {
     "data": {
      "text/latex": [
       "$\\displaystyle \\left[\\begin{matrix}2.0 & 3.0 & 1.0\\end{matrix}\\right]$"
      ],
      "text/plain": [
       "Matrix([[2.0, 3.0, 1.0]])"
      ]
     },
     "metadata": {},
     "output_type": "display_data"
    },
    {
     "name": "stdout",
     "output_type": "stream",
     "text": [
      "Example result (1/3):\n",
      "\n",
      "Modified weight index: 0\n",
      "Resulting weights:\n"
     ]
    },
    {
     "data": {
      "text/latex": [
       "$\\displaystyle \\left[\\begin{matrix}0.39 & 0.505 & 0.105\\end{matrix}\\right]$"
      ],
      "text/plain": [
       "Matrix([[0.39, 0.505, 0.105]])"
      ]
     },
     "metadata": {},
     "output_type": "display_data"
    },
    {
     "name": "stdout",
     "output_type": "stream",
     "text": [
      "Resulting new ranking:\n"
     ]
    },
    {
     "data": {
      "text/latex": [
       "$\\displaystyle \\left[\\begin{matrix}3.0 & 2.0 & 1.0\\end{matrix}\\right]$"
      ],
      "text/plain": [
       "Matrix([[3.0, 2.0, 1.0]])"
      ]
     },
     "metadata": {},
     "output_type": "display_data"
    }
   ],
   "source": [
    "import pymcdm.methods as pm\n",
    "\n",
    "weights = np.array([0.4, 0.5, 0.1])\n",
    "matrix = np.array([\n",
    "    [4, 2, 6],\n",
    "    [7, 3, 2],\n",
    "    [9, 6, 8]\n",
    "])\n",
    "types = np.array([-1, 1, -1])\n",
    "\n",
    "aras = pm.ARAS()\n",
    "pref = aras(matrix, weights, types)\n",
    "initial_ranking = aras.rank(pref)\n",
    "call_kwargs = {\n",
    "    \"matrix\": matrix,\n",
    "    \"weights\": weights,\n",
    "    \"types\": types\n",
    "}\n",
    "ranking_descending = True\n",
    "results = ranking.ranking_alteration(weights, initial_ranking, aras, call_kwargs, ranking_descending)\n",
    "\n",
    "print('Initial ranking:')\n",
    "display(Matrix(initial_ranking).T)\n",
    "print(f'Example result (1/{len(results)}):\\n')\n",
    "print(f'Modified weight index: {results[0][0]}')\n",
    "print('Resulting weights:')\n",
    "display(Matrix(results[0][1]).T)\n",
    "print('Resulting new ranking:')\n",
    "display(Matrix(results[0][2]).T)"
   ]
  },
  {
   "cell_type": "markdown",
   "metadata": {},
   "source": [
    "### 4.2. Demotion  <a id=\"20\"></a>"
   ]
  },
  {
   "cell_type": "code",
   "execution_count": 84,
   "metadata": {},
   "outputs": [
    {
     "name": "stdout",
     "output_type": "stream",
     "text": [
      "Initial ranking:\n"
     ]
    },
    {
     "data": {
      "text/latex": [
       "$\\displaystyle \\left[\\begin{matrix}2.0 & 3.0 & 1.0\\end{matrix}\\right]$"
      ],
      "text/plain": [
       "Matrix([[2.0, 3.0, 1.0]])"
      ]
     },
     "metadata": {},
     "output_type": "display_data"
    },
    {
     "name": "stdout",
     "output_type": "stream",
     "text": [
      "Example result (1/9):\n",
      "\n",
      "Alternative index: 0\n",
      "Criterion index: 0\n",
      "Size of change: 5.0\n",
      "New position: 3\n"
     ]
    }
   ],
   "source": [
    "import pymcdm.methods as pm\n",
    "\n",
    "matrix = np.array([\n",
    "    [4, 2, 6],\n",
    "    [7, 3, 2],\n",
    "    [9, 6, 8]\n",
    "])\n",
    "weights = np.array([0.4, 0.5, 0.1])\n",
    "types = np.array([-1, 1, -1])\n",
    "\n",
    "copras = pm.COPRAS()\n",
    "pref = copras(matrix, weights, types)\n",
    "initial_ranking = copras.rank(pref)\n",
    "call_kwargs = {\n",
    "    \"matrix\": matrix,\n",
    "    \"weights\": weights,\n",
    "    \"types\": types\n",
    "}\n",
    "ranking_descending = True\n",
    "\n",
    "direction = np.array([1, -1, 1])\n",
    "step = 0.5\n",
    "max_modification = 100\n",
    "results = ranking.ranking_demotion(matrix, initial_ranking, copras, call_kwargs, ranking_descending, direction, step, max_modification=max_modification)\n",
    "\n",
    "print('Initial ranking:')\n",
    "display(Matrix(initial_ranking).T)\n",
    "print(f'Example result (1/{len(results)}):\\n')\n",
    "print(f'Alternative index: {results[0][0]}')\n",
    "print(f'Criterion index: {results[0][1]}')\n",
    "print(f'Size of change: {results[0][2]}')\n",
    "print(f'New position: {results[0][3]}')\n"
   ]
  },
  {
   "cell_type": "markdown",
   "metadata": {},
   "source": [
    "The results from demotion analysis can be further visualized"
   ]
  },
  {
   "cell_type": "code",
   "execution_count": 85,
   "metadata": {},
   "outputs": [
    {
     "data": {
      "image/png": "[encoded data removed]",
      "text/plain": [
       "<Figure size 777.6x518.4 with 3 Axes>"
      ]
     },
     "metadata": {
      "needs_background": "light"
     },
     "output_type": "display_data"
    },
    {
     "data": {
      "image/png": "[encoded data removed]",
      "text/plain": [
       "<Figure size 1296x518.4 with 6 Axes>"
      ]
     },
     "metadata": {
      "needs_background": "light"
     },
     "output_type": "display_data"
    },
    {
     "data": {
      "image/png": "[encoded data removed]",
      "text/plain": [
       "<Figure size 432x288 with 2 Axes>"
      ]
     },
     "metadata": {
      "needs_background": "light"
     },
     "output_type": "display_data"
    },
    {
     "data": {
      "image/png": "[encoded data removed]",
      "text/plain": [
       "<Figure size 432x288 with 2 Axes>"
      ]
     },
     "metadata": {
      "needs_background": "light"
     },
     "output_type": "display_data"
    },
    {
     "data": {
      "image/png": "[encoded data removed]",
      "text/plain": [
       "<Figure size 432x288 with 2 Axes>"
      ]
     },
     "metadata": {
      "needs_background": "light"
     },
     "output_type": "display_data"
    }
   ],
   "source": [
    "%matplotlib inline\n",
    "results = np.array(results)\n",
    "for alt in range(matrix.shape[1]):\n",
    "    alt_results = results[results[:, 0] == alt]\n",
    "    percentage_changes = []\n",
    "    new_positions = []\n",
    "    if len(alt_results):\n",
    "        for crit in range(matrix.shape[0]):\n",
    "            r = alt_results[alt_results[:, 1] == crit]\n",
    "            if len(r):\n",
    "                _ , crit, change, new_pos = r[0]\n",
    "                crit = int(crit)\n",
    "                if initial_ranking[alt] == new_pos:\n",
    "                    percentage_changes.append(0)\n",
    "                else:\n",
    "                    percentage_changes.append((change - matrix[alt, crit])/matrix[alt, crit]*100)\n",
    "                new_positions.append(new_pos)\n",
    "            else:\n",
    "                percentage_changes.append(0)\n",
    "                new_positions.append(initial_ranking[alt])\n",
    "        step = int(np.max(np.abs([np.min(np.array(percentage_changes))/5, np.max(np.array(percentage_changes))/5])))\n",
    "        graphs.pd_rankings_graph(initial_ranking[alt], new_positions, np.array(percentage_changes), kind='bar', title=f'Rank demotion - $A_{{{alt+1}}}$')\n",
    "        plt.show()"
   ]
  },
  {
   "cell_type": "markdown",
   "metadata": {},
   "source": [
    "### 4.3. Promotion  <a id=\"21\"></a>"
   ]
  },
  {
   "cell_type": "code",
   "execution_count": 86,
   "metadata": {},
   "outputs": [
    {
     "name": "stdout",
     "output_type": "stream",
     "text": [
      "Initial ranking:\n"
     ]
    },
    {
     "data": {
      "text/latex": [
       "$\\displaystyle \\left[\\begin{matrix}2.0 & 3.0 & 1.0\\end{matrix}\\right]$"
      ],
      "text/plain": [
       "Matrix([[2.0, 3.0, 1.0]])"
      ]
     },
     "metadata": {},
     "output_type": "display_data"
    },
    {
     "name": "stdout",
     "output_type": "stream",
     "text": [
      "Example result (1/9):\n",
      "\n",
      "Alternative index: 0\n",
      "Criterion index: 0\n",
      "Size of change: 2.5\n",
      "New position: 1\n"
     ]
    }
   ],
   "source": [
    "import pymcdm.methods as pm\n",
    "\n",
    "matrix = np.array([\n",
    "    [4, 2, 6],\n",
    "    [7, 3, 2],\n",
    "    [9, 6, 8]\n",
    "])\n",
    "weights = np.array([0.4, 0.5, 0.1])\n",
    "types = np.array([-1, 1, -1])\n",
    "copras = pm.COPRAS()\n",
    "pref = copras(matrix, weights, types)\n",
    "initial_ranking = copras.rank(pref)\n",
    "call_kwargs = {\n",
    "    \"matrix\": matrix,\n",
    "    \"weights\": weights,\n",
    "    \"types\": types\n",
    "}\n",
    "ranking_descending = True\n",
    "direction = np.array([-1, 1, -1])\n",
    "step = 0.5\n",
    "max_modification = 1000\n",
    "results = ranking.ranking_promotion(matrix, initial_ranking, copras, call_kwargs, ranking_descending, direction, step, max_modification=max_modification)\n",
    "\n",
    "print('Initial ranking:')\n",
    "display(Matrix(initial_ranking).T)\n",
    "print(f'Example result (1/{len(results)}):\\n')\n",
    "print(f'Alternative index: {results[0][0]}')\n",
    "print(f'Criterion index: {results[0][1]}')\n",
    "print(f'Size of change: {results[0][2]}')\n",
    "print(f'New position: {results[0][3]}')"
   ]
  },
  {
   "cell_type": "markdown",
   "metadata": {},
   "source": [
    "Results from the promotion function can be visualized similarly to demotion."
   ]
  },
  {
   "cell_type": "code",
   "execution_count": 87,
   "metadata": {},
   "outputs": [
    {
     "data": {
      "image/png": "[encoded data removed]",
      "text/plain": [
       "<Figure size 432x288 with 2 Axes>"
      ]
     },
     "metadata": {
      "needs_background": "light"
     },
     "output_type": "display_data"
    },
    {
     "data": {
      "image/png": "[encoded data removed]",
      "text/plain": [
       "<Figure size 432x288 with 2 Axes>"
      ]
     },
     "metadata": {
      "needs_background": "light"
     },
     "output_type": "display_data"
    },
    {
     "data": {
      "image/png": "[encoded data removed]",
      "text/plain": [
       "<Figure size 432x288 with 2 Axes>"
      ]
     },
     "metadata": {
      "needs_background": "light"
     },
     "output_type": "display_data"
    }
   ],
   "source": [
    "results = np.array(results)\n",
    "for alt in range(matrix.shape[1]):\n",
    "    alt_results = results[results[:, 0] == alt]\n",
    "    percentage_changes = []\n",
    "    new_positions = []\n",
    "    if len(alt_results):\n",
    "        for crit in range(matrix.shape[0]):\n",
    "            r = alt_results[alt_results[:, 1] == crit]\n",
    "            if len(r):\n",
    "                _ , crit, change, new_pos = r[0]\n",
    "                crit = int(crit)\n",
    "                if initial_ranking[alt] == new_pos:\n",
    "                    percentage_changes.append(0)\n",
    "                else:\n",
    "                    percentage_changes.append((change - matrix[alt, crit])/matrix[alt, crit]*100)\n",
    "                new_positions.append(new_pos)\n",
    "            else:\n",
    "                percentage_changes.append(0)\n",
    "                new_positions.append(initial_ranking[alt])\n",
    "        graphs.pd_rankings_graph(initial_ranking[alt], new_positions, np.array(percentage_changes), kind='bar', title=f'Rank promotion - $A_{{{alt+1}}}$')"
   ]
  },
  {
   "cell_type": "markdown",
   "metadata": {},
   "source": [
    "### 4.4. Fuzzy ranking  <a id=\"22\"></a>"
   ]
  },
  {
   "cell_type": "markdown",
   "metadata": {},
   "source": [
    "This function calculates fuzzy ranking from multiple acquired rankings. For example `generate_weights_scenarios` could be used to calculate multiple rankings and then fuzzy ranking could be calculated."
   ]
  },
  {
   "cell_type": "code",
   "execution_count": 88,
   "metadata": {},
   "outputs": [
    {
     "name": "stdout",
     "output_type": "stream",
     "text": [
      "Resulting fuzzy rank:\n"
     ]
    },
    {
     "data": {
      "text/latex": [
       "$\\displaystyle \\left[\\begin{matrix}1.0 & 0.5 & 1.0 & 0 & 0.5\\\\1.0 & 1.0 & 1.0 & 0 & 0\\\\1.0 & 0.5 & 1.0 & 0.5 & 0\\\\1.0 & 0 & 0 & 1.0 & 0.5\\\\0 & 0 & 1.0 & 0.5 & 1.0\\end{matrix}\\right]$"
      ],
      "text/plain": [
       "Matrix([\n",
       "[1.0, 0.5, 1.0,   0, 0.5],\n",
       "[1.0, 1.0, 1.0,   0,   0],\n",
       "[1.0, 0.5, 1.0, 0.5,   0],\n",
       "[1.0,   0,   0, 1.0, 0.5],\n",
       "[  0,   0, 1.0, 0.5, 1.0]])"
      ]
     },
     "metadata": {},
     "output_type": "display_data"
    }
   ],
   "source": [
    "rankings = np.array([\n",
    "    [1, 2, 3, 4, 5],\n",
    "    [2, 1, 5, 3, 4],\n",
    "    [4, 3, 2, 5, 1],\n",
    "    [3, 2, 1, 4, 5],\n",
    "])\n",
    "fuzzy_rank = ranking.fuzzy_ranking(rankings, normalization_axis=0)\n",
    "print('Resulting fuzzy rank:')\n",
    "display(Matrix(fuzzy_rank))"
   ]
  },
  {
   "cell_type": "markdown",
   "metadata": {},
   "source": [
    "This can be futher visualized using heatmap."
   ]
  },
  {
   "cell_type": "code",
   "execution_count": 89,
   "metadata": {},
   "outputs": [
    {
     "data": {
      "image/png": "[encoded data removed]",
      "text/plain": [
       "<Figure size 576x432 with 2 Axes>"
      ]
     },
     "metadata": {
      "needs_background": "light"
     },
     "output_type": "display_data"
    }
   ],
   "source": [
    "%matplotlib inline\n",
    "graphs.heatmap(fuzzy_rank, title=\"Fuzzy Ranking Matrix\", figsize=(8, 6))\n",
    "\n",
    "plt.show()"
   ]
  },
  {
   "cell_type": "markdown",
   "metadata": {},
   "source": [
    "---"
   ]
  },
  {
   "cell_type": "markdown",
   "metadata": {},
   "source": [
    "<a id=\"23\"></a><br/>\n",
    "\n",
    "## 5. Compromise submodule"
   ]
  },
  {
   "cell_type": "markdown",
   "metadata": {},
   "source": [
    "This submodule consist of functions that calculate compromise between different rankings."
   ]
  },
  {
   "cell_type": "markdown",
   "metadata": {},
   "source": [
    "### 5.1. General <a id=\"24\"></a>"
   ]
  },
  {
   "cell_type": "markdown",
   "metadata": {},
   "source": [
    "Most methods work in similar fashion, by either providing rankings or preferences we can calculate the compromised ranking."
   ]
  },
  {
   "cell_type": "markdown",
   "metadata": {},
   "source": [
    "Let us consider following ranking and preferences acquired using TOPSIS and VIKOR."
   ]
  },
  {
   "cell_type": "code",
   "execution_count": 90,
   "metadata": {},
   "outputs": [
    {
     "name": "stdout",
     "output_type": "stream",
     "text": [
      "Initial preferences:\n"
     ]
    },
    {
     "data": {
      "text/latex": [
       "$\\displaystyle \\left[\\begin{matrix}0.601 & 0.5254\\\\0.5355 & 0.635\\\\0.497 & 0.7257\\\\0.5648 & 0.1143\\\\0.5713 & 0.5775\\\\0.3163 & 1.0\\\\0.5559 & 0.6188\\\\0.6186 & 0.2039\\end{matrix}\\right]$"
      ],
      "text/plain": [
       "Matrix([\n",
       "[ 0.601, 0.5254],\n",
       "[0.5355,  0.635],\n",
       "[ 0.497, 0.7257],\n",
       "[0.5648, 0.1143],\n",
       "[0.5713, 0.5775],\n",
       "[0.3163,    1.0],\n",
       "[0.5559, 0.6188],\n",
       "[0.6186, 0.2039]])"
      ]
     },
     "metadata": {},
     "output_type": "display_data"
    },
    {
     "name": "stdout",
     "output_type": "stream",
     "text": [
      "Initial rankings:\n"
     ]
    },
    {
     "data": {
      "text/latex": [
       "$\\displaystyle \\left[\\begin{matrix}2.0 & 3.0\\\\6.0 & 6.0\\\\7.0 & 7.0\\\\4.0 & 1.0\\\\3.0 & 4.0\\\\8.0 & 8.0\\\\5.0 & 5.0\\\\1.0 & 2.0\\end{matrix}\\right]$"
      ],
      "text/plain": [
       "Matrix([\n",
       "[2.0, 3.0],\n",
       "[6.0, 6.0],\n",
       "[7.0, 7.0],\n",
       "[4.0, 1.0],\n",
       "[3.0, 4.0],\n",
       "[8.0, 8.0],\n",
       "[5.0, 5.0],\n",
       "[1.0, 2.0]])"
      ]
     },
     "metadata": {},
     "output_type": "display_data"
    }
   ],
   "source": [
    "preferences = np.array([[0.601, 0.5254],\n",
    "                        [0.5355, 0.635],\n",
    "                        [0.497, 0.7257],\n",
    "                        [0.5648, 0.1143],\n",
    "                        [0.5713, 0.5775],\n",
    "                        [0.3163, 1.0],\n",
    "                        [0.5559, 0.6188],\n",
    "                        [0.6186, 0.2039]])\n",
    "rankings = np.array([[2., 3.],\n",
    "                    [6., 6.],\n",
    "                    [7., 7.],\n",
    "                    [4., 1.],\n",
    "                    [3., 4.],\n",
    "                    [8., 8.],\n",
    "                    [5., 5.],\n",
    "                    [1., 2.]])\n",
    "\n",
    "print('Initial preferences:')\n",
    "display(Matrix(preferences))\n",
    "print('Initial rankings:')\n",
    "display(Matrix(rankings))"
   ]
  },
  {
   "cell_type": "markdown",
   "metadata": {},
   "source": [
    "- Borda"
   ]
  },
  {
   "cell_type": "code",
   "execution_count": 91,
   "metadata": {},
   "outputs": [
    {
     "name": "stdout",
     "output_type": "stream",
     "text": [
      "Resulting compromise ranking:\n"
     ]
    },
    {
     "data": {
      "text/latex": [
       "$\\displaystyle \\left[\\begin{matrix}2.5 & 6.0 & 7.0 & 2.5 & 4.0 & 8.0 & 5.0 & 1.0\\end{matrix}\\right]$"
      ],
      "text/plain": [
       "Matrix([[2.5, 6.0, 7.0, 2.5, 4.0, 8.0, 5.0, 1.0]])"
      ]
     },
     "metadata": {},
     "output_type": "display_data"
    }
   ],
   "source": [
    "print('Resulting compromise ranking:')\n",
    "display(Matrix(compromise.borda(rankings)).T)"
   ]
  },
  {
   "cell_type": "markdown",
   "metadata": {},
   "source": [
    "- Dominance directed graph"
   ]
  },
  {
   "cell_type": "code",
   "execution_count": 92,
   "metadata": {},
   "outputs": [
    {
     "name": "stdout",
     "output_type": "stream",
     "text": [
      "Resulting compromise ranking:\n"
     ]
    },
    {
     "data": {
      "text/latex": [
       "$\\displaystyle \\left[\\begin{matrix}3.0 & 6.0 & 7.0 & 2.0 & 4.0 & 8.0 & 5.0 & 1.0\\end{matrix}\\right]$"
      ],
      "text/plain": [
       "Matrix([[3.0, 6.0, 7.0, 2.0, 4.0, 8.0, 5.0, 1.0]])"
      ]
     },
     "metadata": {},
     "output_type": "display_data"
    }
   ],
   "source": [
    "print('Resulting compromise ranking:')\n",
    "display(Matrix(compromise.dominance_directed_graph(rankings)).T)"
   ]
  },
  {
   "cell_type": "markdown",
   "metadata": {},
   "source": [
    "- Rank position method"
   ]
  },
  {
   "cell_type": "code",
   "execution_count": 93,
   "metadata": {},
   "outputs": [
    {
     "name": "stdout",
     "output_type": "stream",
     "text": [
      "Resulting compromise ranking:\n"
     ]
    },
    {
     "data": {
      "text/latex": [
       "$\\displaystyle \\left[\\begin{matrix}3.0 & 6.0 & 7.0 & 2.0 & 4.0 & 8.0 & 5.0 & 1.0\\end{matrix}\\right]$"
      ],
      "text/plain": [
       "Matrix([[3.0, 6.0, 7.0, 2.0, 4.0, 8.0, 5.0, 1.0]])"
      ]
     },
     "metadata": {},
     "output_type": "display_data"
    }
   ],
   "source": [
    "print('Resulting compromise ranking:')\n",
    "display(Matrix(compromise.rank_position(rankings)).T)"
   ]
  },
  {
   "cell_type": "markdown",
   "metadata": {},
   "source": [
    "- Half-quadratic compromise"
   ]
  },
  {
   "cell_type": "code",
   "execution_count": 94,
   "metadata": {},
   "outputs": [
    {
     "name": "stdout",
     "output_type": "stream",
     "text": [
      "Resulting compromise ranking:\n"
     ]
    },
    {
     "data": {
      "text/latex": [
       "$\\displaystyle \\left[\\begin{matrix}2.5 & 6.0 & 7.0 & 2.5 & 3.5 & 8.0 & 5.0 & 1.5\\end{matrix}\\right]$"
      ],
      "text/plain": [
       "Matrix([[2.5, 6.0, 7.0, 2.5, 3.5, 8.0, 5.0, 1.5]])"
      ]
     },
     "metadata": {},
     "output_type": "display_data"
    }
   ],
   "source": [
    "print('Resulting compromise ranking:')\n",
    "display(Matrix(compromise.HQ_compromise(rankings)[2]).T)"
   ]
  },
  {
   "cell_type": "markdown",
   "metadata": {},
   "source": [
    "- Improved borda"
   ]
  },
  {
   "cell_type": "code",
   "execution_count": 95,
   "metadata": {},
   "outputs": [
    {
     "name": "stdout",
     "output_type": "stream",
     "text": [
      "Resulting compromise ranking:\n"
     ]
    },
    {
     "data": {
      "text/latex": [
       "$\\displaystyle \\left[\\begin{matrix}2.0 & 6.0 & 7.0 & 3.0 & 4.0 & 8.0 & 5.0 & 1.0\\end{matrix}\\right]$"
      ],
      "text/plain": [
       "Matrix([[2.0, 6.0, 7.0, 3.0, 4.0, 8.0, 5.0, 1.0]])"
      ]
     },
     "metadata": {},
     "output_type": "display_data"
    }
   ],
   "source": [
    "print('Resulting compromise ranking:')\n",
    "display(Matrix(compromise.improved_borda(preferences, [1, -1])).T)"
   ]
  },
  {
   "cell_type": "markdown",
   "metadata": {},
   "source": [
    "### 5.2. HQ compromise additional informations <a id=\"25\"></a>"
   ]
  },
  {
   "cell_type": "markdown",
   "metadata": {},
   "source": [
    "HQ compromise method apart from resulting in the compromised ranking it provides `consensus index` and `trust index` and `weights` of each ranking which can be of help to decision-maker."
   ]
  },
  {
   "cell_type": "markdown",
   "metadata": {},
   "source": [
    "### 5.3. ICRA <a id=\"26\"></a>"
   ]
  },
  {
   "cell_type": "markdown",
   "metadata": {},
   "source": [
    "ICRA is presented separately as it provides more in-depth compromise seeking."
   ]
  },
  {
   "cell_type": "markdown",
   "metadata": {},
   "source": [
    "In this example the same initial preferences will be used"
   ]
  },
  {
   "cell_type": "code",
   "execution_count": 96,
   "metadata": {},
   "outputs": [
    {
     "name": "stdout",
     "output_type": "stream",
     "text": [
      "Resulting compromise ranking:\n"
     ]
    },
    {
     "data": {
      "text/latex": [
       "$\\displaystyle \\left[\\begin{matrix}3.0 & 6.0 & 7.0 & 2.0 & 4.0 & 8.0 & 5.0 & 1.0\\end{matrix}\\right]$"
      ],
      "text/plain": [
       "Matrix([[3.0, 6.0, 7.0, 2.0, 4.0, 8.0, 5.0, 1.0]])"
      ]
     },
     "metadata": {},
     "output_type": "display_data"
    }
   ],
   "source": [
    "import pymcdm.methods as pm\n",
    "\n",
    "topsis = pm.TOPSIS()\n",
    "vikor = pm.VIKOR()\n",
    "\n",
    "methods = {\n",
    "    topsis: ['matrix', 'weights', 'types'],\n",
    "    vikor: ['matrix', 'weights', 'types']\n",
    "    }\n",
    "\n",
    "ICRA_matrix = np.array([preferences[:, 0], preferences[:, 1]]).T\n",
    "method_types = np.array([1, -1])\n",
    "\n",
    "result = compromise.ICRA.iterative_compromise(methods, ICRA_matrix, method_types)\n",
    "print('Resulting compromise ranking:')\n",
    "display(Matrix(result.final_rankings[:, 0]).T)"
   ]
  },
  {
   "cell_type": "markdown",
   "metadata": {},
   "source": [
    "In the case of ICRA, we can visualize the preference distribution change."
   ]
  },
  {
   "cell_type": "code",
   "execution_count": 97,
   "metadata": {},
   "outputs": [
    {
     "data": {
      "image/png": "[encoded data removed]",
      "text/plain": [
       "<Figure size 540x108 with 2 Axes>"
      ]
     },
     "metadata": {},
     "output_type": "display_data"
    },
    {
     "data": {
      "image/png": "[encoded data removed]",
      "text/plain": [
       "<Figure size 540x108 with 2 Axes>"
      ]
     },
     "metadata": {},
     "output_type": "display_data"
    }
   ],
   "source": [
    "graphs.ICRA_pref_distribution(result, ['TOPSIS', 'VIKOR'], by='methods')"
   ]
  },
  {
   "cell_type": "code",
   "execution_count": 98,
   "metadata": {},
   "outputs": [
    {
     "data": {
      "image/png": "[encoded data removed]",
      "text/plain": [
       "<Figure size 540x108 with 2 Axes>"
      ]
     },
     "metadata": {},
     "output_type": "display_data"
    },
    {
     "data": {
      "image/png": "[encoded data removed]",
      "text/plain": [
       "<Figure size 540x108 with 2 Axes>"
      ]
     },
     "metadata": {},
     "output_type": "display_data"
    }
   ],
   "source": [
    "graphs.ICRA_pref_distribution(result, ['TOPSIS', 'VIKOR'], by='iters')"
   ]
  },
  {
   "cell_type": "markdown",
   "metadata": {},
   "source": [
    "---"
   ]
  },
  {
   "cell_type": "markdown",
   "metadata": {},
   "source": [
    "<a id=\"27\"></a><br/>\n",
    "\n",
    "## 6. Further use"
   ]
  },
  {
   "cell_type": "markdown",
   "metadata": {},
   "source": [
    "For most of the functions that modifies the decision matrix or weights vector, the library includes a wrapper for calculating the preference values and rankings for the returned results."
   ]
  },
  {
   "cell_type": "markdown",
   "metadata": {},
   "source": [
    "**Example**"
   ]
  },
  {
   "cell_type": "code",
   "execution_count": 99,
   "metadata": {},
   "outputs": [
    {
     "data": {
      "text/plain": [
       "[(0,\n",
       "  -0.01,\n",
       "  array([0.297 , 0.3015, 0.4015]),\n",
       "  array([0.50028959, 0.49410843, 0.06206391, 0.1937353 , 0.64723403,\n",
       "         0.79261742, 0.48749556, 0.53905776, 0.66423258, 0.42746351]),\n",
       "  array([ 5.,  6., 10.,  9.,  3.,  1.,  7.,  4.,  2.,  8.])),\n",
       " (0,\n",
       "  0.01,\n",
       "  array([0.303 , 0.2985, 0.3985]),\n",
       "  array([0.50138599, 0.49713211, 0.06150073, 0.19535403, 0.64355049,\n",
       "         0.79375272, 0.48770151, 0.53911881, 0.66730357, 0.42947792]),\n",
       "  array([ 5.,  6., 10.,  9.,  3.,  1.,  7.,  4.,  2.,  8.])),\n",
       " (0,\n",
       "  -0.02,\n",
       "  array([0.294, 0.303, 0.403]),\n",
       "  array([0.49974638, 0.49261256, 0.06234157, 0.19293055, 0.64906006,\n",
       "         0.79205653, 0.48739981, 0.53902841, 0.66271177, 0.42646564]),\n",
       "  array([ 5.,  6., 10.,  9.,  3.,  1.,  7.,  4.,  2.,  8.])),\n",
       " (0,\n",
       "  0.02,\n",
       "  array([0.306, 0.297, 0.397]),\n",
       "  array([0.50193901, 0.49865934, 0.06121525, 0.19616763, 0.64169362,\n",
       "         0.79432698, 0.48781176, 0.53915049, 0.66885319, 0.43049406]),\n",
       "  array([ 5.,  6., 10.,  9.,  3.,  1.,  7.,  4.,  2.,  8.])),\n",
       " (0,\n",
       "  -0.03,\n",
       "  array([0.291 , 0.3045, 0.4045]),\n",
       "  array([0.49920659, 0.49112772, 0.06261657, 0.19212913, 0.65087518,\n",
       "         0.79150024, 0.48730882, 0.53899984, 0.66120112, 0.42547424]),\n",
       "  array([ 5.,  6., 10.,  9.,  3.,  1.,  7.,  4.,  2.,  8.])),\n",
       " (0,\n",
       "  0.03,\n",
       "  array([0.309 , 0.2955, 0.3955]),\n",
       "  array([0.50249514, 0.50019643, 0.06092723, 0.1969838 , 0.63982711,\n",
       "         0.79490556, 0.48792689, 0.53918294, 0.67041185, 0.43151589]),\n",
       "  array([ 5.,  6., 10.,  9.,  3.,  1.,  7.,  4.,  2.,  8.])),\n",
       " (0,\n",
       "  -0.04,\n",
       "  array([0.288, 0.306, 0.406]),\n",
       "  array([0.4986703 , 0.48965419, 0.06288888, 0.19133123, 0.65267906,\n",
       "         0.79094861, 0.48722256, 0.53897207, 0.6597009 , 0.4244895 ]),\n",
       "  array([ 5.,  6., 10.,  9.,  3.,  1.,  7.,  4.,  2.,  8.])),\n",
       " (0,\n",
       "  0.04,\n",
       "  array([0.312, 0.294, 0.394]),\n",
       "  array([0.50305429, 0.5017431 , 0.0606367 , 0.19780235, 0.63795128,\n",
       "         0.79548838, 0.48804693, 0.53921615, 0.67197929, 0.43254321]),\n",
       "  array([ 5.,  6., 10.,  9.,  3.,  1.,  7.,  4.,  2.,  8.])),\n",
       " (0,\n",
       "  -0.05,\n",
       "  array([0.285 , 0.3075, 0.4075]),\n",
       "  array([0.49813759, 0.48819227, 0.06315849, 0.19053704, 0.65447139,\n",
       "         0.79040171, 0.48714101, 0.53894509, 0.6582114 , 0.42351161]),\n",
       "  array([ 5.,  6., 10.,  9.,  3.,  1.,  7.,  4.,  2.,  8.])),\n",
       " (0,\n",
       "  0.05,\n",
       "  array([0.315 , 0.2925, 0.3925]),\n",
       "  array([0.50361637, 0.50329904, 0.06034367, 0.19862308, 0.63606643,\n",
       "         0.79607534, 0.48817191, 0.53925012, 0.67355521, 0.43357582]),\n",
       "  array([ 5.,  6., 10.,  9.,  3.,  1.,  7.,  4.,  2.,  8.])),\n",
       " (1,\n",
       "  -0.01,\n",
       "  array([0.3015, 0.297 , 0.4015]),\n",
       "  array([0.50349716, 0.49529034, 0.06113797, 0.19516679, 0.64587866,\n",
       "         0.79502061, 0.48508124, 0.53870683, 0.66572117, 0.43026064]),\n",
       "  array([ 5.,  6., 10.,  9.,  3.,  1.,  7.,  4.,  2.,  8.])),\n",
       " (1,\n",
       "  0.01,\n",
       "  array([0.2985, 0.303 , 0.3985]),\n",
       "  array([0.49817248, 0.49594496, 0.06242784, 0.19391433, 0.64490834,\n",
       "         0.79134498, 0.49011651, 0.53947213, 0.66580796, 0.42666488]),\n",
       "  array([ 5.,  6., 10.,  9.,  3.,  1.,  7.,  4.,  2.,  8.])),\n",
       " (1,\n",
       "  -0.02,\n",
       "  array([0.303, 0.294, 0.403]),\n",
       "  array([0.50615514, 0.49497091, 0.06049095, 0.19578502, 0.64635209,\n",
       "         0.7968581 , 0.48257224, 0.538329  , 0.66568163, 0.43204347]),\n",
       "  array([ 5.,  6., 10.,  9.,  3.,  1.,  7.,  4.,  2.,  8.])),\n",
       " (1,\n",
       "  0.02,\n",
       "  array([0.297, 0.306, 0.397]),\n",
       "  array([0.49550648, 0.49628004, 0.06307056, 0.19328029, 0.64441155,\n",
       "         0.78950726, 0.49264204, 0.53985945, 0.66585523, 0.42485259]),\n",
       "  array([ 6.,  5., 10.,  9.,  3.,  1.,  7.,  4.,  2.,  8.])),\n",
       " (1,\n",
       "  -0.03,\n",
       "  array([0.3045, 0.291 , 0.4045]),\n",
       "  array([0.50880973, 0.49465679, 0.05984265, 0.19639779, 0.64681764,\n",
       "         0.79869508, 0.48006951, 0.5379545 , 0.66564465, 0.43381585]),\n",
       "  array([ 5.,  6., 10.,  9.,  3.,  1.,  7.,  4.,  2.,  8.])),\n",
       " (1,\n",
       "  0.03,\n",
       "  array([0.2955, 0.309 , 0.3955]),\n",
       "  array([0.4928385 , 0.49662025, 0.0637117 , 0.19264118, 0.64390708,\n",
       "         0.78766987, 0.49517237, 0.54024977, 0.66590508, 0.4230311 ]),\n",
       "  array([ 7.,  5., 10.,  9.,  3.,  1.,  6.,  4.,  2.,  8.])),\n",
       " (1,\n",
       "  -0.04,\n",
       "  array([0.306, 0.288, 0.406]),\n",
       "  array([0.51146055, 0.49434802, 0.05919313, 0.19700502, 0.64727526,\n",
       "         0.80053134, 0.47757344, 0.5375834 , 0.66561021, 0.43557746]),\n",
       "  array([ 5.,  6., 10.,  9.,  3.,  1.,  7.,  4.,  2.,  8.])),\n",
       " (1,\n",
       "  0.04,\n",
       "  array([0.294, 0.312, 0.394]),\n",
       "  array([0.49016885, 0.49696551, 0.0643512 , 0.1919971 , 0.64339499,\n",
       "         0.78583304, 0.49770713, 0.540643  , 0.66595753, 0.42120075]),\n",
       "  array([ 7.,  6., 10.,  9.,  3.,  1.,  5.,  4.,  2.,  8.])),\n",
       " (1,\n",
       "  -0.05,\n",
       "  array([0.3075, 0.285 , 0.4075]),\n",
       "  array([0.51410722, 0.49404464, 0.05854245, 0.19760661, 0.64772492,\n",
       "         0.80236666, 0.47508441, 0.53721578, 0.66557832, 0.43732799]),\n",
       "  array([ 5.,  6., 10.,  9.,  3.,  1.,  7.,  4.,  2.,  8.])),\n",
       " (1,\n",
       "  0.05,\n",
       "  array([0.2925, 0.315 , 0.3925]),\n",
       "  array([0.48749788, 0.49731578, 0.06498898, 0.19134816, 0.64287534,\n",
       "         0.78399695, 0.50024598, 0.54103906, 0.66601258, 0.41936184]),\n",
       "  array([ 7.,  6., 10.,  9.,  3.,  1.,  5.,  4.,  2.,  8.])),\n",
       " (2,\n",
       "  -0.01,\n",
       "  array([0.302, 0.302, 0.396]),\n",
       "  array([0.49801982, 0.49806877, 0.06226663, 0.19478732, 0.64229315,\n",
       "         0.79149211, 0.49109067, 0.5396392 , 0.66787078, 0.42741384]),\n",
       "  array([ 6.,  5., 10.,  9.,  3.,  1.,  7.,  4.,  2.,  8.])),\n",
       " (2,\n",
       "  0.01,\n",
       "  array([0.298, 0.298, 0.404]),\n",
       "  array([0.50365745, 0.49316445, 0.06129773, 0.19429895, 0.64849832,\n",
       "         0.79487915, 0.48410238, 0.53853743, 0.66366047, 0.42952223]),\n",
       "  array([ 5.,  6., 10.,  9.,  3.,  1.,  7.,  4.,  2.,  8.])),\n",
       " (2,\n",
       "  -0.02,\n",
       "  array([0.304, 0.304, 0.392]),\n",
       "  array([0.49520908, 0.50052498, 0.06274662, 0.19503123, 0.63918604,\n",
       "         0.78980738, 0.49458559, 0.54019112, 0.66998239, 0.42636114]),\n",
       "  array([ 6.,  5., 10.,  9.,  3.,  1.,  7.,  4.,  2.,  8.])),\n",
       " (2,\n",
       "  0.02,\n",
       "  array([0.296, 0.296, 0.408]),\n",
       "  array([0.50648309, 0.49071765, 0.06080908, 0.19405469, 0.65159551,\n",
       "         0.79658064, 0.48060986, 0.53798803, 0.66156294, 0.43057711]),\n",
       "  array([ 5.,  6., 10.,  9.,  3.,  1.,  7.,  4.,  2.,  8.])),\n",
       " (2,\n",
       "  -0.03,\n",
       "  array([0.306, 0.306, 0.388]),\n",
       "  array([0.49240456, 0.50298297, 0.06322347, 0.19527483, 0.63607651,\n",
       "         0.78812906, 0.49808042, 0.54074343, 0.67209752, 0.42531   ]),\n",
       "  array([ 7.,  5., 10.,  9.,  3.,  1.,  6.,  4.,  2.,  8.])),\n",
       " (2,\n",
       "  0.03,\n",
       "  array([0.294, 0.294, 0.412]),\n",
       "  array([0.50931245, 0.4882753 , 0.06031779, 0.19381052, 0.65468855,\n",
       "         0.79828692, 0.47711898, 0.53743992, 0.65947124, 0.4316319 ]),\n",
       "  array([ 5.,  6., 10.,  9.,  3.,  1.,  7.,  4.,  2.,  8.])),\n",
       " (2,\n",
       "  -0.04,\n",
       "  array([0.308, 0.308, 0.384]),\n",
       "  array([0.4896069 , 0.50544208, 0.06369707, 0.19551801, 0.63296503,\n",
       "         0.78645756, 0.50157472, 0.5412959 , 0.67421558, 0.42426081]),\n",
       "  array([ 7.,  5., 10.,  9.,  3.,  1.,  6.,  4.,  2.,  8.])),\n",
       " (2,\n",
       "  0.04,\n",
       "  array([0.292, 0.292, 0.416]),\n",
       "  array([0.51214493, 0.48583802, 0.05982399, 0.19356653, 0.65777705,\n",
       "         0.79999758, 0.47363016, 0.5368933 , 0.65738594, 0.4326862 ]),\n",
       "  array([ 5.,  6., 10.,  9.,  2.,  1.,  7.,  4.,  3.,  8.])),\n",
       " (2,\n",
       "  -0.05,\n",
       "  array([0.31, 0.31, 0.38]),\n",
       "  array([0.48681673, 0.50790161, 0.06416728, 0.19576067, 0.62985209,\n",
       "         0.78479331, 0.50506801, 0.54184829, 0.67633595, 0.423214  ]),\n",
       "  array([ 7.,  5., 10.,  9.,  3.,  1.,  6.,  4.,  2.,  8.])),\n",
       " (2,\n",
       "  0.05,\n",
       "  array([0.29, 0.29, 0.42]),\n",
       "  array([0.51497992, 0.48340646, 0.05932781, 0.19332283, 0.66086063,\n",
       "         0.80171223, 0.47014378, 0.53634839, 0.65530758, 0.43373961]),\n",
       "  array([ 5.,  6., 10.,  9.,  2.,  1.,  7.,  4.,  3.,  8.]))]"
      ]
     },
     "execution_count": 99,
     "metadata": {},
     "output_type": "execute_result"
    }
   ],
   "source": [
    "import pymcdm.methods as pm\n",
    "\n",
    "weights = np.array([0.3, 0.3, 0.4])\n",
    "percentage = 5\n",
    "results = criteria.percentage_modification(weights, percentage)\n",
    "\n",
    "topsis = pm.TOPSIS()\n",
    "kwargs = {\n",
    "    'matrix': np.random.random((10, 3)),\n",
    "    'weights': weights,\n",
    "    'types': np.ones(3)\n",
    "}\n",
    "\n",
    "preferences_results = calculate_preference(criteria.percentage_modification, results, topsis, kwargs, only_preference=False, method_type=1)\n",
    "preferences_results"
   ]
  },
  {
   "cell_type": "markdown",
   "metadata": {},
   "source": [
    "#### In the case of analyzing different criteria weights, we are left with multiple rankings, which for easier analysis can be further visualized."
   ]
  },
  {
   "cell_type": "code",
   "execution_count": 100,
   "metadata": {},
   "outputs": [
    {
     "data": {
      "image/png": "[encoded data removed]",
      "text/plain": [
       "<Figure size 432x288 with 1 Axes>"
      ]
     },
     "metadata": {
      "needs_background": "light"
     },
     "output_type": "display_data"
    }
   ],
   "source": [
    "graphs.rankings_distribution(np.array([*np.array(preferences_results, dtype='object')[:, 4]]), title='TOPSIS ranking distribution')\n",
    "plt.show()"
   ]
  }
 ],
 "metadata": {
  "kernelspec": {
   "display_name": "Python 3.10.5 64-bit",
   "language": "python",
   "name": "python3"
  },
  "language_info": {
   "codemirror_mode": {
    "name": "ipython",
    "version": 3
   },
   "file_extension": ".py",
   "mimetype": "text/x-python",
   "name": "python",
   "nbconvert_exporter": "python",
   "pygments_lexer": "ipython3",
   "version": "3.10.5"
  },
  "orig_nbformat": 4,
  "vscode": {
   "interpreter": {
    "hash": "eabca979b0553fa6d87e9a00c352604d3b703d4afc9641643dd42376492b80f6"
   }
  }
 },
 "nbformat": 4,
 "nbformat_minor": 2
}
