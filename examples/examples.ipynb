{
 "cells": [
  {
   "cell_type": "markdown",
   "metadata": {},
   "source": [
    "# <center> <div align=\"center\">PySensMCDA - Illustrative examples</div>\n",
    "<br/>"
   ]
  },
  {
   "cell_type": "markdown",
   "metadata": {},
   "source": [
    "**Note**: *this notebook was created for the purpose of providing an instruction of decision problem sensitivity analysis. For in-depth presentation of graphs submodule see* [`graphs_examples.ipynb`](./graphs_examples.ipynb)\n",
    "\n",
    "<br/>"
   ]
  },
  {
   "cell_type": "code",
   "execution_count": 2,
   "metadata": {},
   "outputs": [],
   "source": [
    "## Necessary imports for the notebook to work\n",
    "from pysensmcda import alternative, criteria, compromise, graphs, probabilistic, ranking, calculate_preference\n",
    "import numpy as np\n",
    "import matplotlib.pyplot as plt"
   ]
  },
  {
   "cell_type": "code",
   "execution_count": 3,
   "metadata": {},
   "outputs": [],
   "source": [
    "## Additional imports and function for output formatting\n",
    "from sympy import Matrix\n",
    "from IPython.display import display, Markdown\n",
    "from examples_pretty_print import *"
   ]
  },
  {
   "cell_type": "markdown",
   "metadata": {},
   "source": [
    "<br/>\n",
    "\n",
    "### **Table of contents:**\n",
    "1. [Alternative submodule:](#1)\n",
    "    1. [Discrete modification](#2)\n",
    "    1. [Percentage modification](#3)\n",
    "    1. [Range modification](#4)\n",
    "    1. [Alternative removal](#5)\n",
    "    1. [General](#6)\n",
    "1. [Criteria submodule:](#7)\n",
    "    1. [Random distribution - weights generation](#8)\n",
    "    1. [Percentage modification](#9)\n",
    "    1. [Range modification](#10)\n",
    "    1. [Weights scenarios](#11)\n",
    "    1. [Cirteria identification](#12)\n",
    "    1. [Criteria removal](#13)\n",
    "1. [Probabilistic submodule:](#14)\n",
    "    1. [Monte carlo weights generation](#15)\n",
    "    1. [Perturbated matrix](#16)\n",
    "    1. [Perturbated weights](#17)\n",
    "1. [Ranking submodule:](#18)\n",
    "    1. [Ranking alteration](#19)\n",
    "    1. [Demotion](#20)\n",
    "    1. [Promotion](#21)\n",
    "    1. [Fuzzy ranking](#22)\n",
    "1. [Compromise submodule:](#23)\n",
    "    1. [General](#24)\n",
    "    1. [Half-quadratic compromise additional informations](#25)\n",
    "    1. [ICRA](#26)\n",
    "1. [Further use](#27)"
   ]
  },
  {
   "cell_type": "markdown",
   "metadata": {},
   "source": [
    "<a id=\"1\"></a><br/>\n",
    "\n",
    "## 1. Alternative submodule "
   ]
  },
  {
   "cell_type": "markdown",
   "metadata": {},
   "source": [
    "**Note**: Alternative submodule includes functions for modification of values along alternatives in decision matrix and alternative removal."
   ]
  },
  {
   "cell_type": "markdown",
   "metadata": {},
   "source": [
    "Let us consider following matrix, this matrix will be taken as an initial matrix for further function calls"
   ]
  },
  {
   "cell_type": "code",
   "execution_count": 4,
   "metadata": {},
   "outputs": [
    {
     "name": "stdout",
     "output_type": "stream",
     "text": [
      "Initial matrix:\n"
     ]
    },
    {
     "data": {
      "text/latex": [
       "$\\displaystyle \\left[\\begin{matrix}4 & 1 & 6\\\\2 & 6 & 3\\\\9 & 5 & 7\\end{matrix}\\right]$"
      ],
      "text/plain": [
       "Matrix([\n",
       "[4, 1, 6],\n",
       "[2, 6, 3],\n",
       "[9, 5, 7]])"
      ]
     },
     "metadata": {},
     "output_type": "display_data"
    }
   ],
   "source": [
    "matrix = np.array([\n",
    "[4, 1, 6],\n",
    "[2, 6, 3],\n",
    "[9, 5, 7],\n",
    "])\n",
    "print('Initial matrix:')\n",
    "display(Matrix(matrix))"
   ]
  },
  {
   "cell_type": "markdown",
   "metadata": {},
   "source": [
    "### 1.1. Discrete modification <a id=\"2\"></a>"
   ]
  },
  {
   "cell_type": "markdown",
   "metadata": {},
   "source": [
    "For each criterion we can define discrete values that will be set as a value. All possible combinations are generated."
   ]
  },
  {
   "cell_type": "code",
   "execution_count": 5,
   "metadata": {},
   "outputs": [
    {
     "name": "stdout",
     "output_type": "stream",
     "text": [
      "Alternative index: 0\n",
      "Criteria index: 0\n",
      "Change: 2\n",
      "Resulting decision matrix:\n"
     ]
    },
    {
     "data": {
      "text/latex": [
       "$\\displaystyle \\left[\\begin{matrix}2.0 & 1.0 & 6.0\\\\2.0 & 6.0 & 3.0\\\\9.0 & 5.0 & 7.0\\end{matrix}\\right]$"
      ],
      "text/plain": [
       "Matrix([\n",
       "[2.0, 1.0, 6.0],\n",
       "[2.0, 6.0, 3.0],\n",
       "[9.0, 5.0, 7.0]])"
      ]
     },
     "metadata": {},
     "output_type": "display_data"
    }
   ],
   "source": [
    "discrete_values = np.array([[2, 3, 4], [1, 5, 6], [3, 4]], dtype='object')\n",
    "pretty_print_alternative(alternative.discrete_modification(matrix, discrete_values)[0])"
   ]
  },
  {
   "cell_type": "markdown",
   "metadata": {},
   "source": [
    "The value of alternative 1 in the first criterion was changed for discrete value '2'"
   ]
  },
  {
   "cell_type": "markdown",
   "metadata": {},
   "source": [
    "### 1.2. Percentage modification <a id=\"3\"></a>"
   ]
  },
  {
   "cell_type": "markdown",
   "metadata": {},
   "source": [
    "Percentage values can be set as an `int` to make it the same for all criteria, or by an array to specify value for specific criterion."
   ]
  },
  {
   "cell_type": "code",
   "execution_count": 6,
   "metadata": {},
   "outputs": [
    {
     "name": "stdout",
     "output_type": "stream",
     "text": [
      "Alternative index: 0\n",
      "Criteria index: 0\n",
      "Change: -0.01\n",
      "Resulting decision matrix:\n"
     ]
    },
    {
     "data": {
      "text/latex": [
       "$\\displaystyle \\left[\\begin{matrix}3.96 & 1.0 & 6.0\\\\2.0 & 6.0 & 3.0\\\\9.0 & 5.0 & 7.0\\end{matrix}\\right]$"
      ],
      "text/plain": [
       "Matrix([\n",
       "[3.96, 1.0, 6.0],\n",
       "[ 2.0, 6.0, 3.0],\n",
       "[ 9.0, 5.0, 7.0]])"
      ]
     },
     "metadata": {},
     "output_type": "display_data"
    }
   ],
   "source": [
    "percentages = 5\n",
    "# percentages = np.array([3, 2, 3])\n",
    "pretty_print_alternative(alternative.percentage_modification(matrix, percentages)[0])"
   ]
  },
  {
   "cell_type": "markdown",
   "metadata": {},
   "source": [
    "In the case of percentage modification the value of first alternative under first criterion changed by -0.01, which means -1%"
   ]
  },
  {
   "cell_type": "markdown",
   "metadata": {},
   "source": [
    "### 1.3. Range modification <a id=\"4\"></a>"
   ]
  },
  {
   "cell_type": "markdown",
   "metadata": {},
   "source": [
    "Range values should be specified for each criterion (2d-array) or for each value in decision matrix (3d-array)."
   ]
  },
  {
   "cell_type": "code",
   "execution_count": 7,
   "metadata": {},
   "outputs": [
    {
     "name": "stdout",
     "output_type": "stream",
     "text": [
      "Alternative index: 0\n",
      "Criteria index: 0\n",
      "Change: 6.0\n",
      "Resulting decision matrix:\n"
     ]
    },
    {
     "data": {
      "text/latex": [
       "$\\displaystyle \\left[\\begin{matrix}6.0 & 1.0 & 6.0\\\\2.0 & 6.0 & 3.0\\\\9.0 & 5.0 & 7.0\\end{matrix}\\right]$"
      ],
      "text/plain": [
       "Matrix([\n",
       "[6.0, 1.0, 6.0],\n",
       "[2.0, 6.0, 3.0],\n",
       "[9.0, 5.0, 7.0]])"
      ]
     },
     "metadata": {},
     "output_type": "display_data"
    }
   ],
   "source": [
    "range_values = np.array([[6, 8], [2, 4], [4, 6.5]])\n",
    "range_modification_results = alternative.range_modification(matrix, range_values)\n",
    "pretty_print_alternative(range_modification_results[0])"
   ]
  },
  {
   "cell_type": "markdown",
   "metadata": {},
   "source": [
    "The range modification modifies values in specified range, if step is not passed, it is set to 1. The value of first alternative, first criterion was set to 6. In the next step it will be set to 7."
   ]
  },
  {
   "cell_type": "code",
   "execution_count": 8,
   "metadata": {},
   "outputs": [
    {
     "data": {
      "text/markdown": [
       "##### **Next step**"
      ],
      "text/plain": [
       "<IPython.core.display.Markdown object>"
      ]
     },
     "metadata": {},
     "output_type": "display_data"
    },
    {
     "name": "stdout",
     "output_type": "stream",
     "text": [
      "Alternative index: 0\n",
      "Criteria index: 0\n",
      "Change: 7.0\n",
      "Resulting decision matrix:\n"
     ]
    },
    {
     "data": {
      "text/latex": [
       "$\\displaystyle \\left[\\begin{matrix}7.0 & 1.0 & 6.0\\\\2.0 & 6.0 & 3.0\\\\9.0 & 5.0 & 7.0\\end{matrix}\\right]$"
      ],
      "text/plain": [
       "Matrix([\n",
       "[7.0, 1.0, 6.0],\n",
       "[2.0, 6.0, 3.0],\n",
       "[9.0, 5.0, 7.0]])"
      ]
     },
     "metadata": {},
     "output_type": "display_data"
    }
   ],
   "source": [
    "display(Markdown('##### **Next step**'))\n",
    "pretty_print_alternative(range_modification_results[1])"
   ]
  },
  {
   "cell_type": "markdown",
   "metadata": {},
   "source": [
    "### 1.4. Alternative removal <a id=\"5\"></a>"
   ]
  },
  {
   "cell_type": "code",
   "execution_count": 9,
   "metadata": {},
   "outputs": [
    {
     "name": "stdout",
     "output_type": "stream",
     "text": [
      "Alternative index: 0\n",
      "Resulting decision matrix:\n"
     ]
    },
    {
     "data": {
      "text/latex": [
       "$\\displaystyle \\left[\\begin{matrix}2 & 6 & 3\\\\9 & 5 & 7\\end{matrix}\\right]$"
      ],
      "text/plain": [
       "Matrix([\n",
       "[2, 6, 3],\n",
       "[9, 5, 7]])"
      ]
     },
     "metadata": {},
     "output_type": "display_data"
    }
   ],
   "source": [
    "pretty_print_alternative_removal(alternative.remove_alternatives(matrix)[0])"
   ]
  },
  {
   "cell_type": "code",
   "execution_count": 10,
   "metadata": {},
   "outputs": [
    {
     "data": {
      "text/markdown": [
       "##### **Next step**"
      ],
      "text/plain": [
       "<IPython.core.display.Markdown object>"
      ]
     },
     "metadata": {},
     "output_type": "display_data"
    },
    {
     "name": "stdout",
     "output_type": "stream",
     "text": [
      "Alternative index: 1\n",
      "Resulting decision matrix:\n"
     ]
    },
    {
     "data": {
      "text/latex": [
       "$\\displaystyle \\left[\\begin{matrix}4 & 1 & 6\\\\9 & 5 & 7\\end{matrix}\\right]$"
      ],
      "text/plain": [
       "Matrix([\n",
       "[4, 1, 6],\n",
       "[9, 5, 7]])"
      ]
     },
     "metadata": {},
     "output_type": "display_data"
    }
   ],
   "source": [
    "display(Markdown('##### **Next step**'))\n",
    "pretty_print_alternative_removal(alternative.remove_alternatives(matrix)[1])"
   ]
  },
  {
   "cell_type": "markdown",
   "metadata": {},
   "source": [
    "### 1.5. General <a id=\"6\"></a>"
   ]
  },
  {
   "cell_type": "markdown",
   "metadata": {},
   "source": [
    "All functions provide additional parameters."
   ]
  },
  {
   "cell_type": "markdown",
   "metadata": {},
   "source": [
    "- Parameter `indexes` - provides a way to restrict the use of function to specific criteria. **In the case of alternative removal, this parameter specifies indexes of alternatives that should be removed**\n",
    "- Parameter `direction` *(only percentage function)* - specifies direction of the modification for each column in the matrix. \n",
    "- Parameter `step` *(only range and percentage functions)* - specifies step of next change"
   ]
  },
  {
   "cell_type": "markdown",
   "metadata": {},
   "source": [
    "**For example**:"
   ]
  },
  {
   "cell_type": "code",
   "execution_count": 11,
   "metadata": {},
   "outputs": [
    {
     "data": {
      "text/markdown": [
       "##### **This will provide change for all alternative at first for the first and third criterion from step to percentage value:**"
      ],
      "text/plain": [
       "<IPython.core.display.Markdown object>"
      ]
     },
     "metadata": {},
     "output_type": "display_data"
    },
    {
     "name": "stdout",
     "output_type": "stream",
     "text": [
      "Alternative index: 0\n",
      "Criteria index: (0, 2)\n",
      "Change: (-0.02, -0.03)\n",
      "Resulting decision matrix:\n"
     ]
    },
    {
     "data": {
      "text/latex": [
       "$\\displaystyle \\left[\\begin{matrix}3.92 & 1.0 & 5.82\\\\2.0 & 6.0 & 3.0\\\\9.0 & 5.0 & 7.0\\end{matrix}\\right]$"
      ],
      "text/plain": [
       "Matrix([\n",
       "[3.92, 1.0, 5.82],\n",
       "[ 2.0, 6.0,  3.0],\n",
       "[ 9.0, 5.0,  7.0]])"
      ]
     },
     "metadata": {},
     "output_type": "display_data"
    },
    {
     "data": {
      "text/markdown": [
       "##### **And separately for all alternatives for second criterion:**"
      ],
      "text/plain": [
       "<IPython.core.display.Markdown object>"
      ]
     },
     "metadata": {},
     "output_type": "display_data"
    },
    {
     "name": "stdout",
     "output_type": "stream",
     "text": [
      "Alternative index: 0\n",
      "Criteria index: 1\n",
      "Change: 0.02\n",
      "Resulting decision matrix:\n"
     ]
    },
    {
     "data": {
      "text/latex": [
       "$\\displaystyle \\left[\\begin{matrix}4.0 & 1.02 & 6.0\\\\2.0 & 6.0 & 3.0\\\\9.0 & 5.0 & 7.0\\end{matrix}\\right]$"
      ],
      "text/plain": [
       "Matrix([\n",
       "[4.0, 1.02, 6.0],\n",
       "[2.0,  6.0, 3.0],\n",
       "[9.0,  5.0, 7.0]])"
      ]
     },
     "metadata": {},
     "output_type": "display_data"
    }
   ],
   "source": [
    "direction = np.array([-1, 1, -1])\n",
    "percentages = np.array([2, 4, 9])\n",
    "indexes = np.array([[0, 2], 1], dtype='object')\n",
    "step = np.array([2, 2, 3])\n",
    "results = alternative.percentage_modification(matrix, percentages, direction, indexes, step)\n",
    "display(Markdown('##### **This will provide change for all alternative at first for the first and third criterion from step to percentage value:**'))\n",
    "pretty_print_alternative(results[0])\n",
    "display(Markdown('##### **And separately for all alternatives for second criterion:**'))\n",
    "pretty_print_alternative(results[3])"
   ]
  },
  {
   "cell_type": "markdown",
   "metadata": {},
   "source": [
    "---"
   ]
  },
  {
   "cell_type": "markdown",
   "metadata": {},
   "source": [
    "<a id=\"7\"></a><br>\n",
    "\n",
    "## 2. Criteria submodule"
   ]
  },
  {
   "cell_type": "markdown",
   "metadata": {},
   "source": [
    "**Note**: Criteria submodule includes functions for criteria removal and identification and weights generation."
   ]
  },
  {
   "cell_type": "markdown",
   "metadata": {},
   "source": [
    "### 2.1. Random distribution - weights generation <a id=\"8\"></a>"
   ]
  },
  {
   "cell_type": "markdown",
   "metadata": {},
   "source": [
    "This part of the submodule is solely dedicated to single weights vector generation.<br/>\n",
    "For example let us generate vector of four weights ($n = 4$)."
   ]
  },
  {
   "cell_type": "code",
   "execution_count": 12,
   "metadata": {},
   "outputs": [],
   "source": [
    "n = 4"
   ]
  },
  {
   "cell_type": "markdown",
   "metadata": {},
   "source": [
    "- Chisquare distribution\n",
    "    - `df` (Number of degrees of freedom)"
   ]
  },
  {
   "cell_type": "code",
   "execution_count": 13,
   "metadata": {},
   "outputs": [
    {
     "name": "stdout",
     "output_type": "stream",
     "text": [
      "Resulting weights vector (example):\n"
     ]
    },
    {
     "data": {
      "text/latex": [
       "$\\displaystyle \\left[\\begin{matrix}0.486987 & 0.308717 & 0.201018 & 0.003278\\end{matrix}\\right]$"
      ],
      "text/plain": [
       "Matrix([[0.486987, 0.308717, 0.201018, 0.003278]])"
      ]
     },
     "metadata": {},
     "output_type": "display_data"
    }
   ],
   "source": [
    "weights = criteria.random_distribution.chisquare_distribution(n, df=1)\n",
    "pretty_print_weights(np.round(weights, 6))"
   ]
  },
  {
   "cell_type": "markdown",
   "metadata": {},
   "source": [
    "- Laplace distribution:\n",
    "    - `loc` (The position of distribution peak)\n",
    "    - `scale` (The exponential decay)"
   ]
  },
  {
   "cell_type": "code",
   "execution_count": 14,
   "metadata": {},
   "outputs": [
    {
     "name": "stdout",
     "output_type": "stream",
     "text": [
      "Resulting weights vector (example):\n"
     ]
    },
    {
     "data": {
      "text/latex": [
       "$\\displaystyle \\left[\\begin{matrix}0.344329 & 0.224245 & 0.218367 & 0.213058\\end{matrix}\\right]$"
      ],
      "text/plain": [
       "Matrix([[0.344329, 0.224245, 0.218367, 0.213058]])"
      ]
     },
     "metadata": {},
     "output_type": "display_data"
    }
   ],
   "source": [
    "weights = criteria.random_distribution.laplace_distribution(n, loc=0, scale=1)\n",
    "pretty_print_weights(np.round(weights, 6))"
   ]
  },
  {
   "cell_type": "markdown",
   "metadata": {},
   "source": [
    "- Normal distribution:\n",
    "    - `loc` (Mean of the normal distribution)\n",
    "    - `scale` (Standard deviation of the normal distribution)"
   ]
  },
  {
   "cell_type": "code",
   "execution_count": 15,
   "metadata": {},
   "outputs": [
    {
     "name": "stdout",
     "output_type": "stream",
     "text": [
      "Resulting weights vector (example):\n"
     ]
    },
    {
     "data": {
      "text/latex": [
       "$\\displaystyle \\left[\\begin{matrix}0.013729 & 0.558905 & 0.32626 & 0.101106\\end{matrix}\\right]$"
      ],
      "text/plain": [
       "Matrix([[0.013729, 0.558905, 0.32626, 0.101106]])"
      ]
     },
     "metadata": {},
     "output_type": "display_data"
    }
   ],
   "source": [
    "weights = criteria.random_distribution.normal_distribution(n, loc=0, scale=1)\n",
    "pretty_print_weights(np.round(weights, 6))"
   ]
  },
  {
   "cell_type": "markdown",
   "metadata": {},
   "source": [
    "- Random distribution:\n",
    "    - No additional parameters"
   ]
  },
  {
   "cell_type": "code",
   "execution_count": 16,
   "metadata": {},
   "outputs": [
    {
     "name": "stdout",
     "output_type": "stream",
     "text": [
      "Resulting weights vector (example):\n"
     ]
    },
    {
     "data": {
      "text/latex": [
       "$\\displaystyle \\left[\\begin{matrix}0.370787 & 0.180018 & 0.160325 & 0.288869\\end{matrix}\\right]$"
      ],
      "text/plain": [
       "Matrix([[0.370787, 0.180018, 0.160325, 0.288869]])"
      ]
     },
     "metadata": {},
     "output_type": "display_data"
    }
   ],
   "source": [
    "weights = criteria.random_distribution.random_distribution(n)\n",
    "pretty_print_weights(np.round(weights, 6))"
   ]
  },
  {
   "cell_type": "markdown",
   "metadata": {},
   "source": [
    "- Triangular distribution\n",
    "    - `left` (The lower bound of the triangular distribution)\n",
    "    - `mode` (The mode of the triangular distribution)\n",
    "    - `right` (The upper bound of the triangular distribution)"
   ]
  },
  {
   "cell_type": "code",
   "execution_count": 17,
   "metadata": {},
   "outputs": [
    {
     "name": "stdout",
     "output_type": "stream",
     "text": [
      "Resulting weights vector (example):\n"
     ]
    },
    {
     "data": {
      "text/latex": [
       "$\\displaystyle \\left[\\begin{matrix}0.366717 & 0.25234 & 0.107168 & 0.273775\\end{matrix}\\right]$"
      ],
      "text/plain": [
       "Matrix([[0.366717, 0.25234, 0.107168, 0.273775]])"
      ]
     },
     "metadata": {},
     "output_type": "display_data"
    }
   ],
   "source": [
    "weights = criteria.random_distribution.triangular_distribution(n, left=0, mode=0.5, right=1)\n",
    "pretty_print_weights(np.round(weights, 6))"
   ]
  },
  {
   "cell_type": "markdown",
   "metadata": {},
   "source": [
    "- Uniform distribution:\n",
    "    - `low` (Lower bound of the uniform distribution)\n",
    "    - `high` (Upper bound of the uniform distribution)"
   ]
  },
  {
   "cell_type": "code",
   "execution_count": 18,
   "metadata": {},
   "outputs": [
    {
     "name": "stdout",
     "output_type": "stream",
     "text": [
      "Resulting weights vector (example):\n"
     ]
    },
    {
     "data": {
      "text/latex": [
       "$\\displaystyle \\left[\\begin{matrix}0.318414 & 0.265111 & 0.160258 & 0.256217\\end{matrix}\\right]$"
      ],
      "text/plain": [
       "Matrix([[0.318414, 0.265111, 0.160258, 0.256217]])"
      ]
     },
     "metadata": {},
     "output_type": "display_data"
    }
   ],
   "source": [
    "weights = criteria.random_distribution.uniform_distribution(n, low=0, high=1)\n",
    "pretty_print_weights(np.round(weights, 6))"
   ]
  },
  {
   "cell_type": "markdown",
   "metadata": {},
   "source": [
    "### 2.2. Percentage modification <a id=\"9\"></a>"
   ]
  },
  {
   "cell_type": "markdown",
   "metadata": {},
   "source": [
    "This function returns all possible modifications to the weights vector. Single weight is modified at one time, however rest of the weights are equally adjusted to provide a vector which sum is 1."
   ]
  },
  {
   "cell_type": "code",
   "execution_count": 19,
   "metadata": {},
   "outputs": [
    {
     "name": "stdout",
     "output_type": "stream",
     "text": [
      "Initial weights vector:\n"
     ]
    },
    {
     "data": {
      "text/latex": [
       "$\\displaystyle \\left[\\begin{matrix}0.3 & 0.3 & 0.4\\end{matrix}\\right]$"
      ],
      "text/plain": [
       "Matrix([[0.3, 0.3, 0.4]])"
      ]
     },
     "metadata": {},
     "output_type": "display_data"
    },
    {
     "name": "stdout",
     "output_type": "stream",
     "text": [
      "Modified weight index: 0\n",
      "Modification: -0.01\n",
      "Resulting weights vector:\n"
     ]
    },
    {
     "data": {
      "text/latex": [
       "$\\displaystyle \\left[\\begin{matrix}0.297 & 0.3015 & 0.4015\\end{matrix}\\right]$"
      ],
      "text/plain": [
       "Matrix([[0.297, 0.3015, 0.4015]])"
      ]
     },
     "metadata": {},
     "output_type": "display_data"
    }
   ],
   "source": [
    "weights = np.array([0.3, 0.3, 0.4])\n",
    "percentage = 5\n",
    "results = criteria.percentage_modification(weights, percentage)\n",
    "pretty_print_weights_generation(weights, results[0])"
   ]
  },
  {
   "cell_type": "markdown",
   "metadata": {},
   "source": [
    "Similarly to alternatives modification functions. Percentage modification for weights provides additional parameters:\n",
    "- `direction` - specifies the direction of the modification for each criterion weight\n",
    "- `indexes` - specifies indexes of the criteria weights to be modified\n",
    "- `step` - specifies step size for the percentage change."
   ]
  },
  {
   "cell_type": "markdown",
   "metadata": {},
   "source": [
    "We can further visualize the results."
   ]
  },
  {
   "cell_type": "code",
   "execution_count": 20,
   "metadata": {},
   "outputs": [
    {
     "data": {
      "application/vnd.jupyter.widget-view+json": {
       "model_id": "2cbd4b340e88459bbfcf02deec6de3f4",
       "version_major": 2,
       "version_minor": 0
      },
      "image/png": "[encoded data removed]",
      "text/html": [
       "\n",
       "            <div style=\"display: inline-block;\">\n",
       "                <div class=\"jupyter-widgets widget-label\" style=\"text-align: center;\">\n",
       "                    Figure\n",
       "                </div>\n",
       "                <img src='data:image/png;base64,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' width=640.0/>\n",
       "            </div>\n",
       "        "
      ],
      "text/plain": [
       "Canvas(toolbar=Toolbar(toolitems=[('Home', 'Reset original view', 'home', 'home'), ('Back', 'Back to previous …"
      ]
     },
     "metadata": {},
     "output_type": "display_data"
    }
   ],
   "source": [
    "%matplotlib widget\n",
    "# In the case of using sliders, the reference should be kept, so Python wouldn't GC\n",
    "ax, criteria_slider, change_slider = graphs.slider_weights_barplot(weights, results, percentage_change=True, annotate_bars=True)\n",
    "plt.show()"
   ]
  },
  {
   "cell_type": "markdown",
   "metadata": {},
   "source": [
    "### 2.3. Range modification <a id=\"10\"></a>"
   ]
  },
  {
   "cell_type": "markdown",
   "metadata": {},
   "source": [
    "Similarly to percentage modification this function returns all possible modifications to the weights vector. Single weight is modified at one time, however rest of the weights are equally adjusted to provide a vector which sum is 1."
   ]
  },
  {
   "cell_type": "code",
   "execution_count": 21,
   "metadata": {},
   "outputs": [
    {
     "name": "stdout",
     "output_type": "stream",
     "text": [
      "Initial weights vector:\n"
     ]
    },
    {
     "data": {
      "text/latex": [
       "$\\displaystyle \\left[\\begin{matrix}0.3 & 0.3 & 0.4\\end{matrix}\\right]$"
      ],
      "text/plain": [
       "Matrix([[0.3, 0.3, 0.4]])"
      ]
     },
     "metadata": {},
     "output_type": "display_data"
    },
    {
     "name": "stdout",
     "output_type": "stream",
     "text": [
      "Modified weight index: 0\n",
      "Modification: 0.25\n",
      "Resulting weights vector:\n"
     ]
    },
    {
     "data": {
      "text/latex": [
       "$\\displaystyle \\left[\\begin{matrix}0.25 & 0.325 & 0.425\\end{matrix}\\right]$"
      ],
      "text/plain": [
       "Matrix([[0.25, 0.325, 0.425]])"
      ]
     },
     "metadata": {},
     "output_type": "display_data"
    }
   ],
   "source": [
    "weights = np.array([0.3, 0.3, 0.4])\n",
    "range_values = np.array([[0.25, 0.3], [0.3, 0.35], [0.37, 0.43]])\n",
    "results = criteria.range_modification(weights, range_values)\n",
    "pretty_print_weights_generation(weights, results[0])"
   ]
  },
  {
   "cell_type": "markdown",
   "metadata": {},
   "source": [
    "**Note**: The range modification can be visualized similarly to percentage modification.\n",
    "\n",
    "Additional parameters:\n",
    "- `indexes` - specifies indexes of the criteria weights to be modified\n",
    "- `step` - specifies step size for the percentage change."
   ]
  },
  {
   "cell_type": "markdown",
   "metadata": {},
   "source": [
    "### 2.4. Weights scenarios generation <a id=\"11\"></a>"
   ]
  },
  {
   "cell_type": "markdown",
   "metadata": {},
   "source": [
    "This function generates all possible combination of weights for specified number of criteria with specified step."
   ]
  },
  {
   "cell_type": "markdown",
   "metadata": {},
   "source": [
    "- Parallel - it is advised to use parallel version, especially for more than five criteria, default saves results to file"
   ]
  },
  {
   "cell_type": "code",
   "execution_count": 22,
   "metadata": {},
   "outputs": [
    {
     "name": "stdout",
     "output_type": "stream",
     "text": [
      "Resulting weights vector (example):\n"
     ]
    },
    {
     "data": {
      "text/latex": [
       "$\\displaystyle \\left[\\begin{matrix}0.1 & 0.1 & 0.1 & 0.7\\end{matrix}\\right]$"
      ],
      "text/plain": [
       "Matrix([[0.1, 0.1, 0.1, 0.7]])"
      ]
     },
     "metadata": {},
     "output_type": "display_data"
    }
   ],
   "source": [
    "scenarios = criteria.generate_weights_scenarios(4, 0.1, 3, return_array=True, save_zeros=False)\n",
    "pretty_print_weights(scenarios[0])"
   ]
  },
  {
   "cell_type": "markdown",
   "metadata": {},
   "source": [
    "- Sequential - provides additional progress bar, does not utilize temporary files"
   ]
  },
  {
   "cell_type": "code",
   "execution_count": 23,
   "metadata": {},
   "outputs": [
    {
     "name": "stderr",
     "output_type": "stream",
     "text": [
      "100%|██████████| 286/286.0 [00:00<?, ?it/s]"
     ]
    },
    {
     "name": "stdout",
     "output_type": "stream",
     "text": [
      "Resulting weights vector (example):\n"
     ]
    },
    {
     "name": "stderr",
     "output_type": "stream",
     "text": [
      "\n"
     ]
    },
    {
     "data": {
      "text/latex": [
       "$\\displaystyle \\left[\\begin{matrix}0.1 & 0.7 & 0.1 & 0.1\\end{matrix}\\right]$"
      ],
      "text/plain": [
       "Matrix([[0.1, 0.7, 0.1, 0.1]])"
      ]
     },
     "metadata": {},
     "output_type": "display_data"
    }
   ],
   "source": [
    "scenarios = criteria.generate_weights_scenarios(4, 0.1, 3, sequential=True, return_array=True, save_zeros=False)\n",
    "pretty_print_weights(scenarios[0])"
   ]
  },
  {
   "cell_type": "markdown",
   "metadata": {},
   "source": [
    "### 2.5. Criteria removal <a id=\"12\"></a>"
   ]
  },
  {
   "cell_type": "markdown",
   "metadata": {},
   "source": [
    "This function removes specified criteria from decision matrix, adjusting weights so that the vector sums to 1. If no indexes are specified, all criteria are removed one by one."
   ]
  },
  {
   "cell_type": "code",
   "execution_count": 24,
   "metadata": {},
   "outputs": [
    {
     "name": "stdout",
     "output_type": "stream",
     "text": [
      "Initial matrix:\n"
     ]
    },
    {
     "data": {
      "text/latex": [
       "$\\displaystyle \\left[\\begin{matrix}1 & 2 & 3 & 4 & 4\\\\1 & 2 & 3 & 4 & 4\\\\4 & 3 & 2 & 1 & 4\\end{matrix}\\right]$"
      ],
      "text/plain": [
       "Matrix([\n",
       "[1, 2, 3, 4, 4],\n",
       "[1, 2, 3, 4, 4],\n",
       "[4, 3, 2, 1, 4]])"
      ]
     },
     "metadata": {},
     "output_type": "display_data"
    },
    {
     "name": "stdout",
     "output_type": "stream",
     "text": [
      "Initial weights:\n"
     ]
    },
    {
     "data": {
      "text/latex": [
       "$\\displaystyle \\left[\\begin{matrix}0.25 & 0.25 & 0.2 & 0.2 & 0.1\\end{matrix}\\right]$"
      ],
      "text/plain": [
       "Matrix([[0.25, 0.25, 0.2, 0.2, 0.1]])"
      ]
     },
     "metadata": {},
     "output_type": "display_data"
    }
   ],
   "source": [
    "matrix = np.array([\n",
    "    [1, 2, 3, 4, 4],\n",
    "    [1, 2, 3, 4, 4],\n",
    "    [4, 3, 2, 1, 4]\n",
    "])\n",
    "weights = np.array([0.25, 0.25, 0.2, 0.2, 0.1])\n",
    "print('Initial matrix:')\n",
    "display(Matrix(matrix))\n",
    "print('Initial weights:')\n",
    "display(Matrix(weights).T)"
   ]
  },
  {
   "cell_type": "code",
   "execution_count": 25,
   "metadata": {},
   "outputs": [
    {
     "data": {
      "text/markdown": [
       "##### **Example result (1/5):**"
      ],
      "text/plain": [
       "<IPython.core.display.Markdown object>"
      ]
     },
     "metadata": {},
     "output_type": "display_data"
    },
    {
     "name": "stdout",
     "output_type": "stream",
     "text": [
      "Removed criterion index: 0\n",
      "Resulting decision matrix:\n"
     ]
    },
    {
     "data": {
      "text/latex": [
       "$\\displaystyle \\left[\\begin{matrix}2 & 3 & 4 & 4\\\\2 & 3 & 4 & 4\\\\3 & 2 & 1 & 4\\end{matrix}\\right]$"
      ],
      "text/plain": [
       "Matrix([\n",
       "[2, 3, 4, 4],\n",
       "[2, 3, 4, 4],\n",
       "[3, 2, 1, 4]])"
      ]
     },
     "metadata": {},
     "output_type": "display_data"
    },
    {
     "name": "stdout",
     "output_type": "stream",
     "text": [
      "Resulting weights vector:\n"
     ]
    },
    {
     "data": {
      "text/latex": [
       "$\\displaystyle \\left[\\begin{matrix}0.333333333333333 & 0.266666666666667 & 0.266666666666667 & 0.133333333333333\\end{matrix}\\right]$"
      ],
      "text/plain": [
       "Matrix([[0.333333333333333, 0.266666666666667, 0.266666666666667, 0.133333333333333]])"
      ]
     },
     "metadata": {},
     "output_type": "display_data"
    }
   ],
   "source": [
    "results = criteria.remove_criteria(matrix, weights)\n",
    "display(Markdown(f'##### **Example result (1/{len(results)}):**'))\n",
    "pretty_print_crit_removal(results[0])"
   ]
  },
  {
   "cell_type": "markdown",
   "metadata": {},
   "source": [
    "### 2.6. Criteria identification <a id=\"13\"></a>"
   ]
  },
  {
   "cell_type": "markdown",
   "metadata": {},
   "source": [
    "This method identifies criteria impact on the resulting ranking. It needs multi-criteria decision-making method to calculate preferences internally."
   ]
  },
  {
   "cell_type": "code",
   "execution_count": 26,
   "metadata": {},
   "outputs": [
    {
     "name": "stdout",
     "output_type": "stream",
     "text": [
      "Initial matrix:\n"
     ]
    },
    {
     "data": {
      "text/latex": [
       "$\\displaystyle \\left[\\begin{matrix}4 & 3 & 5 & 7\\\\7 & 4 & 2 & 4\\\\9 & 5 & 7 & 3\\\\3 & 5 & 6 & 3\\end{matrix}\\right]$"
      ],
      "text/plain": [
       "Matrix([\n",
       "[4, 3, 5, 7],\n",
       "[7, 4, 2, 4],\n",
       "[9, 5, 7, 3],\n",
       "[3, 5, 6, 3]])"
      ]
     },
     "metadata": {},
     "output_type": "display_data"
    },
    {
     "name": "stdout",
     "output_type": "stream",
     "text": [
      "Initial weights:\n"
     ]
    },
    {
     "data": {
      "text/latex": [
       "$\\displaystyle \\left[\\begin{matrix}0.25 & 0.25 & 0.25 & 0.25\\end{matrix}\\right]$"
      ],
      "text/plain": [
       "Matrix([[0.25, 0.25, 0.25, 0.25]])"
      ]
     },
     "metadata": {},
     "output_type": "display_data"
    },
    {
     "name": "stdout",
     "output_type": "stream",
     "text": [
      "Initial criteria types:\n"
     ]
    },
    {
     "data": {
      "text/latex": [
       "$\\displaystyle \\left[\\begin{matrix}1 & 1 & -1 & 1\\end{matrix}\\right]$"
      ],
      "text/plain": [
       "Matrix([[1, 1, -1, 1]])"
      ]
     },
     "metadata": {},
     "output_type": "display_data"
    }
   ],
   "source": [
    "matrix = np.array([\n",
    "    [4, 3, 5, 7],\n",
    "    [7, 4, 2, 4],\n",
    "    [9, 5, 7, 3],\n",
    "    [3, 5, 6, 3]\n",
    "    ])\n",
    "criteria_num = matrix.shape[1]\n",
    "criteria_types = np.array([1, 1, -1, 1])\n",
    "weights = np.ones(criteria_num)/criteria_num\n",
    "print('Initial matrix:')\n",
    "display(Matrix(matrix))\n",
    "print('Initial weights:')\n",
    "display(Matrix(weights).T)\n",
    "print('Initial criteria types:')\n",
    "display(Matrix(criteria_types).T)\n"
   ]
  },
  {
   "cell_type": "markdown",
   "metadata": {},
   "source": [
    "- Using defined function - let us define weighted sum method function that returns preference values for alternatives"
   ]
  },
  {
   "cell_type": "code",
   "execution_count": 27,
   "metadata": {},
   "outputs": [],
   "source": [
    "def weighted_sum_method(matrix, weights, types):\n",
    "    # normalize decision matrix with sum normalization\n",
    "    nmatrix = matrix.copy().astype(float)\n",
    "    nmatrix[:, types == 1] = matrix[:, types == 1] / np.sum(matrix[:, types == 1], axis=0)\n",
    "    nmatrix[:, types == -1] = (1 / matrix[:, types == -1]) / np.sum(1 / matrix[:, types == -1], axis=0)\n",
    "    # each row of matrix is multiplied by weights\n",
    "    weighted_matrix = nmatrix * weights\n",
    "    # calculate preference scores\n",
    "    return np.sum(weighted_matrix, axis=1)"
   ]
  },
  {
   "cell_type": "code",
   "execution_count": 28,
   "metadata": {},
   "outputs": [
    {
     "name": "stdout",
     "output_type": "stream",
     "text": [
      "Removed criterion index(es): (0,)\n",
      "Correlation value: 0.52\n",
      "Distance value: 0.093636\n",
      "Resulting decision matrix:\n"
     ]
    },
    {
     "data": {
      "text/latex": [
       "$\\displaystyle \\left[\\begin{matrix}3 & 5 & 7\\\\4 & 2 & 4\\\\5 & 7 & 3\\\\5 & 6 & 3\\end{matrix}\\right]$"
      ],
      "text/plain": [
       "Matrix([\n",
       "[3, 5, 7],\n",
       "[4, 2, 4],\n",
       "[5, 7, 3],\n",
       "[5, 6, 3]])"
      ]
     },
     "metadata": {},
     "output_type": "display_data"
    }
   ],
   "source": [
    "call_kwargs = {\n",
    "    'matrix': matrix,\n",
    "    'weights': weights,\n",
    "    'types': criteria_types\n",
    "}\n",
    "results = criteria.relevance_identification(weighted_sum_method, call_kwargs, ranking_descending=True)\n",
    "pretty_print_crit_identification(results[0])"
   ]
  },
  {
   "cell_type": "markdown",
   "metadata": {},
   "source": [
    "The criterion with lowest impact was removed"
   ]
  },
  {
   "cell_type": "markdown",
   "metadata": {},
   "source": [
    "- Using library - example `pymcdm`"
   ]
  },
  {
   "cell_type": "code",
   "execution_count": 29,
   "metadata": {},
   "outputs": [
    {
     "name": "stdout",
     "output_type": "stream",
     "text": [
      "Removed criterion index(es): (0,)\n",
      "Correlation value: 0.52\n",
      "Distance value: 0.211707\n",
      "Resulting decision matrix:\n"
     ]
    },
    {
     "data": {
      "text/latex": [
       "$\\displaystyle \\left[\\begin{matrix}3 & 5 & 7\\\\4 & 2 & 4\\\\5 & 7 & 3\\\\5 & 6 & 3\\end{matrix}\\right]$"
      ],
      "text/plain": [
       "Matrix([\n",
       "[3, 5, 7],\n",
       "[4, 2, 4],\n",
       "[5, 7, 3],\n",
       "[5, 6, 3]])"
      ]
     },
     "metadata": {},
     "output_type": "display_data"
    }
   ],
   "source": [
    "import pymcdm.methods as pm\n",
    "\n",
    "topsis = pm.TOPSIS()\n",
    "call_kwargs = {\n",
    "    'matrix': matrix,\n",
    "    'weights': weights,\n",
    "    'types': criteria_types\n",
    "}\n",
    "results = criteria.relevance_identification(topsis, call_kwargs, ranking_descending=True)\n",
    "pretty_print_crit_identification(results[0])"
   ]
  },
  {
   "cell_type": "markdown",
   "metadata": {},
   "source": [
    "---"
   ]
  },
  {
   "cell_type": "markdown",
   "metadata": {},
   "source": [
    "<a id=\"14\"></a><br/>\n",
    "\n",
    "## 3. Probabilistic submodule"
   ]
  },
  {
   "cell_type": "markdown",
   "metadata": {},
   "source": [
    "This submodule offers a way to generate $x$ number of scenarios / samples for introducing noise to decision matrix or weights vector. Additionally it provides a way to generate $x$ number of samples of random weights vectors."
   ]
  },
  {
   "cell_type": "markdown",
   "metadata": {},
   "source": [
    "### 3.1. Monte carlo  <a id=\"15\"></a>"
   ]
  },
  {
   "cell_type": "markdown",
   "metadata": {},
   "source": [
    "Let us generate 1000 samples of random weights vectors for a problem with 3 criteria."
   ]
  },
  {
   "cell_type": "code",
   "execution_count": 30,
   "metadata": {},
   "outputs": [
    {
     "name": "stdout",
     "output_type": "stream",
     "text": [
      "[[0.23590646 0.4732569  0.29083663]\n",
      " [0.37982357 0.29895401 0.32122241]\n",
      " [0.32841611 0.28705939 0.3845245 ]\n",
      " ...\n",
      " [0.35653786 0.2538991  0.38956305]\n",
      " [0.23672961 0.31376721 0.44950318]\n",
      " [0.32952319 0.30157026 0.36890656]]\n"
     ]
    }
   ],
   "source": [
    "n = 3\n",
    "modified_weights = probabilistic.monte_carlo_weights(n, num_samples=1000, distribution='normal', params={'loc': 0.5, 'scale': 0.1})\n",
    "print(modified_weights)"
   ]
  },
  {
   "cell_type": "markdown",
   "metadata": {},
   "source": [
    "The weights vectors can be further visualized on distribution plot"
   ]
  },
  {
   "cell_type": "code",
   "execution_count": 31,
   "metadata": {},
   "outputs": [
    {
     "data": {
      "application/vnd.jupyter.widget-view+json": {
       "model_id": "f4f855a83da94a11a86b46dab3b6f6c7",
       "version_major": 2,
       "version_minor": 0
      },
      "image/png": "[encoded data removed]",
      "text/html": [
       "\n",
       "            <div style=\"display: inline-block;\">\n",
       "                <div class=\"jupyter-widgets widget-label\" style=\"text-align: center;\">\n",
       "                    Figure\n",
       "                </div>\n",
       "                <img src='data:image/png;base64,iVBORw0KGgoAAAANSUhEUgAAA+gAAAGQCAYAAAA9TUphAAAAOXRFWHRTb2Z0d2FyZQBNYXRwbG90bGliIHZlcnNpb24zLjguMywgaHR0cHM6Ly9tYXRwbG90bGliLm9yZy/H5lhTAAAACXBIWXMAAA9hAAAPYQGoP6dpAABWo0lEQVR4nO3deXhU9d3//9ckgRBDEtZsmEBEZFVAIkgAEY1GFApKVSpqUITWshTjGm8QQRCxgCkYodIKuKCoIF/b3mI1QtmDoFBAimBBkWaBkhAJEELm8/uDX+Z2yJ5MZs5Mno/rmqvO+ZzlfSaTV3nnbDZjjBEAAAAAAPAoP08XAAAAAAAAaNABAAAAALAEGnQAAAAAACyABh0AAAAAAAugQQcAAAAAwAJo0AEAAAAAsAAadAAAAAAALIAGHQDgUaNHj1a7du1qvWzTpk1dW5CHPP/887LZbJ4uw4nNZtPzzz/veL9s2TLZbDYdOXKk3rd96ffiyJEjstlsmjt3br1vW7LmzwMA4Pto0AEAZbz//vuy2Wz66KOPyox1795dNptN69atKzMWGxurhIQEd5RYI2fOnNHzzz+v9evXe7qUBsfKn72VawMANEw06ACAMvr37y9J2rRpk9P0goIC7d27VwEBAdq8ebPT2NGjR3X06FHHstW1ZMkSHThwoG4FV+HMmTOaPn06jVgdPfDAAzp79qzatm1b7WVq+9l7+nsxZcoUnT17tl63DwDApQI8XQAAwHqio6MVFxdXpkHfunWrjDG6++67y4yVvq9pg96oUaO6FQu38ff3l7+/f71uo7CwUMHBwR7/XgQEBCgggH8mAQDciyPoAIBy9e/fX19//bXTUcTNmzera9euGjx4sLZt2ya73e40ZrPZ1K9fP8e0t99+W7169VJQUJBatGihkSNH6ujRo07bKe8a9P/+97964IEHFBoaqmbNmik5OVm7d++WzWbTsmXLytR67NgxDR8+XE2bNlXr1q31xBNPqKSkRNLFa5dbt24tSZo+fbpsNpvTtdXZ2dl66KGHdPnllyswMFBRUVEaNmxYpddZz507VzabTd9//32ZsdTUVDVu3Fh5eXmSpI0bN+ruu+9WbGysAgMDFRMTo8cee6zKo7Ol11yXt7+XXhte+hk8/PDDioiIUGBgoLp27ao33nij0m2UKioq0mOPPabWrVsrJCREv/jFL/Tjjz+Wma+8a9B37NihpKQktWrVSkFBQYqLi9PDDz/s2IfKPvvSewh89913uv322xUSEqJRo0Y5xiq6N8Err7yitm3bKigoSAMHDtTevXudxm+88UbdeOONZZb7+Tqrqq28a9AvXLigF154Qe3bt1dgYKDatWunZ599VkVFRU7ztWvXTkOGDNGmTZvUu3dvNWnSRFdccYXefPPNcvcHAIBSNOgAgHL1799fxcXFyszMdEzbvHmzEhISlJCQoFOnTjk1Rps3b1anTp3UsmVLSdKsWbP04IMPqkOHDpo/f74mT56sjIwM3XDDDcrPz69wu3a7XUOHDtW7776r5ORkzZo1S1lZWUpOTi53/pKSEiUlJally5aaO3euBg4cqHnz5un111+XJLVu3VqLFi2SJN15551666239NZbb+muu+6SJI0YMUIfffSRHnroIb322muaNGmSfvrpJ/3www8V1njPPffIZrPp/fffLzP2/vvv69Zbb1Xz5s0lSR988IHOnDmjRx99VAsXLlRSUpIWLlyoBx98sML111ROTo6uv/56ff7555owYYL+8Ic/6Morr9SYMWOUlpZW5fKPPPKI0tLSdOutt+qll15So0aNdMcdd1S5XG5urm699VYdOXJEzzzzjBYuXKhRo0Zp27Ztkqr+7KWLTW9SUpLCw8M1d+5cjRgxotJtvvnmm1qwYIHGjx+v1NRU7d27VzfddJNycnKqrPfnqlPbpR555BE999xzuvbaa/XKK69o4MCBmj17tkaOHFlm3kOHDumXv/ylbrnlFs2bN0/NmzfX6NGjtW/fvhrVCQBoYAwAAOXYt2+fkWReeOEFY4wxxcXFJjg42CxfvtwYY0xERIRJT083xhhTUFBg/P39zdixY40xxhw5csT4+/ubWbNmOa1zz549JiAgwGl6cnKyadu2reP9qlWrjCSTlpbmmFZSUmJuuukmI8ksXbrUaVlJZsaMGU7b6dmzp+nVq5fj/fHjx40kM23aNKf58vLyjCTz+9//voafjjF9+/Z12oYxxmzfvt1IMm+++aZj2pkzZ8osO3v2bGOz2cz333/vmDZt2jTz8/9bPnz4cJn9LXXpvowZM8ZERUWZEydOOM03cuRIExYWVm4NpXbt2mUkmd/+9rdO0++7774y21m6dKmRZA4fPmyMMeajjz4yksyXX35Z4for+uyN+b+f3zPPPFPu2M+/F6WfR1BQkPnxxx8d0zMzM40k89hjjzmmDRw40AwcOLDKdVZW26U/j9LP6ZFHHnGa74knnjCSzBdffOGY1rZtWyPJbNiwwTEtNzfXBAYGmscff7zMtgAAKMURdABAuTp37qyWLVs6ri3fvXu3CgsLHXdpT0hIcNwobuvWrSopKXFcf7569WrZ7Xbdc889OnHihOMVGRmpDh06lHsH+FJr165Vo0aNNHbsWMc0Pz8/jR8/vsJlfvOb3zi9HzBggP79739XuY9BQUFq3Lix1q9f7zglvbruvfde7dy5U999951j2sqVKxUYGKhhw4Y5baNUYWGhTpw4oYSEBBlj9PXXX9dom+UxxmjVqlUaOnSojDFOn3dSUpJOnTqlr776qsLl//d//1eSNGnSJKfpkydPrnLbzZo1kyT99a9/VXFxca334dFHH632vMOHD1ebNm0c73v37q0+ffo49qO+lK4/JSXFafrjjz8uSfrb3/7mNL1Lly4aMGCA433r1q3VsWPHan0vAQANFw06AKBcNptNCQkJjmvNN2/erPDwcF155ZWSnBv00v8tbdAPHjwoY4w6dOig1q1bO73279+v3NzcCrf7/fffKyoqSpdddpnT9NLtXqpJkyaOa4lLNW/evFoNd2BgoObMmaNPPvlEERERuuGGG/Tyyy8rOzu7ymXvvvtu+fn5aeXKlZIuNsoffPCBBg8erNDQUMd8P/zwg0aPHq0WLVo4rpEfOHCgJOnUqVNVbqcqx48fV35+vl5//fUyn/VDDz0kSVV+3n5+fmrfvr3T9I4dO1a57YEDB2rEiBGaPn26WrVqpWHDhmnp0qVlrsmuTEBAgC6//PJqz9+hQ4cy06666qp6fzZ76ed06fcwMjJSzZo1K3M/gtjY2DLrqO73EgDQcHF7UgBAhfr376+//OUv2rNnj+P681IJCQl68skndezYMW3atEnR0dG64oorJF28jtxms+mTTz4p967fTZs2dVmNdb2r+OTJkzV06FCtWbNGn376qaZOnarZs2friy++UM+ePStcLjo6WgMGDND777+vZ599Vtu2bdMPP/ygOXPmOOYpKSnRLbfcopMnT+rpp59Wp06dFBwcrGPHjmn06NFON9m71KU3KPv5On+udB33339/hdfpX3PNNRVupy5sNps+/PBDbdu2TX/5y1/06aef6uGHH9a8efO0bdu2av2cAwMD5efn2uMFNptNxpgy0y/97Gq77uqo6HtZXl0AAJSiQQcAVOjnz0PfvHmz02nPvXr1UmBgoNavX6/MzEzdfvvtjrH27dvLGKO4uDhdddVVNdpm27ZttW7dOp05c8bpKPqhQ4dqvR9VNVXt27fX448/rscff1wHDx5Ujx49NG/ePL399tuVLnfvvffqt7/9rQ4cOKCVK1fqsssu09ChQx3je/bs0bfffqvly5c73RTus88+q7Lm0pvMXXpDvUuP1Jbeeb2kpESJiYlVrvdSbdu2ld1u13fffed01LwmzyC//vrrdf3112vWrFlasWKFRo0apffee0+PPPJItRva6jp48GCZad9++63THd+bN29e7qnkl352Namt9HM6ePCgOnfu7Jiek5Oj/Pz8Gj0bHgCAinCKOwCgQvHx8WrSpIneeecdHTt2zOkIemBgoK699lqlp6ersLDQ6fnnd911l/z9/TV9+vQyRwyNMfrvf/9b4TaTkpJUXFysJUuWOKbZ7Xalp6fXej9KG/1Lm90zZ87o3LlzTtPat2+vkJCQap2mPWLECPn7++vdd9/VBx98oCFDhig4ONgxXnoU9eefgTFGf/jDH6pcd2hoqFq1aqUNGzY4TX/ttdec3vv7+2vEiBFatWpVmceNSRdPga/M4MGDJUkLFixwml6du7/n5eWV+fn26NFDkhyfX0WffW2tWbNGx44dc7zfvn27MjMzHfshXfwZ/utf/3La9927dzsuxShVk9pK/wB16ecyf/58SarWXe8BAKgKR9ABABVq3LixrrvuOm3cuFGBgYHq1auX03hCQoLmzZsnSU4Nevv27TVz5kylpqbqyJEjGj58uEJCQnT48GF99NFHGjdunJ544olytzl8+HD17t1bjz/+uA4dOqROnTrp448/1smTJyXV7KhnqaCgIHXp0kUrV67UVVddpRYtWqhbt266cOGCbr75Zt1zzz3q0qWLAgIC9NFHHyknJ6fcR2ddKjw8XIMGDdL8+fP1008/6d5773Ua79Spk9q3b68nnnhCx44dU2hoqFatWlXt65AfeeQRvfTSS3rkkUcUHx+vDRs26Ntvvy0z30svvaR169apT58+Gjt2rLp06aKTJ0/qq6++0ueff+747MrTo0cP/epXv9Jrr72mU6dOKSEhQRkZGdU6Y2H58uV67bXXdOedd6p9+/b66aeftGTJEoWGhjoa2oo++27dulXrM7jUlVdeqf79++vRRx9VUVGR0tLS1LJlSz311FOOeR5++GHNnz9fSUlJGjNmjHJzc7V48WJ17dpVBQUFjvlqUlv37t2VnJys119/Xfn5+Ro4cKC2b9+u5cuXa/jw4Ro0aFCt9gcAACceuXc8AMBrpKamGkkmISGhzNjq1auNJBMSEmIuXLhQZnzVqlWmf//+Jjg42AQHB5tOnTqZ8ePHmwMHDjjmufTRV8ZcfPzVfffdZ0JCQkxYWJgZPXq02bx5s5Fk3nvvPadlg4ODy2z30kdkGWPMli1bTK9evUzjxo0dj9Y6ceKEGT9+vOnUqZMJDg42YWFhpk+fPub999+v9uezZMkSx2dw9uzZMuPffPONSUxMNE2bNjWtWrUyY8eONbt37y7zCLXyaj5z5owZM2aMCQsLMyEhIeaee+4xubm55T4aLCcnx4wfP97ExMSYRo0amcjISHPzzTeb119/vcp9OHv2rJk0aZJp2bKlCQ4ONkOHDjVHjx6t8jFrX331lfnVr35lYmNjTWBgoAkPDzdDhgwxO3bscFp/eZ+9MRX//ErHynvM2u9//3szb948ExMTYwIDA82AAQPM7t27yyz/9ttvmyuuuMI0btzY9OjRw3z66aflftcqqq28n0dxcbGZPn26iYuLM40aNTIxMTEmNTXVnDt3zmm+tm3bmjvuuKNMTRU9/g0AgFI2Y7hbCQDA+tasWaM777xTmzZtUr9+/TxdDgAAgMvRoAMALOfs2bNOzw8vKSnRrbfeqh07dig7O9tpDAAAwFdwDToAwHImTpyos2fPqm/fvioqKtLq1au1ZcsWvfjiizTnAADAZ3EEHQBgOStWrNC8efN06NAhnTt3TldeeaUeffRRTZgwwdOlAQAA1BsadAAAAAAALIDnoAMAAAAAYAE06AAAAAAAWAANOgAAAAAAFkCDDgAAAACABdCgAwAAAABgATToAAAAAABYAA06AAAAAAAWQIMOAAAAAIAF0KADAAAAAGABNOgAAAAAAFgADToAAAAAABZAgw4AAAAAgAXQoAMAAAAAYAE06AAAAAAAWAANOgAAAAAAFkCDDgAAAACABdCgAwAAAABgATToAAAAAABYAA06AAAAAAAWQIMOAAAAAIAF0KADAAAAAGABNOjwaqNHj1a7du1qvWzTpk1dWxAAWAw5CQBVIythFTTocLn3339fNptNH330UZmx7t27y2azad26dWXGYmNjlZCQ4I4Sa+TMmTN6/vnntX79+movM2vWLP3iF79QRESEbDabnn/++XqrD4D3aeg5+a9//UtPPfWUevTooZCQEEVFRemOO+7Qjh076rdQAF6loWflf/7zH91///3q2LGjQkJC1KxZM/Xu3VvLly+XMaZ+i4XH0KDD5fr37y9J2rRpk9P0goIC7d27VwEBAdq8ebPT2NGjR3X06FHHstW1ZMkSHThwoG4FV+HMmTOaPn16jRr0KVOm6Msvv1TPnj3rrzAAXquh5+Sf/vQnLVmyRPHx8Zo3b55SUlJ04MABXX/99fr888/rtVYA3qOhZ+WJEyf0448/6pe//KXmzp2rmTNnKioqSqNHj9b//M//1Gut8JwATxcA3xMdHa24uLgyYbp161YZY3T33XeXGSt9X9MwbdSoUd2KrSeHDx9Wu3btdOLECbVu3drT5QCwmIaek7/61a/0/PPPO50S+vDDD6tz5856/vnnlZiY6MHqAFhFQ8/Ka665pkwzP2HCBA0dOlQLFizQCy+8IH9/f88Uh3rDEXTUi/79++vrr7/W2bNnHdM2b96srl27avDgwdq2bZvsdrvTmM1mU79+/RzT3n77bfXq1UtBQUFq0aKFRo4cqaNHjzptp7zrhf773//qgQceUGhoqJo1a6bk5GTt3r1bNptNy5YtK1PrsWPHNHz4cDVt2lStW7fWE088oZKSEknSkSNHHA329OnTZbPZqnXKem2vYQLQcDTknOzVq1eZ6zVbtmypAQMGaP/+/ZV+bgAaloaclRVp166dzpw5o/Pnz9d4WVgfDTrqRf/+/VVcXKzMzEzHtM2bNyshIUEJCQk6deqU9u7d6zTWqVMntWzZUtLFa7gffPBBdejQQfPnz9fkyZOVkZGhG264Qfn5+RVu1263a+jQoXr33XeVnJysWbNmKSsrS8nJyeXOX1JSoqSkJLVs2VJz587VwIEDNW/ePL3++uuSpNatW2vRokWSpDvvvFNvvfWW3nrrLd111111/YgANHDkZFnZ2dlq1apVjZcD4LvISuns2bM6ceKEjhw5ouXLl2vp0qXq27evgoKCqlwWXsgA9WDfvn1GknnhhReMMcYUFxeb4OBgs3z5cmOMMRERESY9Pd0YY0xBQYHx9/c3Y8eONcYYc+TIEePv729mzZrltM49e/aYgIAAp+nJycmmbdu2jverVq0ykkxaWppjWklJibnpppuMJLN06VKnZSWZGTNmOG2nZ8+eplevXo73x48fN5LMtGnTavw51GVZAL6NnHS2YcMGY7PZzNSpU2u9DgC+h6w0Zvbs2UaS43XzzTebH374oUbrgPfgCDrqRefOndWyZUvHdUC7d+9WYWGh446aCQkJjpt6bN26VSUlJY5rhVavXi273a577rlHJ06ccLwiIyPVoUOHcu/WWWrt2rVq1KiRxo4d65jm5+en8ePHV7jMb37zG6f3AwYM0L///e/a7TgAVBM5+X9yc3N13333KS4uTk899ZTL1gvA+5GVF+/b8dlnn2nFihW67777JMnplH/4Fm4Sh3phs9mUkJCgDRs2yG63a/PmzQoPD9eVV14p6WKYvvrqq5LkCNXSMD148KCMMerQoUO5667sJh7ff/+9oqKidNlllzlNL93upZo0aVLmJm7NmzdXXl5eNfYSAGqPnLyosLBQQ4YM0U8//aRNmzbxLGEATshKqW3btmrbtq2ki836uHHjlJiYqAMHDnCauw+iQUe96d+/v/7yl79oz549jmuFSiUkJOjJJ5/UsWPHtGnTJkVHR+uKK66QdPGaH5vNpk8++aTcO1O68h9v3PkSgCc19Jw8f/687rrrLv3zn//Up59+qm7dutXbtgB4r4aelZf65S9/qSVLlmjDhg1KSkpy23bhHjToqDc/f3bl5s2bNXnyZMdYr169FBgYqPXr1yszM1O33367Y6x9+/YyxiguLk5XXXVVjbbZtm1brVu3TmfOnHH6i+ehQ4dqvR82m63WywJAZRpyTtrtdj344IPKyMjQ+++/r4EDB9Z6+wB8W0POyvKUnt5+6tQpl6wP1sI16Kg38fHxatKkid555x0dO3bM6a+dgYGBuvbaa5Wenq7CwkKnZ1Xedddd8vf31/Tp02WMcVqnMUb//e9/K9xmUlKSiouLtWTJEsc0u92u9PT0Wu9HaShXdqdPAKiNhpyTEydO1MqVK/Xaa6/xZAwAlWqoWXn8+PFyp//5z3+WzWbTtddeW+taYF0cQUe9ady4sa677jpt3LhRgYGB6tWrl9N4QkKC5s2bJ0lOYdq+fXvNnDlTqampOnLkiIYPH66QkBAdPnxYH330kcaNG6cnnnii3G0OHz5cvXv31uOPP65Dhw6pU6dO+vjjj3Xy5ElJtfvLZVBQkLp06aKVK1fqqquuUosWLdStW7dKT8V866239P333+vMmTOSpA0bNmjmzJmSpAceeMBxHRGAhq2h5mRaWppee+019e3bV5dddpnefvttp/E777xTwcHBNa4DgG9qqFk5a9Ysbd68WbfddptiY2N18uRJrVq1Sl9++aUmTpxY4fXw8HKeuXk8GorU1FQjySQkJJQZW716tZFkQkJCzIULF8qMr1q1yvTv398EBweb4OBg06lTJzN+/Hhz4MABxzyXPhLDmIuPsLjvvvtMSEiICQsLM6NHjzabN282ksx7773ntGxwcHCZ7U6bNs1c+quxZcsW06tXL9O4ceNqPR5j4MCBTo/D+Plr3bp1lS4LoGFpiDlZ+kiiil6HDx+ucFkADVNDzMq///3vZsiQISY6Oto0atTIhISEmH79+pmlS5cau91e4XLwbjZjLjnfA/BBa9as0Z133qlNmzapX79+ni4HACyHnASAqpGVqG806PA5Z8+edXrkRElJiW699Vbt2LFD2dnZPI4CQINHTgJA1chKeALXoMPnTJw4UWfPnlXfvn1VVFSk1atXa8uWLXrxxRcJUgAQOQkA1UFWwhM4gg6fs2LFCs2bN0+HDh3SuXPndOWVV+rRRx/VhAkTPF0aAFgCOQkAVSMr4Qk06AAAAAAAWADPQQcAAAAAwAJo0AEAAAAAsABuElcBu92u//znPwoJCZHNZvN0OQAkGWP0008/KTo6Wn5+/H3R08hJwJrISusgJwFrsnJO0qBX4D//+Y9iYmI8XQaAchw9elSXX365p8to8MhJwNrISs8jJwFrs2JO0qBXICQkRNLFH1poaKiHqwEgSQUFBYqJiXH8fsKzyEnAmshK6yAnAWuyck7SoFeg9DSk0NBQAhWwGE4TtAZyErA2stLzyEnA2qyYk9Y64R4AAAAAgAaKBh0AAAAAAAugQQcAAAAAwAJo0AEAAAAAsAAadAAAAAAALIAGHQAAAAAAC6BBBwAAAADAAmjQAQAAAACwABp0AAAAAAAsIMDTBQD1oXfCAGXn5FY4HhkRru1bNrqxIgCwFnISAGquR3wfZWVlVTgeFRWlXTsy3VgRfA0NOnxSdk6uEp5eVuH4ljmj3VYLAFgROQkANZeVlaVB01ZWOL5u+r1urAa+iFPcAQAAAACwABp0AAAAAAAsgAYdAAAAAAALsFyDvmHDBg0dOlTR0dGy2Wxas2aN07gxRs8995yioqIUFBSkxMREHTx40GmekydPatSoUQoNDVWzZs00ZswYnT592o17AQAAAABAzViuQS8sLFT37t2Vnp5e7vjLL7+sBQsWaPHixcrMzFRwcLCSkpJ07tw5xzyjRo3Svn379Nlnn+mvf/2rNmzYoHHjxrlrFwAAAAAAqDHL3cV98ODBGjx4cLljxhilpaVpypQpGjZsmCTpzTffVEREhNasWaORI0dq//79Wrt2rb788kvFx8dLkhYuXKjbb79dc+fOVXR0tNv2BQAAAACA6rLcEfTKHD58WNnZ2UpMTHRMCwsLU58+fbR161ZJ0tatW9WsWTNHcy5JiYmJ8vPzU2Zmxc8kLCoqUkFBgdMLAAAAAAB3sdwR9MpkZ2dLkiIiIpymR0REOMays7MVHh7uNB4QEKAWLVo45inP7NmzNX36dBdXDKvKzc1VbPuOlc4TGRGu7Vs2uqkiAAAAAA2dVzXo9Sk1NVUpKSmO9wUFBYqJifFgRahPJcYo4elllc6zZc5ot9QCAAAAAJKXneIeGRkpScrJyXGanpOT4xiLjIxUbm6u0/iFCxd08uRJxzzlCQwMVGhoqNMLAAAAAAB38aoGPS4uTpGRkcrIyHBMKygoUGZmpvr27StJ6tu3r/Lz87Vz507HPF988YXsdrv69Onj9poBAAAAAKgOy53ifvr0aR06dMjx/vDhw9q1a5datGih2NhYTZ48WTNnzlSHDh0UFxenqVOnKjo6WsOHD5ckde7cWbfddpvGjh2rxYsXq7i4WBMmTNDIkSO5gzsAAAAAwLIs16Dv2LFDgwYNcrwvvS48OTlZy5Yt01NPPaXCwkKNGzdO+fn56t+/v9auXasmTZo4lnnnnXc0YcIE3XzzzfLz89OIESO0YMECt+8LAAAAAADVZbkG/cYbb5QxpsJxm82mGTNmaMaMGRXO06JFC61YsaI+ygMAAAAAoF5YrkEHqtI7YYCyc3IrnSf3+HE3VQMAAAAArkGDDq+TnZNb5SPSVqUMdk8xAAAAAOAiXnUXdwAAAAAAfBUNOiynd8IAxbbvWOGL09fR0G3YsEFDhw5VdHS0bDab1qxZ4zRujNFzzz2nqKgoBQUFKTExUQcPHnSa5+TJkxo1apRCQ0PVrFkzjRkzRqdPn3bjXgBA/SIrAXgjGnRYTukp7BW9Sux2T5cIeFRhYaG6d++u9PT0csdffvllLViwQIsXL1ZmZqaCg4OVlJSkc+fOOeYZNWqU9u3bp88++0x//etftWHDBo0bN85duwAA9Y6sBOCNuAYdALzM4MGDNXhw+fdZMMYoLS1NU6ZM0bBhwyRJb775piIiIrRmzRqNHDlS+/fv19q1a/Xll18qPj5ekrRw4ULdfvvtmjt3rqKjo922LwBQX8hKAN6II+gA4EMOHz6s7OxsJSYmOqaFhYWpT58+2rp1qyRp69atatasmeMfnJKUmJgoPz8/ZWZmur1mAHA3shLl6RHfRxFtYit95eXne7pM+DiOoAOAD8nOzpYkRUREOE2PiIhwjGVnZys8PNxpPCAgQC1atHDMU56ioiIVFRU53hcUFLiqbABwq/rKSnLSu2VlZWnQtJWVzvPhpFvcVA0aKo6gAwCqZfbs2QoLC3O8YmJiPF0SAFgKOQmgrmjQAcCHREZGSpJycnKcpufk5DjGIiMjlZub6zR+4cIFnTx50jFPeVJTU3Xq1CnH6+jRoy6uHgDco76ykpwEUFec4g4APiQuLk6RkZHKyMhQjx49JF08xTIzM1OPPvqoJKlv377Kz8/Xzp071atXL0nSF198Ibvdrj59+lS47sDAQAUGBtb7PsAacnNzFdu+Y6XzREaEa/uWjW6qCHCd+spKchJAXdGgA4CXOX36tA4dOuR4f/jwYe3atUstWrRQbGysJk+erJkzZ6pDhw6Ki4vT1KlTFR0dreHDh0uSOnfurNtuu01jx47V4sWLVVxcrAkTJmjkyJHclRgOJcYo4elllc6zZc5ot9QC1AZZCcAb0aADgJfZsWOHBg0a5HifkpIiSUpOTtayZcv01FNPqbCwUOPGjVN+fr769++vtWvXqkmTJo5l3nnnHU2YMEE333yz/Pz8NGLECC1YsMDt+4L60zthgLJzcisczz1+3I3VAO5HVgLwRjToAOBlbrzxRhljKhy32WyaMWOGZsyYUeE8LVq00IoVK+qjPFhEdk5upUfAV6WU/3xowFeQlQC8EQ06AAColaquU+cadQAAaoYGHQAA1EpV16lzjToAADXDY9YAAAAAALAAjqADAAAAgAvk5eUpok1spfNERUVp145MN1UEb0ODDgAAAAAuYLcbDZq2stJ51k2/103VwBtxijsAAAAAABZAgw4AAAAAgAXQoAMAAAAAYAE06AAAAAAAWAA3iQMqkJubq9j2HSscj4wI1/YtG91YEQAAAGqjR3wfZWVlVTpPXn6+e4oBKkGDDlSgxBglPL2swvEtc0a7rRYAAADUXlZWVpV3V/9w0i1uqgaoGKe4AwAAAABgARxBh9v1Thig7JzcCsdzjx93YzUAAAAAYA006HC77JzcSk8dX5Uy2H3FAAAAAIBFcIo7AAAAAAAWQIMOAAAAAIAF0KADAAAAAGABNOgAAAAAAFgAN4kDAAD1Ijc3V7HtO1Y6T2REuLZv2eimigDA8/Ly8hTRJrbSeaKiorRrR6abKoKV0KADAIB6UWJMpU/tkKQtc0a7pRYAsAq73WjQtJWVzrNu+r1uqgZWwynuAAAAAABYgNc16CUlJZo6dari4uIUFBSk9u3b64UXXpAxxjGPMUbPPfecoqKiFBQUpMTERB08eNCDVQMAAAAAUDmva9DnzJmjRYsW6dVXX9X+/fs1Z84cvfzyy1q4cKFjnpdfflkLFizQ4sWLlZmZqeDgYCUlJencuXMerBwAAAAAgIp53TXoW7Zs0bBhw3THHXdIktq1a6d3331X27dvl3Tx6HlaWpqmTJmiYcOGSZLefPNNRUREaM2aNRo5cqTHagcAAAAAoCJedwQ9ISFBGRkZ+vbbbyVJu3fv1qZNmzR48GBJ0uHDh5Wdna3ExETHMmFhYerTp4+2bt1a4XqLiopUUFDg9AIAAAAAwF287gj6M888o4KCAnXq1En+/v4qKSnRrFmzNGrUKElSdna2JCkiIsJpuYiICMdYeWbPnq3p06fXX+EAAAAAAFTC646gv//++3rnnXe0YsUKffXVV1q+fLnmzp2r5cuX12m9qampOnXqlON19OhRF1UMAAAAAEDVvO4I+pNPPqlnnnnGcS351Vdfre+//16zZ89WcnKyIiMjJUk5OTmKiopyLJeTk6MePXpUuN7AwEAFBgbWa+0AAAAAAFTE6xr0M2fOyM/P+cC/v7+/7Ha7JCkuLk6RkZHKyMhwNOQFBQXKzMzUo48+6u5yG5zeCQOUnZNb6Ty5x4+7qRoAAAAA8B5e16APHTpUs2bNUmxsrLp27aqvv/5a8+fP18MPPyxJstlsmjx5smbOnKkOHTooLi5OU6dOVXR0tIYPH+7Z4huA7JxcJTy9rNJ5VqUMdk8xAAAAAOBFvK5BX7hwoaZOnarf/va3ys3NVXR0tH7961/rueeec8zz1FNPqbCwUOPGjVN+fr769++vtWvXqkmTJh6sHAAAAACAinldgx4SEqK0tDSlpaVVOI/NZtOMGTM0Y8YM9xUGAAAAAC6Ql5eniDaxFY5HRUVp145MN1YEd/G6Bh0AAAAAfJndbjRo2soKx9dNv9eN1cCdvO4xawCAqpWUlGjq1KmKi4tTUFCQ2rdvrxdeeEHGGMc8xhg999xzioqKUlBQkBITE3Xw4EEPVg0A7kNOArAiGnQA8EFz5szRokWL9Oqrr2r//v2aM2eOXn75ZS1cuNAxz8svv6wFCxZo8eLFyszMVHBwsJKSknTu3DkPVg4A7kFOArAiTnEHAB+0ZcsWDRs2THfccYckqV27dnr33Xe1fft2SRePCqWlpWnKlCkaNmyYJOnNN99URESE1qxZo5EjR3qsdgBwB3ISgBVxBB0AfFBCQoIyMjL07bffSpJ2796tTZs2afDgi485PHz4sLKzs5WYmOhYJiwsTH369NHWrVvLXWdRUZEKCgqcXgDgrchJAFbEEXSglnJzcxXbvmOF45ER4dq+ZaMbKwL+zzPPPKOCggJ16tRJ/v7+Kikp0axZszRq1ChJUnZ2tiQpIiLCabmIiAjH2KVmz56t6dOn12/hAOAm5CQAK6JBB2qpxBglPL2swvEtc0a7rRbgUu+//77eeecdrVixQl27dtWuXbs0efJkRUdHKzk5uVbrTE1NVUpKiuN9QUGBYmJiXFUyALgVOQnAimjQAcAHPfnkk3rmmWcc10heffXV+v777zV79mwlJycrMjJSkpSTk6OoqCjHcjk5OerRo0e56wwMDFRgYGC91w4A7kBOArAirkEHAB905swZ+fk5R7y/v7/sdrskKS4uTpGRkcrIyHCMFxQUKDMzU3379nVrrQDgCeQkACviCDoA+KChQ4dq1qxZio2NVdeuXfX1119r/vz5evjhhyVJNptNkydP1syZM9WhQwfFxcVp6tSpio6O1vDhwz1bPAC4ATkJwIpo0AHABy1cuFBTp07Vb3/7W+Xm5io6Olq//vWv9dxzzznmeeqpp1RYWKhx48YpPz9f/fv319q1a9WkSRMPVg4A7kFOArAiGnQA8EEhISFKS0tTWlpahfPYbDbNmDFDM2bMcF9hcIneCQOUnZNb6Ty5x4+7qRrAO5GTAKyIBh0AAC+TnZNb6VMkJGlVymD3FAMAAFyGm8QBAAAAAGABNOgAAAAAAFgADToAAAAAABZAgw4AAAAAgAXQoAMAAAAAYAE06AAAAAAAWAANOgAAAAAAFkCDDgAAAACABdCgAwAAAABgATToAAAAAABYAA06AAAAAAAWQIMOAAAAAIAF0KADAAAAAGABNOgAAAAAAFhAgKcLAAAAAIDa6hHfR1lZWZXOk5ef755igDqiQQcAAADgtbKysjRo2spK5/lw0i1uqgaoGxp0AADgMbm5uYpt37HC8ciIcG3fstGNFQEA4Dk06AAAwGNKjFHC08sqHN8yZ7TbagEAwNNo0AEAgGVxhB0A0JDQoAMAAMviCDsAoCFx2WPWrrjiCv33v/8tMz0/P19XXHGFqzYDAF6LnASAypGTABo6lzXoR44cUUlJSZnpRUVFOnbsmKs2AwBei5wEgMqRkwAaujqf4v7xxx87/vvTTz9VWFiY431JSYkyMjLUrl27um7GybFjx/T000/rk08+0ZkzZ3TllVdq6dKlio+PlyQZYzRt2jQtWbJE+fn56tevnxYtWqQOHTq4tA4AqA5P5CQAeBNyEgAuqnODPnz4cEmSzWZTcnKy01ijRo3Url07zZs3r66bccjLy1O/fv00aNAgffLJJ2rdurUOHjyo5s2bO+Z5+eWXtWDBAi1fvlxxcXGaOnWqkpKS9M0336hJkyYuqwUAqsPdOQkA3oacBICL6tyg2+12SVJcXJy+/PJLtWrVqs5FVWbOnDmKiYnR0qVLHdPi4uIc/22MUVpamqZMmaJhw4ZJkt58801FRERozZo1GjlyZL3WBwCXcndOAoC3IScB4CKXXYN++PBht4Tpxx9/rPj4eN19990KDw9Xz549tWTJEqc6srOzlZiY6JgWFhamPn36aOvWrRWut6ioSAUFBU4vAHAld+UkAHgrchJAQ+fSx6xlZGQoIyNDubm5jr+ElnrjjTdcso1///vfWrRokVJSUvTss8/qyy+/1KRJk9S4cWMlJycrOztbkhQREeG0XEREhGOsPLNnz9b06dNdUiMAVMQdOQkA3oycBNCQuaxBnz59umbMmKH4+HhFRUXJZrO5atVO7Ha74uPj9eKLL0qSevbsqb1792rx4sVlrlmqidTUVKWkpDjeFxQUKCYmps71AkApd+UkAHgrchJAQ+eyBn3x4sVatmyZHnjgAVetslxRUVHq0qWL07TOnTtr1apVkqTIyEhJUk5OjqKiohzz5OTkqEePHhWuNzAwUIGBga4vGAD+f+7KSQDwVuQkgIbOZdegnz9/XgkJCa5aXYX69eunAwcOOE379ttv1bZtW0kXby4SGRmpjIwMx3hBQYEyMzPVt2/feq8PACrirpwEAG9FTgJo6FzWoD/yyCNasWKFq1ZXoccee0zbtm3Tiy++qEOHDmnFihV6/fXXNX78eEkXH88xefJkzZw5Ux9//LH27NmjBx98UNHR0Y5HeACAJ7grJwHAW5GTABo6l53ifu7cOb3++uv6/PPPdc0116hRo0ZO4/Pnz3fJdq677jp99NFHSk1N1YwZMxQXF6e0tDSNGjXKMc9TTz2lwsJCjRs3Tvn5+erfv7/Wrl3LM9ABeJS7crLUsWPH9PTTT+uTTz7RmTNndOWVV2rp0qWKj4+XdPGxlNOmTdOSJUuUn5+vfv36adGiRerQoYNL6wCA6iInATR0LmvQ//nPfzqu8d67d6/TmKtv8DFkyBANGTKkwnGbzaYZM2ZoxowZLt0uANSFO3MyLy9P/fr106BBg/TJJ5+odevWOnjwoJo3b+6Y5+WXX9aCBQu0fPlyxcXFaerUqUpKStI333zDHzQBeAQ5CaChc1mDvm7dOletCgB8kjtzcs6cOYqJidHSpUsd0+Li4hz/bYxRWlqapkyZomHDhkmS3nzzTUVERGjNmjUaOXKk22oFgFLkJICGzmXXoAMArOPjjz9WfHy87r77boWHh6tnz55asmSJY/zw4cPKzs5WYmKiY1pYWJj69OmjrVu3lrvOoqIiFRQUOL0AwFuRkwCsyGVH0AcNGlTpqUdffPGFqzYFAF7JnTn573//W4sWLVJKSoqeffZZffnll5o0aZIaN26s5ORkZWdnS5IiIiKclouIiHCMXWr27NmaPn26y2pExXonDFB2Tm6F47nHj7uxGsB9yEkADZ3LGvRLnzFeXFysXbt2ae/evUpOTnbVZgDAa7kzJ+12u+Lj4/Xiiy9Kknr27Km9e/dq8eLFtd5WamqqUlJSHO8LCgoUExPjknrhLDsnVwlPL6twfFXKYPcVA7gROQmgoXNZg/7KK6+UO/3555/X6dOnXbUZAPBa7szJqKgodenSxWla586dtWrVKklSZGSkJCknJ0dRUVGOeXJycsr8A7lUYGCgAgMDXVonAPwcOQmgoav3a9Dvv/9+vfHGG/W9GQDwWvWRk/369dOBAwecpn377bdq27atpIs3QoqMjFRGRoZjvKCgQJmZmerbt69LawGAuiInATQULjuCXpGtW7fyGAoAqER95ORjjz2mhIQEvfjii7rnnnu0fft2vf7663r99dclXXxc0eTJkzVz5kx16NDB8fig6OhoDR8+3KW1AEBdkZOAs7y8PEW0ia10nqioKO3akemmiuAqLmvQ77rrLqf3xhhlZWVpx44dmjp1qqs2AwBey505ed111+mjjz5SamqqZsyYobi4OKWlpWnUqFGOeZ566ikVFhZq3Lhxys/PV//+/bV27Vr+qArAY8hJoHrsdqNB01ZWOs+66fe6qRq4kssa9LCwMKf3fn5+6tixo2bMmKFbb73VVZsBAK/l7pwcMmSIhgwZUuG4zWbTjBkzNGPGDJdvGwBqg5wE0NC5rEFfunSpq1YFAD6JnASAypGTABo6l1+DvnPnTu3fv1+S1LVrV/Xs2dPVmwAAr0ZOAkDlyEkADZXLGvTc3FyNHDlS69evV7NmzSRJ+fn5GjRokN577z21bt3aVZsCAK9ETgJA5chJAA2dyx6zNnHiRP3000/at2+fTp48qZMnT2rv3r0qKCjQpEmTXLUZAPBa5CQAVI6cBNDQuewI+tq1a/X555+rc+fOjmldunRReno6N4kDAJGTAFAVchLl6RHfR1lZWRWO5+Xnu68YoJ65rEG32+1q1KhRmemNGjWS3W531WYAr5Gbm6vY9h0rnScyIlzbt2x0U0XwNHISACpHTqI8WVlZlT5S7MNJt7ixGqB+uaxBv+mmm/S73/1O7777rqKjoyVJx44d02OPPaabb77ZVZsBvEaJMUp4elml82yZM9ottcAayEkAqBw5CbhOXl6eItrEVjpPVFSUdu3IdFNFqA6XNeivvvqqfvGLX6hdu3aKiYmRJB09elTdunXT22+/7arNwMN6JwxQdk5uheO5x4+7sRrAu5CTAFA5chJwHbvdVHrmgSStm36vm6pBdbmsQY+JidFXX32lzz//XP/6178kSZ07d1ZiYqKrNgELyM7JrfSo8KqUwe4rBvAy5CQAVI6cBNDQ1fku7l988YW6dOmigoIC2Ww23XLLLZo4caImTpyo6667Tl27dtXGjVxjC6DhIicBoHLkJABcVOcGPS0tTWPHjlVoaGiZsbCwMP3617/W/Pnz67oZAPBa5CQAVI6cBICL6tyg7969W7fddluF47feeqt27txZ180AgNciJwGgcuQkAFxU5wY9Jyen3MdhlAoICNBxbhwGoAEjJwGgcuQkAFxU5wa9TZs22rt3b4Xj//znPxUVFVXXzQCA1yInAaBy5CQAXFTnBv3222/X1KlTde7cuTJjZ8+e1bRp0zRkyJC6bgYAvBY5CQCVIycB4KI6P2ZtypQpWr16ta666ipNmDBBHTt2lCT961//Unp6ukpKSvQ///M/dS4UALwVOQkAlSMnG64e8X2UlZVV6Tx5+fnuKQawgDo36BEREdqyZYseffRRpaamyhgjSbLZbEpKSlJ6eroiIiLqXCgAeCtyEgAqR042XFlZWRo0bWWl83w46RY3VQN4Xp0bdElq27at/vd//1d5eXk6dOiQjDHq0KGDmjdv7orVA4DXIycBoHLkJAC4qEEv1bx5c1133XWuXCUA+BRyEgAqR04CaMjqfJM4AAAAAABQdzToAAAAAABYAA06AAAAAAAWQIMOAAAAAIAF0KADAAAAAGABNOgAAAAAAFgADToAAAAAABbg9Q36Sy+9JJvNpsmTJzumnTt3TuPHj1fLli3VtGlTjRgxQjk5OZ4rEgAAAACAKnh1g/7ll1/qj3/8o6655hqn6Y899pj+8pe/6IMPPtA//vEP/ec//9Fdd93loSoBAAAAAKhagKcLqK3Tp09r1KhRWrJkiWbOnOmYfurUKf35z3/WihUrdNNNN0mSli5dqs6dO2vbtm26/vrrPVUyAADqnTBA2Tm5lc6Te/y4m6oBAABW4rUN+vjx43XHHXcoMTHRqUHfuXOniouLlZiY6JjWqVMnxcbGauvWrRU26EVFRSoqKnK8LygoqL/iAQANVnZOrhKeXlbpPKtSBrunGAAAYCle2aC/9957+uqrr/Tll1+WGcvOzlbjxo3VrFkzp+kRERHKzs6ucJ2zZ8/W9OnTXV2qV+GoDgAAAAB4jtc16EePHtXvfvc7ffbZZ2rSpInL1puamqqUlBTH+4KCAsXExLhs/d6AozoAAAAA4Dled5O4nTt3Kjc3V9dee60CAgIUEBCgf/zjH1qwYIECAgIUERGh8+fPKz8/32m5nJwcRUZGVrjewMBAhYaGOr0AwBfwtAsAqBpZCcAKvK5Bv/nmm7Vnzx7t2rXL8YqPj9eoUaMc/92oUSNlZGQ4ljlw4IB++OEH9e3b14OVA4D78bQLAKgaWQnAKrzuFPeQkBB169bNaVpwcLBatmzpmD5mzBilpKSoRYsWCg0N1cSJE9W3b1/u4A6gQeFpFwBQNbISgJV43RH06njllVc0ZMgQjRgxQjfccIMiIyO1evVqT5cFAG7186dd/FxVT7uoSFFRkQoKCpxeAODtXJmV5CSAuvK6I+jlWb9+vdP7Jk2aKD09Xenp6Z4pCAA8jKddoKHIzc1VbPuOlc4TGRGu7Vs2uqkieBNXZyU5CaCufKJBBwD8H552gYakxJgqn0CyZc5ot9QC71IfWUlOAqgrnzzFHQAaMp52AQBVq4+sJCcB1BVH0AHAx5Q+7eLnHnroIXXq1ElPP/20YmJiHE+7GDFihCSedgGg4SErAVgRDToA+BiedgEAVSMrAVgRDToANECvvPKK/Pz8NGLECBUVFSkpKUmvvfaap8sCAEshKwG4Gw06ADQAPO0CAKpGVgLwNG4SBwAAAACABXAEHfCgqp7fy7N7AQAAgIaDBh3woKqe38uzewEAAICGg1PcAQAAAACwABp0AAAAAAAsgAYdAAAAAAALoEEHAAAAAMACaNABAAAAALAAGnQAAAAAACyABh0AAAAAAAvgOeiAheXm5iq2fccKxyMjwrV9y0Y3VgQAAACgvtCgAxZWYowSnl5W4fiWOaPdVgsAAACA+kWDDgAAAAANUF5eniLaxFY6T1RUlHbtyHRTRaBBBwAAAIAGyG43GjRtZaXzrJt+r5uqgcRN4gAAAAAAsAQadAAAAAAALIAGHQAAAAAAC6BBBwAAAADAAmjQAQAAAACwAO7iDgCAC/VOGKDsnNwKx3OPH3djNQAAwJvQoAMA4ELZOblKeHpZheOrUga7rxgAAOBVOMUdAAAAAAALoEEHAAAAAMACaNABAAAAALAAGnQAAAAAACyABh0AAAAAAAugQQcAAAAAwAJo0AEAAAAAsAAadAAAAAAALMDrGvTZs2fruuuuU0hIiMLDwzV8+HAdOHDAaZ5z585p/PjxatmypZo2baoRI0YoJyfHQxUDAAAAAFC1AE8XUFP/+Mc/NH78eF133XW6cOGCnn32Wd1666365ptvFBwcLEl67LHH9Le//U0ffPCBwsLCNGHCBN11113avHmzh6sHAADulpubq9j2HSscj4wI1/YtG91YEdAw9Ijvo6ysrErnycvPd08xqLW8vDxFtImtcDwqKkq7dmS6sSLf5nUN+tq1a53eL1u2TOHh4dq5c6duuOEGnTp1Sn/+85+1YsUK3XTTTZKkpUuXqnPnztq2bZuuv/56T5QNAAA8pMQYJTy9rMLxLXNGu60WoCHJysrSoGkrK53nw0m3uKka1Jbdbir9Oa6bfq8bq/F9XneK+6VOnTolSWrRooUkaefOnSouLlZiYqJjnk6dOik2NlZbt26tcD1FRUUqKChwegGAt+JyoPrTO2GAYtt3rPCVe/y4p0sEUA3kJAAr8roj6D9nt9s1efJk9evXT926dZMkZWdnq3HjxmrWrJnTvBEREcrOzq5wXbNnz9b06dPrs1wAcBsuB6o/2Tm5lR6NXZUy2H3FAKg1chKAFXl1gz5+/Hjt3btXmzZtqvO6UlNTlZKS4nhfUFCgmJiYOq8XADyBy4GA6qvqGnWJ69R9ETkJwIq8tkGfMGGC/vrXv2rDhg26/PLLHdMjIyN1/vx55efnOx1Fz8nJUWRkZIXrCwwMVGBgYH2WDAAeU9PLgcr7h2dRUZGKiooc77kUCL6iqmvUJa5TbwjISQBW4HXXoBtjNGHCBH300Uf64osvFBcX5zTeq1cvNWrUSBkZGY5pBw4c0A8//KC+ffu6u1wA8DhXXQ40e/ZshYWFOV6cZQTAV5CTAKzC6xr08ePH6+2339aKFSsUEhKi7OxsZWdn6+zZs5KksLAwjRkzRikpKVq3bp127typhx56SH379uVUJAANUunlQO+9916d1pOamqpTp045XkePHnVRhQDgWeQkAKvwulPcFy1aJEm68cYbnaYvXbpUo0ePliS98sor8vPz04gRI1RUVKSkpCS99tprbq4UADzPlZcDcSkQAF9ETgKwEq87gm6MKfdV2pxLUpMmTZSenq6TJ0+qsLBQq1evrvT6cwDwNVwOBACVIycBWJHXHUEHAFRt/PjxWrFihf7f//t/jsuBpIuXAQUFBTldDtSiRQuFhoZq4sSJXA4EoMEgJwFYEQ06APggLgcCgMqRkwCsiAYdAHyQMabKeUovB0pPT3dDRQBgLeQkACvyumvQAQAAAADwRTToAAAAAABYAA06AAAAAAAWQIMOAAAAAIAFcJM4H9I7YYCyc3IrHM/LO6nmzVtUOJ57/Hh9lAUAAAAAqAYadB+SnZOrhKeXVTi+KmVwleMAAAAAAM/gFHcAAAAAACyABh0AAAAAAAugQQcAAAAAwAJo0AEAAAAAsABuEgcAwP+vqqdhSDzxAoD36xHfR1lZWZXOExUVpV07Mt1UEbxZXl6eItrEVjoP36fqo0EHvFhubq5i23esdJ7IiHBt37LRTRUB3q2qp2FIPPECgPfLysrSoGkrK51n3fR73VQNvJ3dbvg+uRANOuDFSoypspnYMme0W2oBAAAAUDc06F6C0y4BAPCcqs5Y4mwlNDTVOU0+Lz/fPcUAPoQG3Utw2iUAAJ5T1RlLnK2EhqY6p8l/OOkWN1UD+A4adAAAgDriCDsAwBVo0AEAAOqII+wAAFegQQcAAAAA1BsexVZ9NOhAA1edGxByaiYAAABqi0exVR8NOtDAVecGhJyaCQAAANQ/P08XAAAAAAAAaNABAAAAALAEGnQAAAAAACyAa9ABAAAAOKnqrtt5+fnuKwZoQGjQAQAAADip6q7bH066xY3VAA0HDToAoMGo6rGCucePu7EawFlV308eeQkAvo8GHQDQYFT1WMFVKYPdVwxwiaq+nzzyEgB8Hw064ONyc3MV275jxeMcMQQAAAAsgQYd8HElxnDEEAAAAJZW1Y0JJemn06cV0rRpheNRUVHatSPT1aW5FQ26m3BdGbxZVUfh+f4CAACgLqq6MaF08eaEg35f8Tzrpt/r6rLcjgbdTbiuDN6sqqPwfH/hCvwhEwDqrkd8H2VlZVU6D49IA6yLBh0AYAn8IRMA6i4rK6taRyEBWJNPN+jp6en6/e9/r+zsbHXv3l0LFy5U7969PV0W0OBUdWRU4uiop7grJ6vzHajqhoVVXWohSXl5J9W8eYtabwOoL9X5/vL9tC7+TQnAXXy2QV+5cqVSUlK0ePFi9enTR2lpaUpKStKBAwcUHh7u6fKABqWqI6MSR0c9wZ05WZ3vQFU3LKzqUovSdXBTRFhRdb+/sB7+TQnAnXy2QZ8/f77Gjh2rhx56SJK0ePFi/e1vf9Mbb7yhZ555xqXbcseRIf6qDsDV3JmTAOCt3JmVVV0/XtUdrCWuLwe8nU826OfPn9fOnTuVmprqmObn56fExERt3bq13GWKiopUVFTkeH/q1ClJUkFBQZXb+09WlvpMXlzpPP/v2REqPltY4fgFu13XTUqv9fKSZIypdJ66jltlHdTp3m1UZx67vaTS3xW7vaTKbVS1Dun/fh+NMZXOh6q5Oyer8x2wwvfdV7ZBndZbhzuythRZ6To1zcq65KQkHTt2TDc8s6zC8TVPDdPgGe9Xuo41Tw2r83etOvO4Yh3UYv3teFstdrvd+3PS+KBjx44ZSWbLli1O05988knTu3fvcpeZNm2akcSLFy8veB09etQdUeLTyElevHz/RVbWXU2zkpzkxcu7XlbMSZ88gl4bqampSklJcby32+06efKkWrZsKZvN5sHKyldQUKCYmBgdPXpUoaGhni7HZdgv7+GJfTLG6KefflJ0dLRbtgdn3paTNeGLv6OS7+6XxL5Vhqz0HG/PSV/+vfo59tO31GY/rZyTPtmgt2rVSv7+/srJyXGanpOTo8jIyHKXCQwMVGBgoNO0Zs2a1VeJLhMaGuqTv3Dsl/dw9z6FhYW5bVu+rCHlZE344u+o5Lv7JbFvFSErXaOmWekrOenLv1c/x376lprup1Vz0s/TBdSHxo0bq1evXsrIyHBMs9vtysjIUN++fT1YGQBYAzkJAFUjKwG4m08eQZeklJQUJScnKz4+Xr1791ZaWpoKCwsdd+AEgIaOnASAqpGVANzJZxv0e++9V8ePH9dzzz2n7Oxs9ejRQ2vXrlVERISnS3OJwMBATZs2rcxpVN6O/fIevrhPDY2v52RN+Or32Vf3S2Lf4D4NKSsbyneP/fQtvrafNmOseG95AAAAAAAaFp+8Bh0AAAAAAG9Dgw4AAAAAgAXQoAMAAAAAYAE06AAAAAAAWAANuoWlp6erXbt2atKkifr06aPt27dXOO+SJUs0YMAANW/eXM2bN1diYmKl83tSTfZr9erVio+PV7NmzRQcHKwePXrorbfecmO11VOTffq59957TzabTcOHD6/fAmupJvu1bNky2Ww2p1eTJk3cWC1QOTLVezK1FNlKtsL1fDULL+XL2fhzvpqTl2pQuWlgSe+9955p3LixeeONN8y+ffvM2LFjTbNmzUxOTk658993330mPT3dfP3112b//v1m9OjRJiwszPz4449urrxyNd2vdevWmdWrV5tvvvnGHDp0yKSlpRl/f3+zdu1aN1desZruU6nDhw+bNm3amAEDBphhw4a5p9gaqOl+LV261ISGhpqsrCzHKzs7281VA+UjUy/yhkwtRbZeRLbClXw1Cy/ly9n4c76ak5dqaLlJg25RvXv3NuPHj3e8LykpMdHR0Wb27NnVWv7ChQsmJCTELF++vL5KrJW67pcxxvTs2dNMmTKlPsqrldrs04ULF0xCQoL505/+ZJKTky0ZjjXdr6VLl5qwsDA3VQfUDJlaMatlaimy9SKyFa7kq1l4KV/Oxp/z1Zy8VEPLTU5xt6Dz589r586dSkxMdEzz8/NTYmKitm7dWq11nDlzRsXFxWrRokV9lVljdd0vY4wyMjJ04MAB3XDDDfVZarXVdp9mzJih8PBwjRkzxh1l1lht9+v06dNq27atYmJiNGzYMO3bt88d5QKVIlPLZ8VMLUW2OiNb4Qq+moWX8uVs/DlfzclLNcTcDPB0ASjrxIkTKikpUUREhNP0iIgI/etf/6rWOp5++mlFR0c7fZk9rbb7derUKbVp00ZFRUXy9/fXa6+9pltuuaW+y62W2uzTpk2b9Oc//1m7du1yQ4W1U5v96tixo9544w1dc801OnXqlObOnauEhATt27dPl19+uTvKBspFpjqzcqaWIlv/D9kKV/HVLLyUL2fjz/lqTl6qIeYmDboPeumll/Tee+9p/fr13nVDhAqEhIRo165dOn36tDIyMpSSkqIrrrhCN954o6dLq7GffvpJDzzwgJYsWaJWrVp5uhyX6tu3r/r27et4n5CQoM6dO+uPf/yjXnjhBQ9WBtQNmWp9ZCtQ/3wtCy/li9n4c76ck5fy9tykQbegVq1ayd/fXzk5OU7Tc3JyFBkZWemyc+fO1UsvvaTPP/9c11xzTX2WWWO13S8/Pz9deeWVkqQePXpo//79mj17tiUCs6b79N133+nIkSMaOnSoY5rdbpckBQQE6MCBA2rfvn39Fl0NdfkOlmrUqJF69uypQ4cO1UeJQLWRqc6snKmlyNaKka2oLV/Nwkv5cjb+nK/m5KUaYm5yDboFNW7cWL169VJGRoZjmt1uV0ZGhtNfgy718ssv64UXXtDatWsVHx/vjlJrpLb7dSm73a6ioqL6KLHGarpPnTp10p49e7Rr1y7H6xe/+IUGDRqkXbt2KSYmxp3lV8gVP6uSkhLt2bNHUVFR9VUmUC1kauWslKmlyNaKka2oLV/Nwkv5cjb+nK/m5KUaZG56+CZ1qMB7771nAgMDzbJly8w333xjxo0bZ5o1a+Z4RMADDzxgnnnmGcf8L730kmncuLH58MMPnR4p8NNPP3lqF8pV0/168cUXzd///nfz3XffmW+++cbMnTvXBAQEmCVLlnhqF8qo6T5dyqp30Kzpfk2fPt18+umn5rvvvjM7d+40I0eONE2aNDH79u3z1C4ADmTqRd6QqaXI1ovIVriSr2bhpXw5G3/OV3PyUg0tNznF3aLuvfdeHT9+XM8995yys7PVo0cPrV271nGDhB9++EF+fv93AsSiRYt0/vx5/fKXv3Raz7Rp0/T888+7s/RK1XS/CgsL9dvf/lY//vijgoKC1KlTJ7399tu69957PbULZdR0n7xFTfcrLy9PY8eOVXZ2tpo3b65evXppy5Yt6tKli6d2AXAgUy/yhkwtRbZeRLbClXw1Cy/ly9n4c76ak5dqaLlpM8YYTxcBAAAAAEBD5/1/UgEAAAAAwAfQoAMAAAAAYAE06AAAAAAAWAANOgAAAAAAFkCDDgAAAACABdCgAwAAAABgATToAAAAAABYAA06AAAAAAAWQIMOn3bjjTdq8uTJni4DACyLnASAqpGVcBcadFjW0KFDddttt5U7tnHjRtlsNv3zn/90c1UAYB3kJABUjayEN6FBh2WNGTNGn332mX788ccyY0uXLlV8fLyuueYaD1QGANZATgJA1chKeBMadFjWkCFD1Lp1ay1btsxp+unTp/XBBx9o+PDh+tWvfqU2bdrosssu09VXX61333230nXabDatWbPGaVqzZs2ctnH06FHdc889atasmVq0aKFhw4bpyJEjrtkpAHAhchIAqkZWwpvQoMOyAgIC9OCDD2rZsmUyxjimf/DBByopKdH999+vXr166W9/+5v27t2rcePG6YEHHtD27dtrvc3i4mIlJSUpJCREGzdu1ObNm9W0aVPddtttOn/+vCt2CwBchpwEgKqRlfAmNOiwtIcffljfffed/vGPfzimLV26VCNGjFDbtm31xBNPqEePHrriiis0ceJE3XbbbXr//fdrvb2VK1fKbrfrT3/6k66++mp17txZS5cu1Q8//KD169e7YI8AwLXISQCoGlkJb0GDDkvr1KmTEhIS9MYbb0iSDh06pI0bN2rMmDEqKSnRCy+8oKuvvlotWrRQ06ZN9emnn+qHH36o9fZ2796tQ4cOKSQkRE2bNlXTpk3VokULnTt3Tt99952rdgsAXIacBICqkZXwFgGeLgCoypgxYzRx4kSlp6dr6dKlat++vQYOHKg5c+boD3/4g9LS0nT11VcrODhYkydPrvS0IZvN5nRqk3TxFKRSp0+fVq9evfTOO++UWbZ169au2ykAcCFyEgCqRlbCG9Cgw/Luuece/e53v9OKFSv05ptv6tFHH5XNZtPmzZs1bNgw3X///ZIku92ub7/9Vl26dKlwXa1bt1ZWVpbj/cGDB3XmzBnH+2uvvVYrV65UeHi4QkND62+nAMCFyEkAqBpZCW/AKe6wvKZNm+ree+9VamqqsrKyNHr0aElShw4d9Nlnn2nLli3av3+/fv3rXysnJ6fSdd1000169dVX9fXXX2vHjh36zW9+o0aNGjnGR40apVatWmnYsGHauHGjDh8+rPXr12vSpEnlPpoDAKyAnASAqpGV8AY06PAKY8aMUV5enpKSkhQdHS1JmjJliq699lolJSXpxhtvVGRkpIYPH17peubNm6eYmBgNGDBA9913n5544glddtlljvHLLrtMGzZsUGxsrO666y517txZY8aM0blz5/jrJwBLIycBoGpkJazOZi69eAIAAAAAALgdR9ABAAAAALAAGnQAAAAAACyABh0AAAAAAAugQQcAAAAAwAJo0AEAAAAAsAAadAAAAAAALIAGHQAAAAAACwjwdAGAKxhjVFxcrJKSEvn7+6tRo0ay2WyeLgsALIOcBIDKkZOwAhp0eLXi4mLl5OTo2LFjOnv2rGN6UFCQ2rRpo4iICDVq1MiDFQKAZ5GTAFA5chJW4hOnuF9//fVasGCB4/3IkSNls9l07tw5SdLRo0fVuHFjffvtt54qEfXg5MmT2rZtm7777js1bdpUXbp00TXXXKMuXbqoadOm+u6777Rt2zadPHnS06XCTTZs2KChQ4cqOjpaNptNa9asKTNPenq62rVrpyZNmqhPnz7avn27+wv1ELKy4SEncSlysnLkZMNDTuJSns5Jn2jQmzVrpp9++knSxeD8+9//ruDgYOXn50uS/vjHP+qWW27RVVdd5cEq4UonT57Unj17FBYWpuuvv15du3ZVeHi4WrRoofDwcHXt2lXXX3+9wsLCtGfPHkK1gSgsLFT37t2Vnp5e7vjKlSuVkpKiadOm6auvvlL37t2VlJSk3NxcN1fqGWRlw0JOojzkZOXIyYaFnER5PJ2TPtegv/rqq7r//vvVqlUr5eXl6fz581qyZIl+97vfSZLuvPNONW/eXL/85S89WTLqoLi4WPv27VPz5s3VrVs3BQYGljtfYGCgunXrpubNm2vfvn0qLi52c6Vwt8GDB2vmzJm68847yx2fP3++xo4dq4ceekhdunTR4sWLddlll+mNN95wc6WeUd2sPHr0qG688UbHUYQPPvjAw5WjpshJVIScrFx1czI/P1/x8fHq0aOHunXrpiVLlni4ctQUOYmKeDonfeIa9NIwLSws1J///Gdt27ZN//jHP5SXl6cPP/xQLVu21C233CJJ+t3vfqeHH35Yy5cvr3K97Z75W32Xjlq4pW2A7uscqI4dO8rPr/K/Mfn5+aljx47aunWrdu3apaCgIDdVifrSrVu3Wi13/vx57dy5U6mpqY5pfn5+SkxM1NatW11VnqVVNyuzs7OVlpamHj16KDs7W7169dLtt9+u4ODgMuskJ62JnERtspKcrH5O2u12bdiwQZdddpkKCwvVrVs33XXXXWrZsmWZdZKT1kROwqo56VNH0JcvX66EhARdeeWVCg0NVV5entLT0zVp0iTHHRhvvPFGhYSEeLhi1MUtbRurdavWFf6l81KBgYFq3bq1zp07J2NMPVcHqzpx4oRKSkoUERHhND0iIkLZ2dkeqsq9qpuVUVFR6tGjhyQpMjJSrVq14rQ+L0NOojbIyernpL+/vy677DJJUlFRkYwx/O54GXISteGOnPSZBv3UqVP6wx/+4DiVPSwsTOvWrdP+/fv14IMPerhCuErTRlL4ZTaFh7eu0XKtW7dWSUkJgYoGrTZZuXPnTpWUlCgmJsbd5aKWyEmg9mqSk/n5+erevbsuv/xyPfnkk2rVqpWnykYNkZOwMp9p0L/44gsFBgbq5ptvliSFhoZq8eLFeuSRRxx/4YT3axJw8UyIgICaXZ1ROj+B2nC1atVK/v7+ysnJcZqek5OjyMhID1XlXjXNypMnT+rBBx/U66+/7olyUUvkJGqLnKxZTjZr1ky7d+/W4cOHtWLFijKfG6yLnERtuSMnfaZBP336tOMvndLFv3aeO3dO48eP92BlcLVzFy4G4oULF2q0XOn8pZc6oOFp3LixevXqpYyMDMc0u92ujIwM9e3b14OVuU9NsrKoqEjDhw/XM888o4SEBHeXijogJ1Fb5GTt/k0ZERGh7t27a+PGje4qE3VETqK23JGTPtGgjxw5UsYYjRkzxjFt0aJFunDhgtq2bevByuBqp4ul3DNGubnHa7Tc8ePH5e/vT6D6uNOnT2vXrl3atWuXJOnw4cPatWuXfvjhB0lSSkqKlixZouXLl2v//v169NFHVVhYqIceesiDVbtPdbPSGKPRo0frpptu0gMPPOCJUlEH5CQqQ05Wrro5mZOT47jb+6lTp7RhwwZ17NjR7fWidshJVMbjOWkamJtvvtm0atXKBAUFmTZt2pgtW7Z4uiTU0NGjR8369evNuXPnqjX/uXPnzPr1683Ro0fruTJ42rp164ykMq/k5GTHPAsXLjSxsbGmcePGpnfv3mbbtm2eK9iiNm7caGw2m+nevbvj9c9//tPTZaEGyElUhJx0jczMTNO9e3dzzTXXmKuvvtosXrzY0yWhhshJVMTTOWkzhoso4F2Ki4u1bds2hYWFqVu3bpU+GsNut2vv3r06deqUrr/+ejVq1MiNlQKAZ5CTAFA5chJW5ROnuKNhadSokbp27aq8vDzt3btXRUVF5c5XVFSkvXv3Ki8vT127diVMATQY5CQAVI6chFVxBB1e6+TJk9q3b5/sdrtatWql1q1bKyAgQBcuXNDx48d14sQJ+fn5qWvXrmrRooWnywUAtyMnAaBy5CSshgYdXq24uFg5OTk6duyYzp4965geFBSkNm3aKDIyssaP0AAAX0JOAkDlyElYCQ06fIIxRhcuXNCFCxcUEBCggIAA7rAJAD9DTgJA5chJWAENOgAAAAAAFsBN4gAAAAAAsAAadAAAAAAALIAGHQAAAAAAC6BBBwAAAADAAmjQAQAAAACwABp0AAAAAAAsgAYdAAAAAAALoEEHAAAAAMACaNABAAAAALAAGnQAAAAAACyABh0AAAAAAAugQQcAAAAAwAL+P7lUECFUcmBgAAAAAElFTkSuQmCC' width=1000.0/>\n",
       "            </div>\n",
       "        "
      ],
      "text/plain": [
       "Canvas(toolbar=Toolbar(toolitems=[('Home', 'Reset original view', 'home', 'home'), ('Back', 'Back to previous …"
      ]
     },
     "metadata": {},
     "output_type": "display_data"
    }
   ],
   "source": [
    "%matplotlib widget\n",
    "fig, ax = plt.subplots(1, 3, figsize=(10, 4))\n",
    "\n",
    "for idx in range(modified_weights.shape[1]):\n",
    "    # In the case of using sliders, the reference should be kept, so Python wouldn't GC\n",
    "    _, bins_slider = graphs.hist_dist(modified_weights[: , idx], ax[idx], fig=fig, slider_label=f'$w_{{{idx+1}}}$', kind='hist', xlabel='Value', title=f'Weight {idx+1}')\n",
    "plt.suptitle('Weights value distribution')\n",
    "plt.tight_layout(w_pad=1.5)\n",
    "plt.show()"
   ]
  },
  {
   "cell_type": "markdown",
   "metadata": {},
   "source": [
    "### 3.2. Perturbated matrix  <a id=\"16\"></a>"
   ]
  },
  {
   "cell_type": "code",
   "execution_count": 32,
   "metadata": {},
   "outputs": [
    {
     "name": "stdout",
     "output_type": "stream",
     "text": [
      "Initial matrix:\n"
     ]
    },
    {
     "data": {
      "text/latex": [
       "$\\displaystyle \\left[\\begin{matrix}4 & 3 & 7\\\\1 & 9 & 6\\\\7 & 5 & 3\\end{matrix}\\right]$"
      ],
      "text/plain": [
       "Matrix([\n",
       "[4, 3, 7],\n",
       "[1, 9, 6],\n",
       "[7, 5, 3]])"
      ]
     },
     "metadata": {},
     "output_type": "display_data"
    },
    {
     "name": "stdout",
     "output_type": "stream",
     "text": [
      "Example resulting matrix (1/1000):\n"
     ]
    },
    {
     "data": {
      "text/latex": [
       "$\\displaystyle \\left[\\begin{matrix}3.9368 & 2.936526 & 7.077063\\\\1.081977 & 9.013239 & 6.081222\\\\6.956435 & 5.088796 & 2.933501\\end{matrix}\\right]$"
      ],
      "text/plain": [
       "Matrix([\n",
       "[  3.9368, 2.936526, 7.077063],\n",
       "[1.081977, 9.013239, 6.081222],\n",
       "[6.956435, 5.088796, 2.933501]])"
      ]
     },
     "metadata": {},
     "output_type": "display_data"
    }
   ],
   "source": [
    "matrix = np.array([[4, 3, 7], \n",
    "                   [1, 9, 6], \n",
    "                   [7, 5, 3]])\n",
    "simulations = 1000\n",
    "results = probabilistic.perturbed_matrix(matrix, simulations)\n",
    "print('Initial matrix:')\n",
    "display(Matrix(matrix))\n",
    "print(f'Example resulting matrix (1/{len(results)}):')\n",
    "display(Matrix(results[0]))"
   ]
  },
  {
   "cell_type": "markdown",
   "metadata": {},
   "source": [
    "### 3.3. Perturbated weights  <a id=\"17\"></a>"
   ]
  },
  {
   "cell_type": "code",
   "execution_count": 33,
   "metadata": {},
   "outputs": [
    {
     "name": "stdout",
     "output_type": "stream",
     "text": [
      "Initial weights vector:\n"
     ]
    },
    {
     "data": {
      "text/latex": [
       "$\\displaystyle \\left[\\begin{matrix}0.3 & 0.4 & 0.3\\end{matrix}\\right]$"
      ],
      "text/plain": [
       "Matrix([[0.3, 0.4, 0.3]])"
      ]
     },
     "metadata": {},
     "output_type": "display_data"
    },
    {
     "name": "stdout",
     "output_type": "stream",
     "text": [
      "Example resulting weights vector (1/1000):\n"
     ]
    },
    {
     "data": {
      "text/latex": [
       "$\\displaystyle \\left[\\begin{matrix}0.312268 & 0.417788 & 0.269945\\end{matrix}\\right]$"
      ],
      "text/plain": [
       "Matrix([[0.312268, 0.417788, 0.269945]])"
      ]
     },
     "metadata": {},
     "output_type": "display_data"
    }
   ],
   "source": [
    "weights = np.array([0.3, 0.4, 0.3])\n",
    "simulations = 1000\n",
    "results = probabilistic.perturbed_weights(weights, simulations)\n",
    "\n",
    "print('Initial weights vector:')\n",
    "display(Matrix(weights).T)\n",
    "print(f'Example resulting weights vector (1/{len(results)}):')\n",
    "display(Matrix(results[0]).T)"
   ]
  },
  {
   "cell_type": "markdown",
   "metadata": {},
   "source": [
    "---"
   ]
  },
  {
   "cell_type": "markdown",
   "metadata": {},
   "source": [
    "<a id=\"18\"></a><br/>\n",
    "\n",
    "## 4. Ranking submodule"
   ]
  },
  {
   "cell_type": "markdown",
   "metadata": {},
   "source": [
    "### 4.1. Ranking alternation  <a id=\"19\"></a>"
   ]
  },
  {
   "cell_type": "markdown",
   "metadata": {},
   "source": [
    "This function finds smallest possible changes in weights values which will result in different ranking."
   ]
  },
  {
   "cell_type": "code",
   "execution_count": 34,
   "metadata": {},
   "outputs": [
    {
     "name": "stdout",
     "output_type": "stream",
     "text": [
      "Initial ranking:\n"
     ]
    },
    {
     "data": {
      "text/latex": [
       "$\\displaystyle \\left[\\begin{matrix}2.0 & 3.0 & 1.0\\end{matrix}\\right]$"
      ],
      "text/plain": [
       "Matrix([[2.0, 3.0, 1.0]])"
      ]
     },
     "metadata": {},
     "output_type": "display_data"
    },
    {
     "name": "stdout",
     "output_type": "stream",
     "text": [
      "Example result (1/3):\n",
      "\n",
      "Modified weight index: 0\n",
      "Resulting weights:\n"
     ]
    },
    {
     "data": {
      "text/latex": [
       "$\\displaystyle \\left[\\begin{matrix}0.39 & 0.505 & 0.105\\end{matrix}\\right]$"
      ],
      "text/plain": [
       "Matrix([[0.39, 0.505, 0.105]])"
      ]
     },
     "metadata": {},
     "output_type": "display_data"
    },
    {
     "name": "stdout",
     "output_type": "stream",
     "text": [
      "Resulting new ranking:\n"
     ]
    },
    {
     "data": {
      "text/latex": [
       "$\\displaystyle \\left[\\begin{matrix}3.0 & 2.0 & 1.0\\end{matrix}\\right]$"
      ],
      "text/plain": [
       "Matrix([[3.0, 2.0, 1.0]])"
      ]
     },
     "metadata": {},
     "output_type": "display_data"
    }
   ],
   "source": [
    "import pymcdm.methods as pm\n",
    "\n",
    "weights = np.array([0.4, 0.5, 0.1])\n",
    "matrix = np.array([\n",
    "    [4, 2, 6],\n",
    "    [7, 3, 2],\n",
    "    [9, 6, 8]\n",
    "])\n",
    "types = np.array([-1, 1, -1])\n",
    "\n",
    "aras = pm.ARAS()\n",
    "pref = aras(matrix, weights, types)\n",
    "initial_ranking = aras.rank(pref)\n",
    "call_kwargs = {\n",
    "    \"matrix\": matrix,\n",
    "    \"weights\": weights,\n",
    "    \"types\": types\n",
    "}\n",
    "ranking_descending = True\n",
    "results = ranking.ranking_alteration(weights, initial_ranking, aras, call_kwargs, ranking_descending)\n",
    "\n",
    "print('Initial ranking:')\n",
    "display(Matrix(initial_ranking).T)\n",
    "print(f'Example result (1/{len(results)}):\\n')\n",
    "print(f'Modified weight index: {results[0][0]}')\n",
    "print('Resulting weights:')\n",
    "display(Matrix(results[0][1]).T)\n",
    "print('Resulting new ranking:')\n",
    "display(Matrix(results[0][2]).T)"
   ]
  },
  {
   "cell_type": "markdown",
   "metadata": {},
   "source": [
    "### 4.2. Demotion  <a id=\"20\"></a>"
   ]
  },
  {
   "cell_type": "code",
   "execution_count": 35,
   "metadata": {},
   "outputs": [
    {
     "name": "stdout",
     "output_type": "stream",
     "text": [
      "Initial ranking:\n"
     ]
    },
    {
     "data": {
      "text/latex": [
       "$\\displaystyle \\left[\\begin{matrix}2.0 & 3.0 & 1.0\\end{matrix}\\right]$"
      ],
      "text/plain": [
       "Matrix([[2.0, 3.0, 1.0]])"
      ]
     },
     "metadata": {},
     "output_type": "display_data"
    },
    {
     "name": "stdout",
     "output_type": "stream",
     "text": [
      "Example result (1/9):\n",
      "\n",
      "Alternative index: 0\n",
      "Criterion index: 0\n",
      "Size of change: 5.0\n",
      "New position: 3\n"
     ]
    }
   ],
   "source": [
    "import pymcdm.methods as pm\n",
    "\n",
    "matrix = np.array([\n",
    "    [4, 2, 6],\n",
    "    [7, 3, 2],\n",
    "    [9, 6, 8]\n",
    "])\n",
    "weights = np.array([0.4, 0.5, 0.1])\n",
    "types = np.array([-1, 1, -1])\n",
    "\n",
    "copras = pm.COPRAS()\n",
    "pref = copras(matrix, weights, types)\n",
    "initial_ranking = copras.rank(pref)\n",
    "call_kwargs = {\n",
    "    \"matrix\": matrix,\n",
    "    \"weights\": weights,\n",
    "    \"types\": types\n",
    "}\n",
    "ranking_descending = True\n",
    "\n",
    "direction = np.array([1, -1, 1])\n",
    "step = 0.5\n",
    "max_modification = 100\n",
    "results = ranking.ranking_demotion(matrix, initial_ranking, copras, call_kwargs, ranking_descending, direction, step, max_modification=max_modification)\n",
    "\n",
    "print('Initial ranking:')\n",
    "display(Matrix(initial_ranking).T)\n",
    "print(f'Example result (1/{len(results)}):\\n')\n",
    "print(f'Alternative index: {results[0][0]}')\n",
    "print(f'Criterion index: {results[0][1]}')\n",
    "print(f'Size of change: {results[0][2]}')\n",
    "print(f'New position: {results[0][3]}')\n"
   ]
  },
  {
   "cell_type": "markdown",
   "metadata": {},
   "source": [
    "The results from demotion analysis can be further visualized"
   ]
  },
  {
   "cell_type": "code",
   "execution_count": 37,
   "metadata": {},
   "outputs": [
    {
     "data": {
      "image/png": "[encoded data removed]",
      "text/plain": [
       "<Figure size 640x480 with 2 Axes>"
      ]
     },
     "metadata": {},
     "output_type": "display_data"
    },
    {
     "data": {
      "image/png": "[encoded data removed]",
      "text/plain": [
       "<Figure size 640x480 with 2 Axes>"
      ]
     },
     "metadata": {},
     "output_type": "display_data"
    },
    {
     "data": {
      "image/png": "[encoded data removed]",
      "text/plain": [
       "<Figure size 640x480 with 2 Axes>"
      ]
     },
     "metadata": {},
     "output_type": "display_data"
    }
   ],
   "source": [
    "results = np.array(results)\n",
    "for alt in range(matrix.shape[1]):\n",
    "    alt_results = results[results[:, 0] == alt]\n",
    "    percentage_changes = []\n",
    "    new_positions = []\n",
    "    if len(alt_results):\n",
    "        for crit in range(matrix.shape[0]):\n",
    "            r = alt_results[alt_results[:, 1] == crit]\n",
    "            if len(r):\n",
    "                _ , crit, change, new_pos = r[0]\n",
    "                crit = int(crit)\n",
    "                if initial_ranking[alt] == new_pos:\n",
    "                    percentage_changes.append(0)\n",
    "                else:\n",
    "                    percentage_changes.append((change - matrix[alt, crit])/matrix[alt, crit]*100)\n",
    "                new_positions.append(new_pos)\n",
    "            else:\n",
    "                percentage_changes.append(0)\n",
    "                new_positions.append(initial_ranking[alt])\n",
    "        step = int(np.max(np.abs([np.min(np.array(percentage_changes))/5, np.max(np.array(percentage_changes))/5])))\n",
    "        graphs.pd_rankings_graph(initial_ranking[alt], new_positions, np.array(percentage_changes), kind='bar', title=f'Rank demotion - $A_{{{alt+1}}}$')\n",
    "        plt.show()"
   ]
  },
  {
   "cell_type": "markdown",
   "metadata": {},
   "source": [
    "### 4.3. Promotion  <a id=\"21\"></a>"
   ]
  },
  {
   "cell_type": "code",
   "execution_count": 38,
   "metadata": {},
   "outputs": [
    {
     "name": "stdout",
     "output_type": "stream",
     "text": [
      "Initial ranking:\n"
     ]
    },
    {
     "data": {
      "text/latex": [
       "$\\displaystyle \\left[\\begin{matrix}2.0 & 3.0 & 1.0\\end{matrix}\\right]$"
      ],
      "text/plain": [
       "Matrix([[2.0, 3.0, 1.0]])"
      ]
     },
     "metadata": {},
     "output_type": "display_data"
    },
    {
     "name": "stdout",
     "output_type": "stream",
     "text": [
      "Example result (1/9):\n",
      "\n",
      "Alternative index: 0\n",
      "Criterion index: 0\n",
      "Size of change: 2.5\n",
      "New position: 1\n"
     ]
    }
   ],
   "source": [
    "import pymcdm.methods as pm\n",
    "\n",
    "matrix = np.array([\n",
    "    [4, 2, 6],\n",
    "    [7, 3, 2],\n",
    "    [9, 6, 8]\n",
    "])\n",
    "weights = np.array([0.4, 0.5, 0.1])\n",
    "types = np.array([-1, 1, -1])\n",
    "copras = pm.COPRAS()\n",
    "pref = copras(matrix, weights, types)\n",
    "initial_ranking = copras.rank(pref)\n",
    "call_kwargs = {\n",
    "    \"matrix\": matrix,\n",
    "    \"weights\": weights,\n",
    "    \"types\": types\n",
    "}\n",
    "ranking_descending = True\n",
    "direction = np.array([-1, 1, -1])\n",
    "step = 0.5\n",
    "max_modification = 1000\n",
    "results = ranking.ranking_promotion(matrix, initial_ranking, copras, call_kwargs, ranking_descending, direction, step, max_modification=max_modification)\n",
    "\n",
    "print('Initial ranking:')\n",
    "display(Matrix(initial_ranking).T)\n",
    "print(f'Example result (1/{len(results)}):\\n')\n",
    "print(f'Alternative index: {results[0][0]}')\n",
    "print(f'Criterion index: {results[0][1]}')\n",
    "print(f'Size of change: {results[0][2]}')\n",
    "print(f'New position: {results[0][3]}')"
   ]
  },
  {
   "cell_type": "markdown",
   "metadata": {},
   "source": [
    "Results from the promotion function can be visualized similarly to demotion."
   ]
  },
  {
   "cell_type": "code",
   "execution_count": 39,
   "metadata": {},
   "outputs": [
    {
     "data": {
      "image/png": "[encoded data removed]",
      "text/plain": [
       "<Figure size 640x480 with 2 Axes>"
      ]
     },
     "metadata": {},
     "output_type": "display_data"
    },
    {
     "data": {
      "image/png": "[encoded data removed]",
      "text/plain": [
       "<Figure size 640x480 with 2 Axes>"
      ]
     },
     "metadata": {},
     "output_type": "display_data"
    },
    {
     "data": {
      "image/png": "[encoded data removed]",
      "text/plain": [
       "<Figure size 640x480 with 2 Axes>"
      ]
     },
     "metadata": {},
     "output_type": "display_data"
    }
   ],
   "source": [
    "results = np.array(results)\n",
    "for alt in range(matrix.shape[1]):\n",
    "    alt_results = results[results[:, 0] == alt]\n",
    "    percentage_changes = []\n",
    "    new_positions = []\n",
    "    if len(alt_results):\n",
    "        for crit in range(matrix.shape[0]):\n",
    "            r = alt_results[alt_results[:, 1] == crit]\n",
    "            if len(r):\n",
    "                _ , crit, change, new_pos = r[0]\n",
    "                crit = int(crit)\n",
    "                if initial_ranking[alt] == new_pos:\n",
    "                    percentage_changes.append(0)\n",
    "                else:\n",
    "                    percentage_changes.append((change - matrix[alt, crit])/matrix[alt, crit]*100)\n",
    "                new_positions.append(new_pos)\n",
    "            else:\n",
    "                percentage_changes.append(0)\n",
    "                new_positions.append(initial_ranking[alt])\n",
    "        graphs.pd_rankings_graph(initial_ranking[alt], new_positions, np.array(percentage_changes), kind='bar', title=f'Rank promotion - $A_{{{alt+1}}}$')"
   ]
  },
  {
   "cell_type": "markdown",
   "metadata": {},
   "source": [
    "### 4.4. Fuzzy ranking  <a id=\"22\"></a>"
   ]
  },
  {
   "cell_type": "markdown",
   "metadata": {},
   "source": [
    "This function calculates fuzzy ranking from multiple acquired rankings. For example `generate_weights_scenarios` could be used to calculate multiple rankings and then fuzzy ranking could be calculated."
   ]
  },
  {
   "cell_type": "code",
   "execution_count": 40,
   "metadata": {},
   "outputs": [
    {
     "name": "stdout",
     "output_type": "stream",
     "text": [
      "Resulting fuzzy rank:\n"
     ]
    },
    {
     "data": {
      "text/latex": [
       "$\\displaystyle \\left[\\begin{matrix}1.0 & 0.5 & 1.0 & 0 & 0.5\\\\1.0 & 1.0 & 1.0 & 0 & 0\\\\1.0 & 0.5 & 1.0 & 0.5 & 0\\\\1.0 & 0 & 0 & 1.0 & 0.5\\\\0 & 0 & 1.0 & 0.5 & 1.0\\end{matrix}\\right]$"
      ],
      "text/plain": [
       "Matrix([\n",
       "[1.0, 0.5, 1.0,   0, 0.5],\n",
       "[1.0, 1.0, 1.0,   0,   0],\n",
       "[1.0, 0.5, 1.0, 0.5,   0],\n",
       "[1.0,   0,   0, 1.0, 0.5],\n",
       "[  0,   0, 1.0, 0.5, 1.0]])"
      ]
     },
     "metadata": {},
     "output_type": "display_data"
    }
   ],
   "source": [
    "rankings = np.array([\n",
    "    [1, 2, 3, 4, 5],\n",
    "    [2, 1, 5, 3, 4],\n",
    "    [4, 3, 2, 5, 1],\n",
    "    [3, 2, 1, 4, 5],\n",
    "])\n",
    "fuzzy_rank = ranking.fuzzy_ranking(rankings, normalization_axis=0)\n",
    "print('Resulting fuzzy rank:')\n",
    "display(Matrix(fuzzy_rank))"
   ]
  },
  {
   "cell_type": "markdown",
   "metadata": {},
   "source": [
    "This can be futher visualized using heatmap."
   ]
  },
  {
   "cell_type": "code",
   "execution_count": 41,
   "metadata": {},
   "outputs": [
    {
     "data": {
      "image/png": "[encoded data removed]",
      "text/plain": [
       "<Figure size 800x600 with 2 Axes>"
      ]
     },
     "metadata": {},
     "output_type": "display_data"
    }
   ],
   "source": [
    "%matplotlib inline\n",
    "graphs.heatmap(fuzzy_rank, title=\"Fuzzy Ranking Matrix\", figsize=(8, 6))\n",
    "\n",
    "plt.show()"
   ]
  },
  {
   "cell_type": "markdown",
   "metadata": {},
   "source": [
    "---"
   ]
  },
  {
   "cell_type": "markdown",
   "metadata": {},
   "source": [
    "<a id=\"23\"></a><br/>\n",
    "\n",
    "## 5. Compromise submodule"
   ]
  },
  {
   "cell_type": "markdown",
   "metadata": {},
   "source": [
    "This submodule consist of functions that calculate compromise between different rankings."
   ]
  },
  {
   "cell_type": "markdown",
   "metadata": {},
   "source": [
    "### 5.1. General <a id=\"24\"></a>"
   ]
  },
  {
   "cell_type": "markdown",
   "metadata": {},
   "source": [
    "Most methods work in similar fashion, by either providing rankings or preferences we can calculate the compromised ranking."
   ]
  },
  {
   "cell_type": "markdown",
   "metadata": {},
   "source": [
    "Let us consider following ranking and preferences acquired using TOPSIS and VIKOR."
   ]
  },
  {
   "cell_type": "code",
   "execution_count": 42,
   "metadata": {},
   "outputs": [
    {
     "name": "stdout",
     "output_type": "stream",
     "text": [
      "Initial preferences:\n"
     ]
    },
    {
     "data": {
      "text/latex": [
       "$\\displaystyle \\left[\\begin{matrix}0.601 & 0.5254\\\\0.5355 & 0.635\\\\0.497 & 0.7257\\\\0.5648 & 0.1143\\\\0.5713 & 0.5775\\\\0.3163 & 1.0\\\\0.5559 & 0.6188\\\\0.6186 & 0.2039\\end{matrix}\\right]$"
      ],
      "text/plain": [
       "Matrix([\n",
       "[ 0.601, 0.5254],\n",
       "[0.5355,  0.635],\n",
       "[ 0.497, 0.7257],\n",
       "[0.5648, 0.1143],\n",
       "[0.5713, 0.5775],\n",
       "[0.3163,    1.0],\n",
       "[0.5559, 0.6188],\n",
       "[0.6186, 0.2039]])"
      ]
     },
     "metadata": {},
     "output_type": "display_data"
    },
    {
     "name": "stdout",
     "output_type": "stream",
     "text": [
      "Initial rankings:\n"
     ]
    },
    {
     "data": {
      "text/latex": [
       "$\\displaystyle \\left[\\begin{matrix}2.0 & 3.0\\\\6.0 & 6.0\\\\7.0 & 7.0\\\\4.0 & 1.0\\\\3.0 & 4.0\\\\8.0 & 8.0\\\\5.0 & 5.0\\\\1.0 & 2.0\\end{matrix}\\right]$"
      ],
      "text/plain": [
       "Matrix([\n",
       "[2.0, 3.0],\n",
       "[6.0, 6.0],\n",
       "[7.0, 7.0],\n",
       "[4.0, 1.0],\n",
       "[3.0, 4.0],\n",
       "[8.0, 8.0],\n",
       "[5.0, 5.0],\n",
       "[1.0, 2.0]])"
      ]
     },
     "metadata": {},
     "output_type": "display_data"
    }
   ],
   "source": [
    "preferences = np.array([[0.601, 0.5254],\n",
    "                        [0.5355, 0.635],\n",
    "                        [0.497, 0.7257],\n",
    "                        [0.5648, 0.1143],\n",
    "                        [0.5713, 0.5775],\n",
    "                        [0.3163, 1.0],\n",
    "                        [0.5559, 0.6188],\n",
    "                        [0.6186, 0.2039]])\n",
    "rankings = np.array([[2., 3.],\n",
    "                    [6., 6.],\n",
    "                    [7., 7.],\n",
    "                    [4., 1.],\n",
    "                    [3., 4.],\n",
    "                    [8., 8.],\n",
    "                    [5., 5.],\n",
    "                    [1., 2.]])\n",
    "\n",
    "print('Initial preferences:')\n",
    "display(Matrix(preferences))\n",
    "print('Initial rankings:')\n",
    "display(Matrix(rankings))"
   ]
  },
  {
   "cell_type": "markdown",
   "metadata": {},
   "source": [
    "- Borda"
   ]
  },
  {
   "cell_type": "code",
   "execution_count": 43,
   "metadata": {},
   "outputs": [
    {
     "name": "stdout",
     "output_type": "stream",
     "text": [
      "Resulting compromise ranking:\n"
     ]
    },
    {
     "data": {
      "text/latex": [
       "$\\displaystyle \\left[\\begin{matrix}2.5 & 6.0 & 7.0 & 2.5 & 4.0 & 8.0 & 5.0 & 1.0\\end{matrix}\\right]$"
      ],
      "text/plain": [
       "Matrix([[2.5, 6.0, 7.0, 2.5, 4.0, 8.0, 5.0, 1.0]])"
      ]
     },
     "metadata": {},
     "output_type": "display_data"
    }
   ],
   "source": [
    "print('Resulting compromise ranking:')\n",
    "display(Matrix(compromise.borda(rankings)).T)"
   ]
  },
  {
   "cell_type": "markdown",
   "metadata": {},
   "source": [
    "- Dominance directed graph"
   ]
  },
  {
   "cell_type": "code",
   "execution_count": 44,
   "metadata": {},
   "outputs": [
    {
     "name": "stdout",
     "output_type": "stream",
     "text": [
      "Resulting compromise ranking:\n"
     ]
    },
    {
     "data": {
      "text/latex": [
       "$\\displaystyle \\left[\\begin{matrix}3.0 & 6.0 & 7.0 & 2.0 & 4.0 & 8.0 & 5.0 & 1.0\\end{matrix}\\right]$"
      ],
      "text/plain": [
       "Matrix([[3.0, 6.0, 7.0, 2.0, 4.0, 8.0, 5.0, 1.0]])"
      ]
     },
     "metadata": {},
     "output_type": "display_data"
    }
   ],
   "source": [
    "print('Resulting compromise ranking:')\n",
    "display(Matrix(compromise.dominance_directed_graph(rankings)).T)"
   ]
  },
  {
   "cell_type": "markdown",
   "metadata": {},
   "source": [
    "- Rank position method"
   ]
  },
  {
   "cell_type": "code",
   "execution_count": 45,
   "metadata": {},
   "outputs": [
    {
     "name": "stdout",
     "output_type": "stream",
     "text": [
      "Resulting compromise ranking:\n"
     ]
    },
    {
     "data": {
      "text/latex": [
       "$\\displaystyle \\left[\\begin{matrix}3.0 & 6.0 & 7.0 & 2.0 & 4.0 & 8.0 & 5.0 & 1.0\\end{matrix}\\right]$"
      ],
      "text/plain": [
       "Matrix([[3.0, 6.0, 7.0, 2.0, 4.0, 8.0, 5.0, 1.0]])"
      ]
     },
     "metadata": {},
     "output_type": "display_data"
    }
   ],
   "source": [
    "print('Resulting compromise ranking:')\n",
    "display(Matrix(compromise.rank_position(rankings)).T)"
   ]
  },
  {
   "cell_type": "markdown",
   "metadata": {},
   "source": [
    "- Half-quadratic compromise"
   ]
  },
  {
   "cell_type": "code",
   "execution_count": 46,
   "metadata": {},
   "outputs": [
    {
     "name": "stdout",
     "output_type": "stream",
     "text": [
      "Resulting compromise ranking:\n"
     ]
    },
    {
     "data": {
      "text/latex": [
       "$\\displaystyle \\left[\\begin{matrix}2.5 & 6.0 & 7.0 & 2.5 & 3.5 & 8.0 & 5.0 & 1.5\\end{matrix}\\right]$"
      ],
      "text/plain": [
       "Matrix([[2.5, 6.0, 7.0, 2.5, 3.5, 8.0, 5.0, 1.5]])"
      ]
     },
     "metadata": {},
     "output_type": "display_data"
    }
   ],
   "source": [
    "print('Resulting compromise ranking:')\n",
    "display(Matrix(compromise.HQ_compromise(rankings)[2]).T)"
   ]
  },
  {
   "cell_type": "markdown",
   "metadata": {},
   "source": [
    "- Improved borda"
   ]
  },
  {
   "cell_type": "code",
   "execution_count": 47,
   "metadata": {},
   "outputs": [
    {
     "name": "stdout",
     "output_type": "stream",
     "text": [
      "Resulting compromise ranking:\n"
     ]
    },
    {
     "data": {
      "text/latex": [
       "$\\displaystyle \\left[\\begin{matrix}2.0 & 6.0 & 7.0 & 3.0 & 4.0 & 8.0 & 5.0 & 1.0\\end{matrix}\\right]$"
      ],
      "text/plain": [
       "Matrix([[2.0, 6.0, 7.0, 3.0, 4.0, 8.0, 5.0, 1.0]])"
      ]
     },
     "metadata": {},
     "output_type": "display_data"
    }
   ],
   "source": [
    "print('Resulting compromise ranking:')\n",
    "display(Matrix(compromise.improved_borda(preferences, [1, -1])).T)"
   ]
  },
  {
   "cell_type": "markdown",
   "metadata": {},
   "source": [
    "### 5.2. HQ compromise additional informations <a id=\"25\"></a>"
   ]
  },
  {
   "cell_type": "markdown",
   "metadata": {},
   "source": [
    "HQ compromise method apart from resulting in the compromised ranking it provides `consensus index` and `trust index` and `weights` of each ranking which can be of help to decision-maker."
   ]
  },
  {
   "cell_type": "markdown",
   "metadata": {},
   "source": [
    "### 5.3. ICRA <a id=\"26\"></a>"
   ]
  },
  {
   "cell_type": "markdown",
   "metadata": {},
   "source": [
    "ICRA is presented separately as it provides more in-depth compromise seeking."
   ]
  },
  {
   "cell_type": "markdown",
   "metadata": {},
   "source": [
    "In this example the same initial preferences will be used"
   ]
  },
  {
   "cell_type": "code",
   "execution_count": 48,
   "metadata": {},
   "outputs": [
    {
     "name": "stdout",
     "output_type": "stream",
     "text": [
      "Resulting compromise ranking:\n"
     ]
    },
    {
     "data": {
      "text/latex": [
       "$\\displaystyle \\left[\\begin{matrix}3.0 & 6.0 & 7.0 & 2.0 & 4.0 & 8.0 & 5.0 & 1.0\\end{matrix}\\right]$"
      ],
      "text/plain": [
       "Matrix([[3.0, 6.0, 7.0, 2.0, 4.0, 8.0, 5.0, 1.0]])"
      ]
     },
     "metadata": {},
     "output_type": "display_data"
    }
   ],
   "source": [
    "import pymcdm.methods as pm\n",
    "\n",
    "topsis = pm.TOPSIS()\n",
    "vikor = pm.VIKOR()\n",
    "\n",
    "methods = {\n",
    "    topsis: ['matrix', 'weights', 'types'],\n",
    "    vikor: ['matrix', 'weights', 'types']\n",
    "    }\n",
    "\n",
    "ICRA_matrix = np.array([preferences[:, 0], preferences[:, 1]]).T\n",
    "method_types = np.array([1, -1])\n",
    "\n",
    "result = compromise.ICRA.iterative_compromise(methods, ICRA_matrix, method_types)\n",
    "print('Resulting compromise ranking:')\n",
    "display(Matrix(result.final_rankings[:, 0]).T)"
   ]
  },
  {
   "cell_type": "markdown",
   "metadata": {},
   "source": [
    "In the case of ICRA, we can visualize the preference distribution change."
   ]
  },
  {
   "cell_type": "code",
   "execution_count": 49,
   "metadata": {},
   "outputs": [
    {
     "data": {
      "image/png": "[encoded data removed]",
      "text/plain": [
       "<Figure size 750x150 with 2 Axes>"
      ]
     },
     "metadata": {},
     "output_type": "display_data"
    },
    {
     "data": {
      "image/png": "[encoded data removed]",
      "text/plain": [
       "<Figure size 750x150 with 2 Axes>"
      ]
     },
     "metadata": {},
     "output_type": "display_data"
    }
   ],
   "source": [
    "graphs.ICRA_pref_distribution(result, ['TOPSIS', 'VIKOR'], by='methods')"
   ]
  },
  {
   "cell_type": "code",
   "execution_count": 50,
   "metadata": {},
   "outputs": [
    {
     "data": {
      "image/png": "[encoded data removed]",
      "text/plain": [
       "<Figure size 750x150 with 2 Axes>"
      ]
     },
     "metadata": {},
     "output_type": "display_data"
    },
    {
     "data": {
      "image/png": "[encoded data removed]",
      "text/plain": [
       "<Figure size 750x150 with 2 Axes>"
      ]
     },
     "metadata": {},
     "output_type": "display_data"
    }
   ],
   "source": [
    "graphs.ICRA_pref_distribution(result, ['TOPSIS', 'VIKOR'], by='iters')"
   ]
  },
  {
   "cell_type": "markdown",
   "metadata": {},
   "source": [
    "---"
   ]
  },
  {
   "cell_type": "markdown",
   "metadata": {},
   "source": [
    "<a id=\"27\"></a><br/>\n",
    "\n",
    "## 6. Further use"
   ]
  },
  {
   "cell_type": "markdown",
   "metadata": {},
   "source": [
    "For most of the functions that modifies the decision matrix or weights vector, the library includes a wrapper for calculating the preference values and rankings for the returned results."
   ]
  },
  {
   "cell_type": "markdown",
   "metadata": {},
   "source": [
    "**Example**"
   ]
  },
  {
   "cell_type": "code",
   "execution_count": 53,
   "metadata": {},
   "outputs": [
    {
     "data": {
      "text/plain": [
       "[(0,\n",
       "  -0.01,\n",
       "  array([0.297 , 0.3015, 0.4015]),\n",
       "  array([0.56803328, 0.49126473, 0.15546178, 0.51547763, 0.72938204,\n",
       "         0.53352095, 0.53310196, 0.53425114, 0.60848548, 0.11975881]),\n",
       "  array([ 3.,  8.,  9.,  7.,  1.,  5.,  6.,  4.,  2., 10.])),\n",
       " (0,\n",
       "  0.01,\n",
       "  array([0.303 , 0.2985, 0.3985]),\n",
       "  array([0.56839447, 0.49562159, 0.155526  , 0.51707184, 0.73022058,\n",
       "         0.5355585 , 0.52721588, 0.52915104, 0.60697736, 0.11880482]),\n",
       "  array([ 3.,  8.,  9.,  7.,  1.,  4.,  6.,  5.,  2., 10.])),\n",
       " (0,\n",
       "  -0.02,\n",
       "  array([0.294, 0.303, 0.403]),\n",
       "  array([0.56785094, 0.48910235, 0.15543159, 0.51469929, 0.72896614,\n",
       "         0.53252322, 0.53604678, 0.53679243, 0.60923296, 0.12022938]),\n",
       "  array([ 3.,  8.,  9.,  7.,  1.,  6.,  5.,  4.,  2., 10.])),\n",
       " (0,\n",
       "  0.02,\n",
       "  array([0.306, 0.297, 0.397]),\n",
       "  array([0.56857323, 0.49781535, 0.15556002, 0.51788762, 0.73064306,\n",
       "         0.53659812, 0.52427519, 0.52659295, 0.60621701, 0.11832148]),\n",
       "  array([ 3.,  8.,  9.,  7.,  1.,  4.,  6.,  5.,  2., 10.])),\n",
       " (0,\n",
       "  -0.03,\n",
       "  array([0.291 , 0.3045, 0.4045]),\n",
       "  array([0.56766752, 0.48695116, 0.15540268, 0.51393351, 0.7285526 ,\n",
       "         0.53153962, 0.53899242, 0.53932739, 0.60997585, 0.12069558]),\n",
       "  array([ 3.,  8.,  9.,  7.,  1.,  6.,  5.,  4.,  2., 10.])),\n",
       " (0,\n",
       "  0.03,\n",
       "  array([0.309 , 0.2955, 0.3955]),\n",
       "  array([0.56875071, 0.50001884, 0.15559532, 0.51871577, 0.73106757,\n",
       "         0.53765151, 0.5213364 , 0.52402996, 0.60545268, 0.11783399]),\n",
       "  array([ 3.,  8.,  9.,  7.,  1.,  4.,  6.,  5.,  2., 10.])),\n",
       " (0,\n",
       "  -0.04,\n",
       "  array([0.288, 0.306, 0.406]),\n",
       "  array([0.56748305, 0.48481154, 0.15537506, 0.51318034, 0.72814149,\n",
       "         0.53057024, 0.54193857, 0.54185564, 0.61071401, 0.12115738]),\n",
       "  array([ 3.,  8.,  9.,  7.,  1.,  6.,  4.,  5.,  2., 10.])),\n",
       " (0,\n",
       "  0.04,\n",
       "  array([0.312, 0.294, 0.394]),\n",
       "  array([0.56892684, 0.50223172, 0.15563188, 0.51955624, 0.73149403,\n",
       "         0.53871856, 0.51839977, 0.52146243, 0.60468453, 0.1173424 ]),\n",
       "  array([ 3.,  8.,  9.,  6.,  1.,  4.,  7.,  5.,  2., 10.])),\n",
       " (0,\n",
       "  -0.05,\n",
       "  array([0.285 , 0.3075, 0.4075]),\n",
       "  array([0.56729758, 0.48268385, 0.15534873, 0.5124398 , 0.72773288,\n",
       "         0.52961516, 0.54488492, 0.54437679, 0.61144729, 0.12161474]),\n",
       "  array([ 3.,  8.,  9.,  7.,  1.,  6.,  4.,  5.,  2., 10.])),\n",
       " (0,\n",
       "  0.05,\n",
       "  array([0.315 , 0.2925, 0.3925]),\n",
       "  array([0.56910158, 0.50445363, 0.1556697 , 0.52040896, 0.73192235,\n",
       "         0.53979916, 0.51546555, 0.51889067, 0.60391272, 0.11684677]),\n",
       "  array([ 3.,  8.,  9.,  5.,  1.,  4.,  7.,  6.,  2., 10.])),\n",
       " (1,\n",
       "  -0.01,\n",
       "  array([0.3015, 0.297 , 0.4015]),\n",
       "  array([0.57101373, 0.49268284, 0.15476521, 0.51418136, 0.73128248,\n",
       "         0.5326434 , 0.5291008 , 0.53161174, 0.60607979, 0.11809362]),\n",
       "  array([ 3.,  8.,  9.,  7.,  1.,  4.,  6.,  5.,  2., 10.])),\n",
       " (1,\n",
       "  0.01,\n",
       "  array([0.2985, 0.303 , 0.3985]),\n",
       "  array([0.56541312, 0.4942055 , 0.1562243 , 0.51836635, 0.72831342,\n",
       "         0.53643442, 0.53122475, 0.5317937 , 0.60939737, 0.12047257]),\n",
       "  array([ 3.,  8.,  9.,  7.,  1.,  4.,  6.,  5.,  2., 10.])),\n",
       " (1,\n",
       "  -0.02,\n",
       "  array([0.303, 0.294, 0.403]),\n",
       "  array([0.5738106 , 0.49194026, 0.15404036, 0.51210532, 0.73275991,\n",
       "         0.53076672, 0.52805258, 0.53151729, 0.60443634, 0.11690173]),\n",
       "  array([ 3.,  8.,  9.,  7.,  1.,  5.,  6.,  4.,  2., 10.])),\n",
       " (1,\n",
       "  0.02,\n",
       "  array([0.297, 0.306, 0.397]),\n",
       "  array([0.56260998, 0.49498551, 0.15695819, 0.52047458, 0.72682241,\n",
       "         0.53834809, 0.53230025, 0.53188113, 0.61107092, 0.12165936]),\n",
       "  array([ 3.,  8.,  9.,  7.,  1.,  4.,  5.,  6.,  2., 10.])),\n",
       " (1,\n",
       "  -0.03,\n",
       "  array([0.3045, 0.291 , 0.4045]),\n",
       "  array([0.57660478, 0.49121021, 0.15331887, 0.51004074, 0.73423221,\n",
       "         0.52890302, 0.52701367, 0.53142059, 0.6028035 , 0.11570839]),\n",
       "  array([ 3.,  8.,  9.,  7.,  1.,  5.,  6.,  4.,  2., 10.])),\n",
       " (1,\n",
       "  0.03,\n",
       "  array([0.2955, 0.309 , 0.3955]),\n",
       "  array([0.55980533, 0.49577793, 0.15769473, 0.52259282, 0.7253275 ,\n",
       "         0.54027344, 0.5333846 , 0.53196615, 0.61275392, 0.12284419]),\n",
       "  array([ 3.,  8.,  9.,  7.,  1.,  4.,  5.,  6.,  2., 10.])),\n",
       " (1,\n",
       "  -0.04,\n",
       "  array([0.306, 0.288, 0.406]),\n",
       "  array([0.57939595, 0.4904927 , 0.15260093, 0.50798797, 0.73569905,\n",
       "         0.52705265, 0.52598419, 0.53132167, 0.60118157, 0.11451373]),\n",
       "  array([ 3.,  8.,  9.,  7.,  1.,  5.,  6.,  4.,  2., 10.])),\n",
       " (1,\n",
       "  0.04,\n",
       "  array([0.294, 0.312, 0.394]),\n",
       "  array([0.55699943, 0.4965827 , 0.15843375, 0.52472071, 0.72382898,\n",
       "         0.54221013, 0.53447767, 0.5320487 , 0.61444608, 0.12402694]),\n",
       "  array([ 3.,  8.,  9.,  7.,  1.,  4.,  5.,  6.,  2., 10.])),\n",
       " (1,\n",
       "  -0.05,\n",
       "  array([0.3075, 0.285 , 0.4075]),\n",
       "  array([0.58218378, 0.48978777, 0.15188671, 0.5059474 , 0.73716013,\n",
       "         0.52521593, 0.52496424, 0.53122059, 0.59957083, 0.11331789]),\n",
       "  array([ 3.,  8.,  9.,  7.,  1.,  5.,  6.,  4.,  2., 10.])),\n",
       " (1,\n",
       "  0.05,\n",
       "  array([0.2925, 0.315 , 0.3925]),\n",
       "  array([0.55419256, 0.49739979, 0.15917507, 0.52685793, 0.72232716,\n",
       "         0.54415785, 0.53557933, 0.53212876, 0.6161471 , 0.12520748]),\n",
       "  array([ 3.,  8.,  9.,  7.,  1.,  4.,  5.,  6.,  2., 10.])),\n",
       " (2,\n",
       "  -0.01,\n",
       "  array([0.302, 0.302, 0.396]),\n",
       "  array([0.56472081, 0.49736165, 0.15650701, 0.52012495, 0.72838151,\n",
       "         0.53842282, 0.52765499, 0.52842551, 0.60893993, 0.1202315 ]),\n",
       "  array([ 3.,  8.,  9.,  7.,  1.,  4.,  6.,  5.,  2., 10.])),\n",
       " (2,\n",
       "  0.01,\n",
       "  array([0.298, 0.298, 0.404]),\n",
       "  array([0.57170667, 0.48952218, 0.15447595, 0.51241923, 0.73122215,\n",
       "         0.53065128, 0.53267101, 0.534983  , 0.60652741, 0.11833162]),\n",
       "  array([ 3.,  8.,  9.,  7.,  1.,  6.,  5.,  4.,  2., 10.])),\n",
       " (2,\n",
       "  -0.02,\n",
       "  array([0.304, 0.304, 0.392]),\n",
       "  array([0.5612261 , 0.50129317, 0.15751692, 0.52398838, 0.72696652,\n",
       "         0.54232135, 0.52516188, 0.52514837, 0.61014607, 0.12117403]),\n",
       "  array([ 3.,  8.,  9.,  7.,  1.,  4.,  5.,  6.,  2., 10.])),\n",
       " (2,\n",
       "  0.02,\n",
       "  array([0.296, 0.296, 0.408]),\n",
       "  array([0.57519704, 0.48561454, 0.15345542, 0.50857737, 0.73264685,\n",
       "         0.5267786 , 0.53519271, 0.53826233, 0.60532194, 0.11737475]),\n",
       "  array([ 3.,  8.,  9.,  7.,  1.,  6.,  5.,  4.,  2., 10.])),\n",
       " (2,\n",
       "  -0.03,\n",
       "  array([0.306, 0.306, 0.388]),\n",
       "  array([0.55773075, 0.50523231, 0.15852266, 0.52785857, 0.72555571,\n",
       "         0.54622816, 0.52267953, 0.52187301, 0.6113515 , 0.1221113 ]),\n",
       "  array([ 3.,  8.,  9.,  5.,  1.,  4.,  6.,  7.,  2., 10.])),\n",
       " (2,\n",
       "  0.03,\n",
       "  array([0.294, 0.294, 0.412]),\n",
       "  array([0.57868519, 0.48171518, 0.15243197, 0.50474311, 0.73407386,\n",
       "         0.52291488, 0.53772272, 0.54154137, 0.60411758, 0.11641359]),\n",
       "  array([ 3.,  8.,  9.,  7.,  1.,  6.,  5.,  4.,  2., 10.])),\n",
       " (2,\n",
       "  -0.04,\n",
       "  array([0.308, 0.308, 0.384]),\n",
       "  array([0.55423519, 0.50917889, 0.15952393, 0.5317353 , 0.72414956,\n",
       "         0.55014305, 0.52020853, 0.51859996, 0.61255577, 0.12304306]),\n",
       "  array([ 3.,  8.,  9.,  5.,  1.,  4.,  6.,  7.,  2., 10.])),\n",
       " (2,\n",
       "  0.04,\n",
       "  array([0.292, 0.292, 0.416]),\n",
       "  array([0.58217077, 0.47782424, 0.15140592, 0.50091665, 0.7355027 ,\n",
       "         0.51906026, 0.54026044, 0.54481966, 0.6029148 , 0.11544839]),\n",
       "  array([ 3.,  8.,  9.,  7.,  1.,  6.,  5.,  4.,  2., 10.])),\n",
       " (2,\n",
       "  -0.05,\n",
       "  array([0.31, 0.31, 0.38]),\n",
       "  array([0.55073986, 0.51313273, 0.1605204 , 0.53561833, 0.72274852,\n",
       "         0.55406587, 0.51774951, 0.51532978, 0.61375841, 0.12396907]),\n",
       "  array([ 4.,  8.,  9.,  5.,  1.,  3.,  6.,  7.,  2., 10.])),\n",
       " (2,\n",
       "  0.05,\n",
       "  array([0.29, 0.29, 0.42]),\n",
       "  array([0.58565344, 0.47394187, 0.15037759, 0.49709817, 0.7369329 ,\n",
       "         0.51521492, 0.54280526, 0.5480967 , 0.60171403, 0.11447937]),\n",
       "  array([ 3.,  8.,  9.,  7.,  1.,  6.,  5.,  4.,  2., 10.]))]"
      ]
     },
     "execution_count": 53,
     "metadata": {},
     "output_type": "execute_result"
    }
   ],
   "source": [
    "import pymcdm.methods as pm\n",
    "\n",
    "weights = np.array([0.3, 0.3, 0.4])\n",
    "percentage = 5\n",
    "results = criteria.percentage_modification(weights, percentage)\n",
    "\n",
    "topsis = pm.TOPSIS()\n",
    "kwargs = {\n",
    "    'matrix': np.random.random((10, 3)),\n",
    "    'weights': weights,\n",
    "    'types': np.ones(3)\n",
    "}\n",
    "\n",
    "preferences_results = calculate_preference(criteria.percentage_modification, results, topsis, kwargs, only_preference=False, method_type=1)\n",
    "preferences_results"
   ]
  },
  {
   "cell_type": "markdown",
   "metadata": {},
   "source": [
    "#### In the case of analyzing different criteria weights, we are left with multiple rankings, which for easier analysis can be further visualized."
   ]
  },
  {
   "cell_type": "code",
   "execution_count": 54,
   "metadata": {},
   "outputs": [
    {
     "data": {
      "image/png": "[encoded data removed]",
      "text/plain": [
       "<Figure size 640x480 with 1 Axes>"
      ]
     },
     "metadata": {},
     "output_type": "display_data"
    }
   ],
   "source": [
    "graphs.rankings_distribution(np.array([*np.array(preferences_results, dtype='object')[:, 4]]), title='TOPSIS ranking distribution')\n",
    "plt.show()"
   ]
  }
 ],
 "metadata": {
  "kernelspec": {
   "display_name": "Python 3.10.5 64-bit",
   "language": "python",
   "name": "python3"
  },
  "language_info": {
   "codemirror_mode": {
    "name": "ipython",
    "version": 3
   },
   "file_extension": ".py",
   "mimetype": "text/x-python",
   "name": "python",
   "nbconvert_exporter": "python",
   "pygments_lexer": "ipython3",
   "version": "3.11.3"
  },
  "orig_nbformat": 4,
  "vscode": {
   "interpreter": {
    "hash": "eabca979b0553fa6d87e9a00c352604d3b703d4afc9641643dd42376492b80f6"
   }
  }
 },
 "nbformat": 4,
 "nbformat_minor": 2
}
