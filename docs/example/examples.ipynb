{
 "cells": [
  {
   "cell_type": "markdown",
   "metadata": {},
   "source": [
    "<div align=\"center\">\n",
    "\n",
    "# PySensMCDA - Illustrative examples\n",
    "</div>\n",
    "<br/>"
   ]
  },
  {
   "cell_type": "markdown",
   "metadata": {},
   "source": [
    "**Note**: *this notebook was created for the purpose of providing an instruction of decision problem sensitivity analysis. For in-depth presentation of graphs submodule see* [graphs_examples.ipynb](./graphs_examples.html#illustrative-example)\n",
    "\n",
    "<br/>"
   ]
  },
  {
   "cell_type": "code",
   "execution_count": 1,
   "metadata": {},
   "outputs": [],
   "source": [
    "## Necessary imports for the notebook to work\n",
    "from pysensmcda import alternative, criteria, compromise, graphs, probabilistic, ranking, calculate_preference\n",
    "import numpy as np\n",
    "import matplotlib.pyplot as plt"
   ]
  },
  {
   "cell_type": "code",
   "execution_count": 2,
   "metadata": {},
   "outputs": [],
   "source": [
    "## Additional imports and function for output formatting\n",
    "from sympy import Matrix\n",
    "from IPython.display import display, Markdown\n",
    "from examples_pretty_print import *"
   ]
  },
  {
   "cell_type": "markdown",
   "metadata": {},
   "source": [
    "<br/>\n",
    "\n",
    "### **Table of contents:**\n",
    "1. [Alternative submodule:](#1-alternative-submodule)\n",
    "    1. [Discrete modification](#2)\n",
    "    2. [Percentage modification](#3)\n",
    "    3. [Range modification](#4)\n",
    "    4. [Alternative removal](#5)\n",
    "    5. [General](#6)\n",
    "2. [Criteria submodule:](#7)\n",
    "    1. [Random distribution - weights generation](#8)\n",
    "    2. [Percentage modification](#9)\n",
    "    3. [Range modification](#10)\n",
    "    4. [Weights scenarios](#11)\n",
    "    5. [Cirteria identification](#12)\n",
    "    6. [Criteria removal](#13)\n",
    "3. [Probabilistic submodule:](#14)\n",
    "    1. [Monte carlo weights generation](#15)\n",
    "    2. [Perturbated matrix](#16)\n",
    "    3. [Perturbated weights](#17)\n",
    "4. [Ranking submodule:](#18)\n",
    "    1. [Ranking alteration](#19)\n",
    "    2. [Demotion](#20)\n",
    "    3. [Promotion](#21)\n",
    "    4. [Fuzzy ranking](#22)\n",
    "5. [Compromise submodule:](#23)\n",
    "    1. [General](#24)\n",
    "    2. [Half-quadratic compromise additional informations](#25)\n",
    "    3. [ICRA](#26)\n",
    "6. [Further use](#27)"
   ]
  },
  {
   "cell_type": "markdown",
   "metadata": {},
   "source": [
    "<a id=\"1\"></a><br/>\n",
    "\n",
    "## 1. Alternative submodule "
   ]
  },
  {
   "cell_type": "markdown",
   "metadata": {},
   "source": [
    "**Note**: Alternative submodule includes functions for modification of values along alternatives in decision matrix and alternative removal."
   ]
  },
  {
   "cell_type": "markdown",
   "metadata": {},
   "source": [
    "Let us consider following matrix, this matrix will be taken as an initial matrix for further function calls"
   ]
  },
  {
   "cell_type": "code",
   "execution_count": 53,
   "metadata": {},
   "outputs": [
    {
     "name": "stdout",
     "output_type": "stream",
     "text": [
      "Initial matrix:\n"
     ]
    },
    {
     "data": {
      "text/latex": [
       "$\\displaystyle \\left[\\begin{matrix}4 & 1 & 6\\\\2 & 6 & 3\\\\9 & 5 & 7\\end{matrix}\\right]$"
      ],
      "text/plain": [
       "Matrix([\n",
       "[4, 1, 6],\n",
       "[2, 6, 3],\n",
       "[9, 5, 7]])"
      ]
     },
     "metadata": {},
     "output_type": "display_data"
    }
   ],
   "source": [
    "matrix = np.array([\n",
    "[4, 1, 6],\n",
    "[2, 6, 3],\n",
    "[9, 5, 7],\n",
    "])\n",
    "print('Initial matrix:')\n",
    "display(Matrix(matrix))"
   ]
  },
  {
   "cell_type": "markdown",
   "metadata": {},
   "source": [
    "### 1.1. Discrete modification <a id=\"2\"></a>"
   ]
  },
  {
   "cell_type": "markdown",
   "metadata": {},
   "source": [
    "For each criterion we can define discrete values that will be set as a value. All possible combinations are generated."
   ]
  },
  {
   "cell_type": "code",
   "execution_count": 54,
   "metadata": {},
   "outputs": [
    {
     "name": "stdout",
     "output_type": "stream",
     "text": [
      "Alternative index: 0\n",
      "Criteria index: 0\n",
      "Change: 2\n",
      "Resulting decision matrix:\n"
     ]
    },
    {
     "data": {
      "text/latex": [
       "$\\displaystyle \\left[\\begin{matrix}2.0 & 1.0 & 6.0\\\\2.0 & 6.0 & 3.0\\\\9.0 & 5.0 & 7.0\\end{matrix}\\right]$"
      ],
      "text/plain": [
       "Matrix([\n",
       "[2.0, 1.0, 6.0],\n",
       "[2.0, 6.0, 3.0],\n",
       "[9.0, 5.0, 7.0]])"
      ]
     },
     "metadata": {},
     "output_type": "display_data"
    }
   ],
   "source": [
    "discrete_values = np.array([[2, 3, 4], [1, 5, 6], [3, 4]], dtype='object')\n",
    "pretty_print_alternative(alternative.discrete_modification(matrix, discrete_values)[0])"
   ]
  },
  {
   "cell_type": "markdown",
   "metadata": {},
   "source": [
    "The value of alternative 1 in the first criterion was changed for discrete value '2'"
   ]
  },
  {
   "cell_type": "markdown",
   "metadata": {},
   "source": [
    "### 1.2. Percentage modification <a id=\"3\"></a>"
   ]
  },
  {
   "cell_type": "markdown",
   "metadata": {},
   "source": [
    "Percentage values can be set as an `int` to make it the same for all criteria, or by an array to specify value for specific criterion."
   ]
  },
  {
   "cell_type": "code",
   "execution_count": 55,
   "metadata": {},
   "outputs": [
    {
     "name": "stdout",
     "output_type": "stream",
     "text": [
      "Alternative index: 0\n",
      "Criteria index: 0\n",
      "Change: -0.01\n",
      "Resulting decision matrix:\n"
     ]
    },
    {
     "data": {
      "text/latex": [
       "$\\displaystyle \\left[\\begin{matrix}3.96 & 1.0 & 6.0\\\\2.0 & 6.0 & 3.0\\\\9.0 & 5.0 & 7.0\\end{matrix}\\right]$"
      ],
      "text/plain": [
       "Matrix([\n",
       "[3.96, 1.0, 6.0],\n",
       "[ 2.0, 6.0, 3.0],\n",
       "[ 9.0, 5.0, 7.0]])"
      ]
     },
     "metadata": {},
     "output_type": "display_data"
    }
   ],
   "source": [
    "percentages = 5\n",
    "# percentages = np.array([3, 2, 3])\n",
    "pretty_print_alternative(alternative.percentage_modification(matrix, percentages)[0])"
   ]
  },
  {
   "cell_type": "markdown",
   "metadata": {},
   "source": [
    "In the case of percentage modification the value of first alternative under first criterion changed by -0.01, which means -1%"
   ]
  },
  {
   "cell_type": "markdown",
   "metadata": {},
   "source": [
    "### 1.3. Range modification <a id=\"4\"></a>"
   ]
  },
  {
   "cell_type": "markdown",
   "metadata": {},
   "source": [
    "Range values should be specified for each criterion (2d-array) or for each value in decision matrix (3d-array)."
   ]
  },
  {
   "cell_type": "code",
   "execution_count": 56,
   "metadata": {},
   "outputs": [
    {
     "name": "stdout",
     "output_type": "stream",
     "text": [
      "Alternative index: 0\n",
      "Criteria index: 0\n",
      "Change: 6.0\n",
      "Resulting decision matrix:\n"
     ]
    },
    {
     "data": {
      "text/latex": [
       "$\\displaystyle \\left[\\begin{matrix}6.0 & 1.0 & 6.0\\\\2.0 & 6.0 & 3.0\\\\9.0 & 5.0 & 7.0\\end{matrix}\\right]$"
      ],
      "text/plain": [
       "Matrix([\n",
       "[6.0, 1.0, 6.0],\n",
       "[2.0, 6.0, 3.0],\n",
       "[9.0, 5.0, 7.0]])"
      ]
     },
     "metadata": {},
     "output_type": "display_data"
    }
   ],
   "source": [
    "range_values = np.array([[6, 8], [2, 4], [4, 6.5]])\n",
    "range_modification_results = alternative.range_modification(matrix, range_values)\n",
    "pretty_print_alternative(range_modification_results[0])"
   ]
  },
  {
   "cell_type": "markdown",
   "metadata": {},
   "source": [
    "The range modification modifies values in specified range, if step is not passed, it is set to 1. The value of first alternative, first criterion was set to 6. In the next step it will be set to 7."
   ]
  },
  {
   "cell_type": "code",
   "execution_count": 57,
   "metadata": {},
   "outputs": [
    {
     "data": {
      "text/markdown": [
       "##### **Next step**"
      ],
      "text/plain": [
       "<IPython.core.display.Markdown object>"
      ]
     },
     "metadata": {},
     "output_type": "display_data"
    },
    {
     "name": "stdout",
     "output_type": "stream",
     "text": [
      "Alternative index: 0\n",
      "Criteria index: 0\n",
      "Change: 7.0\n",
      "Resulting decision matrix:\n"
     ]
    },
    {
     "data": {
      "text/latex": [
       "$\\displaystyle \\left[\\begin{matrix}7.0 & 1.0 & 6.0\\\\2.0 & 6.0 & 3.0\\\\9.0 & 5.0 & 7.0\\end{matrix}\\right]$"
      ],
      "text/plain": [
       "Matrix([\n",
       "[7.0, 1.0, 6.0],\n",
       "[2.0, 6.0, 3.0],\n",
       "[9.0, 5.0, 7.0]])"
      ]
     },
     "metadata": {},
     "output_type": "display_data"
    }
   ],
   "source": [
    "display(Markdown('##### **Next step**'))\n",
    "pretty_print_alternative(range_modification_results[1])"
   ]
  },
  {
   "cell_type": "markdown",
   "metadata": {},
   "source": [
    "### 1.4. Alternative removal <a id=\"5\"></a>"
   ]
  },
  {
   "cell_type": "code",
   "execution_count": 58,
   "metadata": {},
   "outputs": [
    {
     "name": "stdout",
     "output_type": "stream",
     "text": [
      "Alternative index: 0\n",
      "Resulting decision matrix:\n"
     ]
    },
    {
     "data": {
      "text/latex": [
       "$\\displaystyle \\left[\\begin{matrix}2 & 6 & 3\\\\9 & 5 & 7\\end{matrix}\\right]$"
      ],
      "text/plain": [
       "Matrix([\n",
       "[2, 6, 3],\n",
       "[9, 5, 7]])"
      ]
     },
     "metadata": {},
     "output_type": "display_data"
    }
   ],
   "source": [
    "pretty_print_alternative_removal(alternative.remove_alternatives(matrix)[0])"
   ]
  },
  {
   "cell_type": "code",
   "execution_count": 59,
   "metadata": {},
   "outputs": [
    {
     "data": {
      "text/markdown": [
       "##### **Next step**"
      ],
      "text/plain": [
       "<IPython.core.display.Markdown object>"
      ]
     },
     "metadata": {},
     "output_type": "display_data"
    },
    {
     "name": "stdout",
     "output_type": "stream",
     "text": [
      "Alternative index: 1\n",
      "Resulting decision matrix:\n"
     ]
    },
    {
     "data": {
      "text/latex": [
       "$\\displaystyle \\left[\\begin{matrix}4 & 1 & 6\\\\9 & 5 & 7\\end{matrix}\\right]$"
      ],
      "text/plain": [
       "Matrix([\n",
       "[4, 1, 6],\n",
       "[9, 5, 7]])"
      ]
     },
     "metadata": {},
     "output_type": "display_data"
    }
   ],
   "source": [
    "display(Markdown('##### **Next step**'))\n",
    "pretty_print_alternative_removal(alternative.remove_alternatives(matrix)[1])"
   ]
  },
  {
   "cell_type": "markdown",
   "metadata": {},
   "source": [
    "### 1.5. General <a id=\"6\"></a>"
   ]
  },
  {
   "cell_type": "markdown",
   "metadata": {},
   "source": [
    "All functions provide additional parameters."
   ]
  },
  {
   "cell_type": "markdown",
   "metadata": {},
   "source": [
    "- Parameter `indexes` - provides a way to restrict the use of function to specific criteria. **In the case of alternative removal, this parameter specifies indexes of alternatives that should be removed**\n",
    "- Parameter `direction` *(only percentage function)* - specifies direction of the modification for each column in the matrix. \n",
    "- Parameter `step` *(only range and percentage functions)* - specifies step of next change"
   ]
  },
  {
   "cell_type": "markdown",
   "metadata": {},
   "source": [
    "**For example**:"
   ]
  },
  {
   "cell_type": "code",
   "execution_count": 60,
   "metadata": {},
   "outputs": [
    {
     "data": {
      "text/markdown": [
       "##### **This will provide change for all alternative at first for the first and third criterion from step to percentage value:**"
      ],
      "text/plain": [
       "<IPython.core.display.Markdown object>"
      ]
     },
     "metadata": {},
     "output_type": "display_data"
    },
    {
     "name": "stdout",
     "output_type": "stream",
     "text": [
      "Alternative index: 0\n",
      "Criteria index: (0, 2)\n",
      "Change: (-0.02, -0.03)\n",
      "Resulting decision matrix:\n"
     ]
    },
    {
     "data": {
      "text/latex": [
       "$\\displaystyle \\left[\\begin{matrix}3.92 & 1.0 & 5.82\\\\2.0 & 6.0 & 3.0\\\\9.0 & 5.0 & 7.0\\end{matrix}\\right]$"
      ],
      "text/plain": [
       "Matrix([\n",
       "[3.92, 1.0, 5.82],\n",
       "[ 2.0, 6.0,  3.0],\n",
       "[ 9.0, 5.0,  7.0]])"
      ]
     },
     "metadata": {},
     "output_type": "display_data"
    },
    {
     "data": {
      "text/markdown": [
       "##### **And separately for all alternatives for second criterion:**"
      ],
      "text/plain": [
       "<IPython.core.display.Markdown object>"
      ]
     },
     "metadata": {},
     "output_type": "display_data"
    },
    {
     "name": "stdout",
     "output_type": "stream",
     "text": [
      "Alternative index: 0\n",
      "Criteria index: 1\n",
      "Change: 0.02\n",
      "Resulting decision matrix:\n"
     ]
    },
    {
     "data": {
      "text/latex": [
       "$\\displaystyle \\left[\\begin{matrix}4.0 & 1.02 & 6.0\\\\2.0 & 6.0 & 3.0\\\\9.0 & 5.0 & 7.0\\end{matrix}\\right]$"
      ],
      "text/plain": [
       "Matrix([\n",
       "[4.0, 1.02, 6.0],\n",
       "[2.0,  6.0, 3.0],\n",
       "[9.0,  5.0, 7.0]])"
      ]
     },
     "metadata": {},
     "output_type": "display_data"
    }
   ],
   "source": [
    "direction = np.array([-1, 1, -1])\n",
    "percentages = np.array([2, 4, 9])\n",
    "indexes = np.array([[0, 2], 1], dtype='object')\n",
    "step = np.array([2, 2, 3])\n",
    "results = alternative.percentage_modification(matrix, percentages, direction, indexes, step)\n",
    "display(Markdown('##### **This will provide change for all alternative at first for the first and third criterion from step to percentage value:**'))\n",
    "pretty_print_alternative(results[0])\n",
    "display(Markdown('##### **And separately for all alternatives for second criterion:**'))\n",
    "pretty_print_alternative(results[3])"
   ]
  },
  {
   "cell_type": "markdown",
   "metadata": {},
   "source": [
    "---"
   ]
  },
  {
   "cell_type": "markdown",
   "metadata": {},
   "source": [
    "<a id=\"7\"></a><br>\n",
    "\n",
    "## 2. Criteria submodule"
   ]
  },
  {
   "cell_type": "markdown",
   "metadata": {},
   "source": [
    "**Note**: Criteria submodule includes functions for criteria removal and identification and weights generation."
   ]
  },
  {
   "cell_type": "markdown",
   "metadata": {},
   "source": [
    "### 2.1. Random distribution - weights generation <a id=\"8\"></a>"
   ]
  },
  {
   "cell_type": "markdown",
   "metadata": {},
   "source": [
    "This part of the submodule is solely dedicated to single weights vector generation.<br/>\n",
    "For example let us generate vector of four weights ($n = 4$)."
   ]
  },
  {
   "cell_type": "code",
   "execution_count": 61,
   "metadata": {},
   "outputs": [],
   "source": [
    "n = 4"
   ]
  },
  {
   "cell_type": "markdown",
   "metadata": {},
   "source": [
    "- Chisquare distribution\n",
    "    - `df` (Number of degrees of freedom)"
   ]
  },
  {
   "cell_type": "code",
   "execution_count": 62,
   "metadata": {},
   "outputs": [
    {
     "name": "stdout",
     "output_type": "stream",
     "text": [
      "Resulting weights vector (example):\n"
     ]
    },
    {
     "data": {
      "text/latex": [
       "$\\displaystyle \\left[\\begin{matrix}0.385016 & 0.310653 & 0.271319 & 0.033012\\end{matrix}\\right]$"
      ],
      "text/plain": [
       "Matrix([[0.385016, 0.310653, 0.271319, 0.033012]])"
      ]
     },
     "metadata": {},
     "output_type": "display_data"
    }
   ],
   "source": [
    "weights = criteria.random_distribution.chisquare_distribution(n, df=1)\n",
    "pretty_print_weights(np.round(weights, 6))"
   ]
  },
  {
   "cell_type": "markdown",
   "metadata": {},
   "source": [
    "- Laplace distribution:\n",
    "    - `loc` (The position of distribution peak)\n",
    "    - `scale` (The exponential decay)"
   ]
  },
  {
   "cell_type": "code",
   "execution_count": 63,
   "metadata": {},
   "outputs": [
    {
     "name": "stdout",
     "output_type": "stream",
     "text": [
      "Resulting weights vector (example):\n"
     ]
    },
    {
     "data": {
      "text/latex": [
       "$\\displaystyle \\left[\\begin{matrix}0.053145 & 0.002711 & 0.446965 & 0.497178\\end{matrix}\\right]$"
      ],
      "text/plain": [
       "Matrix([[0.053145, 0.002711, 0.446965, 0.497178]])"
      ]
     },
     "metadata": {},
     "output_type": "display_data"
    }
   ],
   "source": [
    "weights = criteria.random_distribution.laplace_distribution(n, loc=0, scale=1)\n",
    "pretty_print_weights(np.round(weights, 6))"
   ]
  },
  {
   "cell_type": "markdown",
   "metadata": {},
   "source": [
    "- Normal distribution:\n",
    "    - `loc` (Mean of the normal distribution)\n",
    "    - `scale` (Standard deviation of the normal distribution)"
   ]
  },
  {
   "cell_type": "code",
   "execution_count": 64,
   "metadata": {},
   "outputs": [
    {
     "name": "stdout",
     "output_type": "stream",
     "text": [
      "Resulting weights vector (example):\n"
     ]
    },
    {
     "data": {
      "text/latex": [
       "$\\displaystyle \\left[\\begin{matrix}0.431167 & 0.080965 & 0.339468 & 0.1484\\end{matrix}\\right]$"
      ],
      "text/plain": [
       "Matrix([[0.431167, 0.080965, 0.339468, 0.1484]])"
      ]
     },
     "metadata": {},
     "output_type": "display_data"
    }
   ],
   "source": [
    "weights = criteria.random_distribution.normal_distribution(n, loc=0, scale=1)\n",
    "pretty_print_weights(np.round(weights, 6))"
   ]
  },
  {
   "cell_type": "markdown",
   "metadata": {},
   "source": [
    "- Random distribution:\n",
    "    - No additional parameters"
   ]
  },
  {
   "cell_type": "code",
   "execution_count": 65,
   "metadata": {},
   "outputs": [
    {
     "name": "stdout",
     "output_type": "stream",
     "text": [
      "Resulting weights vector (example):\n"
     ]
    },
    {
     "data": {
      "text/latex": [
       "$\\displaystyle \\left[\\begin{matrix}0.097069 & 0.228393 & 0.469664 & 0.204874\\end{matrix}\\right]$"
      ],
      "text/plain": [
       "Matrix([[0.097069, 0.228393, 0.469664, 0.204874]])"
      ]
     },
     "metadata": {},
     "output_type": "display_data"
    }
   ],
   "source": [
    "weights = criteria.random_distribution.random_distribution(n)\n",
    "pretty_print_weights(np.round(weights, 6))"
   ]
  },
  {
   "cell_type": "markdown",
   "metadata": {},
   "source": [
    "- Triangular distribution\n",
    "    - `left` (The lower bound of the triangular distribution)\n",
    "    - `mode` (The mode of the triangular distribution)\n",
    "    - `right` (The upper bound of the triangular distribution)"
   ]
  },
  {
   "cell_type": "code",
   "execution_count": 66,
   "metadata": {},
   "outputs": [
    {
     "name": "stdout",
     "output_type": "stream",
     "text": [
      "Resulting weights vector (example):\n"
     ]
    },
    {
     "data": {
      "text/latex": [
       "$\\displaystyle \\left[\\begin{matrix}0.210452 & 0.231853 & 0.414876 & 0.142819\\end{matrix}\\right]$"
      ],
      "text/plain": [
       "Matrix([[0.210452, 0.231853, 0.414876, 0.142819]])"
      ]
     },
     "metadata": {},
     "output_type": "display_data"
    }
   ],
   "source": [
    "weights = criteria.random_distribution.triangular_distribution(n, left=0, mode=0.5, right=1)\n",
    "pretty_print_weights(np.round(weights, 6))"
   ]
  },
  {
   "cell_type": "markdown",
   "metadata": {},
   "source": [
    "- Uniform distribution:\n",
    "    - `low` (Lower bound of the uniform distribution)\n",
    "    - `high` (Upper bound of the uniform distribution)"
   ]
  },
  {
   "cell_type": "code",
   "execution_count": 67,
   "metadata": {},
   "outputs": [
    {
     "name": "stdout",
     "output_type": "stream",
     "text": [
      "Resulting weights vector (example):\n"
     ]
    },
    {
     "data": {
      "text/latex": [
       "$\\displaystyle \\left[\\begin{matrix}0.406722 & 0.267459 & 0.177137 & 0.148682\\end{matrix}\\right]$"
      ],
      "text/plain": [
       "Matrix([[0.406722, 0.267459, 0.177137, 0.148682]])"
      ]
     },
     "metadata": {},
     "output_type": "display_data"
    }
   ],
   "source": [
    "weights = criteria.random_distribution.uniform_distribution(n, low=0, high=1)\n",
    "pretty_print_weights(np.round(weights, 6))"
   ]
  },
  {
   "cell_type": "markdown",
   "metadata": {},
   "source": [
    "### 2.2. Percentage modification <a id=\"9\"></a>"
   ]
  },
  {
   "cell_type": "markdown",
   "metadata": {},
   "source": [
    "This function returns all possible modifications to the weights vector. Single weight is modified at one time, however rest of the weights are equally adjusted to provide a vector which sum is 1."
   ]
  },
  {
   "cell_type": "code",
   "execution_count": 68,
   "metadata": {},
   "outputs": [
    {
     "name": "stdout",
     "output_type": "stream",
     "text": [
      "Initial weights vector:\n"
     ]
    },
    {
     "data": {
      "text/latex": [
       "$\\displaystyle \\left[\\begin{matrix}0.3 & 0.3 & 0.4\\end{matrix}\\right]$"
      ],
      "text/plain": [
       "Matrix([[0.3, 0.3, 0.4]])"
      ]
     },
     "metadata": {},
     "output_type": "display_data"
    },
    {
     "name": "stdout",
     "output_type": "stream",
     "text": [
      "Modified weight index: 0\n",
      "Modification: -0.01\n",
      "Resulting weights vector:\n"
     ]
    },
    {
     "data": {
      "text/latex": [
       "$\\displaystyle \\left[\\begin{matrix}0.297 & 0.3015 & 0.4015\\end{matrix}\\right]$"
      ],
      "text/plain": [
       "Matrix([[0.297, 0.3015, 0.4015]])"
      ]
     },
     "metadata": {},
     "output_type": "display_data"
    }
   ],
   "source": [
    "weights = np.array([0.3, 0.3, 0.4])\n",
    "percentage = 5\n",
    "results = criteria.percentage_modification(weights, percentage)\n",
    "pretty_print_weights_generation(weights, results[0])"
   ]
  },
  {
   "cell_type": "markdown",
   "metadata": {},
   "source": [
    "Similarly to alternatives modification functions. Percentage modification for weights provides additional parameters:\n",
    "- `direction` - specifies the direction of the modification for each criterion weight\n",
    "- `indexes` - specifies indexes of the criteria weights to be modified\n",
    "- `step` - specifies step size for the percentage change."
   ]
  },
  {
   "cell_type": "markdown",
   "metadata": {},
   "source": [
    "We can further visualize the results."
   ]
  },
  {
   "cell_type": "code",
   "execution_count": 13,
   "metadata": {},
   "outputs": [
    {
     "data": {
      "image/png": "[encoded data removed]",
      "text/plain": [
       "<Figure size 640x480 with 3 Axes>"
      ]
     },
     "metadata": {},
     "output_type": "display_data"
    }
   ],
   "source": [
    "# In the case of using sliders, the reference should be kept, so Python wouldn't GC\n",
    "ax, criteria_slider, change_slider = graphs.slider_weights_barplot(weights, results, percentage_change=True, annotate_bars=True)\n",
    "plt.show()"
   ]
  },
  {
   "cell_type": "markdown",
   "metadata": {},
   "source": [
    "### 2.3. Range modification <a id=\"10\"></a>"
   ]
  },
  {
   "cell_type": "markdown",
   "metadata": {},
   "source": [
    "Similarly to percentage modification this function returns all possible modifications to the weights vector. Single weight is modified at one time, however rest of the weights are equally adjusted to provide a vector which sum is 1."
   ]
  },
  {
   "cell_type": "code",
   "execution_count": 70,
   "metadata": {},
   "outputs": [
    {
     "name": "stdout",
     "output_type": "stream",
     "text": [
      "Initial weights vector:\n"
     ]
    },
    {
     "data": {
      "text/latex": [
       "$\\displaystyle \\left[\\begin{matrix}0.3 & 0.3 & 0.4\\end{matrix}\\right]$"
      ],
      "text/plain": [
       "Matrix([[0.3, 0.3, 0.4]])"
      ]
     },
     "metadata": {},
     "output_type": "display_data"
    },
    {
     "name": "stdout",
     "output_type": "stream",
     "text": [
      "Modified weight index: 0\n",
      "Modification: 0.25\n",
      "Resulting weights vector:\n"
     ]
    },
    {
     "data": {
      "text/latex": [
       "$\\displaystyle \\left[\\begin{matrix}0.25 & 0.325 & 0.425\\end{matrix}\\right]$"
      ],
      "text/plain": [
       "Matrix([[0.25, 0.325, 0.425]])"
      ]
     },
     "metadata": {},
     "output_type": "display_data"
    }
   ],
   "source": [
    "weights = np.array([0.3, 0.3, 0.4])\n",
    "range_values = np.array([[0.25, 0.3], [0.3, 0.35], [0.37, 0.43]])\n",
    "results = criteria.range_modification(weights, range_values)\n",
    "pretty_print_weights_generation(weights, results[0])"
   ]
  },
  {
   "cell_type": "markdown",
   "metadata": {},
   "source": [
    "**Note**: The range modification can be visualized similarly to percentage modification.\n",
    "\n",
    "Additional parameters:\n",
    "- `indexes` - specifies indexes of the criteria weights to be modified\n",
    "- `step` - specifies step size for the percentage change."
   ]
  },
  {
   "cell_type": "markdown",
   "metadata": {},
   "source": [
    "### 2.4. Weights scenarios generation <a id=\"11\"></a>"
   ]
  },
  {
   "cell_type": "markdown",
   "metadata": {},
   "source": [
    "This function generates all possible combination of weights for specified number of criteria with specified step."
   ]
  },
  {
   "cell_type": "markdown",
   "metadata": {},
   "source": [
    "- Parallel - it is advised to use parallel version, especially for more than five criteria, default saves results to file"
   ]
  },
  {
   "cell_type": "code",
   "execution_count": 71,
   "metadata": {},
   "outputs": [
    {
     "name": "stdout",
     "output_type": "stream",
     "text": [
      "Resulting weights vector (example):\n"
     ]
    },
    {
     "data": {
      "text/latex": [
       "$\\displaystyle \\left[\\begin{matrix}0.1 & 0.1 & 0.1 & 0.7\\end{matrix}\\right]$"
      ],
      "text/plain": [
       "Matrix([[0.1, 0.1, 0.1, 0.7]])"
      ]
     },
     "metadata": {},
     "output_type": "display_data"
    }
   ],
   "source": [
    "scenarios = criteria.generate_weights_scenarios(4, 0.1, 3, return_array=True, save_zeros=False)\n",
    "pretty_print_weights(scenarios[0])"
   ]
  },
  {
   "cell_type": "markdown",
   "metadata": {},
   "source": [
    "- Sequential - provides additional progress bar, does not utilize temporary files"
   ]
  },
  {
   "cell_type": "code",
   "execution_count": 72,
   "metadata": {},
   "outputs": [
    {
     "name": "stderr",
     "output_type": "stream",
     "text": [
      "100%|██████████| 286/286.0 [00:00<?, ?it/s]"
     ]
    },
    {
     "name": "stdout",
     "output_type": "stream",
     "text": [
      "Resulting weights vector (example):\n"
     ]
    },
    {
     "name": "stderr",
     "output_type": "stream",
     "text": [
      "\n"
     ]
    },
    {
     "data": {
      "text/latex": [
       "$\\displaystyle \\left[\\begin{matrix}0.1 & 0.7 & 0.1 & 0.1\\end{matrix}\\right]$"
      ],
      "text/plain": [
       "Matrix([[0.1, 0.7, 0.1, 0.1]])"
      ]
     },
     "metadata": {},
     "output_type": "display_data"
    }
   ],
   "source": [
    "scenarios = criteria.generate_weights_scenarios(4, 0.1, 3, sequential=True, return_array=True, save_zeros=False)\n",
    "pretty_print_weights(scenarios[0])"
   ]
  },
  {
   "cell_type": "markdown",
   "metadata": {},
   "source": [
    "### 2.5. Criteria removal <a id=\"12\"></a>"
   ]
  },
  {
   "cell_type": "markdown",
   "metadata": {},
   "source": [
    "This function removes specified criteria from decision matrix, adjusting weights so that the vector sums to 1. If no indexes are specified, all criteria are removed one by one."
   ]
  },
  {
   "cell_type": "code",
   "execution_count": 73,
   "metadata": {},
   "outputs": [
    {
     "name": "stdout",
     "output_type": "stream",
     "text": [
      "Initial matrix:\n"
     ]
    },
    {
     "data": {
      "text/latex": [
       "$\\displaystyle \\left[\\begin{matrix}1 & 2 & 3 & 4 & 4\\\\1 & 2 & 3 & 4 & 4\\\\4 & 3 & 2 & 1 & 4\\end{matrix}\\right]$"
      ],
      "text/plain": [
       "Matrix([\n",
       "[1, 2, 3, 4, 4],\n",
       "[1, 2, 3, 4, 4],\n",
       "[4, 3, 2, 1, 4]])"
      ]
     },
     "metadata": {},
     "output_type": "display_data"
    },
    {
     "name": "stdout",
     "output_type": "stream",
     "text": [
      "Initial weights:\n"
     ]
    },
    {
     "data": {
      "text/latex": [
       "$\\displaystyle \\left[\\begin{matrix}0.25 & 0.25 & 0.2 & 0.2 & 0.1\\end{matrix}\\right]$"
      ],
      "text/plain": [
       "Matrix([[0.25, 0.25, 0.2, 0.2, 0.1]])"
      ]
     },
     "metadata": {},
     "output_type": "display_data"
    }
   ],
   "source": [
    "matrix = np.array([\n",
    "    [1, 2, 3, 4, 4],\n",
    "    [1, 2, 3, 4, 4],\n",
    "    [4, 3, 2, 1, 4]\n",
    "])\n",
    "weights = np.array([0.25, 0.25, 0.2, 0.2, 0.1])\n",
    "print('Initial matrix:')\n",
    "display(Matrix(matrix))\n",
    "print('Initial weights:')\n",
    "display(Matrix(weights).T)"
   ]
  },
  {
   "cell_type": "code",
   "execution_count": 74,
   "metadata": {},
   "outputs": [
    {
     "data": {
      "text/markdown": [
       "##### **Example result (1/5):**"
      ],
      "text/plain": [
       "<IPython.core.display.Markdown object>"
      ]
     },
     "metadata": {},
     "output_type": "display_data"
    },
    {
     "name": "stdout",
     "output_type": "stream",
     "text": [
      "Removed criterion index: 0\n",
      "Resulting decision matrix:\n"
     ]
    },
    {
     "data": {
      "text/latex": [
       "$\\displaystyle \\left[\\begin{matrix}2 & 3 & 4 & 4\\\\2 & 3 & 4 & 4\\\\3 & 2 & 1 & 4\\end{matrix}\\right]$"
      ],
      "text/plain": [
       "Matrix([\n",
       "[2, 3, 4, 4],\n",
       "[2, 3, 4, 4],\n",
       "[3, 2, 1, 4]])"
      ]
     },
     "metadata": {},
     "output_type": "display_data"
    },
    {
     "name": "stdout",
     "output_type": "stream",
     "text": [
      "Resulting weights vector:\n"
     ]
    },
    {
     "data": {
      "text/latex": [
       "$\\displaystyle \\left[\\begin{matrix}0.333333333333333 & 0.266666666666667 & 0.266666666666667 & 0.133333333333333\\end{matrix}\\right]$"
      ],
      "text/plain": [
       "Matrix([[0.333333333333333, 0.266666666666667, 0.266666666666667, 0.133333333333333]])"
      ]
     },
     "metadata": {},
     "output_type": "display_data"
    }
   ],
   "source": [
    "results = criteria.remove_criteria(matrix, weights)\n",
    "display(Markdown(f'##### **Example result (1/{len(results)}):**'))\n",
    "pretty_print_crit_removal(results[0])"
   ]
  },
  {
   "cell_type": "markdown",
   "metadata": {},
   "source": [
    "### 2.6. Criteria identification <a id=\"13\"></a>"
   ]
  },
  {
   "cell_type": "markdown",
   "metadata": {},
   "source": [
    "This method identifies criteria impact on the resulting ranking. It needs multi-criteria decision-making method to calculate preferences internally."
   ]
  },
  {
   "cell_type": "code",
   "execution_count": 75,
   "metadata": {},
   "outputs": [
    {
     "name": "stdout",
     "output_type": "stream",
     "text": [
      "Initial matrix:\n"
     ]
    },
    {
     "data": {
      "text/latex": [
       "$\\displaystyle \\left[\\begin{matrix}4 & 3 & 5 & 7\\\\7 & 4 & 2 & 4\\\\9 & 5 & 7 & 3\\\\3 & 5 & 6 & 3\\end{matrix}\\right]$"
      ],
      "text/plain": [
       "Matrix([\n",
       "[4, 3, 5, 7],\n",
       "[7, 4, 2, 4],\n",
       "[9, 5, 7, 3],\n",
       "[3, 5, 6, 3]])"
      ]
     },
     "metadata": {},
     "output_type": "display_data"
    },
    {
     "name": "stdout",
     "output_type": "stream",
     "text": [
      "Initial weights:\n"
     ]
    },
    {
     "data": {
      "text/latex": [
       "$\\displaystyle \\left[\\begin{matrix}0.25 & 0.25 & 0.25 & 0.25\\end{matrix}\\right]$"
      ],
      "text/plain": [
       "Matrix([[0.25, 0.25, 0.25, 0.25]])"
      ]
     },
     "metadata": {},
     "output_type": "display_data"
    },
    {
     "name": "stdout",
     "output_type": "stream",
     "text": [
      "Initial criteria types:\n"
     ]
    },
    {
     "data": {
      "text/latex": [
       "$\\displaystyle \\left[\\begin{matrix}1 & 1 & -1 & 1\\end{matrix}\\right]$"
      ],
      "text/plain": [
       "Matrix([[1, 1, -1, 1]])"
      ]
     },
     "metadata": {},
     "output_type": "display_data"
    }
   ],
   "source": [
    "matrix = np.array([\n",
    "    [4, 3, 5, 7],\n",
    "    [7, 4, 2, 4],\n",
    "    [9, 5, 7, 3],\n",
    "    [3, 5, 6, 3]\n",
    "    ])\n",
    "criteria_num = matrix.shape[1]\n",
    "criteria_types = np.array([1, 1, -1, 1])\n",
    "weights = np.ones(criteria_num)/criteria_num\n",
    "print('Initial matrix:')\n",
    "display(Matrix(matrix))\n",
    "print('Initial weights:')\n",
    "display(Matrix(weights).T)\n",
    "print('Initial criteria types:')\n",
    "display(Matrix(criteria_types).T)\n"
   ]
  },
  {
   "cell_type": "markdown",
   "metadata": {},
   "source": [
    "- Using defined function - let us define weighted sum method function that returns preference values for alternatives"
   ]
  },
  {
   "cell_type": "code",
   "execution_count": 76,
   "metadata": {},
   "outputs": [],
   "source": [
    "def weighted_sum_method(matrix, weights, types):\n",
    "    # normalize decision matrix with sum normalization\n",
    "    nmatrix = matrix.copy().astype(float)\n",
    "    nmatrix[:, types == 1] = matrix[:, types == 1] / np.sum(matrix[:, types == 1], axis=0)\n",
    "    nmatrix[:, types == -1] = (1 / matrix[:, types == -1]) / np.sum(1 / matrix[:, types == -1], axis=0)\n",
    "    # each row of matrix is multiplied by weights\n",
    "    weighted_matrix = nmatrix * weights\n",
    "    # calculate preference scores\n",
    "    return np.sum(weighted_matrix, axis=1)"
   ]
  },
  {
   "cell_type": "code",
   "execution_count": 77,
   "metadata": {},
   "outputs": [
    {
     "name": "stdout",
     "output_type": "stream",
     "text": [
      "Removed criterion index(es): (0,)\n",
      "Correlation value: 0.52\n",
      "Distance value: 0.093636\n",
      "Resulting decision matrix:\n"
     ]
    },
    {
     "data": {
      "text/latex": [
       "$\\displaystyle \\left[\\begin{matrix}3 & 5 & 7\\\\4 & 2 & 4\\\\5 & 7 & 3\\\\5 & 6 & 3\\end{matrix}\\right]$"
      ],
      "text/plain": [
       "Matrix([\n",
       "[3, 5, 7],\n",
       "[4, 2, 4],\n",
       "[5, 7, 3],\n",
       "[5, 6, 3]])"
      ]
     },
     "metadata": {},
     "output_type": "display_data"
    }
   ],
   "source": [
    "call_kwargs = {\n",
    "    'matrix': matrix,\n",
    "    'weights': weights,\n",
    "    'types': criteria_types\n",
    "}\n",
    "results = criteria.relevance_identification(weighted_sum_method, call_kwargs, ranking_descending=True)\n",
    "pretty_print_crit_identification(results[0])"
   ]
  },
  {
   "cell_type": "markdown",
   "metadata": {},
   "source": [
    "The criterion with lowest impact was removed"
   ]
  },
  {
   "cell_type": "markdown",
   "metadata": {},
   "source": [
    "- Using library - example `pymcdm`"
   ]
  },
  {
   "cell_type": "code",
   "execution_count": 78,
   "metadata": {},
   "outputs": [
    {
     "name": "stdout",
     "output_type": "stream",
     "text": [
      "Removed criterion index(es): (0,)\n",
      "Correlation value: 0.52\n",
      "Distance value: 0.211707\n",
      "Resulting decision matrix:\n"
     ]
    },
    {
     "data": {
      "text/latex": [
       "$\\displaystyle \\left[\\begin{matrix}3 & 5 & 7\\\\4 & 2 & 4\\\\5 & 7 & 3\\\\5 & 6 & 3\\end{matrix}\\right]$"
      ],
      "text/plain": [
       "Matrix([\n",
       "[3, 5, 7],\n",
       "[4, 2, 4],\n",
       "[5, 7, 3],\n",
       "[5, 6, 3]])"
      ]
     },
     "metadata": {},
     "output_type": "display_data"
    }
   ],
   "source": [
    "import pymcdm.methods as pm\n",
    "\n",
    "topsis = pm.TOPSIS()\n",
    "call_kwargs = {\n",
    "    'matrix': matrix,\n",
    "    'weights': weights,\n",
    "    'types': criteria_types\n",
    "}\n",
    "results = criteria.relevance_identification(topsis, call_kwargs, ranking_descending=True)\n",
    "pretty_print_crit_identification(results[0])"
   ]
  },
  {
   "cell_type": "markdown",
   "metadata": {},
   "source": [
    "---"
   ]
  },
  {
   "cell_type": "markdown",
   "metadata": {},
   "source": [
    "<a id=\"14\"></a><br/>\n",
    "\n",
    "## 3. Probabilistic submodule"
   ]
  },
  {
   "cell_type": "markdown",
   "metadata": {},
   "source": [
    "This submodule offers a way to generate $x$ number of scenarios / samples for introducing noise to decision matrix or weights vector. Additionally it provides a way to generate $x$ number of samples of random weights vectors."
   ]
  },
  {
   "cell_type": "markdown",
   "metadata": {},
   "source": [
    "### 3.1. Monte carlo  <a id=\"15\"></a>"
   ]
  },
  {
   "cell_type": "markdown",
   "metadata": {},
   "source": [
    "Let us generate 1000 samples of random weights vectors for a problem with 3 criteria."
   ]
  },
  {
   "cell_type": "code",
   "execution_count": 14,
   "metadata": {},
   "outputs": [
    {
     "name": "stdout",
     "output_type": "stream",
     "text": [
      "[[0.36291334 0.29830382 0.33878284]\n",
      " [0.34222087 0.26262817 0.39515096]\n",
      " [0.30846942 0.35528216 0.33624842]\n",
      " ...\n",
      " [0.36034416 0.31930061 0.32035523]\n",
      " [0.29917237 0.4062474  0.29458022]\n",
      " [0.3324616  0.428281   0.2392574 ]]\n"
     ]
    }
   ],
   "source": [
    "n = 3\n",
    "modified_weights = probabilistic.monte_carlo_weights(n, num_samples=1000, distribution='normal', params={'loc': 0.5, 'scale': 0.1})\n",
    "print(modified_weights)"
   ]
  },
  {
   "cell_type": "markdown",
   "metadata": {},
   "source": [
    "The weights vectors can be further visualized on distribution plot"
   ]
  },
  {
   "cell_type": "code",
   "execution_count": 15,
   "metadata": {},
   "outputs": [
    {
     "data": {
      "image/png": "[encoded data removed]",
      "text/plain": [
       "<Figure size 1000x400 with 6 Axes>"
      ]
     },
     "metadata": {},
     "output_type": "display_data"
    }
   ],
   "source": [
    "fig, ax = plt.subplots(1, 3, figsize=(10, 4))\n",
    "\n",
    "for idx in range(modified_weights.shape[1]):\n",
    "    # In the case of using sliders, the reference should be kept, so Python wouldn't GC\n",
    "    _, bins_slider = graphs.hist_dist(modified_weights[: , idx], ax[idx], fig=fig, slider_label=f'$w_{{{idx+1}}}$', kind='hist', xlabel='Value', title=f'Weight {idx+1}')\n",
    "plt.suptitle('Weights value distribution')\n",
    "plt.tight_layout(w_pad=1.5)\n",
    "plt.show()"
   ]
  },
  {
   "cell_type": "markdown",
   "metadata": {},
   "source": [
    "### 3.2. Perturbated matrix  <a id=\"16\"></a>"
   ]
  },
  {
   "cell_type": "code",
   "execution_count": 81,
   "metadata": {},
   "outputs": [
    {
     "name": "stdout",
     "output_type": "stream",
     "text": [
      "Initial matrix:\n"
     ]
    },
    {
     "data": {
      "text/latex": [
       "$\\displaystyle \\left[\\begin{matrix}4 & 3 & 7\\\\1 & 9 & 6\\\\7 & 5 & 3\\end{matrix}\\right]$"
      ],
      "text/plain": [
       "Matrix([\n",
       "[4, 3, 7],\n",
       "[1, 9, 6],\n",
       "[7, 5, 3]])"
      ]
     },
     "metadata": {},
     "output_type": "display_data"
    },
    {
     "name": "stdout",
     "output_type": "stream",
     "text": [
      "Example resulting matrix (1/1000):\n"
     ]
    },
    {
     "data": {
      "text/latex": [
       "$\\displaystyle \\left[\\begin{matrix}4.045119 & 3.010134 & 6.942155\\\\1.091874 & 9.089413 & 5.948685\\\\7.042628 & 5.007573 & 3.082106\\end{matrix}\\right]$"
      ],
      "text/plain": [
       "Matrix([\n",
       "[4.045119, 3.010134, 6.942155],\n",
       "[1.091874, 9.089413, 5.948685],\n",
       "[7.042628, 5.007573, 3.082106]])"
      ]
     },
     "metadata": {},
     "output_type": "display_data"
    }
   ],
   "source": [
    "matrix = np.array([[4, 3, 7], \n",
    "                   [1, 9, 6], \n",
    "                   [7, 5, 3]])\n",
    "simulations = 1000\n",
    "results = probabilistic.perturbed_matrix(matrix, simulations)\n",
    "print('Initial matrix:')\n",
    "display(Matrix(matrix))\n",
    "print(f'Example resulting matrix (1/{len(results)}):')\n",
    "display(Matrix(results[0]))"
   ]
  },
  {
   "cell_type": "markdown",
   "metadata": {},
   "source": [
    "### 3.3. Perturbated weights  <a id=\"17\"></a>"
   ]
  },
  {
   "cell_type": "code",
   "execution_count": 82,
   "metadata": {},
   "outputs": [
    {
     "name": "stdout",
     "output_type": "stream",
     "text": [
      "Initial weights vector:\n"
     ]
    },
    {
     "data": {
      "text/latex": [
       "$\\displaystyle \\left[\\begin{matrix}0.3 & 0.4 & 0.3\\end{matrix}\\right]$"
      ],
      "text/plain": [
       "Matrix([[0.3, 0.4, 0.3]])"
      ]
     },
     "metadata": {},
     "output_type": "display_data"
    },
    {
     "name": "stdout",
     "output_type": "stream",
     "text": [
      "Example resulting weights vector (1/1000):\n"
     ]
    },
    {
     "data": {
      "text/latex": [
       "$\\displaystyle \\left[\\begin{matrix}0.261235 & 0.41879 & 0.319976\\end{matrix}\\right]$"
      ],
      "text/plain": [
       "Matrix([[0.261235, 0.41879, 0.319976]])"
      ]
     },
     "metadata": {},
     "output_type": "display_data"
    }
   ],
   "source": [
    "weights = np.array([0.3, 0.4, 0.3])\n",
    "simulations = 1000\n",
    "results = probabilistic.perturbed_weights(weights, simulations)\n",
    "\n",
    "print('Initial weights vector:')\n",
    "display(Matrix(weights).T)\n",
    "print(f'Example resulting weights vector (1/{len(results)}):')\n",
    "display(Matrix(results[0]).T)"
   ]
  },
  {
   "cell_type": "markdown",
   "metadata": {},
   "source": [
    "---"
   ]
  },
  {
   "cell_type": "markdown",
   "metadata": {},
   "source": [
    "<a id=\"18\"></a><br/>\n",
    "\n",
    "## 4. Ranking submodule"
   ]
  },
  {
   "cell_type": "markdown",
   "metadata": {},
   "source": [
    "### 4.1. Ranking alternation  <a id=\"19\"></a>"
   ]
  },
  {
   "cell_type": "markdown",
   "metadata": {},
   "source": [
    "This function finds smallest possible changes in weights values which will result in different ranking."
   ]
  },
  {
   "cell_type": "code",
   "execution_count": 83,
   "metadata": {},
   "outputs": [
    {
     "name": "stdout",
     "output_type": "stream",
     "text": [
      "Initial ranking:\n"
     ]
    },
    {
     "data": {
      "text/latex": [
       "$\\displaystyle \\left[\\begin{matrix}2.0 & 3.0 & 1.0\\end{matrix}\\right]$"
      ],
      "text/plain": [
       "Matrix([[2.0, 3.0, 1.0]])"
      ]
     },
     "metadata": {},
     "output_type": "display_data"
    },
    {
     "name": "stdout",
     "output_type": "stream",
     "text": [
      "Example result (1/3):\n",
      "\n",
      "Modified weight index: 0\n",
      "Resulting weights:\n"
     ]
    },
    {
     "data": {
      "text/latex": [
       "$\\displaystyle \\left[\\begin{matrix}0.39 & 0.505 & 0.105\\end{matrix}\\right]$"
      ],
      "text/plain": [
       "Matrix([[0.39, 0.505, 0.105]])"
      ]
     },
     "metadata": {},
     "output_type": "display_data"
    },
    {
     "name": "stdout",
     "output_type": "stream",
     "text": [
      "Resulting new ranking:\n"
     ]
    },
    {
     "data": {
      "text/latex": [
       "$\\displaystyle \\left[\\begin{matrix}3.0 & 2.0 & 1.0\\end{matrix}\\right]$"
      ],
      "text/plain": [
       "Matrix([[3.0, 2.0, 1.0]])"
      ]
     },
     "metadata": {},
     "output_type": "display_data"
    }
   ],
   "source": [
    "import pymcdm.methods as pm\n",
    "\n",
    "weights = np.array([0.4, 0.5, 0.1])\n",
    "matrix = np.array([\n",
    "    [4, 2, 6],\n",
    "    [7, 3, 2],\n",
    "    [9, 6, 8]\n",
    "])\n",
    "types = np.array([-1, 1, -1])\n",
    "\n",
    "aras = pm.ARAS()\n",
    "pref = aras(matrix, weights, types)\n",
    "initial_ranking = aras.rank(pref)\n",
    "call_kwargs = {\n",
    "    \"matrix\": matrix,\n",
    "    \"weights\": weights,\n",
    "    \"types\": types\n",
    "}\n",
    "ranking_descending = True\n",
    "results = ranking.ranking_alteration(weights, initial_ranking, aras, call_kwargs, ranking_descending)\n",
    "\n",
    "print('Initial ranking:')\n",
    "display(Matrix(initial_ranking).T)\n",
    "print(f'Example result (1/{len(results)}):\\n')\n",
    "print(f'Modified weight index: {results[0][0]}')\n",
    "print('Resulting weights:')\n",
    "display(Matrix(results[0][1]).T)\n",
    "print('Resulting new ranking:')\n",
    "display(Matrix(results[0][2]).T)"
   ]
  },
  {
   "cell_type": "markdown",
   "metadata": {},
   "source": [
    "### 4.2. Demotion  <a id=\"20\"></a>"
   ]
  },
  {
   "cell_type": "code",
   "execution_count": 4,
   "metadata": {},
   "outputs": [
    {
     "name": "stdout",
     "output_type": "stream",
     "text": [
      "Initial ranking:\n"
     ]
    },
    {
     "data": {
      "text/latex": [
       "$\\displaystyle \\left[\\begin{matrix}2.0 & 3.0 & 1.0\\end{matrix}\\right]$"
      ],
      "text/plain": [
       "Matrix([[2.0, 3.0, 1.0]])"
      ]
     },
     "metadata": {},
     "output_type": "display_data"
    },
    {
     "name": "stdout",
     "output_type": "stream",
     "text": [
      "Example result (1/9):\n",
      "\n",
      "Alternative index: 0\n",
      "Criterion index: 0\n",
      "Size of change: 5.0\n",
      "New position: 3\n"
     ]
    }
   ],
   "source": [
    "import pymcdm.methods as pm\n",
    "\n",
    "matrix = np.array([\n",
    "    [4, 2, 6],\n",
    "    [7, 3, 2],\n",
    "    [9, 6, 8]\n",
    "])\n",
    "weights = np.array([0.4, 0.5, 0.1])\n",
    "types = np.array([-1, 1, -1])\n",
    "\n",
    "copras = pm.COPRAS()\n",
    "pref = copras(matrix, weights, types)\n",
    "initial_ranking = copras.rank(pref)\n",
    "call_kwargs = {\n",
    "    \"matrix\": matrix,\n",
    "    \"weights\": weights,\n",
    "    \"types\": types\n",
    "}\n",
    "ranking_descending = True\n",
    "\n",
    "direction = np.array([1, -1, 1])\n",
    "step = 0.5\n",
    "max_modification = 100\n",
    "results = ranking.ranking_demotion(matrix, initial_ranking, copras, call_kwargs, ranking_descending, direction, step, max_modification=max_modification)\n",
    "\n",
    "print('Initial ranking:')\n",
    "display(Matrix(initial_ranking).T)\n",
    "print(f'Example result (1/{len(results)}):\\n')\n",
    "print(f'Alternative index: {results[0][0]}')\n",
    "print(f'Criterion index: {results[0][1]}')\n",
    "print(f'Size of change: {results[0][2]}')\n",
    "print(f'New position: {results[0][3]}')\n"
   ]
  },
  {
   "cell_type": "markdown",
   "metadata": {},
   "source": [
    "The results from demotion analysis can be further visualized"
   ]
  },
  {
   "cell_type": "code",
   "execution_count": 5,
   "metadata": {},
   "outputs": [
    {
     "data": {
      "image/png": "[encoded data removed]",
      "text/plain": [
       "<Figure size 640x480 with 2 Axes>"
      ]
     },
     "metadata": {},
     "output_type": "display_data"
    },
    {
     "data": {
      "image/png": "[encoded data removed]",
      "text/plain": [
       "<Figure size 640x480 with 2 Axes>"
      ]
     },
     "metadata": {},
     "output_type": "display_data"
    },
    {
     "data": {
      "image/png": "[encoded data removed]",
      "text/plain": [
       "<Figure size 640x480 with 2 Axes>"
      ]
     },
     "metadata": {},
     "output_type": "display_data"
    }
   ],
   "source": [
    "results = np.array(results)\n",
    "for alt in range(matrix.shape[1]):\n",
    "    alt_results = results[results[:, 0] == alt]\n",
    "    percentage_changes = []\n",
    "    new_positions = []\n",
    "    if len(alt_results):\n",
    "        for crit in range(matrix.shape[0]):\n",
    "            r = alt_results[alt_results[:, 1] == crit]\n",
    "            if len(r):\n",
    "                _ , crit, change, new_pos = r[0]\n",
    "                crit = int(crit)\n",
    "                if initial_ranking[alt] == new_pos:\n",
    "                    percentage_changes.append(0)\n",
    "                else:\n",
    "                    percentage_changes.append((change - matrix[alt, crit])/matrix[alt, crit]*100)\n",
    "                new_positions.append(new_pos)\n",
    "            else:\n",
    "                percentage_changes.append(0)\n",
    "                new_positions.append(initial_ranking[alt])\n",
    "        step = int(np.max(np.abs([np.min(np.array(percentage_changes))/5, np.max(np.array(percentage_changes))/5])))\n",
    "        graphs.pd_rankings_graph(initial_ranking[alt], new_positions, np.array(percentage_changes), kind='bar', title=f'Rank demotion - $A_{{{alt+1}}}$')\n",
    "        plt.show()"
   ]
  },
  {
   "cell_type": "markdown",
   "metadata": {},
   "source": [
    "### 4.3. Promotion  <a id=\"21\"></a>"
   ]
  },
  {
   "cell_type": "code",
   "execution_count": 86,
   "metadata": {},
   "outputs": [
    {
     "name": "stdout",
     "output_type": "stream",
     "text": [
      "Initial ranking:\n"
     ]
    },
    {
     "data": {
      "text/latex": [
       "$\\displaystyle \\left[\\begin{matrix}2.0 & 3.0 & 1.0\\end{matrix}\\right]$"
      ],
      "text/plain": [
       "Matrix([[2.0, 3.0, 1.0]])"
      ]
     },
     "metadata": {},
     "output_type": "display_data"
    },
    {
     "name": "stdout",
     "output_type": "stream",
     "text": [
      "Example result (1/9):\n",
      "\n",
      "Alternative index: 0\n",
      "Criterion index: 0\n",
      "Size of change: 2.5\n",
      "New position: 1\n"
     ]
    }
   ],
   "source": [
    "import pymcdm.methods as pm\n",
    "\n",
    "matrix = np.array([\n",
    "    [4, 2, 6],\n",
    "    [7, 3, 2],\n",
    "    [9, 6, 8]\n",
    "])\n",
    "weights = np.array([0.4, 0.5, 0.1])\n",
    "types = np.array([-1, 1, -1])\n",
    "copras = pm.COPRAS()\n",
    "pref = copras(matrix, weights, types)\n",
    "initial_ranking = copras.rank(pref)\n",
    "call_kwargs = {\n",
    "    \"matrix\": matrix,\n",
    "    \"weights\": weights,\n",
    "    \"types\": types\n",
    "}\n",
    "ranking_descending = True\n",
    "direction = np.array([-1, 1, -1])\n",
    "step = 0.5\n",
    "max_modification = 1000\n",
    "results = ranking.ranking_promotion(matrix, initial_ranking, copras, call_kwargs, ranking_descending, direction, step, max_modification=max_modification)\n",
    "\n",
    "print('Initial ranking:')\n",
    "display(Matrix(initial_ranking).T)\n",
    "print(f'Example result (1/{len(results)}):\\n')\n",
    "print(f'Alternative index: {results[0][0]}')\n",
    "print(f'Criterion index: {results[0][1]}')\n",
    "print(f'Size of change: {results[0][2]}')\n",
    "print(f'New position: {results[0][3]}')"
   ]
  },
  {
   "cell_type": "markdown",
   "metadata": {},
   "source": [
    "Results from the promotion function can be visualized similarly to demotion."
   ]
  },
  {
   "cell_type": "code",
   "execution_count": 87,
   "metadata": {},
   "outputs": [
    {
     "data": {
      "image/png": "[encoded data removed]",
      "text/plain": [
       "<Figure size 432x288 with 2 Axes>"
      ]
     },
     "metadata": {
      "needs_background": "light"
     },
     "output_type": "display_data"
    },
    {
     "data": {
      "image/png": "[encoded data removed]",
      "text/plain": [
       "<Figure size 432x288 with 2 Axes>"
      ]
     },
     "metadata": {
      "needs_background": "light"
     },
     "output_type": "display_data"
    },
    {
     "data": {
      "image/png": "[encoded data removed]",
      "text/plain": [
       "<Figure size 432x288 with 2 Axes>"
      ]
     },
     "metadata": {
      "needs_background": "light"
     },
     "output_type": "display_data"
    }
   ],
   "source": [
    "results = np.array(results)\n",
    "for alt in range(matrix.shape[1]):\n",
    "    alt_results = results[results[:, 0] == alt]\n",
    "    percentage_changes = []\n",
    "    new_positions = []\n",
    "    if len(alt_results):\n",
    "        for crit in range(matrix.shape[0]):\n",
    "            r = alt_results[alt_results[:, 1] == crit]\n",
    "            if len(r):\n",
    "                _ , crit, change, new_pos = r[0]\n",
    "                crit = int(crit)\n",
    "                if initial_ranking[alt] == new_pos:\n",
    "                    percentage_changes.append(0)\n",
    "                else:\n",
    "                    percentage_changes.append((change - matrix[alt, crit])/matrix[alt, crit]*100)\n",
    "                new_positions.append(new_pos)\n",
    "            else:\n",
    "                percentage_changes.append(0)\n",
    "                new_positions.append(initial_ranking[alt])\n",
    "        graphs.pd_rankings_graph(initial_ranking[alt], new_positions, np.array(percentage_changes), kind='bar', title=f'Rank promotion - $A_{{{alt+1}}}$')"
   ]
  },
  {
   "cell_type": "markdown",
   "metadata": {},
   "source": [
    "### 4.4. Fuzzy ranking  <a id=\"22\"></a>"
   ]
  },
  {
   "cell_type": "markdown",
   "metadata": {},
   "source": [
    "This function calculates fuzzy ranking from multiple acquired rankings. For example `generate_weights_scenarios` could be used to calculate multiple rankings and then fuzzy ranking could be calculated."
   ]
  },
  {
   "cell_type": "code",
   "execution_count": 8,
   "metadata": {},
   "outputs": [
    {
     "name": "stdout",
     "output_type": "stream",
     "text": [
      "Resulting fuzzy rank:\n"
     ]
    },
    {
     "data": {
      "text/latex": [
       "$\\displaystyle \\left[\\begin{matrix}1.0 & 0.5 & 1.0 & 0 & 0.5\\\\1.0 & 1.0 & 1.0 & 0 & 0\\\\1.0 & 0.5 & 1.0 & 0.5 & 0\\\\1.0 & 0 & 0 & 1.0 & 0.5\\\\0 & 0 & 1.0 & 0.5 & 1.0\\end{matrix}\\right]$"
      ],
      "text/plain": [
       "Matrix([\n",
       "[1.0, 0.5, 1.0,   0, 0.5],\n",
       "[1.0, 1.0, 1.0,   0,   0],\n",
       "[1.0, 0.5, 1.0, 0.5,   0],\n",
       "[1.0,   0,   0, 1.0, 0.5],\n",
       "[  0,   0, 1.0, 0.5, 1.0]])"
      ]
     },
     "metadata": {},
     "output_type": "display_data"
    }
   ],
   "source": [
    "rankings = np.array([\n",
    "    [1, 2, 3, 4, 5],\n",
    "    [2, 1, 5, 3, 4],\n",
    "    [4, 3, 2, 5, 1],\n",
    "    [3, 2, 1, 4, 5],\n",
    "])\n",
    "fuzzy_rank = ranking.fuzzy_ranking(rankings, normalization_axis=0)\n",
    "print('Resulting fuzzy rank:')\n",
    "display(Matrix(fuzzy_rank))"
   ]
  },
  {
   "cell_type": "markdown",
   "metadata": {},
   "source": [
    "This can be futher visualized using heatmap."
   ]
  },
  {
   "cell_type": "code",
   "execution_count": 9,
   "metadata": {},
   "outputs": [
    {
     "data": {
      "image/png": "[encoded data removed]",
      "text/plain": [
       "<Figure size 800x600 with 2 Axes>"
      ]
     },
     "metadata": {},
     "output_type": "display_data"
    }
   ],
   "source": [
    "graphs.heatmap(fuzzy_rank, title=\"Fuzzy Ranking Matrix\", figsize=(8, 6))\n",
    "\n",
    "plt.show()"
   ]
  },
  {
   "cell_type": "markdown",
   "metadata": {},
   "source": [
    "---"
   ]
  },
  {
   "cell_type": "markdown",
   "metadata": {},
   "source": [
    "<a id=\"23\"></a><br/>\n",
    "\n",
    "## 5. Compromise submodule"
   ]
  },
  {
   "cell_type": "markdown",
   "metadata": {},
   "source": [
    "This submodule consist of functions that calculate compromise between different rankings."
   ]
  },
  {
   "cell_type": "markdown",
   "metadata": {},
   "source": [
    "### 5.1. General <a id=\"24\"></a>"
   ]
  },
  {
   "cell_type": "markdown",
   "metadata": {},
   "source": [
    "Most methods work in similar fashion, by either providing rankings or preferences we can calculate the compromised ranking."
   ]
  },
  {
   "cell_type": "markdown",
   "metadata": {},
   "source": [
    "Let us consider following ranking and preferences acquired using TOPSIS and VIKOR."
   ]
  },
  {
   "cell_type": "code",
   "execution_count": 90,
   "metadata": {},
   "outputs": [
    {
     "name": "stdout",
     "output_type": "stream",
     "text": [
      "Initial preferences:\n"
     ]
    },
    {
     "data": {
      "text/latex": [
       "$\\displaystyle \\left[\\begin{matrix}0.601 & 0.5254\\\\0.5355 & 0.635\\\\0.497 & 0.7257\\\\0.5648 & 0.1143\\\\0.5713 & 0.5775\\\\0.3163 & 1.0\\\\0.5559 & 0.6188\\\\0.6186 & 0.2039\\end{matrix}\\right]$"
      ],
      "text/plain": [
       "Matrix([\n",
       "[ 0.601, 0.5254],\n",
       "[0.5355,  0.635],\n",
       "[ 0.497, 0.7257],\n",
       "[0.5648, 0.1143],\n",
       "[0.5713, 0.5775],\n",
       "[0.3163,    1.0],\n",
       "[0.5559, 0.6188],\n",
       "[0.6186, 0.2039]])"
      ]
     },
     "metadata": {},
     "output_type": "display_data"
    },
    {
     "name": "stdout",
     "output_type": "stream",
     "text": [
      "Initial rankings:\n"
     ]
    },
    {
     "data": {
      "text/latex": [
       "$\\displaystyle \\left[\\begin{matrix}2.0 & 3.0\\\\6.0 & 6.0\\\\7.0 & 7.0\\\\4.0 & 1.0\\\\3.0 & 4.0\\\\8.0 & 8.0\\\\5.0 & 5.0\\\\1.0 & 2.0\\end{matrix}\\right]$"
      ],
      "text/plain": [
       "Matrix([\n",
       "[2.0, 3.0],\n",
       "[6.0, 6.0],\n",
       "[7.0, 7.0],\n",
       "[4.0, 1.0],\n",
       "[3.0, 4.0],\n",
       "[8.0, 8.0],\n",
       "[5.0, 5.0],\n",
       "[1.0, 2.0]])"
      ]
     },
     "metadata": {},
     "output_type": "display_data"
    }
   ],
   "source": [
    "preferences = np.array([[0.601, 0.5254],\n",
    "                        [0.5355, 0.635],\n",
    "                        [0.497, 0.7257],\n",
    "                        [0.5648, 0.1143],\n",
    "                        [0.5713, 0.5775],\n",
    "                        [0.3163, 1.0],\n",
    "                        [0.5559, 0.6188],\n",
    "                        [0.6186, 0.2039]])\n",
    "rankings = np.array([[2., 3.],\n",
    "                    [6., 6.],\n",
    "                    [7., 7.],\n",
    "                    [4., 1.],\n",
    "                    [3., 4.],\n",
    "                    [8., 8.],\n",
    "                    [5., 5.],\n",
    "                    [1., 2.]])\n",
    "\n",
    "print('Initial preferences:')\n",
    "display(Matrix(preferences))\n",
    "print('Initial rankings:')\n",
    "display(Matrix(rankings))"
   ]
  },
  {
   "cell_type": "markdown",
   "metadata": {},
   "source": [
    "- Borda"
   ]
  },
  {
   "cell_type": "code",
   "execution_count": 91,
   "metadata": {},
   "outputs": [
    {
     "name": "stdout",
     "output_type": "stream",
     "text": [
      "Resulting compromise ranking:\n"
     ]
    },
    {
     "data": {
      "text/latex": [
       "$\\displaystyle \\left[\\begin{matrix}2.5 & 6.0 & 7.0 & 2.5 & 4.0 & 8.0 & 5.0 & 1.0\\end{matrix}\\right]$"
      ],
      "text/plain": [
       "Matrix([[2.5, 6.0, 7.0, 2.5, 4.0, 8.0, 5.0, 1.0]])"
      ]
     },
     "metadata": {},
     "output_type": "display_data"
    }
   ],
   "source": [
    "print('Resulting compromise ranking:')\n",
    "display(Matrix(compromise.borda(rankings)).T)"
   ]
  },
  {
   "cell_type": "markdown",
   "metadata": {},
   "source": [
    "- Dominance directed graph"
   ]
  },
  {
   "cell_type": "code",
   "execution_count": 92,
   "metadata": {},
   "outputs": [
    {
     "name": "stdout",
     "output_type": "stream",
     "text": [
      "Resulting compromise ranking:\n"
     ]
    },
    {
     "data": {
      "text/latex": [
       "$\\displaystyle \\left[\\begin{matrix}3.0 & 6.0 & 7.0 & 2.0 & 4.0 & 8.0 & 5.0 & 1.0\\end{matrix}\\right]$"
      ],
      "text/plain": [
       "Matrix([[3.0, 6.0, 7.0, 2.0, 4.0, 8.0, 5.0, 1.0]])"
      ]
     },
     "metadata": {},
     "output_type": "display_data"
    }
   ],
   "source": [
    "print('Resulting compromise ranking:')\n",
    "display(Matrix(compromise.dominance_directed_graph(rankings)).T)"
   ]
  },
  {
   "cell_type": "markdown",
   "metadata": {},
   "source": [
    "- Rank position method"
   ]
  },
  {
   "cell_type": "code",
   "execution_count": 93,
   "metadata": {},
   "outputs": [
    {
     "name": "stdout",
     "output_type": "stream",
     "text": [
      "Resulting compromise ranking:\n"
     ]
    },
    {
     "data": {
      "text/latex": [
       "$\\displaystyle \\left[\\begin{matrix}3.0 & 6.0 & 7.0 & 2.0 & 4.0 & 8.0 & 5.0 & 1.0\\end{matrix}\\right]$"
      ],
      "text/plain": [
       "Matrix([[3.0, 6.0, 7.0, 2.0, 4.0, 8.0, 5.0, 1.0]])"
      ]
     },
     "metadata": {},
     "output_type": "display_data"
    }
   ],
   "source": [
    "print('Resulting compromise ranking:')\n",
    "display(Matrix(compromise.rank_position(rankings)).T)"
   ]
  },
  {
   "cell_type": "markdown",
   "metadata": {},
   "source": [
    "- Half-quadratic compromise"
   ]
  },
  {
   "cell_type": "code",
   "execution_count": 94,
   "metadata": {},
   "outputs": [
    {
     "name": "stdout",
     "output_type": "stream",
     "text": [
      "Resulting compromise ranking:\n"
     ]
    },
    {
     "data": {
      "text/latex": [
       "$\\displaystyle \\left[\\begin{matrix}2.5 & 6.0 & 7.0 & 2.5 & 3.5 & 8.0 & 5.0 & 1.5\\end{matrix}\\right]$"
      ],
      "text/plain": [
       "Matrix([[2.5, 6.0, 7.0, 2.5, 3.5, 8.0, 5.0, 1.5]])"
      ]
     },
     "metadata": {},
     "output_type": "display_data"
    }
   ],
   "source": [
    "print('Resulting compromise ranking:')\n",
    "display(Matrix(compromise.HQ_compromise(rankings)[2]).T)"
   ]
  },
  {
   "cell_type": "markdown",
   "metadata": {},
   "source": [
    "- Improved borda"
   ]
  },
  {
   "cell_type": "code",
   "execution_count": 95,
   "metadata": {},
   "outputs": [
    {
     "name": "stdout",
     "output_type": "stream",
     "text": [
      "Resulting compromise ranking:\n"
     ]
    },
    {
     "data": {
      "text/latex": [
       "$\\displaystyle \\left[\\begin{matrix}2.0 & 6.0 & 7.0 & 3.0 & 4.0 & 8.0 & 5.0 & 1.0\\end{matrix}\\right]$"
      ],
      "text/plain": [
       "Matrix([[2.0, 6.0, 7.0, 3.0, 4.0, 8.0, 5.0, 1.0]])"
      ]
     },
     "metadata": {},
     "output_type": "display_data"
    }
   ],
   "source": [
    "print('Resulting compromise ranking:')\n",
    "display(Matrix(compromise.improved_borda(preferences, [1, -1])).T)"
   ]
  },
  {
   "cell_type": "markdown",
   "metadata": {},
   "source": [
    "### 5.2. HQ compromise additional informations <a id=\"25\"></a>"
   ]
  },
  {
   "cell_type": "markdown",
   "metadata": {},
   "source": [
    "HQ compromise method apart from resulting in the compromised ranking it provides `consensus index` and `trust index` and `weights` of each ranking which can be of help to decision-maker."
   ]
  },
  {
   "cell_type": "markdown",
   "metadata": {},
   "source": [
    "### 5.3. ICRA <a id=\"26\"></a>"
   ]
  },
  {
   "cell_type": "markdown",
   "metadata": {},
   "source": [
    "ICRA is presented separately as it provides more in-depth compromise seeking."
   ]
  },
  {
   "cell_type": "markdown",
   "metadata": {},
   "source": [
    "In this example the same initial preferences will be used"
   ]
  },
  {
   "cell_type": "code",
   "execution_count": 96,
   "metadata": {},
   "outputs": [
    {
     "name": "stdout",
     "output_type": "stream",
     "text": [
      "Resulting compromise ranking:\n"
     ]
    },
    {
     "data": {
      "text/latex": [
       "$\\displaystyle \\left[\\begin{matrix}3.0 & 6.0 & 7.0 & 2.0 & 4.0 & 8.0 & 5.0 & 1.0\\end{matrix}\\right]$"
      ],
      "text/plain": [
       "Matrix([[3.0, 6.0, 7.0, 2.0, 4.0, 8.0, 5.0, 1.0]])"
      ]
     },
     "metadata": {},
     "output_type": "display_data"
    }
   ],
   "source": [
    "import pymcdm.methods as pm\n",
    "\n",
    "topsis = pm.TOPSIS()\n",
    "vikor = pm.VIKOR()\n",
    "\n",
    "methods = {\n",
    "    topsis: ['matrix', 'weights', 'types'],\n",
    "    vikor: ['matrix', 'weights', 'types']\n",
    "    }\n",
    "\n",
    "ICRA_matrix = np.array([preferences[:, 0], preferences[:, 1]]).T\n",
    "method_types = np.array([1, -1])\n",
    "\n",
    "result = compromise.ICRA.iterative_compromise(methods, ICRA_matrix, method_types)\n",
    "print('Resulting compromise ranking:')\n",
    "display(Matrix(result.final_rankings[:, 0]).T)"
   ]
  },
  {
   "cell_type": "markdown",
   "metadata": {},
   "source": [
    "In the case of ICRA, we can visualize the preference distribution change."
   ]
  },
  {
   "cell_type": "code",
   "execution_count": 97,
   "metadata": {},
   "outputs": [
    {
     "data": {
      "image/png": "[encoded data removed]",
      "text/plain": [
       "<Figure size 540x108 with 2 Axes>"
      ]
     },
     "metadata": {},
     "output_type": "display_data"
    },
    {
     "data": {
      "image/png": "[encoded data removed]",
      "text/plain": [
       "<Figure size 540x108 with 2 Axes>"
      ]
     },
     "metadata": {},
     "output_type": "display_data"
    }
   ],
   "source": [
    "graphs.ICRA_pref_distribution(result, ['TOPSIS', 'VIKOR'], by='methods')"
   ]
  },
  {
   "cell_type": "code",
   "execution_count": 98,
   "metadata": {},
   "outputs": [
    {
     "data": {
      "image/png": "[encoded data removed]",
      "text/plain": [
       "<Figure size 540x108 with 2 Axes>"
      ]
     },
     "metadata": {},
     "output_type": "display_data"
    },
    {
     "data": {
      "image/png": "[encoded data removed]",
      "text/plain": [
       "<Figure size 540x108 with 2 Axes>"
      ]
     },
     "metadata": {},
     "output_type": "display_data"
    }
   ],
   "source": [
    "graphs.ICRA_pref_distribution(result, ['TOPSIS', 'VIKOR'], by='iters')"
   ]
  },
  {
   "cell_type": "markdown",
   "metadata": {},
   "source": [
    "---"
   ]
  },
  {
   "cell_type": "markdown",
   "metadata": {},
   "source": [
    "<a id=\"27\"></a><br/>\n",
    "\n",
    "## 6. Further use"
   ]
  },
  {
   "cell_type": "markdown",
   "metadata": {},
   "source": [
    "For most of the functions that modifies the decision matrix or weights vector, the library includes a wrapper for calculating the preference values and rankings for the returned results."
   ]
  },
  {
   "cell_type": "markdown",
   "metadata": {},
   "source": [
    "**Example**"
   ]
  },
  {
   "cell_type": "code",
   "execution_count": 11,
   "metadata": {},
   "outputs": [
    {
     "data": {
      "text/plain": [
       "[(0,\n",
       "  -0.01,\n",
       "  array([0.297 , 0.3015, 0.4015]),\n",
       "  array([0.51678751, 0.55551396, 0.5424899 , 0.5327461 , 0.8729778 ,\n",
       "         0.60007671, 0.67895253, 0.53752998, 0.53180224, 0.41186704]),\n",
       "  array([ 9.,  4.,  5.,  7.,  1.,  3.,  2.,  6.,  8., 10.])),\n",
       " (0,\n",
       "  0.01,\n",
       "  array([0.303 , 0.2985, 0.3985]),\n",
       "  array([0.51256609, 0.55601744, 0.54160678, 0.53558126, 0.87405107,\n",
       "         0.60223144, 0.6732294 , 0.54053392, 0.53493021, 0.41050874]),\n",
       "  array([ 9.,  4.,  5.,  7.,  1.,  3.,  2.,  6.,  8., 10.])),\n",
       " (0,\n",
       "  -0.02,\n",
       "  array([0.294, 0.303, 0.403]),\n",
       "  array([0.51888048, 0.55526178, 0.54291742, 0.53135005, 0.87244873,\n",
       "         0.59901585, 0.68181741, 0.53605071, 0.5302561 , 0.41253727]),\n",
       "  array([ 9.,  4.,  5.,  7.,  1.,  3.,  2.,  6.,  8., 10.])),\n",
       " (0,\n",
       "  0.02,\n",
       "  array([0.306, 0.297, 0.397]),\n",
       "  array([0.51043834, 0.55626863, 0.54115115, 0.53701994, 0.87459513,\n",
       "         0.60332495, 0.6703714 , 0.54205815, 0.53651147, 0.40982076]),\n",
       "  array([ 9.,  4.,  6.,  7.,  1.,  3.,  2.,  5.,  8., 10.])),\n",
       " (0,\n",
       "  -0.03,\n",
       "  array([0.291 , 0.3045, 0.4045]),\n",
       "  array([0.52096116, 0.55500938, 0.54333561, 0.52996862, 0.8719248 ,\n",
       "         0.59796622, 0.68468432, 0.53458686, 0.52872222, 0.41320148]),\n",
       "  array([ 9.,  4.,  5.,  7.,  1.,  3.,  2.,  6.,  8., 10.])),\n",
       " (0,\n",
       "  0.03,\n",
       "  array([0.309 , 0.2955, 0.3955]),\n",
       "  array([0.50829969, 0.55651939, 0.5406861 , 0.5384724 , 0.87514405,\n",
       "         0.604429  , 0.66751595, 0.54359693, 0.53810387, 0.40912695]),\n",
       "  array([ 9.,  4.,  6.,  7.,  1.,  3.,  2.,  5.,  8., 10.])),\n",
       " (0,\n",
       "  -0.04,\n",
       "  array([0.288, 0.306, 0.406]),\n",
       "  array([0.52302918, 0.55475682, 0.54374449, 0.52860203, 0.87140606,\n",
       "         0.59692798, 0.68755312, 0.53313863, 0.5272009 , 0.41385966]),\n",
       "  array([ 9.,  4.,  5.,  7.,  1.,  3.,  2.,  6.,  8., 10.])),\n",
       " (0,\n",
       "  0.04,\n",
       "  array([0.312, 0.294, 0.394]),\n",
       "  array([0.50615049, 0.55676966, 0.54021165, 0.53993842, 0.87569774,\n",
       "         0.60554339, 0.66466316, 0.54515003, 0.53970713, 0.40842737]),\n",
       "  array([ 9.,  4.,  6.,  7.,  1.,  3.,  2.,  5.,  8., 10.])),\n",
       " (0,\n",
       "  -0.05,\n",
       "  array([0.285 , 0.3075, 0.4075]),\n",
       "  array([0.5250842 , 0.55450413, 0.5441441 , 0.52725046, 0.8708926 ,\n",
       "         0.59590129, 0.69042368, 0.53170623, 0.52569239, 0.41451175]),\n",
       "  array([ 9.,  4.,  5.,  7.,  1.,  3.,  2.,  6.,  8., 10.])),\n",
       " (0,\n",
       "  0.05,\n",
       "  array([0.315 , 0.2925, 0.3925]),\n",
       "  array([0.50399107, 0.55701939, 0.53972777, 0.54141777, 0.87625614,\n",
       "         0.60666793, 0.66181317, 0.54671723, 0.54132094, 0.40772209]),\n",
       "  array([ 9.,  4.,  8.,  6.,  1.,  3.,  2.,  5.,  7., 10.])),\n",
       " (1,\n",
       "  -0.01,\n",
       "  array([0.3015, 0.297 , 0.4015]),\n",
       "  array([0.51556696, 0.55853097, 0.54446919, 0.5327426 , 0.87390425,\n",
       "         0.60014958, 0.67504746, 0.5375275 , 0.53273897, 0.40811961]),\n",
       "  array([ 9.,  4.,  5.,  7.,  1.,  3.,  2.,  6.,  8., 10.])),\n",
       " (1,\n",
       "  0.01,\n",
       "  array([0.2985, 0.303 , 0.3985]),\n",
       "  array([0.51378439, 0.55299821, 0.5396288 , 0.53558476, 0.87311802,\n",
       "         0.60215825, 0.67714169, 0.54053639, 0.53399011, 0.41425907]),\n",
       "  array([ 9.,  4.,  6.,  7.,  1.,  3.,  2.,  5.,  8., 10.])),\n",
       " (1,\n",
       "  -0.02,\n",
       "  array([0.303, 0.294, 0.403]),\n",
       "  array([0.51643745, 0.56129323, 0.54687692, 0.53134305, 0.87429485,\n",
       "         0.59916126, 0.67401471, 0.53604574, 0.53212602, 0.40504552]),\n",
       "  array([ 9.,  4.,  5.,  8.,  1.,  3.,  2.,  6.,  7., 10.])),\n",
       " (1,\n",
       "  0.02,\n",
       "  array([0.297, 0.306, 0.397]),\n",
       "  array([0.51287239, 0.55022834, 0.53719685, 0.53702693, 0.87272258,\n",
       "         0.60317829, 0.67820297, 0.54206309, 0.53462812, 0.41732409]),\n",
       "  array([ 9.,  4.,  6.,  7.,  1.,  3.,  2.,  5.,  8., 10.])),\n",
       " (1,\n",
       "  -0.03,\n",
       "  array([0.3045, 0.291 , 0.4045]),\n",
       "  array([0.51729402, 0.5640523 , 0.54927585, 0.52995813, 0.87468365,\n",
       "         0.59818383, 0.67299165, 0.53457939, 0.53152158, 0.40196878]),\n",
       "  array([ 9.,  4.,  5.,  8.,  1.,  3.,  2.,  6.,  7., 10.])),\n",
       " (1,\n",
       "  0.03,\n",
       "  array([0.2955, 0.309 , 0.3955]),\n",
       "  array([0.51194664, 0.54745654, 0.53475754, 0.53848288, 0.87232572,\n",
       "         0.60420856, 0.67927359, 0.54360433, 0.53527429, 0.42038576]),\n",
       "  array([ 9.,  4.,  8.,  6.,  1.,  3.,  2.,  5.,  7., 10.])),\n",
       " (1,\n",
       "  -0.04,\n",
       "  array([0.306, 0.288, 0.406]),\n",
       "  array([0.51813664, 0.56680786, 0.55166559, 0.52858804, 0.87507057,\n",
       "         0.59721743, 0.67197837, 0.53312867, 0.53092575, 0.39888958]),\n",
       "  array([ 9.,  4.,  5.,  8.,  1.,  3.,  2.,  6.,  7., 10.])),\n",
       " (1,\n",
       "  0.04,\n",
       "  array([0.294, 0.312, 0.394]),\n",
       "  array([0.51100721, 0.54468311, 0.53231121, 0.53995239, 0.87192752,\n",
       "         0.60524892, 0.68035342, 0.54515988, 0.53592852, 0.4234439 ]),\n",
       "  array([ 9.,  5.,  8.,  6.,  1.,  3.,  2.,  4.,  7., 10.])),\n",
       " (1,\n",
       "  -0.05,\n",
       "  array([0.3075, 0.285 , 0.4075]),\n",
       "  array([0.51896528, 0.56955955, 0.55404576, 0.52723297, 0.8754555 ,\n",
       "         0.59626221, 0.67097494, 0.53169377, 0.5303386 , 0.39580811]),\n",
       "  array([ 9.,  4.,  5.,  8.,  1.,  3.,  2.,  6.,  7., 10.])),\n",
       " (1,\n",
       "  0.05,\n",
       "  array([0.2925, 0.315 , 0.3925]),\n",
       "  array([0.51005415, 0.54190833, 0.5298582 , 0.54143523, 0.87152809,\n",
       "         0.60629917, 0.68144237, 0.54672951, 0.53659072, 0.42649838]),\n",
       "  array([ 9.,  5.,  8.,  6.,  1.,  3.,  2.,  4.,  7., 10.])),\n",
       " (2,\n",
       "  -0.01,\n",
       "  array([0.302, 0.302, 0.396]),\n",
       "  array([0.5106747 , 0.55241392, 0.53823343, 0.53794661, 0.87370342,\n",
       "         0.60392907, 0.67367498, 0.54303827, 0.53628287, 0.41437611]),\n",
       "  array([ 9.,  4.,  6.,  7.,  1.,  3.,  2.,  5.,  8., 10.])),\n",
       " (2,\n",
       "  0.01,\n",
       "  array([0.298, 0.298, 0.404]),\n",
       "  array([0.51868017, 0.55911958, 0.54586486, 0.53037675, 0.87332073,\n",
       "         0.59837791, 0.67851337, 0.53502099, 0.53044409, 0.40800134]),\n",
       "  array([ 9.,  4.,  5.,  8.,  1.,  3.,  2.,  6.,  7., 10.])),\n",
       " (2,\n",
       "  -0.02,\n",
       "  array([0.304, 0.304, 0.392]),\n",
       "  array([0.50665658, 0.54906422, 0.53440628, 0.54174663, 0.87389508,\n",
       "         0.60671867, 0.67126939, 0.54706238, 0.53921099, 0.41755663]),\n",
       "  array([ 9.,  4.,  8.,  6.,  1.,  3.,  2.,  5.,  7., 10.])),\n",
       " (2,\n",
       "  0.02,\n",
       "  array([0.296, 0.296, 0.408]),\n",
       "  array([0.52266735, 0.56247461, 0.54966872, 0.52660736, 0.87312986,\n",
       "         0.59561744, 0.68094514, 0.53102795, 0.52753462, 0.40480808]),\n",
       "  array([ 9.,  4.,  5.,  8.,  1.,  3.,  2.,  6.,  7., 10.])),\n",
       " (2,\n",
       "  -0.03,\n",
       "  array([0.306, 0.306, 0.388]),\n",
       "  array([0.50262833, 0.54571726, 0.5305718 , 0.54555642, 0.87408686,\n",
       "         0.60951688, 0.66887358, 0.55109671, 0.54214412, 0.42073191]),\n",
       "  array([ 9.,  5.,  8.,  6.,  1.,  3.,  2.,  4.,  7., 10.])),\n",
       " (2,\n",
       "  0.03,\n",
       "  array([0.294, 0.294, 0.412]),\n",
       "  array([0.52664406, 0.56583051, 0.55346439, 0.52284861, 0.87293942,\n",
       "         0.59286776, 0.68338461, 0.5270454 , 0.52463254, 0.40161152]),\n",
       "  array([ 7.,  4.,  5.,  9.,  1.,  3.,  2.,  6.,  8., 10.])),\n",
       " (2,\n",
       "  -0.04,\n",
       "  array([0.308, 0.308, 0.384]),\n",
       "  array([0.49859005, 0.54237353, 0.52673025, 0.54937573, 0.87427867,\n",
       "         0.61232311, 0.66648806, 0.5551412 , 0.54508165, 0.4239014 ]),\n",
       "  array([ 9.,  7.,  8.,  5.,  1.,  3.,  2.,  4.,  6., 10.])),\n",
       " (2,\n",
       "  0.04,\n",
       "  array([0.292, 0.292, 0.416]),\n",
       "  array([0.53061021, 0.56918682, 0.55725171, 0.51910073, 0.87274947,\n",
       "         0.5901294 , 0.68583128, 0.5230734 , 0.52173841, 0.39841214]),\n",
       "  array([ 6.,  4.,  5.,  9.,  1.,  3.,  2.,  7.,  8., 10.])),\n",
       " (2,\n",
       "  -0.05,\n",
       "  array([0.31, 0.31, 0.38]),\n",
       "  array([0.49454185, 0.53903355, 0.52288187, 0.55320433, 0.87447042,\n",
       "         0.61513679, 0.66411339, 0.55919578, 0.54802294, 0.42706459]),\n",
       "  array([ 9.,  7.,  8.,  5.,  1.,  3.,  2.,  4.,  6., 10.])),\n",
       " (2,\n",
       "  0.05,\n",
       "  array([0.29, 0.29, 0.42]),\n",
       "  array([0.53456575, 0.57254314, 0.56103047, 0.51536393, 0.8725601 ,\n",
       "         0.58740287, 0.68828464, 0.51911201, 0.51885281, 0.39521039]),\n",
       "  array([ 6.,  4.,  5.,  9.,  1.,  3.,  2.,  7.,  8., 10.]))]"
      ]
     },
     "execution_count": 11,
     "metadata": {},
     "output_type": "execute_result"
    }
   ],
   "source": [
    "import pymcdm.methods as pm\n",
    "\n",
    "weights = np.array([0.3, 0.3, 0.4])\n",
    "percentage = 5\n",
    "results = criteria.percentage_modification(weights, percentage)\n",
    "\n",
    "topsis = pm.TOPSIS()\n",
    "kwargs = {\n",
    "    'matrix': np.random.random((10, 3)),\n",
    "    'weights': weights,\n",
    "    'types': np.ones(3)\n",
    "}\n",
    "\n",
    "preferences_results = calculate_preference(criteria.percentage_modification, results, topsis, kwargs, only_preference=False, method_type=1)\n",
    "preferences_results"
   ]
  },
  {
   "cell_type": "markdown",
   "metadata": {},
   "source": [
    "#### In the case of analyzing different criteria weights, we are left with multiple rankings, which for easier analysis can be further visualized."
   ]
  },
  {
   "cell_type": "code",
   "execution_count": 12,
   "metadata": {},
   "outputs": [
    {
     "data": {
      "image/png": "[encoded data removed]",
      "text/plain": [
       "<Figure size 640x480 with 1 Axes>"
      ]
     },
     "metadata": {},
     "output_type": "display_data"
    }
   ],
   "source": [
    "graphs.rankings_distribution(np.array([*np.array(preferences_results, dtype='object')[:, 4]]), title='TOPSIS ranking distribution')\n",
    "plt.show()"
   ]
  }
 ],
 "metadata": {
  "kernelspec": {
   "display_name": "Python 3.10.5 64-bit",
   "language": "python",
   "name": "python3"
  },
  "language_info": {
   "codemirror_mode": {
    "name": "ipython",
    "version": 3
   },
   "file_extension": ".py",
   "mimetype": "text/x-python",
   "name": "python",
   "nbconvert_exporter": "python",
   "pygments_lexer": "ipython3",
   "version": "3.11.3"
  },
  "orig_nbformat": 4,
  "vscode": {
   "interpreter": {
    "hash": "eabca979b0553fa6d87e9a00c352604d3b703d4afc9641643dd42376492b80f6"
   }
  }
 },
 "nbformat": 4,
 "nbformat_minor": 2
}
